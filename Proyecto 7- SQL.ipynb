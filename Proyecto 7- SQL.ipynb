{
 "cells": [
  {
   "cell_type": "markdown",
   "metadata": {},
   "source": [
    "# ¡Hola Alejandro!\n",
    "\n",
    "Mi nombre es Ezequiel Ferrario, soy code reviewer en Tripleten y tengo el agrado de revisar el proyecto que entregaste.\n",
    "\n",
    "Para simular la dinámica de un ambiente de trabajo, si veo algún error, en primer instancia solo los señalaré, dándote la oportunidad de encontrarlos y corregirlos por tu cuenta. En un trabajo real, el líder de tu equipo hará una dinámica similar. En caso de que no puedas resolver la tarea, te daré una información más precisa en la próxima revisión.\n",
    "\n",
    "Encontrarás mis comentarios más abajo - **por favor, no los muevas, no los modifiques ni los borres**.\n",
    "\n",
    "¿Cómo lo voy a hacer? Voy a leer detenidamente cada una de las implementaciones que has llevado a cabo para cumplir con lo solicitado. Verás los comentarios de esta forma:\n",
    "\n",
    "<div class=\"alert alert-block alert-success\">\n",
    "<b>Comentario del revisor</b> <a class=\"tocSkip\"></a>\n",
    "\n",
    "Si todo está perfecto.\n",
    "</div>\n",
    "\n",
    "\n",
    "<div class=\"alert alert-block alert-warning\">\n",
    "<b>Comentario del revisor</b> <a class=\"tocSkip\"></a>\n",
    "\n",
    "Si tu código está bien pero se puede mejorar o hay algún detalle que le hace falta. Se aceptan uno o dos comentarios de este tipo en el borrador, pero si hay más, deberá hacer las correcciones. Es como una tarea de prueba al solicitar un trabajo: muchos pequeños errores pueden hacer que un candidato sea rechazado.\n",
    "</div>\n",
    "\n",
    "<div class=\"alert alert-block alert-danger\">\n",
    "\n",
    "<b>Comentario del revisor</b> <a class=\"tocSkip\"></a>\n",
    "\n",
    "Si de pronto hace falta algo o existe algún problema con tu código o conclusiones.\n",
    "</div>\n",
    "\n",
    "Puedes responderme de esta forma:\n",
    "\n",
    "<div class=\"alert alert-block alert-info\">\n",
    "<b>Respuesta del estudiante</b> <a class=\"tocSkip\"></a>\n",
    "\n",
    "Hola, muchas gracias por tus comentarios y la revisión.\n",
    "</div>\n",
    "\n",
    "¡Empecemos! "
   ]
  },
  {
   "cell_type": "markdown",
   "metadata": {},
   "source": [
    "-------------------\n",
    "\n",
    "\n",
    "<div class=\"alert alert-block alert-danger\">\n",
    "\n",
    "<b>Comentario general #1</b> <a class=\"tocSkip\"></a>\n",
    "\n",
    "Alejandro hiciste un proyecto completo donde abarcaste todos los puntos importantes del mismo.\n",
    "    \n",
    " Si bien se observa un error al cargar los datasets te fui dejando algunas correcciones que pude apreciar.\n",
    "    \n",
    " Son detalles lo que faltan ya que hiciste un muy buen proyecto.\n",
    "    \n",
    "  Espero las correcciones, saludos.\n",
    "</div>\n",
    "                                                    \n",
    "                                                    \n",
    "-----"
   ]
  },
  {
   "cell_type": "markdown",
   "metadata": {},
   "source": [
    "<div class=\"alert alert-block alert-info\">\n",
    "<b>Respuesta del estudiante</b> <a class=\"tocSkip\"></a>\n",
    "\n",
    "Listo se cargaron los data sets de manera correcta y se hicieron las correcciones posteriores.\n",
    "</div>"
   ]
  },
  {
   "cell_type": "markdown",
   "metadata": {},
   "source": [
    " # Proyecto Sprint 7 (SQL)"
   ]
  },
  {
   "cell_type": "code",
   "execution_count": null,
   "metadata": {},
   "outputs": [],
   "source": []
  },
  {
   "cell_type": "markdown",
   "metadata": {},
   "source": [
    "<div class=\"alert alert-block alert-danger\">\n",
    "\n",
    "<b>Comentario del revisor</b> <a class=\"tocSkip\"></a>\n",
    "\n",
    "Muy bien la tabla de contenidos pero debe estar linkeada a las secciones (al clickear debe llevarnos a esa seccion) de esta menera es mas facil desplazarse.\n",
    "\n",
    "Como consejo, si realizas bien todas las secciones (con su respectivo #) podes generarlo automáticamente desde jupyter lab. Para hacerlo, en la pestaña de herramientas de jupyter lab clickeas en el **botón de los puntos y barras**  (Table of contents) te generara automáticamente una tabla de contenidos linkeable y estética. A la **derecha** del seleccionador del tipo de celda (code/markdown)\n",
    "</div>"
   ]
  },
  {
   "cell_type": "markdown",
   "metadata": {},
   "source": [
    " # Este proyecto consiste en realizar una prueba de hipotesis de varias comañias de sitio de taxis, encontrar patrones en los viajes para comprender las preferencias de los pasajeros y el impacto de los factores externos en los viajes."
   ]
  },
  {
   "cell_type": "markdown",
   "metadata": {},
   "source": [
    "# Objetivo: Comprender las preferencias de los pasajeros y el impacto de los factores externos en los viajes."
   ]
  },
  {
   "cell_type": "markdown",
   "metadata": {},
   "source": [
    "\n",
    "\n",
    "\n",
    "\n",
    "\n",
    " ### Etapas del análisis:\n",
    " Carga de datasets e importacion de librerias\n",
    " \n",
    " Escribir un código para analizar los datos sobre el clima en Chicago en noviembre de 2017 desde el sitio web\n",
    " \n",
    " Carga de datasets e importacion de librerias \n",
    " \n",
    " Realizar un analisis exploratorio.\n",
    " \n",
    " Realizare dos pruebas de hipótesis estadisticas para probar o rechazar la hipotesis de que \"La duración promedio de los viajes desde el Loop hasta el Aeropuerto Internacional O'Hare cambia los sábados lluviosos\".\n"
   ]
  },
  {
   "cell_type": "markdown",
   "metadata": {},
   "source": [
    "<div class=\"alert alert-block alert-danger\">\n",
    "\n",
    "<b>Comentario del revisor</b> <a class=\"tocSkip\"></a>\n",
    "\n",
    "Crea una seccion (Titulo) que se llame Carga de datasets e importacion de librerias (o el titulo que quieras pero que refiera a este punto). Es importante a nivel estructura que quede claro que parte se realizan ambas cosas.</div>"
   ]
  },
  {
   "cell_type": "code",
   "execution_count": 44,
   "metadata": {},
   "outputs": [],
   "source": [
    "import pandas as pd\n",
    "import scipy\n",
    "import matplotlib.pyplot as plt\n",
    "from scipy.stats import ttest_ind\n",
    "from scipy.stats import levene"
   ]
  },
  {
   "cell_type": "code",
   "execution_count": 3,
   "metadata": {},
   "outputs": [],
   "source": [
    "df_1= pd.read_csv('/datasets/project_sql_result_01.csv')\n",
    "df_2= pd.read_csv('/datasets/project_sql_result_04.csv')\n",
    "df_hipotesis= pd.read_csv('/datasets/project_sql_result_07.csv')\n",
    "\n"
   ]
  },
  {
   "cell_type": "markdown",
   "metadata": {},
   "source": [
    "<div class=\"alert alert-block alert-danger\">\n",
    "\n",
    "<b>Comentario del revisor</b> <a class=\"tocSkip\"></a>\n",
    "\n",
    "En este caso no estas llamando bien a los directorios por lo que existe un error, a continuacion te dejo los correctos:\n",
    "\n",
    "```\n",
    "\"/datasets/project_sql_result_01.csv\"\n",
    "\"/datasets/project_sql_result_04.csv\"\n",
    "\"/datasets/project_sql_result_07.csv\"\n",
    "\n",
    "```\n",
    "\n",
    "</div>"
   ]
  },
  {
   "cell_type": "markdown",
   "metadata": {},
   "source": [
    "# Estudio los datos que contienen las tablas."
   ]
  },
  {
   "cell_type": "code",
   "execution_count": 4,
   "metadata": {},
   "outputs": [
    {
     "data": {
      "text/html": [
       "<div>\n",
       "<style scoped>\n",
       "    .dataframe tbody tr th:only-of-type {\n",
       "        vertical-align: middle;\n",
       "    }\n",
       "\n",
       "    .dataframe tbody tr th {\n",
       "        vertical-align: top;\n",
       "    }\n",
       "\n",
       "    .dataframe thead th {\n",
       "        text-align: right;\n",
       "    }\n",
       "</style>\n",
       "<table border=\"1\" class=\"dataframe\">\n",
       "  <thead>\n",
       "    <tr style=\"text-align: right;\">\n",
       "      <th></th>\n",
       "      <th>company_name</th>\n",
       "      <th>trips_amount</th>\n",
       "    </tr>\n",
       "  </thead>\n",
       "  <tbody>\n",
       "    <tr>\n",
       "      <th>0</th>\n",
       "      <td>Flash Cab</td>\n",
       "      <td>19558</td>\n",
       "    </tr>\n",
       "    <tr>\n",
       "      <th>1</th>\n",
       "      <td>Taxi Affiliation Services</td>\n",
       "      <td>11422</td>\n",
       "    </tr>\n",
       "    <tr>\n",
       "      <th>2</th>\n",
       "      <td>Medallion Leasing</td>\n",
       "      <td>10367</td>\n",
       "    </tr>\n",
       "    <tr>\n",
       "      <th>3</th>\n",
       "      <td>Yellow Cab</td>\n",
       "      <td>9888</td>\n",
       "    </tr>\n",
       "    <tr>\n",
       "      <th>4</th>\n",
       "      <td>Taxi Affiliation Service Yellow</td>\n",
       "      <td>9299</td>\n",
       "    </tr>\n",
       "  </tbody>\n",
       "</table>\n",
       "</div>"
      ],
      "text/plain": [
       "                      company_name  trips_amount\n",
       "0                        Flash Cab         19558\n",
       "1        Taxi Affiliation Services         11422\n",
       "2                Medallion Leasing         10367\n",
       "3                       Yellow Cab          9888\n",
       "4  Taxi Affiliation Service Yellow          9299"
      ]
     },
     "execution_count": 4,
     "metadata": {},
     "output_type": "execute_result"
    }
   ],
   "source": [
    "df_1.head()"
   ]
  },
  {
   "cell_type": "code",
   "execution_count": 5,
   "metadata": {},
   "outputs": [
    {
     "name": "stdout",
     "output_type": "stream",
     "text": [
      "<class 'pandas.core.frame.DataFrame'>\n",
      "RangeIndex: 64 entries, 0 to 63\n",
      "Data columns (total 2 columns):\n",
      " #   Column        Non-Null Count  Dtype \n",
      "---  ------        --------------  ----- \n",
      " 0   company_name  64 non-null     object\n",
      " 1   trips_amount  64 non-null     int64 \n",
      "dtypes: int64(1), object(1)\n",
      "memory usage: 1.1+ KB\n"
     ]
    }
   ],
   "source": [
    "df_1.info()"
   ]
  },
  {
   "cell_type": "code",
   "execution_count": 6,
   "metadata": {},
   "outputs": [
    {
     "data": {
      "text/html": [
       "<div>\n",
       "<style scoped>\n",
       "    .dataframe tbody tr th:only-of-type {\n",
       "        vertical-align: middle;\n",
       "    }\n",
       "\n",
       "    .dataframe tbody tr th {\n",
       "        vertical-align: top;\n",
       "    }\n",
       "\n",
       "    .dataframe thead th {\n",
       "        text-align: right;\n",
       "    }\n",
       "</style>\n",
       "<table border=\"1\" class=\"dataframe\">\n",
       "  <thead>\n",
       "    <tr style=\"text-align: right;\">\n",
       "      <th></th>\n",
       "      <th>trips_amount</th>\n",
       "    </tr>\n",
       "  </thead>\n",
       "  <tbody>\n",
       "    <tr>\n",
       "      <th>count</th>\n",
       "      <td>64.000000</td>\n",
       "    </tr>\n",
       "    <tr>\n",
       "      <th>mean</th>\n",
       "      <td>2145.484375</td>\n",
       "    </tr>\n",
       "    <tr>\n",
       "      <th>std</th>\n",
       "      <td>3812.310186</td>\n",
       "    </tr>\n",
       "    <tr>\n",
       "      <th>min</th>\n",
       "      <td>2.000000</td>\n",
       "    </tr>\n",
       "    <tr>\n",
       "      <th>25%</th>\n",
       "      <td>20.750000</td>\n",
       "    </tr>\n",
       "    <tr>\n",
       "      <th>50%</th>\n",
       "      <td>178.500000</td>\n",
       "    </tr>\n",
       "    <tr>\n",
       "      <th>75%</th>\n",
       "      <td>2106.500000</td>\n",
       "    </tr>\n",
       "    <tr>\n",
       "      <th>max</th>\n",
       "      <td>19558.000000</td>\n",
       "    </tr>\n",
       "  </tbody>\n",
       "</table>\n",
       "</div>"
      ],
      "text/plain": [
       "       trips_amount\n",
       "count     64.000000\n",
       "mean    2145.484375\n",
       "std     3812.310186\n",
       "min        2.000000\n",
       "25%       20.750000\n",
       "50%      178.500000\n",
       "75%     2106.500000\n",
       "max    19558.000000"
      ]
     },
     "execution_count": 6,
     "metadata": {},
     "output_type": "execute_result"
    }
   ],
   "source": [
    "df_1.describe()"
   ]
  },
  {
   "cell_type": "code",
   "execution_count": 14,
   "metadata": {},
   "outputs": [
    {
     "name": "stdout",
     "output_type": "stream",
     "text": [
      "Empty DataFrame\n",
      "Columns: [company_name, trips_amount]\n",
      "Index: []\n"
     ]
    }
   ],
   "source": [
    "filtered_df_1=df_1[df_1.duplicated()]\n",
    "print(filtered_df_1)"
   ]
  },
  {
   "cell_type": "markdown",
   "metadata": {},
   "source": [
    "Se verifica si existen duplicados."
   ]
  },
  {
   "cell_type": "markdown",
   "metadata": {},
   "source": [
    "El primer dataset, contiene solo dos columnas llamadas 'company_name'  y 'trips_amount' las cuales no presentan valores nulos ni valores duplicados."
   ]
  },
  {
   "cell_type": "markdown",
   "metadata": {},
   "source": [
    "<div class=\"alert alert-block alert-danger\">\n",
    "\n",
    "<b>Comentario del revisor</b> <a class=\"tocSkip\"></a>\n",
    "\n",
    "Recorda utilizar el metodo describe() para una exploracion rapida inicial de aquellas variables numéricas. Siempre es necesario realizarlo ya que de forma rápida tenemos un panorama muy bueno de que nos espera e incluso encontraremos inconsistencias si estas existiencen.\n",
    "Describí al respecto lo que ves. </div>\n",
    "\n",
    "<div class=\"alert alert-block alert-danger\">\n",
    "\n",
    "<b>Comentario del revisor</b> <a class=\"tocSkip\"></a>\n",
    "\n",
    "Verifica si existen duplicados </div>\n",
    "\n",
    "<div class=\"alert alert-block alert-danger\">\n",
    "\n",
    "<b>Comentario del revisor</b> <a class=\"tocSkip\"></a>\n",
    "\n",
    "Deja una descripcion de lo observado en este dataset en cuanto a como se compone, si hay errores o no  (nulos, duplicados, etc) y que informacion nos provee. Este punto es muy importante porque resumiremos con un analisis en **markdown** sobre como esta compuesto el dataset y sus variables mas importante. </div>"
   ]
  },
  {
   "cell_type": "markdown",
   "metadata": {},
   "source": [
    "<div class=\"alert alert-block alert-info\">\n",
    "<b>Respuesta del estudiante</b> <a class=\"tocSkip\"></a>\n",
    "\n",
    "Listo se añade el metodo describe() para tener una exploracion rapida de las variables numéricas, se verifica si hay valores duplicados y se añade una descripcion general del dataset,\n",
    "</div>"
   ]
  },
  {
   "cell_type": "code",
   "execution_count": 15,
   "metadata": {},
   "outputs": [
    {
     "data": {
      "text/html": [
       "<div>\n",
       "<style scoped>\n",
       "    .dataframe tbody tr th:only-of-type {\n",
       "        vertical-align: middle;\n",
       "    }\n",
       "\n",
       "    .dataframe tbody tr th {\n",
       "        vertical-align: top;\n",
       "    }\n",
       "\n",
       "    .dataframe thead th {\n",
       "        text-align: right;\n",
       "    }\n",
       "</style>\n",
       "<table border=\"1\" class=\"dataframe\">\n",
       "  <thead>\n",
       "    <tr style=\"text-align: right;\">\n",
       "      <th></th>\n",
       "      <th>dropoff_location_name</th>\n",
       "      <th>average_trips</th>\n",
       "    </tr>\n",
       "  </thead>\n",
       "  <tbody>\n",
       "    <tr>\n",
       "      <th>0</th>\n",
       "      <td>Loop</td>\n",
       "      <td>10727.466667</td>\n",
       "    </tr>\n",
       "    <tr>\n",
       "      <th>1</th>\n",
       "      <td>River North</td>\n",
       "      <td>9523.666667</td>\n",
       "    </tr>\n",
       "    <tr>\n",
       "      <th>2</th>\n",
       "      <td>Streeterville</td>\n",
       "      <td>6664.666667</td>\n",
       "    </tr>\n",
       "    <tr>\n",
       "      <th>3</th>\n",
       "      <td>West Loop</td>\n",
       "      <td>5163.666667</td>\n",
       "    </tr>\n",
       "    <tr>\n",
       "      <th>4</th>\n",
       "      <td>O'Hare</td>\n",
       "      <td>2546.900000</td>\n",
       "    </tr>\n",
       "  </tbody>\n",
       "</table>\n",
       "</div>"
      ],
      "text/plain": [
       "  dropoff_location_name  average_trips\n",
       "0                  Loop   10727.466667\n",
       "1           River North    9523.666667\n",
       "2         Streeterville    6664.666667\n",
       "3             West Loop    5163.666667\n",
       "4                O'Hare    2546.900000"
      ]
     },
     "execution_count": 15,
     "metadata": {},
     "output_type": "execute_result"
    }
   ],
   "source": [
    "df_2.head()"
   ]
  },
  {
   "cell_type": "code",
   "execution_count": 16,
   "metadata": {},
   "outputs": [
    {
     "name": "stdout",
     "output_type": "stream",
     "text": [
      "<class 'pandas.core.frame.DataFrame'>\n",
      "RangeIndex: 94 entries, 0 to 93\n",
      "Data columns (total 2 columns):\n",
      " #   Column                 Non-Null Count  Dtype  \n",
      "---  ------                 --------------  -----  \n",
      " 0   dropoff_location_name  94 non-null     object \n",
      " 1   average_trips          94 non-null     float64\n",
      "dtypes: float64(1), object(1)\n",
      "memory usage: 1.6+ KB\n"
     ]
    }
   ],
   "source": [
    "df_2.info()"
   ]
  },
  {
   "cell_type": "code",
   "execution_count": 17,
   "metadata": {},
   "outputs": [
    {
     "data": {
      "text/html": [
       "<div>\n",
       "<style scoped>\n",
       "    .dataframe tbody tr th:only-of-type {\n",
       "        vertical-align: middle;\n",
       "    }\n",
       "\n",
       "    .dataframe tbody tr th {\n",
       "        vertical-align: top;\n",
       "    }\n",
       "\n",
       "    .dataframe thead th {\n",
       "        text-align: right;\n",
       "    }\n",
       "</style>\n",
       "<table border=\"1\" class=\"dataframe\">\n",
       "  <thead>\n",
       "    <tr style=\"text-align: right;\">\n",
       "      <th></th>\n",
       "      <th>average_trips</th>\n",
       "    </tr>\n",
       "  </thead>\n",
       "  <tbody>\n",
       "    <tr>\n",
       "      <th>count</th>\n",
       "      <td>94.000000</td>\n",
       "    </tr>\n",
       "    <tr>\n",
       "      <th>mean</th>\n",
       "      <td>599.953728</td>\n",
       "    </tr>\n",
       "    <tr>\n",
       "      <th>std</th>\n",
       "      <td>1714.591098</td>\n",
       "    </tr>\n",
       "    <tr>\n",
       "      <th>min</th>\n",
       "      <td>1.800000</td>\n",
       "    </tr>\n",
       "    <tr>\n",
       "      <th>25%</th>\n",
       "      <td>14.266667</td>\n",
       "    </tr>\n",
       "    <tr>\n",
       "      <th>50%</th>\n",
       "      <td>52.016667</td>\n",
       "    </tr>\n",
       "    <tr>\n",
       "      <th>75%</th>\n",
       "      <td>298.858333</td>\n",
       "    </tr>\n",
       "    <tr>\n",
       "      <th>max</th>\n",
       "      <td>10727.466667</td>\n",
       "    </tr>\n",
       "  </tbody>\n",
       "</table>\n",
       "</div>"
      ],
      "text/plain": [
       "       average_trips\n",
       "count      94.000000\n",
       "mean      599.953728\n",
       "std      1714.591098\n",
       "min         1.800000\n",
       "25%        14.266667\n",
       "50%        52.016667\n",
       "75%       298.858333\n",
       "max     10727.466667"
      ]
     },
     "execution_count": 17,
     "metadata": {},
     "output_type": "execute_result"
    }
   ],
   "source": [
    "df_2.describe()"
   ]
  },
  {
   "cell_type": "code",
   "execution_count": 21,
   "metadata": {},
   "outputs": [
    {
     "name": "stdout",
     "output_type": "stream",
     "text": [
      "Empty DataFrame\n",
      "Columns: [dropoff_location_name, average_trips]\n",
      "Index: []\n"
     ]
    }
   ],
   "source": [
    "filtered_df_2=df_2[df_2.duplicated()]\n",
    "print(filtered_df_2)"
   ]
  },
  {
   "cell_type": "markdown",
   "metadata": {},
   "source": [
    "Se verifica que no existan valores duplicados,y que no existen valores nulos en las columnas del dataset que contienen \n",
    "las variables 'dropoff_location_name' y 'average_trips'"
   ]
  },
  {
   "cell_type": "markdown",
   "metadata": {},
   "source": [
    "\n",
    "<div class=\"alert alert-block alert-danger\">\n",
    "\n",
    "<b>Comentario del revisor</b> <a class=\"tocSkip\"></a>\n",
    "\n",
    "Verifica si existen duplicados </div>\n",
    "\n",
    "<div class=\"alert alert-block alert-danger\">\n",
    "\n",
    "<b>Comentario del revisor</b> <a class=\"tocSkip\"></a>\n",
    "\n",
    "Deja una descripcion de lo observado en este dataset en cuanto a como se compone, si hay errores o no  (nulos, duplicados, etc) y que informacion nos provee. Este punto es muy importante porque resumiremos con un analisis en **markdown** sobre como esta compuesto el dataset y sus variables mas importante. </div>"
   ]
  },
  {
   "cell_type": "markdown",
   "metadata": {},
   "source": [
    "<div class=\"alert alert-block alert-info\">\n",
    "<b>Respuesta del estudiante</b> <a class=\"tocSkip\"></a>\n",
    "\n",
    "Listo  se verifica si hay valores duplicados y se añade una descripcion general del dataset\n",
    "</div>"
   ]
  },
  {
   "cell_type": "code",
   "execution_count": 29,
   "metadata": {},
   "outputs": [
    {
     "data": {
      "text/html": [
       "<div>\n",
       "<style scoped>\n",
       "    .dataframe tbody tr th:only-of-type {\n",
       "        vertical-align: middle;\n",
       "    }\n",
       "\n",
       "    .dataframe tbody tr th {\n",
       "        vertical-align: top;\n",
       "    }\n",
       "\n",
       "    .dataframe thead th {\n",
       "        text-align: right;\n",
       "    }\n",
       "</style>\n",
       "<table border=\"1\" class=\"dataframe\">\n",
       "  <thead>\n",
       "    <tr style=\"text-align: right;\">\n",
       "      <th></th>\n",
       "      <th>start_ts</th>\n",
       "      <th>weather_conditions</th>\n",
       "      <th>duration_seconds</th>\n",
       "    </tr>\n",
       "  </thead>\n",
       "  <tbody>\n",
       "    <tr>\n",
       "      <th>0</th>\n",
       "      <td>2017-11-25 16:00:00</td>\n",
       "      <td>Good</td>\n",
       "      <td>2410.0</td>\n",
       "    </tr>\n",
       "    <tr>\n",
       "      <th>1</th>\n",
       "      <td>2017-11-25 14:00:00</td>\n",
       "      <td>Good</td>\n",
       "      <td>1920.0</td>\n",
       "    </tr>\n",
       "    <tr>\n",
       "      <th>2</th>\n",
       "      <td>2017-11-25 12:00:00</td>\n",
       "      <td>Good</td>\n",
       "      <td>1543.0</td>\n",
       "    </tr>\n",
       "    <tr>\n",
       "      <th>3</th>\n",
       "      <td>2017-11-04 10:00:00</td>\n",
       "      <td>Good</td>\n",
       "      <td>2512.0</td>\n",
       "    </tr>\n",
       "    <tr>\n",
       "      <th>4</th>\n",
       "      <td>2017-11-11 07:00:00</td>\n",
       "      <td>Good</td>\n",
       "      <td>1440.0</td>\n",
       "    </tr>\n",
       "  </tbody>\n",
       "</table>\n",
       "</div>"
      ],
      "text/plain": [
       "              start_ts weather_conditions  duration_seconds\n",
       "0  2017-11-25 16:00:00               Good            2410.0\n",
       "1  2017-11-25 14:00:00               Good            1920.0\n",
       "2  2017-11-25 12:00:00               Good            1543.0\n",
       "3  2017-11-04 10:00:00               Good            2512.0\n",
       "4  2017-11-11 07:00:00               Good            1440.0"
      ]
     },
     "execution_count": 29,
     "metadata": {},
     "output_type": "execute_result"
    }
   ],
   "source": [
    "df_hipotesis.head()"
   ]
  },
  {
   "cell_type": "code",
   "execution_count": 28,
   "metadata": {},
   "outputs": [
    {
     "name": "stdout",
     "output_type": "stream",
     "text": [
      "<class 'pandas.core.frame.DataFrame'>\n",
      "RangeIndex: 1068 entries, 0 to 1067\n",
      "Data columns (total 3 columns):\n",
      " #   Column              Non-Null Count  Dtype  \n",
      "---  ------              --------------  -----  \n",
      " 0   start_ts            1068 non-null   object \n",
      " 1   weather_conditions  1068 non-null   object \n",
      " 2   duration_seconds    1068 non-null   float64\n",
      "dtypes: float64(1), object(2)\n",
      "memory usage: 25.2+ KB\n"
     ]
    }
   ],
   "source": [
    "df_hipotesis.info()"
   ]
  },
  {
   "cell_type": "code",
   "execution_count": 30,
   "metadata": {
    "scrolled": false
   },
   "outputs": [
    {
     "data": {
      "text/html": [
       "<div>\n",
       "<style scoped>\n",
       "    .dataframe tbody tr th:only-of-type {\n",
       "        vertical-align: middle;\n",
       "    }\n",
       "\n",
       "    .dataframe tbody tr th {\n",
       "        vertical-align: top;\n",
       "    }\n",
       "\n",
       "    .dataframe thead th {\n",
       "        text-align: right;\n",
       "    }\n",
       "</style>\n",
       "<table border=\"1\" class=\"dataframe\">\n",
       "  <thead>\n",
       "    <tr style=\"text-align: right;\">\n",
       "      <th></th>\n",
       "      <th>duration_seconds</th>\n",
       "    </tr>\n",
       "  </thead>\n",
       "  <tbody>\n",
       "    <tr>\n",
       "      <th>count</th>\n",
       "      <td>1068.000000</td>\n",
       "    </tr>\n",
       "    <tr>\n",
       "      <th>mean</th>\n",
       "      <td>2071.731273</td>\n",
       "    </tr>\n",
       "    <tr>\n",
       "      <th>std</th>\n",
       "      <td>769.461125</td>\n",
       "    </tr>\n",
       "    <tr>\n",
       "      <th>min</th>\n",
       "      <td>0.000000</td>\n",
       "    </tr>\n",
       "    <tr>\n",
       "      <th>25%</th>\n",
       "      <td>1438.250000</td>\n",
       "    </tr>\n",
       "    <tr>\n",
       "      <th>50%</th>\n",
       "      <td>1980.000000</td>\n",
       "    </tr>\n",
       "    <tr>\n",
       "      <th>75%</th>\n",
       "      <td>2580.000000</td>\n",
       "    </tr>\n",
       "    <tr>\n",
       "      <th>max</th>\n",
       "      <td>7440.000000</td>\n",
       "    </tr>\n",
       "  </tbody>\n",
       "</table>\n",
       "</div>"
      ],
      "text/plain": [
       "       duration_seconds\n",
       "count       1068.000000\n",
       "mean        2071.731273\n",
       "std          769.461125\n",
       "min            0.000000\n",
       "25%         1438.250000\n",
       "50%         1980.000000\n",
       "75%         2580.000000\n",
       "max         7440.000000"
      ]
     },
     "execution_count": 30,
     "metadata": {},
     "output_type": "execute_result"
    }
   ],
   "source": [
    "df_hipotesis.describe()"
   ]
  },
  {
   "cell_type": "markdown",
   "metadata": {},
   "source": [
    "Podemos observar que este dataset no contiene valores nulos, tiene 1068 filas y las columnas de 'start_ts', que indica el momento en el que se inicio el viaje,' weather_conditions' que nos da informacion sobre las condiciones de clima durante el viaje y 'duration_seconds' que nos da el tiempo que duro el viaje en segundos."
   ]
  },
  {
   "cell_type": "code",
   "execution_count": 31,
   "metadata": {},
   "outputs": [
    {
     "name": "stdout",
     "output_type": "stream",
     "text": [
      "                 start_ts weather_conditions  duration_seconds\n",
      "62    2017-11-11 06:00:00               Good            1260.0\n",
      "74    2017-11-11 08:00:00               Good            1380.0\n",
      "76    2017-11-04 09:00:00               Good            1380.0\n",
      "117   2017-11-11 07:00:00               Good            1380.0\n",
      "119   2017-11-04 14:00:00               Good            3300.0\n",
      "...                   ...                ...               ...\n",
      "1054  2017-11-11 07:00:00               Good            1380.0\n",
      "1058  2017-11-25 12:00:00               Good            1440.0\n",
      "1062  2017-11-11 06:00:00               Good            1500.0\n",
      "1065  2017-11-11 13:00:00               Good            2100.0\n",
      "1066  2017-11-11 08:00:00               Good            1380.0\n",
      "\n",
      "[197 rows x 3 columns]\n"
     ]
    }
   ],
   "source": [
    "df_hipotesis_filtered=df_hipotesis[df_hipotesis.duplicated()]\n",
    "print(df_hipotesis_filtered)"
   ]
  },
  {
   "cell_type": "markdown",
   "metadata": {},
   "source": [
    "Se verifica que ha 197 duplicados, sin embargo en la columna start_ts no se esta tomando en cuenta ni los minutos ni los segundos, por lo que no segnifica que sean totalmente duplicadas y se decide no eliminarlas."
   ]
  },
  {
   "cell_type": "markdown",
   "metadata": {},
   "source": [
    "<div class=\"alert alert-block alert-danger\">\n",
    "\n",
    "<b>Comentario del revisor</b> <a class=\"tocSkip\"></a>\n",
    "\n",
    "Para el dataset de hipotesis:\n",
    "\n",
    "\n",
    "<div class=\"alert alert-block alert-danger\">\n",
    "\n",
    "<b>Comentario del revisor</b> <a class=\"tocSkip\"></a>\n",
    "\n",
    "Falta utilizar el metodo info(), a traves de el extrae informacion importante y dejala reflejado en un analisis de *markdown*.</div>\n",
    "\n",
    "<div class=\"alert alert-block alert-danger\">\n",
    "\n",
    "<b>Comentario del revisor</b> <a class=\"tocSkip\"></a>\n",
    "\n",
    "Explora las primeras filas con el head()</div>\n",
    "\n",
    "<div class=\"alert alert-block alert-danger\">\n",
    "\n",
    "<b>Comentario del revisor</b> <a class=\"tocSkip\"></a>\n",
    "\n",
    "Recorda utilizar el metodo describe() para una exploracion rapida inicial de aquellas variables numéricas. Siempre es necesario realizarlo ya que de forma rápida tenemos un panorama muy bueno de que nos espera e incluso encontraremos inconsistencias si estas existiencen.\n",
    "Describí al respecto lo que ves. </div>\n",
    "\n",
    "<div class=\"alert alert-block alert-danger\">\n",
    "\n",
    "<b>Comentario del revisor</b> <a class=\"tocSkip\"></a>\n",
    "\n",
    "Verifica si existen duplicados </div>\n",
    "\n",
    "<div class=\"alert alert-block alert-danger\">\n",
    "\n",
    "<b>Comentario del revisor</b> <a class=\"tocSkip\"></a>\n",
    "\n",
    "Deja una descripcion de lo observado en este dataset en cuanto a como se compone, si hay errores o no  (nulos, duplicados, etc) y que informacion nos provee. Este punto es muy importante porque resumiremos con un analisis en **markdown** sobre como esta compuesto el dataset y sus variables mas importante. </div>"
   ]
  },
  {
   "cell_type": "markdown",
   "metadata": {},
   "source": [
    "<div class=\"alert alert-block alert-info\">\n",
    "<b>Respuesta del estudiante</b> <a class=\"tocSkip\"></a>\n",
    "\n",
    "Listo se hace una revision del ultimo dataset con el metodo info,head y describe, ademas de una descripcion general del dataset.\n",
    "</div>"
   ]
  },
  {
   "cell_type": "markdown",
   "metadata": {},
   "source": [
    "#### Verificacion de tipo correcto de datos."
   ]
  },
  {
   "cell_type": "code",
   "execution_count": null,
   "metadata": {},
   "outputs": [],
   "source": [
    "df_1.dtypes, df_2.dtypes"
   ]
  },
  {
   "cell_type": "markdown",
   "metadata": {},
   "source": [
    "#### Identifico los 10 principales barrios en terminos de finalización de viajes."
   ]
  },
  {
   "cell_type": "code",
   "execution_count": 34,
   "metadata": {},
   "outputs": [
    {
     "data": {
      "text/html": [
       "<div>\n",
       "<style scoped>\n",
       "    .dataframe tbody tr th:only-of-type {\n",
       "        vertical-align: middle;\n",
       "    }\n",
       "\n",
       "    .dataframe tbody tr th {\n",
       "        vertical-align: top;\n",
       "    }\n",
       "\n",
       "    .dataframe thead th {\n",
       "        text-align: right;\n",
       "    }\n",
       "</style>\n",
       "<table border=\"1\" class=\"dataframe\">\n",
       "  <thead>\n",
       "    <tr style=\"text-align: right;\">\n",
       "      <th></th>\n",
       "      <th>average_trips</th>\n",
       "      <th>dropoff_location_name</th>\n",
       "    </tr>\n",
       "  </thead>\n",
       "  <tbody>\n",
       "    <tr>\n",
       "      <th>0</th>\n",
       "      <td>10727.466667</td>\n",
       "      <td>Loop</td>\n",
       "    </tr>\n",
       "    <tr>\n",
       "      <th>1</th>\n",
       "      <td>9523.666667</td>\n",
       "      <td>River North</td>\n",
       "    </tr>\n",
       "    <tr>\n",
       "      <th>2</th>\n",
       "      <td>6664.666667</td>\n",
       "      <td>Streeterville</td>\n",
       "    </tr>\n",
       "    <tr>\n",
       "      <th>3</th>\n",
       "      <td>5163.666667</td>\n",
       "      <td>West Loop</td>\n",
       "    </tr>\n",
       "    <tr>\n",
       "      <th>4</th>\n",
       "      <td>2546.900000</td>\n",
       "      <td>O'Hare</td>\n",
       "    </tr>\n",
       "    <tr>\n",
       "      <th>5</th>\n",
       "      <td>2420.966667</td>\n",
       "      <td>Lake View</td>\n",
       "    </tr>\n",
       "    <tr>\n",
       "      <th>6</th>\n",
       "      <td>2068.533333</td>\n",
       "      <td>Grant Park</td>\n",
       "    </tr>\n",
       "    <tr>\n",
       "      <th>7</th>\n",
       "      <td>1510.000000</td>\n",
       "      <td>Museum Campus</td>\n",
       "    </tr>\n",
       "    <tr>\n",
       "      <th>8</th>\n",
       "      <td>1364.233333</td>\n",
       "      <td>Gold Coast</td>\n",
       "    </tr>\n",
       "    <tr>\n",
       "      <th>9</th>\n",
       "      <td>1259.766667</td>\n",
       "      <td>Sheffield &amp; DePaul</td>\n",
       "    </tr>\n",
       "  </tbody>\n",
       "</table>\n",
       "</div>"
      ],
      "text/plain": [
       "   average_trips dropoff_location_name\n",
       "0   10727.466667                  Loop\n",
       "1    9523.666667           River North\n",
       "2    6664.666667         Streeterville\n",
       "3    5163.666667             West Loop\n",
       "4    2546.900000                O'Hare\n",
       "5    2420.966667             Lake View\n",
       "6    2068.533333            Grant Park\n",
       "7    1510.000000         Museum Campus\n",
       "8    1364.233333            Gold Coast\n",
       "9    1259.766667    Sheffield & DePaul"
      ]
     },
     "execution_count": 34,
     "metadata": {},
     "output_type": "execute_result"
    }
   ],
   "source": [
    "df_filtered_2=df_2[['average_trips','dropoff_location_name']].sort_values(by='average_trips',ascending=False).head(10)\n",
    "df_filtered_2"
   ]
  },
  {
   "cell_type": "code",
   "execution_count": 37,
   "metadata": {},
   "outputs": [
    {
     "data": {
      "text/plain": [
       "<AxesSubplot:title={'center':'Average trips per neighborhood'}, xlabel='Neighnorhoods with more finishes', ylabel='Average trips'>"
      ]
     },
     "execution_count": 37,
     "metadata": {},
     "output_type": "execute_result"
    },
    {
     "data": {
      "image/png": "[encoded data removed]",
      "text/plain": [
       "<Figure size 640x480 with 1 Axes>"
      ]
     },
     "metadata": {},
     "output_type": "display_data"
    }
   ],
   "source": [
    "df_filtered_2.plot(kind='bar',\n",
    "                   x= 'dropoff_location_name',\n",
    "                   y='average_trips',\n",
    "                   xlabel='Neighnorhoods with more finishes',\n",
    "                   ylabel='Average trips',\n",
    "                   title='Average trips per neighborhood'\n",
    "                   \n",
    "                   )"
   ]
  },
  {
   "cell_type": "markdown",
   "metadata": {},
   "source": [
    "Podemos observar que los primeros 4 barrios que son Loop, River North ,Streeterville y West Loop\n",
    "son los barrios con mayores finalizaciones de viajes, seguidos por O Hare,Lake View, Grant Park, Museum Campus , Gold Coast\n",
    "y Sheffield & DePaul quienes muestran una notable caida en el promedio de las finalizaciones pero siguen estando en el top 10\n",
    "Podemos observar que el barrio de 'Loop' y de 'River North' son los lugares con mas finalizaciones de viajes,\n",
    "En general existe una gran diferencia entre los 3 ultimos barrios y los 2 barrios con mas finalizaciónes.\n"
   ]
  },
  {
   "cell_type": "code",
   "execution_count": 38,
   "metadata": {},
   "outputs": [
    {
     "data": {
      "text/plain": [
       "<AxesSubplot:title={'center':'Total Trips by company'}, xlabel='Compañia de taxis', ylabel='Numero de viajes'>"
      ]
     },
     "execution_count": 38,
     "metadata": {},
     "output_type": "execute_result"
    },
    {
     "data": {
      "image/png": "[encoded data removed]",
      "text/plain": [
       "<Figure size 640x480 with 1 Axes>"
      ]
     },
     "metadata": {},
     "output_type": "display_data"
    }
   ],
   "source": [
    "df_filtered=df_1.sort_values(by='trips_amount', ascending=False).head(10)\n",
    "df_filtered.plot(kind='bar',\n",
    "          x= 'company_name',\n",
    "          y='trips_amount',\n",
    "          ylabel='Numero de viajes',\n",
    "          xlabel='Compañia de taxis',\n",
    "          title='Total Trips by company'\n",
    "          )"
   ]
  },
  {
   "cell_type": "markdown",
   "metadata": {},
   "source": [
    " Podemos observar las primeras 10 compañias de taxis en la grafica un clara diferencia de la compañia Flash Cab, quien tiene el mayor numero de viajes."
   ]
  },
  {
   "cell_type": "markdown",
   "metadata": {},
   "source": [
    "<div class=\"alert alert-block alert-danger\">\n",
    "\n",
    "<b>Comentario del revisor</b> <a class=\"tocSkip\"></a>\n",
    "\n",
    "Conclui al respecto de los graficos. Quienes componen el top 10 y que se observa de la distribucion de los datos.</div>"
   ]
  },
  {
   "cell_type": "markdown",
   "metadata": {},
   "source": [
    "<div class=\"alert alert-block alert-info\">\n",
    "<b>Respuesta del estudiante</b> <a class=\"tocSkip\"></a>\n",
    "\n",
    "Listo se concluye quien compone el top 10 y se hacen observaciones sobre las graficas\n",
    "</div>"
   ]
  },
  {
   "cell_type": "markdown",
   "metadata": {},
   "source": [
    "<div class=\"alert alert-block alert-danger\">\n",
    "\n",
    "<b>Comentario del revisor</b> <a class=\"tocSkip\"></a>\n",
    "\n",
    "Siempre que realizamos test de hipotesis debemos exponer cual es la hipotesis nula y cual la alternativa (con un markdown). Mas alla que lo reealices o no en el codigo.</div>"
   ]
  },
  {
   "cell_type": "markdown",
   "metadata": {},
   "source": [
    "<div class=\"alert alert-block alert-info\">\n",
    "<b>Respuesta del estudiante</b> <a class=\"tocSkip\"></a>\n",
    "\n",
    "Se establecen cual es la hipótesis nula y cual es la alternativa aqui abajo</div>"
   ]
  },
  {
   "cell_type": "markdown",
   "metadata": {},
   "source": [
    "Hipótesis nula: que la duración promedio de los viajes desde el Loop hasta el Aeropuerto Internacional O'Hare es la misma los  lluviosos y los dias soleados.\n",
    "Hipótesis alternativa: que  que la duración promedio de los viajes desde el Loop hasta el Aeropuerto Internacional O'Hare es \n",
    "diferente los  lluviosos y los dias soleados."
   ]
  },
  {
   "cell_type": "code",
   "execution_count": 49,
   "metadata": {},
   "outputs": [
    {
     "data": {
      "text/plain": [
       "0.5332038671974493"
      ]
     },
     "execution_count": 49,
     "metadata": {},
     "output_type": "execute_result"
    }
   ],
   "source": [
    " statistic,p_value=levene(\n",
    "    df_hipotesis.query(\"weather_conditions=='Bad'\")['duration_seconds'],\n",
    "    df_hipotesis.query(\"weather_conditions=='Good'\")['duration_seconds']\n",
    "   )\n",
    "p_value"
   ]
  },
  {
   "cell_type": "markdown",
   "metadata": {},
   "source": [
    "el p_value es mayor al 0.05 por lo tanto no se rechaza la hipotesis nula, las varianzas son iguales por lo tanto en la prueba ttest pondre el equal_var=True"
   ]
  },
  {
   "cell_type": "code",
   "execution_count": 52,
   "metadata": {},
   "outputs": [
    {
     "data": {
      "text/plain": [
       "6.517970327099473e-12"
      ]
     },
     "execution_count": 52,
     "metadata": {},
     "output_type": "execute_result"
    }
   ],
   "source": [
    "\n",
    "stat,pvalue=ttest_ind(\n",
    "    df_hipotesis.query(\"weather_conditions=='Bad'\")['duration_seconds'],\n",
    "    df_hipotesis.query(\"weather_conditions=='Good'\")['duration_seconds'],\n",
    "    equal_var=True\n",
    ")\n",
    "pvalue"
   ]
  },
  {
   "cell_type": "markdown",
   "metadata": {},
   "source": [
    " Estableciendo el nivel Alpha en 0.05, podemos ver que el pvalue es mayor a este, por lo tanto no se puede rechazar la hipotesis nula y no hay pruebas de que exista una diferencia estadisticamente significativa."
   ]
  },
  {
   "cell_type": "markdown",
   "metadata": {},
   "source": [
    "<div class=\"alert alert-block alert-danger\">\n",
    "\n",
    "<b>Comentario del revisor</b> <a class=\"tocSkip\"></a>\n",
    "\n",
    "Importa esta libreria en la celda correspondiente (la del inicio)</div>"
   ]
  },
  {
   "cell_type": "markdown",
   "metadata": {},
   "source": [
    "<div class=\"alert alert-block alert-info\">\n",
    "<b>Respuesta del estudiante</b> <a class=\"tocSkip\"></a>\n",
    "\n",
    "se importa la libreria desde la celda correspondiente(la inicial)</div>"
   ]
  },
  {
   "cell_type": "markdown",
   "metadata": {},
   "source": [
    "<div class=\"alert alert-block alert-danger\">\n",
    "<b>Comentario del revisor</b> <a class=\"tocSkip\"></a>\n",
    "\n",
    "El parametro equal_var es muy importante para este tipo de pruebas y en este caso no lo utilizas.\n",
    "\n",
    "Observamos dos opciones, una, si las varianzas para cada conjunto son diferentes (False). Si fueran iguales (True), puede que el resultado cambie, ya que se calcula de forma diferente. Mas que nada cuando la distribucion de las muestras son desiguales (como en este caso).\n",
    "\n",
    "Por esto es importante, cuando realizamos esta prueba (t student). Confirmar si las varianzas son iguales o no para ambos conjuntos. Para esto se realizan **pruebas estadisticas** (Por ejemplo, **Levene**) para identificar si son iguales o no las varianzas.\n",
    "\n",
    "Al realizarla ajusta el parametro si fuera necesario y si cambian los resultados modifica la conclusion.</div>\n",
    "\n",
    "\n",
    "<div class=\"alert alert-block alert-warning\">\n",
    "<b>Comentario del revisor</b> <a class=\"tocSkip\"></a>\n",
    "\n",
    "Simplemente a modo de consejo, cuando realizamos este tipo de prueba, los outliers pueden modificarla. Por lo que generalmente se recomienda tratarlos antes  de realizar la prueba.\n",
    "</div>"
   ]
  },
  {
   "cell_type": "markdown",
   "metadata": {},
   "source": [
    "<div class=\"alert alert-block alert-info\">\n",
    "<b>Respuesta del estudiante</b> <a class=\"tocSkip\"></a>\n",
    "\n",
    "Se realizo la prueba de levene para ver si las varianzas son iguales y se añade el equal_var=True(la inicial)</div>"
   ]
  },
  {
   "cell_type": "markdown",
   "metadata": {},
   "source": [
    "<div class=\"alert alert-block alert-danger\">\n",
    "\n",
    "<b>Comentario del revisor</b> <a class=\"tocSkip\"></a>\n",
    "\n",
    "Recorda realizar una conclusion general. Esta debe contener todo lo que se hizo en el proyecto de forma enumerada o items.\n",
    "\n",
    "Desde la carga e importacion, pasando por los cambios realizado (Y el porque de esas decisiones). Agregando lo que se hizo en cada seccion a modo resumen y las conclusiones del  trabajo.\n",
    "\n",
    "El mismo, sirve como resumen de lo realizado en cada proyecto.</div>"
   ]
  },
  {
   "cell_type": "markdown",
   "metadata": {},
   "source": [
    "<div class=\"alert alert-block alert-info\">\n",
    "<b>Respuesta del estudiante</b> <a class=\"tocSkip\"></a>\n",
    "\n",
    "Se realizo la conclusion general</div>"
   ]
  },
  {
   "cell_type": "markdown",
   "metadata": {},
   "source": [
    "Conclusion General:\n",
    "\n",
    "Para realizar este proyecto, primeramente tuvimos que extraer la información de una tabla de una página web haciendo una petición GET y convertir los valores a una tabla de un DataFrame. Posteriormente, se cargaron los archivos CSV con el DataFrame ya extraído y se realizó un pequeño análisis sobre las compañías de taxis.\n",
    "\n",
    "Posteriormente se realizó un EDA o análisis exploratorio de datos para darnos una idea de los tipos de datos con los que contábamos, el cual nos arrojó que no teníamos valores nulos en los datasets ni valores duplicados a excepción del último dataset llamado df_hipotesis, en el cual nuestra exploración nos mostró 197 duplicados. Sin embargo, en la columna start_ts no se están teniendo en cuenta ni los minutos ni los segundos, por lo que no significa que sean totalmente filas duplicadas y se decidió no eliminarlas.\n",
    "\n",
    "Posteriormente se realizaron dos gráficas de barras donde pudimos visualizar, en primer lugar, los 10 principales barrios con más terminaciones de viajes. Observamos que los primeros 4 barrios, que son Loop, River North, Streeterville y West Loop, son los que tienen más finalizaciones de viajes. Les siguen O'Hare, Lake View, Grant Park, Museum Campus, Gold Coast y Sheffield & DePaul, que muestran una notable caída en el promedio de las finalizaciones pero aún así están en el top 10.\n",
    "Pudimos observar que los barrios 'Loop' y 'River North' son los lugares con más finalizaciones de viajes. En general, existe una gran diferencia entre los últimos 3 barrios y los 2 barrios con más finalizaciones.\n",
    "La segunda gráfica de barras mostró las 10 compañías de taxis con los promedios más altos en viajes, donde la compañía Flash Cab tiene, con gran diferencia, el mayor número de viajes.\n",
    "\n",
    "Por último, se realizó una prueba estadística para probar la hipótesis de que la duración promedio de los viajes desde el Loop hasta el Aeropuerto Internacional O'Hare es la misma en días lluviosos y soleados. Esta hipótesis no pudo ser descartada, lo que indica que no hay diferencia significativa entre los días lluviosos y soleados en cuanto a la duración promedio de los viajes.\n",
    "\n",
    "\n"
   ]
  },
  {
   "cell_type": "code",
   "execution_count": null,
   "metadata": {},
   "outputs": [],
   "source": []
  }
 ],
 "metadata": {
  "ExecuteTimeLog": [
   {
    "duration": 4388,
    "start_time": "2024-07-04T19:54:34.870Z"
   },
   {
    "duration": 1068,
    "start_time": "2024-07-04T19:54:39.262Z"
   },
   {
    "duration": 0,
    "start_time": "2024-07-04T19:54:40.334Z"
   },
   {
    "duration": 0,
    "start_time": "2024-07-04T19:54:40.336Z"
   },
   {
    "duration": 0,
    "start_time": "2024-07-04T19:54:40.338Z"
   },
   {
    "duration": 0,
    "start_time": "2024-07-04T19:54:40.340Z"
   },
   {
    "duration": 0,
    "start_time": "2024-07-04T19:54:40.343Z"
   },
   {
    "duration": 0,
    "start_time": "2024-07-04T19:54:40.344Z"
   },
   {
    "duration": 0,
    "start_time": "2024-07-04T19:54:40.346Z"
   },
   {
    "duration": 0,
    "start_time": "2024-07-04T19:54:40.349Z"
   },
   {
    "duration": 0,
    "start_time": "2024-07-04T19:54:40.351Z"
   },
   {
    "duration": 0,
    "start_time": "2024-07-04T19:54:40.352Z"
   },
   {
    "duration": 0,
    "start_time": "2024-07-04T19:54:40.354Z"
   },
   {
    "duration": 8,
    "start_time": "2024-07-04T19:54:59.269Z"
   },
   {
    "duration": 308,
    "start_time": "2024-07-08T13:23:50.030Z"
   },
   {
    "duration": 22,
    "start_time": "2024-07-08T13:23:55.844Z"
   },
   {
    "duration": 4255,
    "start_time": "2024-07-08T13:24:09.893Z"
   },
   {
    "duration": 789,
    "start_time": "2024-07-08T13:24:14.152Z"
   },
   {
    "duration": 31,
    "start_time": "2024-07-08T13:24:44.314Z"
   },
   {
    "duration": 20,
    "start_time": "2024-07-08T13:25:40.292Z"
   },
   {
    "duration": 325,
    "start_time": "2024-07-08T18:00:54.070Z"
   },
   {
    "duration": 4307,
    "start_time": "2024-07-08T18:01:01.174Z"
   },
   {
    "duration": 86,
    "start_time": "2024-07-08T18:01:05.484Z"
   },
   {
    "duration": 18,
    "start_time": "2024-07-08T18:01:07.098Z"
   },
   {
    "duration": 14,
    "start_time": "2024-07-08T18:01:09.975Z"
   },
   {
    "duration": 90,
    "start_time": "2024-07-08T18:20:46.050Z"
   },
   {
    "duration": 24,
    "start_time": "2024-07-08T18:20:53.313Z"
   },
   {
    "duration": 23,
    "start_time": "2024-07-08T18:20:56.217Z"
   },
   {
    "duration": 7,
    "start_time": "2024-07-08T18:21:12.094Z"
   },
   {
    "duration": 6,
    "start_time": "2024-07-08T18:21:30.834Z"
   },
   {
    "duration": 7,
    "start_time": "2024-07-08T18:21:56.786Z"
   },
   {
    "duration": 7,
    "start_time": "2024-07-08T18:25:06.527Z"
   },
   {
    "duration": 856,
    "start_time": "2024-07-08T18:25:12.858Z"
   },
   {
    "duration": 7,
    "start_time": "2024-07-08T18:25:29.744Z"
   },
   {
    "duration": 11,
    "start_time": "2024-07-08T18:28:01.088Z"
   },
   {
    "duration": 14,
    "start_time": "2024-07-08T18:28:18.614Z"
   },
   {
    "duration": 14,
    "start_time": "2024-07-08T18:28:24.422Z"
   },
   {
    "duration": 22,
    "start_time": "2024-07-08T18:29:28.704Z"
   },
   {
    "duration": 6,
    "start_time": "2024-07-08T18:29:47.063Z"
   },
   {
    "duration": 5,
    "start_time": "2024-07-08T18:30:03.189Z"
   },
   {
    "duration": 6,
    "start_time": "2024-07-08T18:30:15.613Z"
   },
   {
    "duration": 6,
    "start_time": "2024-07-08T18:32:29.689Z"
   },
   {
    "duration": 6,
    "start_time": "2024-07-08T18:34:17.502Z"
   },
   {
    "duration": 6,
    "start_time": "2024-07-08T18:34:23.184Z"
   },
   {
    "duration": 6,
    "start_time": "2024-07-08T18:34:36.360Z"
   },
   {
    "duration": 7,
    "start_time": "2024-07-08T18:34:57.254Z"
   },
   {
    "duration": 18,
    "start_time": "2024-07-08T18:37:39.903Z"
   },
   {
    "duration": 19,
    "start_time": "2024-07-08T18:38:13.951Z"
   },
   {
    "duration": 11,
    "start_time": "2024-07-08T18:42:12.416Z"
   },
   {
    "duration": 22,
    "start_time": "2024-07-08T18:42:53.079Z"
   },
   {
    "duration": 17,
    "start_time": "2024-07-08T18:44:57.345Z"
   },
   {
    "duration": 13,
    "start_time": "2024-07-08T19:03:37.038Z"
   },
   {
    "duration": 14,
    "start_time": "2024-07-08T19:04:15.588Z"
   },
   {
    "duration": 16,
    "start_time": "2024-07-08T19:04:28.542Z"
   },
   {
    "duration": 494,
    "start_time": "2024-07-08T19:04:33.299Z"
   },
   {
    "duration": 269,
    "start_time": "2024-07-08T19:05:30.066Z"
   },
   {
    "duration": 300,
    "start_time": "2024-07-08T19:23:27.316Z"
   },
   {
    "duration": 303,
    "start_time": "2024-07-08T19:29:36.277Z"
   },
   {
    "duration": 423,
    "start_time": "2024-07-08T19:38:40.738Z"
   },
   {
    "duration": 14,
    "start_time": "2024-07-08T19:38:54.956Z"
   },
   {
    "duration": 17,
    "start_time": "2024-07-08T19:44:42.820Z"
   },
   {
    "duration": 5,
    "start_time": "2024-07-08T19:48:40.384Z"
   },
   {
    "duration": 66,
    "start_time": "2024-07-08T19:48:56.016Z"
   },
   {
    "duration": 4,
    "start_time": "2024-07-08T19:49:49.970Z"
   },
   {
    "duration": 29,
    "start_time": "2024-07-08T19:50:02.910Z"
   },
   {
    "duration": 24,
    "start_time": "2024-07-08T19:50:37.974Z"
   },
   {
    "duration": 25,
    "start_time": "2024-07-08T19:51:04.468Z"
   },
   {
    "duration": 30,
    "start_time": "2024-07-08T19:51:43.175Z"
   },
   {
    "duration": 14,
    "start_time": "2024-07-08T19:52:05.414Z"
   },
   {
    "duration": 5,
    "start_time": "2024-07-08T20:07:56.421Z"
   },
   {
    "duration": 15,
    "start_time": "2024-07-08T20:11:23.212Z"
   },
   {
    "duration": 13,
    "start_time": "2024-07-08T20:11:26.656Z"
   },
   {
    "duration": 7,
    "start_time": "2024-07-08T20:16:57.593Z"
   },
   {
    "duration": 9,
    "start_time": "2024-07-08T20:33:12.998Z"
   },
   {
    "duration": 5,
    "start_time": "2024-07-08T20:36:48.350Z"
   }
  ],
  "kernelspec": {
   "display_name": "Python 3 (ipykernel)",
   "language": "python",
   "name": "python3"
  },
  "language_info": {
   "codemirror_mode": {
    "name": "ipython",
    "version": 3
   },
   "file_extension": ".py",
   "mimetype": "text/x-python",
   "name": "python",
   "nbconvert_exporter": "python",
   "pygments_lexer": "ipython3",
   "version": "3.9.19"
  },
  "toc": {
   "base_numbering": 1,
   "nav_menu": {},
   "number_sections": true,
   "sideBar": true,
   "skip_h1_title": true,
   "title_cell": "Table of Contents",
   "title_sidebar": "Contents",
   "toc_cell": false,
   "toc_position": {
    "height": "calc(100% - 180px)",
    "left": "10px",
    "top": "150px",
    "width": "283px"
   },
   "toc_section_display": true,
   "toc_window_display": true
  }
 },
 "nbformat": 4,
 "nbformat_minor": 2
}
