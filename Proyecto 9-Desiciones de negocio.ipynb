{
 "cells": [
  {
   "cell_type": "markdown",
   "metadata": {},
   "source": [
    "¡Hola!\n",
    "\n",
    "Mi nombre es Tonatiuh Cruz. Me complace revisar tu proyecto hoy.\n",
    "\n",
    "Al identificar cualquier error inicialmente, simplemente los destacaré. Te animo a localizar y abordar los problemas de forma independiente como parte de tu preparación para un rol como data-analyst. En un entorno profesional, tu líder de equipo seguiría un enfoque similar. Si encuentras la tarea desafiante, proporcionaré una pista más específica en la próxima iteración.\n",
    "\n",
    "Encontrarás mis comentarios a continuación - **por favor no los muevas, modifiques o elimines**.\n",
    "\n",
    "Puedes encontrar mis comentarios en cajas verdes, amarillas o rojas como esta:\n",
    "\n",
    "<div class=\"alert alert-block alert-success\">\n",
    "<b>Comentario del revisor</b> <a class=\"tocSkip\"></a>\n",
    "\n",
    "Éxito. Todo está hecho correctamente.\n",
    "</div>\n",
    "\n",
    "<div class=\"alert alert-block alert-warning\">\n",
    "<b>Comentario del revisor</b> <a class=\"tocSkip\"></a>\n",
    "\n",
    "Observaciones. Algunas recomendaciones.\n",
    "</div>\n",
    "\n",
    "<div class=\"alert alert-block alert-danger\">\n",
    "<b>Comentario del revisor</b> <a class=\"tocSkip\"></a>\n",
    "\n",
    "Necesita corrección. El bloque requiere algunas correcciones. El trabajo no puede ser aceptado con comentarios en rojo.\n",
    "</div>\n",
    "\n",
    "Puedes responderme utilizando esto:\n",
    "\n",
    "<div class=\"alert alert-block alert-info\">\n",
    "<b>Respuesta del estudiante.</b> <a class=\"tocSkip\"></a>\n",
    "</div>\n",
    "\n"
   ]
  },
  {
   "cell_type": "markdown",
   "metadata": {},
   "source": [
    "<div class=\"alert alert-block alert-warning\">\n",
    "\n",
    "<b>Comentario del revisor</b> <a class=\"tocSkip\"></a>\n",
    "\n",
    "\n",
    "Alejandro, cuando hacemos análisis de datos es muy útil escribir una introducción al proyecto donde se especifiquen claramente los objetivos y se explique el propósito del mismo. Es esencial hacer esto para establecer las bases del proyecto y aclarar lo que buscamos alcanzar. Con la introducción, queda de manera clarar el análisis que desarrollaremos en el proyecto y cómo lo pretendemos abordar.</div>"
   ]
  },
  {
   "cell_type": "markdown",
   "metadata": {},
   "source": [
    "<div class=\"alert alert-block alert-info\">\n",
    "<b>Respuesta del estudiante_Se han realizado los cambios correspondientes en la introcuccion y en  las conclusiones</b> <a class=\"tocSkip\"></a>\n",
    "</div>"
   ]
  },
  {
   "cell_type": "markdown",
   "metadata": {},
   "source": [
    "\n",
    "<div class=\"alert alert-block alert-success\">\n",
    "<b>Comentario del revisor</b> <a class=\"tocSkip\"></a>\n",
    "\n",
    "Gran trabajo con los ajustes!\n",
    "</div>"
   ]
  },
  {
   "cell_type": "markdown",
   "metadata": {},
   "source": [
    "## Introducción del Proyecto del sprint 9<a id='intro'></a>\n",
    "\n",
    "**El objetivo de este proyecto es realizar un test o prueba entre dos grupos de usuarios para ver su comportamiento y asi poder tomar mejores decisiones , aumentar  y optimizar las ventas para una tienda en linea, como analista de datos  y junto con el equipo de marketing.En una primera parte,reunimos una lista de varias hipotesis. la cual debemos elegir de un abanico de ellas y asi poder lanzar la prueba A-B.**\n",
    "\n",
    "**El equipo de programadores nos facilitaron 3 datasets los cules contienen informacion sobre las hipotesis discutidas, sobre los usiarios y sobre las visitas, apartir de analizar estos datasets, trataremos de ver detalladamente los resultados a través de diferentes metodos y visualizaciones,  nos permitira entender las tendencias de los usuarios al experimentar otra forma de comprar o usar el producto, saber si hay resultados positivos en el experimento, ademas de analizar como se dieron los resultados y poder dar una recomendacion para una toma de desiciones de la empresa**.                                                                                 \n",
    "\n",
    "**El proyecto se dividira en dos partes, la primera que esta dedicada a la priorización de Hipótesis de nueve posibles.**                                                                                                          \n",
    "**La segunda parte se centrara en el preprocesamiento de datos , asi como ver los comportamientos de los datos , generar visualizaciones optimas y realizar por ultimo paso diferentes pruebas de hipótesis con el objetivo de aumentar los ingresos de una tienda en línea**.\n"
   ]
  },
  {
   "cell_type": "markdown",
   "metadata": {},
   "source": [
    "\n",
    "<div class=\"alert alert-block alert-info\">\n",
    "<b>Respuesta del estudiante:Listo se realiza una introduccion sobre de lo que trata, los objetivos, los propositos y las formas de hacer el proyecto.</b> <a class=\"tocSkip\"></a>\n",
    "</div>\n"
   ]
  },
  {
   "cell_type": "code",
   "execution_count": 1,
   "metadata": {},
   "outputs": [],
   "source": [
    "#IMPORTAMOS LA LIBRERIAS REQUERIDAS.\n",
    "import pandas as pd\n",
    "import numpy as np\n",
    "import scipy.stats as stats\n",
    "import matplotlib.pyplot as plt\n",
    "import seaborn as sns"
   ]
  },
  {
   "cell_type": "code",
   "execution_count": 2,
   "metadata": {},
   "outputs": [],
   "source": [
    "#Cargamos los datasets\n",
    "hypothesis = pd.read_csv('/datasets/hypotheses_us.csv',sep=';')\n",
    "orders = pd.read_csv('/datasets/orders_us.csv')\n",
    "visits = pd.read_csv('/datasets/visits_us.csv')"
   ]
  },
  {
   "cell_type": "markdown",
   "metadata": {},
   "source": [
    "<div class=\"alert alert-block alert-success\">\n",
    "<b>Comentario del revisor</b> <a class=\"tocSkip\"></a>\n",
    "\n",
    "Excelente trabajo importanto las bases de datos y las librerias necesarias para el ejercicio</div>"
   ]
  },
  {
   "cell_type": "markdown",
   "metadata": {},
   "source": [
    "# Primera parte del proyecto: Priorización de Hipótesis"
   ]
  },
  {
   "cell_type": "code",
   "execution_count": 3,
   "metadata": {},
   "outputs": [
    {
     "data": {
      "text/html": [
       "<div>\n",
       "<style scoped>\n",
       "    .dataframe tbody tr th:only-of-type {\n",
       "        vertical-align: middle;\n",
       "    }\n",
       "\n",
       "    .dataframe tbody tr th {\n",
       "        vertical-align: top;\n",
       "    }\n",
       "\n",
       "    .dataframe thead th {\n",
       "        text-align: right;\n",
       "    }\n",
       "</style>\n",
       "<table border=\"1\" class=\"dataframe\">\n",
       "  <thead>\n",
       "    <tr style=\"text-align: right;\">\n",
       "      <th></th>\n",
       "      <th>Hypothesis</th>\n",
       "      <th>Reach</th>\n",
       "      <th>Impact</th>\n",
       "      <th>Confidence</th>\n",
       "      <th>Effort</th>\n",
       "    </tr>\n",
       "  </thead>\n",
       "  <tbody>\n",
       "    <tr>\n",
       "      <th>0</th>\n",
       "      <td>Add two new channels for attracting traffic. T...</td>\n",
       "      <td>3</td>\n",
       "      <td>10</td>\n",
       "      <td>8</td>\n",
       "      <td>6</td>\n",
       "    </tr>\n",
       "    <tr>\n",
       "      <th>1</th>\n",
       "      <td>Launch your own delivery service. This will sh...</td>\n",
       "      <td>2</td>\n",
       "      <td>5</td>\n",
       "      <td>4</td>\n",
       "      <td>10</td>\n",
       "    </tr>\n",
       "    <tr>\n",
       "      <th>2</th>\n",
       "      <td>Add product recommendation blocks to the store...</td>\n",
       "      <td>8</td>\n",
       "      <td>3</td>\n",
       "      <td>7</td>\n",
       "      <td>3</td>\n",
       "    </tr>\n",
       "    <tr>\n",
       "      <th>3</th>\n",
       "      <td>Change the category structure. This will incre...</td>\n",
       "      <td>8</td>\n",
       "      <td>3</td>\n",
       "      <td>3</td>\n",
       "      <td>8</td>\n",
       "    </tr>\n",
       "    <tr>\n",
       "      <th>4</th>\n",
       "      <td>Change the background color on the main page. ...</td>\n",
       "      <td>3</td>\n",
       "      <td>1</td>\n",
       "      <td>1</td>\n",
       "      <td>1</td>\n",
       "    </tr>\n",
       "    <tr>\n",
       "      <th>5</th>\n",
       "      <td>Add a customer review page. This will increase...</td>\n",
       "      <td>3</td>\n",
       "      <td>2</td>\n",
       "      <td>2</td>\n",
       "      <td>3</td>\n",
       "    </tr>\n",
       "    <tr>\n",
       "      <th>6</th>\n",
       "      <td>Show banners with current offers and sales on ...</td>\n",
       "      <td>5</td>\n",
       "      <td>3</td>\n",
       "      <td>8</td>\n",
       "      <td>3</td>\n",
       "    </tr>\n",
       "    <tr>\n",
       "      <th>7</th>\n",
       "      <td>Add a subscription form to all the main pages....</td>\n",
       "      <td>10</td>\n",
       "      <td>7</td>\n",
       "      <td>8</td>\n",
       "      <td>5</td>\n",
       "    </tr>\n",
       "    <tr>\n",
       "      <th>8</th>\n",
       "      <td>Launch a promotion that gives users discounts ...</td>\n",
       "      <td>1</td>\n",
       "      <td>9</td>\n",
       "      <td>9</td>\n",
       "      <td>5</td>\n",
       "    </tr>\n",
       "  </tbody>\n",
       "</table>\n",
       "</div>"
      ],
      "text/plain": [
       "                                          Hypothesis  Reach  Impact  \\\n",
       "0  Add two new channels for attracting traffic. T...      3      10   \n",
       "1  Launch your own delivery service. This will sh...      2       5   \n",
       "2  Add product recommendation blocks to the store...      8       3   \n",
       "3  Change the category structure. This will incre...      8       3   \n",
       "4  Change the background color on the main page. ...      3       1   \n",
       "5  Add a customer review page. This will increase...      3       2   \n",
       "6  Show banners with current offers and sales on ...      5       3   \n",
       "7  Add a subscription form to all the main pages....     10       7   \n",
       "8  Launch a promotion that gives users discounts ...      1       9   \n",
       "\n",
       "   Confidence  Effort  \n",
       "0           8       6  \n",
       "1           4      10  \n",
       "2           7       3  \n",
       "3           3       8  \n",
       "4           1       1  \n",
       "5           2       3  \n",
       "6           8       3  \n",
       "7           8       5  \n",
       "8           9       5  "
      ]
     },
     "execution_count": 3,
     "metadata": {},
     "output_type": "execute_result"
    }
   ],
   "source": [
    "#Analisamos los datos que tenemos\n",
    "hypothesis\n"
   ]
  },
  {
   "cell_type": "code",
   "execution_count": 4,
   "metadata": {},
   "outputs": [
    {
     "data": {
      "text/html": [
       "<div>\n",
       "<style scoped>\n",
       "    .dataframe tbody tr th:only-of-type {\n",
       "        vertical-align: middle;\n",
       "    }\n",
       "\n",
       "    .dataframe tbody tr th {\n",
       "        vertical-align: top;\n",
       "    }\n",
       "\n",
       "    .dataframe thead th {\n",
       "        text-align: right;\n",
       "    }\n",
       "</style>\n",
       "<table border=\"1\" class=\"dataframe\">\n",
       "  <thead>\n",
       "    <tr style=\"text-align: right;\">\n",
       "      <th></th>\n",
       "      <th>Hypothesis</th>\n",
       "      <th>Reach</th>\n",
       "      <th>Impact</th>\n",
       "      <th>Confidence</th>\n",
       "      <th>Effort</th>\n",
       "      <th>ice</th>\n",
       "    </tr>\n",
       "  </thead>\n",
       "  <tbody>\n",
       "    <tr>\n",
       "      <th>8</th>\n",
       "      <td>Launch a promotion that gives users discounts ...</td>\n",
       "      <td>1</td>\n",
       "      <td>9</td>\n",
       "      <td>9</td>\n",
       "      <td>5</td>\n",
       "      <td>16.200000</td>\n",
       "    </tr>\n",
       "    <tr>\n",
       "      <th>0</th>\n",
       "      <td>Add two new channels for attracting traffic. T...</td>\n",
       "      <td>3</td>\n",
       "      <td>10</td>\n",
       "      <td>8</td>\n",
       "      <td>6</td>\n",
       "      <td>13.333333</td>\n",
       "    </tr>\n",
       "    <tr>\n",
       "      <th>7</th>\n",
       "      <td>Add a subscription form to all the main pages....</td>\n",
       "      <td>10</td>\n",
       "      <td>7</td>\n",
       "      <td>8</td>\n",
       "      <td>5</td>\n",
       "      <td>11.200000</td>\n",
       "    </tr>\n",
       "    <tr>\n",
       "      <th>6</th>\n",
       "      <td>Show banners with current offers and sales on ...</td>\n",
       "      <td>5</td>\n",
       "      <td>3</td>\n",
       "      <td>8</td>\n",
       "      <td>3</td>\n",
       "      <td>8.000000</td>\n",
       "    </tr>\n",
       "    <tr>\n",
       "      <th>2</th>\n",
       "      <td>Add product recommendation blocks to the store...</td>\n",
       "      <td>8</td>\n",
       "      <td>3</td>\n",
       "      <td>7</td>\n",
       "      <td>3</td>\n",
       "      <td>7.000000</td>\n",
       "    </tr>\n",
       "    <tr>\n",
       "      <th>1</th>\n",
       "      <td>Launch your own delivery service. This will sh...</td>\n",
       "      <td>2</td>\n",
       "      <td>5</td>\n",
       "      <td>4</td>\n",
       "      <td>10</td>\n",
       "      <td>2.000000</td>\n",
       "    </tr>\n",
       "    <tr>\n",
       "      <th>5</th>\n",
       "      <td>Add a customer review page. This will increase...</td>\n",
       "      <td>3</td>\n",
       "      <td>2</td>\n",
       "      <td>2</td>\n",
       "      <td>3</td>\n",
       "      <td>1.333333</td>\n",
       "    </tr>\n",
       "    <tr>\n",
       "      <th>3</th>\n",
       "      <td>Change the category structure. This will incre...</td>\n",
       "      <td>8</td>\n",
       "      <td>3</td>\n",
       "      <td>3</td>\n",
       "      <td>8</td>\n",
       "      <td>1.125000</td>\n",
       "    </tr>\n",
       "    <tr>\n",
       "      <th>4</th>\n",
       "      <td>Change the background color on the main page. ...</td>\n",
       "      <td>3</td>\n",
       "      <td>1</td>\n",
       "      <td>1</td>\n",
       "      <td>1</td>\n",
       "      <td>1.000000</td>\n",
       "    </tr>\n",
       "  </tbody>\n",
       "</table>\n",
       "</div>"
      ],
      "text/plain": [
       "                                          Hypothesis  Reach  Impact  \\\n",
       "8  Launch a promotion that gives users discounts ...      1       9   \n",
       "0  Add two new channels for attracting traffic. T...      3      10   \n",
       "7  Add a subscription form to all the main pages....     10       7   \n",
       "6  Show banners with current offers and sales on ...      5       3   \n",
       "2  Add product recommendation blocks to the store...      8       3   \n",
       "1  Launch your own delivery service. This will sh...      2       5   \n",
       "5  Add a customer review page. This will increase...      3       2   \n",
       "3  Change the category structure. This will incre...      8       3   \n",
       "4  Change the background color on the main page. ...      3       1   \n",
       "\n",
       "   Confidence  Effort        ice  \n",
       "8           9       5  16.200000  \n",
       "0           8       6  13.333333  \n",
       "7           8       5  11.200000  \n",
       "6           8       3   8.000000  \n",
       "2           7       3   7.000000  \n",
       "1           4      10   2.000000  \n",
       "5           2       3   1.333333  \n",
       "3           3       8   1.125000  \n",
       "4           1       1   1.000000  "
      ]
     },
     "execution_count": 4,
     "metadata": {},
     "output_type": "execute_result"
    }
   ],
   "source": [
    "\n",
    "hypothesis['ice'] = (hypothesis['Impact'] * hypothesis['Confidence']) / hypothesis['Effort']\n",
    "hypothesis = hypothesis.sort_values(by ='ice',ascending=False)\n",
    "hypothesis\n",
    "\n",
    "\n"
   ]
  },
  {
   "cell_type": "code",
   "execution_count": 5,
   "metadata": {},
   "outputs": [
    {
     "data": {
      "text/html": [
       "<div>\n",
       "<style scoped>\n",
       "    .dataframe tbody tr th:only-of-type {\n",
       "        vertical-align: middle;\n",
       "    }\n",
       "\n",
       "    .dataframe tbody tr th {\n",
       "        vertical-align: top;\n",
       "    }\n",
       "\n",
       "    .dataframe thead th {\n",
       "        text-align: right;\n",
       "    }\n",
       "</style>\n",
       "<table border=\"1\" class=\"dataframe\">\n",
       "  <thead>\n",
       "    <tr style=\"text-align: right;\">\n",
       "      <th></th>\n",
       "      <th>Hypothesis</th>\n",
       "      <th>Reach</th>\n",
       "      <th>Impact</th>\n",
       "      <th>Confidence</th>\n",
       "      <th>Effort</th>\n",
       "      <th>ice</th>\n",
       "      <th>Rice</th>\n",
       "    </tr>\n",
       "  </thead>\n",
       "  <tbody>\n",
       "    <tr>\n",
       "      <th>7</th>\n",
       "      <td>Add a subscription form to all the main pages....</td>\n",
       "      <td>10</td>\n",
       "      <td>7</td>\n",
       "      <td>8</td>\n",
       "      <td>5</td>\n",
       "      <td>11.200000</td>\n",
       "      <td>112.0</td>\n",
       "    </tr>\n",
       "    <tr>\n",
       "      <th>2</th>\n",
       "      <td>Add product recommendation blocks to the store...</td>\n",
       "      <td>8</td>\n",
       "      <td>3</td>\n",
       "      <td>7</td>\n",
       "      <td>3</td>\n",
       "      <td>7.000000</td>\n",
       "      <td>56.0</td>\n",
       "    </tr>\n",
       "    <tr>\n",
       "      <th>0</th>\n",
       "      <td>Add two new channels for attracting traffic. T...</td>\n",
       "      <td>3</td>\n",
       "      <td>10</td>\n",
       "      <td>8</td>\n",
       "      <td>6</td>\n",
       "      <td>13.333333</td>\n",
       "      <td>40.0</td>\n",
       "    </tr>\n",
       "    <tr>\n",
       "      <th>6</th>\n",
       "      <td>Show banners with current offers and sales on ...</td>\n",
       "      <td>5</td>\n",
       "      <td>3</td>\n",
       "      <td>8</td>\n",
       "      <td>3</td>\n",
       "      <td>8.000000</td>\n",
       "      <td>40.0</td>\n",
       "    </tr>\n",
       "    <tr>\n",
       "      <th>8</th>\n",
       "      <td>Launch a promotion that gives users discounts ...</td>\n",
       "      <td>1</td>\n",
       "      <td>9</td>\n",
       "      <td>9</td>\n",
       "      <td>5</td>\n",
       "      <td>16.200000</td>\n",
       "      <td>16.2</td>\n",
       "    </tr>\n",
       "    <tr>\n",
       "      <th>3</th>\n",
       "      <td>Change the category structure. This will incre...</td>\n",
       "      <td>8</td>\n",
       "      <td>3</td>\n",
       "      <td>3</td>\n",
       "      <td>8</td>\n",
       "      <td>1.125000</td>\n",
       "      <td>9.0</td>\n",
       "    </tr>\n",
       "    <tr>\n",
       "      <th>1</th>\n",
       "      <td>Launch your own delivery service. This will sh...</td>\n",
       "      <td>2</td>\n",
       "      <td>5</td>\n",
       "      <td>4</td>\n",
       "      <td>10</td>\n",
       "      <td>2.000000</td>\n",
       "      <td>4.0</td>\n",
       "    </tr>\n",
       "    <tr>\n",
       "      <th>5</th>\n",
       "      <td>Add a customer review page. This will increase...</td>\n",
       "      <td>3</td>\n",
       "      <td>2</td>\n",
       "      <td>2</td>\n",
       "      <td>3</td>\n",
       "      <td>1.333333</td>\n",
       "      <td>4.0</td>\n",
       "    </tr>\n",
       "    <tr>\n",
       "      <th>4</th>\n",
       "      <td>Change the background color on the main page. ...</td>\n",
       "      <td>3</td>\n",
       "      <td>1</td>\n",
       "      <td>1</td>\n",
       "      <td>1</td>\n",
       "      <td>1.000000</td>\n",
       "      <td>3.0</td>\n",
       "    </tr>\n",
       "  </tbody>\n",
       "</table>\n",
       "</div>"
      ],
      "text/plain": [
       "                                          Hypothesis  Reach  Impact  \\\n",
       "7  Add a subscription form to all the main pages....     10       7   \n",
       "2  Add product recommendation blocks to the store...      8       3   \n",
       "0  Add two new channels for attracting traffic. T...      3      10   \n",
       "6  Show banners with current offers and sales on ...      5       3   \n",
       "8  Launch a promotion that gives users discounts ...      1       9   \n",
       "3  Change the category structure. This will incre...      8       3   \n",
       "1  Launch your own delivery service. This will sh...      2       5   \n",
       "5  Add a customer review page. This will increase...      3       2   \n",
       "4  Change the background color on the main page. ...      3       1   \n",
       "\n",
       "   Confidence  Effort        ice   Rice  \n",
       "7           8       5  11.200000  112.0  \n",
       "2           7       3   7.000000   56.0  \n",
       "0           8       6  13.333333   40.0  \n",
       "6           8       3   8.000000   40.0  \n",
       "8           9       5  16.200000   16.2  \n",
       "3           3       8   1.125000    9.0  \n",
       "1           4      10   2.000000    4.0  \n",
       "5           2       3   1.333333    4.0  \n",
       "4           1       1   1.000000    3.0  "
      ]
     },
     "execution_count": 5,
     "metadata": {},
     "output_type": "execute_result"
    }
   ],
   "source": [
    "#Aplicamos ahora el framework 'rice' para comparar los resultados.\n",
    "hypothesis['Rice'] = (hypothesis['Reach'] * hypothesis['Impact'] * hypothesis['Confidence']) / hypothesis['Effort']\n",
    "hypothesis = hypothesis.sort_values(by ='Rice',ascending=False)\n",
    "hypothesis\n"
   ]
  },
  {
   "cell_type": "code",
   "execution_count": 6,
   "metadata": {},
   "outputs": [
    {
     "data": {
      "text/plain": [
       "<AxesSubplot:xlabel='Rice', ylabel='ice'>"
      ]
     },
     "execution_count": 6,
     "metadata": {},
     "output_type": "execute_result"
    },
    {
     "data": {
      "image/png": "[encoded data removed]",
      "text/plain": [
       "<Figure size 640x480 with 1 Axes>"
      ]
     },
     "metadata": {},
     "output_type": "display_data"
    }
   ],
   "source": [
    "#Realizamos una visualización con grafica de dispersion para ver que hipótesis es la mejor.\n",
    "hypothesis.plot(kind='scatter',\n",
    "               x='Rice',\n",
    "               y='ice')"
   ]
  },
  {
   "cell_type": "markdown",
   "metadata": {},
   "source": [
    "Conclusion: Elegimos la hipotesis 7 de 'Add a subscription form to all the main pages' como la mas prometedora debido a que tiene un alto nivel tanto de ice que mide el impacto, confianza y esfuerzo o facilidad) como de riceque mide el alcance, el impacto, la confianza y el esfuerzo. Ademas de que no requiere de tanto effort para llevarlo acabo(5) y de que el reach es tambien alto. "
   ]
  },
  {
   "cell_type": "markdown",
   "metadata": {},
   "source": [
    "<div class=\"alert alert-block alert-success\">\n",
    "<b>Comentario del revisor</b> <a class=\"tocSkip\"></a>\n",
    "\n",
    "Perfecto, Dussand. Excelente trabajo aplicando, analizando y comparando los frameworks RICE e ICE. Además, hiciste un excelente trabajo desarrollando un análisis de los hallazgos para la priorización de las hipótesis.  </div>"
   ]
  },
  {
   "cell_type": "markdown",
   "metadata": {},
   "source": [
    "# Segunda Parte"
   ]
  },
  {
   "cell_type": "code",
   "execution_count": 7,
   "metadata": {},
   "outputs": [
    {
     "name": "stdout",
     "output_type": "stream",
     "text": [
      "<class 'pandas.core.frame.DataFrame'>\n",
      "RangeIndex: 1197 entries, 0 to 1196\n",
      "Data columns (total 5 columns):\n",
      " #   Column         Non-Null Count  Dtype  \n",
      "---  ------         --------------  -----  \n",
      " 0   transactionId  1197 non-null   int64  \n",
      " 1   visitorId      1197 non-null   int64  \n",
      " 2   date           1197 non-null   object \n",
      " 3   revenue        1197 non-null   float64\n",
      " 4   group          1197 non-null   object \n",
      "dtypes: float64(1), int64(2), object(2)\n",
      "memory usage: 46.9+ KB\n"
     ]
    }
   ],
   "source": [
    "\n",
    "#Leemos los datasets\n",
    "orders.info()"
   ]
  },
  {
   "cell_type": "code",
   "execution_count": 8,
   "metadata": {},
   "outputs": [
    {
     "data": {
      "text/plain": [
       "0"
      ]
     },
     "execution_count": 8,
     "metadata": {},
     "output_type": "execute_result"
    }
   ],
   "source": [
    "#No encontramos duplicados\n",
    "orders.duplicated().sum()"
   ]
  },
  {
   "cell_type": "code",
   "execution_count": 9,
   "metadata": {},
   "outputs": [
    {
     "data": {
      "text/plain": [
       "count     1197.000000\n",
       "mean       131.491646\n",
       "std        603.004729\n",
       "min          5.000000\n",
       "25%         20.800000\n",
       "50%         50.200000\n",
       "75%        130.400000\n",
       "90%        282.480000\n",
       "95%        435.540000\n",
       "99%        900.904000\n",
       "max      19920.400000\n",
       "Name: revenue, dtype: float64"
      ]
     },
     "execution_count": 9,
     "metadata": {},
     "output_type": "execute_result"
    }
   ],
   "source": [
    "orders['revenue'].describe(percentiles =[0.25,0.5,0.75,0.90,0.95,0.99])"
   ]
  },
  {
   "cell_type": "code",
   "execution_count": 10,
   "metadata": {},
   "outputs": [
    {
     "data": {
      "text/plain": [
       "<AxesSubplot:ylabel='Frequency'>"
      ]
     },
     "execution_count": 10,
     "metadata": {},
     "output_type": "execute_result"
    },
    {
     "data": {
      "image/png": "[encoded data removed]",
      "text/plain": [
       "<Figure size 640x480 with 1 Axes>"
      ]
     },
     "metadata": {},
     "output_type": "display_data"
    }
   ],
   "source": [
    "orders['revenue'].plot.hist(bins = 50)"
   ]
  },
  {
   "cell_type": "code",
   "execution_count": 11,
   "metadata": {},
   "outputs": [
    {
     "data": {
      "text/html": [
       "<div>\n",
       "<style scoped>\n",
       "    .dataframe tbody tr th:only-of-type {\n",
       "        vertical-align: middle;\n",
       "    }\n",
       "\n",
       "    .dataframe tbody tr th {\n",
       "        vertical-align: top;\n",
       "    }\n",
       "\n",
       "    .dataframe thead th {\n",
       "        text-align: right;\n",
       "    }\n",
       "</style>\n",
       "<table border=\"1\" class=\"dataframe\">\n",
       "  <thead>\n",
       "    <tr style=\"text-align: right;\">\n",
       "      <th></th>\n",
       "      <th>date</th>\n",
       "      <th>group</th>\n",
       "      <th>visits</th>\n",
       "    </tr>\n",
       "  </thead>\n",
       "  <tbody>\n",
       "    <tr>\n",
       "      <th>0</th>\n",
       "      <td>2019-08-01</td>\n",
       "      <td>A</td>\n",
       "      <td>719</td>\n",
       "    </tr>\n",
       "    <tr>\n",
       "      <th>1</th>\n",
       "      <td>2019-08-02</td>\n",
       "      <td>A</td>\n",
       "      <td>619</td>\n",
       "    </tr>\n",
       "    <tr>\n",
       "      <th>2</th>\n",
       "      <td>2019-08-03</td>\n",
       "      <td>A</td>\n",
       "      <td>507</td>\n",
       "    </tr>\n",
       "    <tr>\n",
       "      <th>3</th>\n",
       "      <td>2019-08-04</td>\n",
       "      <td>A</td>\n",
       "      <td>717</td>\n",
       "    </tr>\n",
       "    <tr>\n",
       "      <th>4</th>\n",
       "      <td>2019-08-05</td>\n",
       "      <td>A</td>\n",
       "      <td>756</td>\n",
       "    </tr>\n",
       "    <tr>\n",
       "      <th>...</th>\n",
       "      <td>...</td>\n",
       "      <td>...</td>\n",
       "      <td>...</td>\n",
       "    </tr>\n",
       "    <tr>\n",
       "      <th>57</th>\n",
       "      <td>2019-08-27</td>\n",
       "      <td>B</td>\n",
       "      <td>720</td>\n",
       "    </tr>\n",
       "    <tr>\n",
       "      <th>58</th>\n",
       "      <td>2019-08-28</td>\n",
       "      <td>B</td>\n",
       "      <td>654</td>\n",
       "    </tr>\n",
       "    <tr>\n",
       "      <th>59</th>\n",
       "      <td>2019-08-29</td>\n",
       "      <td>B</td>\n",
       "      <td>531</td>\n",
       "    </tr>\n",
       "    <tr>\n",
       "      <th>60</th>\n",
       "      <td>2019-08-30</td>\n",
       "      <td>B</td>\n",
       "      <td>490</td>\n",
       "    </tr>\n",
       "    <tr>\n",
       "      <th>61</th>\n",
       "      <td>2019-08-31</td>\n",
       "      <td>B</td>\n",
       "      <td>718</td>\n",
       "    </tr>\n",
       "  </tbody>\n",
       "</table>\n",
       "<p>62 rows × 3 columns</p>\n",
       "</div>"
      ],
      "text/plain": [
       "          date group  visits\n",
       "0   2019-08-01     A     719\n",
       "1   2019-08-02     A     619\n",
       "2   2019-08-03     A     507\n",
       "3   2019-08-04     A     717\n",
       "4   2019-08-05     A     756\n",
       "..         ...   ...     ...\n",
       "57  2019-08-27     B     720\n",
       "58  2019-08-28     B     654\n",
       "59  2019-08-29     B     531\n",
       "60  2019-08-30     B     490\n",
       "61  2019-08-31     B     718\n",
       "\n",
       "[62 rows x 3 columns]"
      ]
     },
     "execution_count": 11,
     "metadata": {},
     "output_type": "execute_result"
    }
   ],
   "source": [
    "visits"
   ]
  },
  {
   "cell_type": "code",
   "execution_count": 12,
   "metadata": {},
   "outputs": [
    {
     "name": "stdout",
     "output_type": "stream",
     "text": [
      "<class 'pandas.core.frame.DataFrame'>\n",
      "RangeIndex: 62 entries, 0 to 61\n",
      "Data columns (total 3 columns):\n",
      " #   Column  Non-Null Count  Dtype \n",
      "---  ------  --------------  ----- \n",
      " 0   date    62 non-null     object\n",
      " 1   group   62 non-null     object\n",
      " 2   visits  62 non-null     int64 \n",
      "dtypes: int64(1), object(2)\n",
      "memory usage: 1.6+ KB\n"
     ]
    }
   ],
   "source": [
    "visits.info()"
   ]
  },
  {
   "cell_type": "code",
   "execution_count": 13,
   "metadata": {},
   "outputs": [
    {
     "data": {
      "text/html": [
       "<div>\n",
       "<style scoped>\n",
       "    .dataframe tbody tr th:only-of-type {\n",
       "        vertical-align: middle;\n",
       "    }\n",
       "\n",
       "    .dataframe tbody tr th {\n",
       "        vertical-align: top;\n",
       "    }\n",
       "\n",
       "    .dataframe thead th {\n",
       "        text-align: right;\n",
       "    }\n",
       "</style>\n",
       "<table border=\"1\" class=\"dataframe\">\n",
       "  <thead>\n",
       "    <tr style=\"text-align: right;\">\n",
       "      <th></th>\n",
       "      <th>visits</th>\n",
       "    </tr>\n",
       "  </thead>\n",
       "  <tbody>\n",
       "    <tr>\n",
       "      <th>count</th>\n",
       "      <td>62.000000</td>\n",
       "    </tr>\n",
       "    <tr>\n",
       "      <th>mean</th>\n",
       "      <td>607.290323</td>\n",
       "    </tr>\n",
       "    <tr>\n",
       "      <th>std</th>\n",
       "      <td>114.400560</td>\n",
       "    </tr>\n",
       "    <tr>\n",
       "      <th>min</th>\n",
       "      <td>361.000000</td>\n",
       "    </tr>\n",
       "    <tr>\n",
       "      <th>25%</th>\n",
       "      <td>534.000000</td>\n",
       "    </tr>\n",
       "    <tr>\n",
       "      <th>50%</th>\n",
       "      <td>624.500000</td>\n",
       "    </tr>\n",
       "    <tr>\n",
       "      <th>75%</th>\n",
       "      <td>710.500000</td>\n",
       "    </tr>\n",
       "    <tr>\n",
       "      <th>max</th>\n",
       "      <td>770.000000</td>\n",
       "    </tr>\n",
       "  </tbody>\n",
       "</table>\n",
       "</div>"
      ],
      "text/plain": [
       "           visits\n",
       "count   62.000000\n",
       "mean   607.290323\n",
       "std    114.400560\n",
       "min    361.000000\n",
       "25%    534.000000\n",
       "50%    624.500000\n",
       "75%    710.500000\n",
       "max    770.000000"
      ]
     },
     "execution_count": 13,
     "metadata": {},
     "output_type": "execute_result"
    }
   ],
   "source": [
    "visits.describe()"
   ]
  },
  {
   "cell_type": "code",
   "execution_count": 14,
   "metadata": {},
   "outputs": [
    {
     "name": "stdout",
     "output_type": "stream",
     "text": [
      "<class 'pandas.core.frame.DataFrame'>\n",
      "Int64Index: 1016 entries, 0 to 1196\n",
      "Data columns (total 5 columns):\n",
      " #   Column         Non-Null Count  Dtype  \n",
      "---  ------         --------------  -----  \n",
      " 0   transactionId  1016 non-null   int64  \n",
      " 1   visitorId      1016 non-null   int64  \n",
      " 2   date           1016 non-null   object \n",
      " 3   revenue        1016 non-null   float64\n",
      " 4   group          1016 non-null   object \n",
      "dtypes: float64(1), int64(2), object(2)\n",
      "memory usage: 47.6+ KB\n"
     ]
    }
   ],
   "source": [
    "#Buscamos si hay usuarios o visitantes que estan en ambos grupos de la prueba.\n",
    "visits_a = orders[orders['group'] == 'A']['visitorId']\n",
    "visits_b = orders[orders['group'] == 'B']['visitorId']\n",
    "duplicated_visitors = pd.Series(list(set(visits_a) & set(visits_b)))\n",
    "duplicated_visitors\n",
    "orders= orders[~orders['visitorId'].isin(duplicated_visitors)]\n",
    "\n",
    "orders.info()"
   ]
  },
  {
   "cell_type": "markdown",
   "metadata": {},
   "source": [
    "Podemos ver que los usuarios que se encontraban tanto en A como en B han sido eliminados"
   ]
  },
  {
   "cell_type": "markdown",
   "metadata": {},
   "source": [
    "Representa gráficamente el ingreso acumulado por grupo. Haz conclusiones y conjeturas.\n"
   ]
  },
  {
   "cell_type": "code",
   "execution_count": 15,
   "metadata": {},
   "outputs": [
    {
     "data": {
      "text/plain": [
       "group\n",
       "A    53212.0\n",
       "B    79651.2\n",
       "Name: revenue, dtype: float64"
      ]
     },
     "execution_count": 15,
     "metadata": {},
     "output_type": "execute_result"
    }
   ],
   "source": [
    "\n",
    "orders.groupby('group')['revenue'].sum()\n"
   ]
  },
  {
   "cell_type": "code",
   "execution_count": 16,
   "metadata": {},
   "outputs": [
    {
     "data": {
      "text/html": [
       "<div>\n",
       "<style scoped>\n",
       "    .dataframe tbody tr th:only-of-type {\n",
       "        vertical-align: middle;\n",
       "    }\n",
       "\n",
       "    .dataframe tbody tr th {\n",
       "        vertical-align: top;\n",
       "    }\n",
       "\n",
       "    .dataframe thead th {\n",
       "        text-align: right;\n",
       "    }\n",
       "</style>\n",
       "<table border=\"1\" class=\"dataframe\">\n",
       "  <thead>\n",
       "    <tr style=\"text-align: right;\">\n",
       "      <th></th>\n",
       "      <th>date</th>\n",
       "      <th>group</th>\n",
       "      <th>revenue</th>\n",
       "      <th>cumulative_revenue</th>\n",
       "    </tr>\n",
       "  </thead>\n",
       "  <tbody>\n",
       "    <tr>\n",
       "      <th>0</th>\n",
       "      <td>2019-08-01</td>\n",
       "      <td>A</td>\n",
       "      <td>2266.6</td>\n",
       "      <td>2266.6</td>\n",
       "    </tr>\n",
       "    <tr>\n",
       "      <th>1</th>\n",
       "      <td>2019-08-01</td>\n",
       "      <td>B</td>\n",
       "      <td>967.2</td>\n",
       "      <td>967.2</td>\n",
       "    </tr>\n",
       "    <tr>\n",
       "      <th>2</th>\n",
       "      <td>2019-08-02</td>\n",
       "      <td>A</td>\n",
       "      <td>1468.3</td>\n",
       "      <td>3734.9</td>\n",
       "    </tr>\n",
       "    <tr>\n",
       "      <th>3</th>\n",
       "      <td>2019-08-02</td>\n",
       "      <td>B</td>\n",
       "      <td>2568.1</td>\n",
       "      <td>3535.3</td>\n",
       "    </tr>\n",
       "    <tr>\n",
       "      <th>4</th>\n",
       "      <td>2019-08-03</td>\n",
       "      <td>A</td>\n",
       "      <td>1815.2</td>\n",
       "      <td>5550.1</td>\n",
       "    </tr>\n",
       "  </tbody>\n",
       "</table>\n",
       "</div>"
      ],
      "text/plain": [
       "         date group  revenue  cumulative_revenue\n",
       "0  2019-08-01     A   2266.6              2266.6\n",
       "1  2019-08-01     B    967.2               967.2\n",
       "2  2019-08-02     A   1468.3              3734.9\n",
       "3  2019-08-02     B   2568.1              3535.3\n",
       "4  2019-08-03     A   1815.2              5550.1"
      ]
     },
     "execution_count": 16,
     "metadata": {},
     "output_type": "execute_result"
    }
   ],
   "source": [
    "# Representamos el ingreso acumulado por grupo\n",
    "daily_orders = orders.groupby(['date','group'])['revenue'].sum().reset_index()\n",
    "daily_orders['cumulative_revenue']= (daily_orders\n",
    "             .sort_values(by = 'date')\n",
    "             .groupby('group')\n",
    "             .agg({'revenue':'cumsum'})\n",
    "                   )\n",
    "daily_orders.head()\n"
   ]
  },
  {
   "cell_type": "code",
   "execution_count": 17,
   "metadata": {},
   "outputs": [
    {
     "data": {
      "image/png": "[encoded data removed]",
      "text/plain": [
       "<Figure size 640x480 with 1 Axes>"
      ]
     },
     "metadata": {},
     "output_type": "display_data"
    }
   ],
   "source": [
    "# Visualizamos el ingreso acumulado por grupo\n",
    "daily_orders.pivot_table(\n",
    "    index= 'date',\n",
    "    columns = 'group',\n",
    "    values = 'cumulative_revenue',\n",
    "    aggfunc = 'mean'\n",
    ").plot(kind = 'line')\n",
    "plt.gca().tick_params(axis = 'x',rotation = 45)"
   ]
  },
  {
   "cell_type": "markdown",
   "metadata": {},
   "source": [
    "Podemos ver que el grupo B tuvo un incremento en sus ganancias acumuladas por casi 30,000, sin embargo entre el 16 y el 21 de Agosto, notamos un aumento significativo en  los ingresos acumulados del grupo experimental, lo que nos puedellevar a pensar que estamos tomando datos de usuarios antes de que se realizo el experimento."
   ]
  },
  {
   "cell_type": "markdown",
   "metadata": {},
   "source": [
    "<div class=\"alert alert-block alert-success\">\n",
    "<b>Comentario del revisor</b> <a class=\"tocSkip\"></a>\n",
    "\n",
    "Perfecto, gran trabajo con el desarrollo y análisis del gráfico de los ingresos acumulados por grupo.   </div>"
   ]
  },
  {
   "cell_type": "code",
   "execution_count": 18,
   "metadata": {},
   "outputs": [
    {
     "data": {
      "text/html": [
       "<div>\n",
       "<style scoped>\n",
       "    .dataframe tbody tr th:only-of-type {\n",
       "        vertical-align: middle;\n",
       "    }\n",
       "\n",
       "    .dataframe tbody tr th {\n",
       "        vertical-align: top;\n",
       "    }\n",
       "\n",
       "    .dataframe thead th {\n",
       "        text-align: right;\n",
       "    }\n",
       "</style>\n",
       "<table border=\"1\" class=\"dataframe\">\n",
       "  <thead>\n",
       "    <tr style=\"text-align: right;\">\n",
       "      <th></th>\n",
       "      <th>date</th>\n",
       "      <th>group</th>\n",
       "      <th>n_buyers</th>\n",
       "      <th>revenue</th>\n",
       "    </tr>\n",
       "  </thead>\n",
       "  <tbody>\n",
       "    <tr>\n",
       "      <th>0</th>\n",
       "      <td>2019-08-01</td>\n",
       "      <td>A</td>\n",
       "      <td>19</td>\n",
       "      <td>2266.6</td>\n",
       "    </tr>\n",
       "    <tr>\n",
       "      <th>1</th>\n",
       "      <td>2019-08-01</td>\n",
       "      <td>B</td>\n",
       "      <td>17</td>\n",
       "      <td>967.2</td>\n",
       "    </tr>\n",
       "    <tr>\n",
       "      <th>2</th>\n",
       "      <td>2019-08-02</td>\n",
       "      <td>A</td>\n",
       "      <td>18</td>\n",
       "      <td>1468.3</td>\n",
       "    </tr>\n",
       "    <tr>\n",
       "      <th>3</th>\n",
       "      <td>2019-08-02</td>\n",
       "      <td>B</td>\n",
       "      <td>22</td>\n",
       "      <td>2568.1</td>\n",
       "    </tr>\n",
       "    <tr>\n",
       "      <th>4</th>\n",
       "      <td>2019-08-03</td>\n",
       "      <td>A</td>\n",
       "      <td>24</td>\n",
       "      <td>1815.2</td>\n",
       "    </tr>\n",
       "    <tr>\n",
       "      <th>...</th>\n",
       "      <td>...</td>\n",
       "      <td>...</td>\n",
       "      <td>...</td>\n",
       "      <td>...</td>\n",
       "    </tr>\n",
       "    <tr>\n",
       "      <th>57</th>\n",
       "      <td>2019-08-29</td>\n",
       "      <td>B</td>\n",
       "      <td>15</td>\n",
       "      <td>1681.2</td>\n",
       "    </tr>\n",
       "    <tr>\n",
       "      <th>58</th>\n",
       "      <td>2019-08-30</td>\n",
       "      <td>A</td>\n",
       "      <td>8</td>\n",
       "      <td>1228.9</td>\n",
       "    </tr>\n",
       "    <tr>\n",
       "      <th>59</th>\n",
       "      <td>2019-08-30</td>\n",
       "      <td>B</td>\n",
       "      <td>21</td>\n",
       "      <td>3286.8</td>\n",
       "    </tr>\n",
       "    <tr>\n",
       "      <th>60</th>\n",
       "      <td>2019-08-31</td>\n",
       "      <td>A</td>\n",
       "      <td>8</td>\n",
       "      <td>848.3</td>\n",
       "    </tr>\n",
       "    <tr>\n",
       "      <th>61</th>\n",
       "      <td>2019-08-31</td>\n",
       "      <td>B</td>\n",
       "      <td>17</td>\n",
       "      <td>1787.7</td>\n",
       "    </tr>\n",
       "  </tbody>\n",
       "</table>\n",
       "<p>62 rows × 4 columns</p>\n",
       "</div>"
      ],
      "text/plain": [
       "          date group  n_buyers  revenue\n",
       "0   2019-08-01     A        19   2266.6\n",
       "1   2019-08-01     B        17    967.2\n",
       "2   2019-08-02     A        18   1468.3\n",
       "3   2019-08-02     B        22   2568.1\n",
       "4   2019-08-03     A        24   1815.2\n",
       "..         ...   ...       ...      ...\n",
       "57  2019-08-29     B        15   1681.2\n",
       "58  2019-08-30     A         8   1228.9\n",
       "59  2019-08-30     B        21   3286.8\n",
       "60  2019-08-31     A         8    848.3\n",
       "61  2019-08-31     B        17   1787.7\n",
       "\n",
       "[62 rows x 4 columns]"
      ]
     },
     "execution_count": 18,
     "metadata": {},
     "output_type": "execute_result"
    }
   ],
   "source": [
    "# Sacamos el  tamaño de pedido o ingreso promedio acumulado por grupo. Haz conclusiones y conjeturas.\n",
    "orders_avg = (orders\n",
    "              .groupby(['date','group'])\n",
    "              .agg({'visitorId':'nunique',\n",
    "                    'revenue':'sum'\n",
    "                   })\n",
    "              .reset_index()\n",
    "              .rename(columns={'visitorId':'n_buyers',\n",
    "                              'revenue':'revenue'})\n",
    "             )\n",
    "\n",
    "orders_avg"
   ]
  },
  {
   "cell_type": "code",
   "execution_count": 19,
   "metadata": {},
   "outputs": [
    {
     "data": {
      "image/png": "[encoded data removed]",
      "text/plain": [
       "<Figure size 640x480 with 1 Axes>"
      ]
     },
     "metadata": {},
     "output_type": "display_data"
    }
   ],
   "source": [
    "#sacamos las sumas acumuladas tanto de compradores , como de compra hechas con un groupby y el metodo 'cumsum'()\n",
    "orders_avg['cumulative_buyers'] = orders_avg.sort_values(by = 'date').groupby('group')['n_buyers'].cumsum()\n",
    "orders_avg['cumulative_revenue'] = orders_avg.sort_values(by = 'date').groupby('group')['revenue'].cumsum()\n",
    "#Ahora sacamos el promedio de esas sumas acumuladas que ya hicimos.\n",
    "orders_avg['avg_revenue'] = orders_avg['cumulative_revenue'] / orders_avg['cumulative_buyers']\n",
    "daily_avg_by_group = orders_avg.pivot_table(\n",
    "    index ='date',\n",
    "    columns = 'group',\n",
    "    values = 'avg_revenue'\n",
    ")\n",
    "daily_avg_by_group.plot(kind = 'line')\n",
    "plt.gca().tick_params(axis = 'x',rotation = 45)"
   ]
  },
  {
   "cell_type": "markdown",
   "metadata": {},
   "source": [
    "De igual manera podemos ver que en el ingreso PROMEDIO acumulado, en agosto del 2019 se da notable incremento en el  grupo experimental B"
   ]
  },
  {
   "cell_type": "markdown",
   "metadata": {},
   "source": [
    "<div class=\"alert alert-block alert-success\">\n",
    "<b>Comentario del revisor</b> <a class=\"tocSkip\"></a>\n",
    "\n",
    "Perfecto, gran trabajo con el desarrollo y análisis del gráfico del tamaño de pedido promedio acumulado por grupo..   </div>"
   ]
  },
  {
   "cell_type": "code",
   "execution_count": 20,
   "metadata": {},
   "outputs": [
    {
     "data": {
      "image/png": "[encoded data removed]",
      "text/plain": [
       "<Figure size 640x480 with 1 Axes>"
      ]
     },
     "metadata": {},
     "output_type": "display_data"
    }
   ],
   "source": [
    "#Ahora calculamos el cambio o diferencia relativa de A y b\n",
    "diference_relative =(daily_avg_by_group['B'] / daily_avg_by_group['A']) -1\n",
    "diference_relative.plot(kind = 'line')\n",
    "plt.gca().tick_params(axis = 'x',rotation = 45)"
   ]
  },
  {
   "cell_type": "markdown",
   "metadata": {},
   "source": [
    "Aqui podemos ver como antes del experimento no habia una diferencia y despues del experimento hay una alza en la diferencia relativa del grupo B"
   ]
  },
  {
   "cell_type": "markdown",
   "metadata": {},
   "source": [
    "<div class=\"alert alert-block alert-success\">\n",
    "<b>Comentario del revisor</b> <a class=\"tocSkip\"></a>\n",
    "\n",
    "Perfecto, gran trabajo con el desarrollo y análisis del gráfico de la diferencia relativa en el tamaño de pedido promedio acumulado para el grupo B en comparación con el grupo A  </div>"
   ]
  },
  {
   "cell_type": "markdown",
   "metadata": {},
   "source": [
    "Calcula la tasa de conversión de cada grupo como la relación entre los pedidos y el número de\n",
    "visitas de cada día. Representa gráficamente las tasas de \n",
    "conversión diarias de los dos grupos y describe la diferencia. Saca conclusiones y haz conjeturas."
   ]
  },
  {
   "cell_type": "code",
   "execution_count": 21,
   "metadata": {},
   "outputs": [
    {
     "name": "stdout",
     "output_type": "stream",
     "text": [
      "<class 'pandas.core.frame.DataFrame'>\n",
      "RangeIndex: 62 entries, 0 to 61\n",
      "Data columns (total 3 columns):\n",
      " #   Column  Non-Null Count  Dtype \n",
      "---  ------  --------------  ----- \n",
      " 0   date    62 non-null     object\n",
      " 1   group   62 non-null     object\n",
      " 2   visits  62 non-null     int64 \n",
      "dtypes: int64(1), object(2)\n",
      "memory usage: 1.6+ KB\n"
     ]
    }
   ],
   "source": [
    "visits.info()"
   ]
  },
  {
   "cell_type": "code",
   "execution_count": 24,
   "metadata": {},
   "outputs": [
    {
     "data": {
      "text/html": [
       "<div>\n",
       "<style scoped>\n",
       "    .dataframe tbody tr th:only-of-type {\n",
       "        vertical-align: middle;\n",
       "    }\n",
       "\n",
       "    .dataframe tbody tr th {\n",
       "        vertical-align: top;\n",
       "    }\n",
       "\n",
       "    .dataframe thead th {\n",
       "        text-align: right;\n",
       "    }\n",
       "</style>\n",
       "<table border=\"1\" class=\"dataframe\">\n",
       "  <thead>\n",
       "    <tr style=\"text-align: right;\">\n",
       "      <th></th>\n",
       "      <th>date</th>\n",
       "      <th>group</th>\n",
       "      <th>visits</th>\n",
       "      <th>n_buyers</th>\n",
       "      <th>n_purchases</th>\n",
       "      <th>conversion</th>\n",
       "    </tr>\n",
       "  </thead>\n",
       "  <tbody>\n",
       "    <tr>\n",
       "      <th>0</th>\n",
       "      <td>2019-08-01</td>\n",
       "      <td>A</td>\n",
       "      <td>719</td>\n",
       "      <td>19</td>\n",
       "      <td>23</td>\n",
       "      <td>0.031989</td>\n",
       "    </tr>\n",
       "    <tr>\n",
       "      <th>1</th>\n",
       "      <td>2019-08-02</td>\n",
       "      <td>A</td>\n",
       "      <td>619</td>\n",
       "      <td>18</td>\n",
       "      <td>19</td>\n",
       "      <td>0.030695</td>\n",
       "    </tr>\n",
       "    <tr>\n",
       "      <th>2</th>\n",
       "      <td>2019-08-03</td>\n",
       "      <td>A</td>\n",
       "      <td>507</td>\n",
       "      <td>24</td>\n",
       "      <td>24</td>\n",
       "      <td>0.047337</td>\n",
       "    </tr>\n",
       "    <tr>\n",
       "      <th>3</th>\n",
       "      <td>2019-08-04</td>\n",
       "      <td>A</td>\n",
       "      <td>717</td>\n",
       "      <td>11</td>\n",
       "      <td>11</td>\n",
       "      <td>0.015342</td>\n",
       "    </tr>\n",
       "    <tr>\n",
       "      <th>4</th>\n",
       "      <td>2019-08-05</td>\n",
       "      <td>A</td>\n",
       "      <td>756</td>\n",
       "      <td>22</td>\n",
       "      <td>22</td>\n",
       "      <td>0.029101</td>\n",
       "    </tr>\n",
       "    <tr>\n",
       "      <th>...</th>\n",
       "      <td>...</td>\n",
       "      <td>...</td>\n",
       "      <td>...</td>\n",
       "      <td>...</td>\n",
       "      <td>...</td>\n",
       "      <td>...</td>\n",
       "    </tr>\n",
       "    <tr>\n",
       "      <th>57</th>\n",
       "      <td>2019-08-27</td>\n",
       "      <td>B</td>\n",
       "      <td>720</td>\n",
       "      <td>11</td>\n",
       "      <td>11</td>\n",
       "      <td>0.015278</td>\n",
       "    </tr>\n",
       "    <tr>\n",
       "      <th>58</th>\n",
       "      <td>2019-08-28</td>\n",
       "      <td>B</td>\n",
       "      <td>654</td>\n",
       "      <td>22</td>\n",
       "      <td>22</td>\n",
       "      <td>0.033639</td>\n",
       "    </tr>\n",
       "    <tr>\n",
       "      <th>59</th>\n",
       "      <td>2019-08-29</td>\n",
       "      <td>B</td>\n",
       "      <td>531</td>\n",
       "      <td>15</td>\n",
       "      <td>15</td>\n",
       "      <td>0.028249</td>\n",
       "    </tr>\n",
       "    <tr>\n",
       "      <th>60</th>\n",
       "      <td>2019-08-30</td>\n",
       "      <td>B</td>\n",
       "      <td>490</td>\n",
       "      <td>21</td>\n",
       "      <td>21</td>\n",
       "      <td>0.042857</td>\n",
       "    </tr>\n",
       "    <tr>\n",
       "      <th>61</th>\n",
       "      <td>2019-08-31</td>\n",
       "      <td>B</td>\n",
       "      <td>718</td>\n",
       "      <td>17</td>\n",
       "      <td>17</td>\n",
       "      <td>0.023677</td>\n",
       "    </tr>\n",
       "  </tbody>\n",
       "</table>\n",
       "<p>62 rows × 6 columns</p>\n",
       "</div>"
      ],
      "text/plain": [
       "          date group  visits  n_buyers  n_purchases  conversion\n",
       "0   2019-08-01     A     719        19           23    0.031989\n",
       "1   2019-08-02     A     619        18           19    0.030695\n",
       "2   2019-08-03     A     507        24           24    0.047337\n",
       "3   2019-08-04     A     717        11           11    0.015342\n",
       "4   2019-08-05     A     756        22           22    0.029101\n",
       "..         ...   ...     ...       ...          ...         ...\n",
       "57  2019-08-27     B     720        11           11    0.015278\n",
       "58  2019-08-28     B     654        22           22    0.033639\n",
       "59  2019-08-29     B     531        15           15    0.028249\n",
       "60  2019-08-30     B     490        21           21    0.042857\n",
       "61  2019-08-31     B     718        17           17    0.023677\n",
       "\n",
       "[62 rows x 6 columns]"
      ]
     },
     "execution_count": 24,
     "metadata": {},
     "output_type": "execute_result"
    }
   ],
   "source": [
    "\n",
    "convertion_to_anything = (orders\n",
    "                          .groupby(['date','group'])\n",
    "                          .agg({'visitorId':'nunique',\n",
    "                                             'transactionId':'count'})\n",
    "                          .rename(columns = {'visitorId':'n_buyers',\n",
    "                                            'transactionId':'n_purchases'})\n",
    "                         )\n",
    "# Realizamos un merge entre la tabla visits y convertion_to_anything para sacar la tasa de conversion\n",
    "convertion_group_final= visits.merge(convertion_to_anything,on = ['date','group'], how ='left')\n",
    "\n",
    "convertion_group_final['conversion']= convertion_group_final['n_purchases'] / convertion_group_final['visits']\n",
    "convertion_group_final\n",
    "# convertion_by_group.pivot_table(\n",
    "#     index = 'date',\n",
    "#     columns = 'group',\n",
    "#     values ='conversion'\n",
    "# )"
   ]
  },
  {
   "cell_type": "code",
   "execution_count": 25,
   "metadata": {},
   "outputs": [
    {
     "data": {
      "image/png": "[encoded data removed]",
      "text/plain": [
       "<Figure size 640x480 with 1 Axes>"
      ]
     },
     "metadata": {},
     "output_type": "display_data"
    }
   ],
   "source": [
    "# Realizamos un pivot para graficar el grupo a y el b \n",
    "\n",
    "convertion_group_final.pivot_table(\n",
    "    index = 'date',\n",
    "    columns = 'group',\n",
    "    values ='conversion'\n",
    ").plot(kind = 'line')\n",
    "plt.gca().tick_params(axis = 'x',rotation =45)\n"
   ]
  },
  {
   "cell_type": "code",
   "execution_count": 26,
   "metadata": {},
   "outputs": [
    {
     "data": {
      "image/png": "[encoded data removed]",
      "text/plain": [
       "<Figure size 640x480 with 1 Axes>"
      ]
     },
     "metadata": {},
     "output_type": "display_data"
    }
   ],
   "source": [
    "#Ahora lo hacemos pero con una conversion acumulada\n",
    "convertion_group_final['cumulative_buyers'] = convertion_group_final.sort_values(by = 'date').groupby('group')['n_purchases'].cumsum()\n",
    "convertion_group_final['cumulative_visits'] = convertion_group_final.sort_values(by = 'date').groupby('group')['visits'].cumsum()\n",
    "\n",
    "convertion_group_final['conversion_acumulatived']= convertion_group_final['cumulative_buyers'] / convertion_group_final['cumulative_visits']\n",
    "convertion_group_final\n",
    "convertion_group_final.pivot_table(\n",
    "    index = 'date',\n",
    "    columns = 'group',\n",
    "    values ='conversion_acumulatived'\n",
    ").plot(kind = 'line')\n",
    "plt.gca().tick_params(axis = 'x',rotation =45)"
   ]
  },
  {
   "cell_type": "markdown",
   "metadata": {},
   "source": [
    "<div class=\"alert alert-block alert-success\">\n",
    "<b>Comentario del revisor</b> <a class=\"tocSkip\"></a>\n",
    "\n",
    "Perfecto, buen trabajo con el cálculo y gráfico de la diferencia relativa entre las tasas de conversión diaria por grupo.  </div>"
   ]
  },
  {
   "cell_type": "markdown",
   "metadata": {},
   "source": [
    "Podemos ver en la grafica de conversion acumulada  que la conversion que pasa de que un usuario se convierta en comprador son mas altas en el grupo B, ademas de que apartir de agosto de 2019 , se mantiene estable"
   ]
  },
  {
   "cell_type": "markdown",
   "metadata": {},
   "source": [
    "Traza un gráfico de dispersión del número de pedidos por usuario. Haz conclusiones y conjeturas."
   ]
  },
  {
   "cell_type": "code",
   "execution_count": 27,
   "metadata": {},
   "outputs": [
    {
     "data": {
      "text/plain": [
       "<AxesSubplot:xlabel='visitorId', ylabel='transactionId'>"
      ]
     },
     "execution_count": 27,
     "metadata": {},
     "output_type": "execute_result"
    },
    {
     "data": {
      "image/png": "[encoded data removed]",
      "text/plain": [
       "<Figure size 640x480 with 1 Axes>"
      ]
     },
     "metadata": {},
     "output_type": "display_data"
    }
   ],
   "source": [
    "#Creamos un grafico de dispercion para el numero de pedidos por usuario\n",
    "#Creamos un grafico de dispercion para el numero de pedidos por usuario\n",
    "orders_by_user = orders.groupby('visitorId', as_index=False)['transactionId'].count()\n",
    "orders_by_user.plot(kind= 'scatter', x ='visitorId',  y = 'transactionId')"
   ]
  },
  {
   "cell_type": "markdown",
   "metadata": {},
   "source": [
    "\n",
    "\n",
    "Calcula los percentiles 95 y 99 para el número de pedidos por usuario. Define el punto en el cual un punto de datos se convierte en una anomalía.\n",
    "\n"
   ]
  },
  {
   "cell_type": "code",
   "execution_count": 28,
   "metadata": {},
   "outputs": [
    {
     "name": "stdout",
     "output_type": "stream",
     "text": [
      "[1. 2.]\n"
     ]
    },
    {
     "data": {
      "text/plain": [
       "count    973.000000\n",
       "mean       1.044193\n",
       "std        0.238090\n",
       "min        1.000000\n",
       "25%        1.000000\n",
       "50%        1.000000\n",
       "75%        1.000000\n",
       "95%        1.000000\n",
       "99%        2.000000\n",
       "max        3.000000\n",
       "Name: transactionId, dtype: float64"
      ]
     },
     "execution_count": 28,
     "metadata": {},
     "output_type": "execute_result"
    }
   ],
   "source": [
    "print(np.percentile(orders_by_user['transactionId'], [ 95, 99]))\n",
    "orders_by_user['transactionId'].describe(percentiles=[0.25,0.5,0.75,0.95,0.99])#utilizar el 99 por que no hay gran diferencia en el 95 hacia abajo"
   ]
  },
  {
   "cell_type": "markdown",
   "metadata": {},
   "source": [
    "Traza un gráfico de dispersión de los precios(revenue de los pedidos. Haz conclusiones y conjeturas."
   ]
  },
  {
   "cell_type": "code",
   "execution_count": 29,
   "metadata": {},
   "outputs": [
    {
     "data": {
      "text/plain": [
       "<matplotlib.collections.PathCollection at 0x7fa437f84b20>"
      ]
     },
     "execution_count": 29,
     "metadata": {},
     "output_type": "execute_result"
    },
    {
     "data": {
      "image/png": "[encoded data removed]",
      "text/plain": [
       "<Figure size 640x480 with 1 Axes>"
      ]
     },
     "metadata": {},
     "output_type": "display_data"
    }
   ],
   "source": [
    "x_values = pd.Series(range(0,len(orders['revenue'])))\n",
    "plt.scatter(x_values, orders['revenue'])"
   ]
  },
  {
   "cell_type": "markdown",
   "metadata": {},
   "source": [
    "<div class=\"alert alert-block alert-success\">\n",
    "<b>Comentario del revisor</b> <a class=\"tocSkip\"></a>\n",
    "\n",
    "Excelente, buen trabajo con el grafico desplegado para estudiar la distribución del precio de los pedidos. </div>"
   ]
  },
  {
   "cell_type": "code",
   "execution_count": 30,
   "metadata": {},
   "outputs": [
    {
     "data": {
      "text/plain": [
       "<AxesSubplot:xlabel='transactionId', ylabel='revenue'>"
      ]
     },
     "execution_count": 30,
     "metadata": {},
     "output_type": "execute_result"
    },
    {
     "data": {
      "image/png": "[encoded data removed]",
      "text/plain": [
       "<Figure size 640x480 with 1 Axes>"
      ]
     },
     "metadata": {},
     "output_type": "display_data"
    }
   ],
   "source": [
    "orders.plot(kind= 'scatter', x ='transactionId',  y = 'revenue')"
   ]
  },
  {
   "cell_type": "code",
   "execution_count": 31,
   "metadata": {},
   "outputs": [
    {
     "data": {
      "text/plain": [
       "<AxesSubplot:xlabel='transactionId', ylabel='revenue'>"
      ]
     },
     "execution_count": 31,
     "metadata": {},
     "output_type": "execute_result"
    },
    {
     "data": {
      "image/png": "[encoded data removed]",
      "text/plain": [
       "<Figure size 640x480 with 1 Axes>"
      ]
     },
     "metadata": {},
     "output_type": "display_data"
    }
   ],
   "source": [
    "orders.plot(kind= 'scatter', x ='transactionId',  y = 'revenue',ylim=[0,5000])"
   ]
  },
  {
   "cell_type": "markdown",
   "metadata": {},
   "source": [
    "podemos ver que basado en los percentiles, el 99% de los datos estan abajo de 900, en la grafica si nos situamos en el 900 de eje y, podemos observar que hay varios datos arriba del 99%. sin embarogo este 1 % de datos arriba de 900 no es comparable con el numero de datos que representan el 99% por lo que consideraremos como outliares los valores arriba del 900 en el eje de revenue."
   ]
  },
  {
   "cell_type": "code",
   "execution_count": 32,
   "metadata": {},
   "outputs": [
    {
     "name": "stdout",
     "output_type": "stream",
     "text": [
      "[  414.275   830.3   19920.4  ]\n"
     ]
    },
    {
     "data": {
      "text/plain": [
       "count     1016.000000\n",
       "mean       130.770866\n",
       "std        648.079810\n",
       "min          5.000000\n",
       "25%         20.775000\n",
       "50%         50.100000\n",
       "75%        126.950000\n",
       "95%        414.275000\n",
       "99%        830.300000\n",
       "max      19920.400000\n",
       "Name: revenue, dtype: float64"
      ]
     },
     "execution_count": 32,
     "metadata": {},
     "output_type": "execute_result"
    }
   ],
   "source": [
    "print(np.percentile(orders['revenue'], [ 95, 99,100]))\n",
    "orders['revenue'].describe(percentiles=[0.25,0.5,0.75,0.95,0.99])\n"
   ]
  },
  {
   "cell_type": "code",
   "execution_count": 33,
   "metadata": {},
   "outputs": [
    {
     "data": {
      "text/plain": [
       "0.985459640402054"
      ]
     },
     "execution_count": 33,
     "metadata": {},
     "output_type": "execute_result"
    }
   ],
   "source": [
    "#Realizamos la prueba de Levene para ver si las varianzas son diferentes.\n",
    "from scipy.stats import levene\n",
    "statistic, p_value= levene(\n",
    "    convertion_group_final.query('group == \"A\"')['conversion'],\n",
    "    convertion_group_final.query('group == \"B\"')['conversion']\n",
    "   )\n",
    "p_value"
   ]
  },
  {
   "cell_type": "markdown",
   "metadata": {},
   "source": [
    "No podemos rechazar la hipotesis nula de que las varianzas son iguales. por lo tanto asignaremos el equal_var del ttest en 'True'"
   ]
  },
  {
   "cell_type": "code",
   "execution_count": 34,
   "metadata": {},
   "outputs": [
    {
     "data": {
      "text/plain": [
       "Ttest_indResult(statistic=-1.6925038513866528, pvalue=0.09573715593918651)"
      ]
     },
     "execution_count": 34,
     "metadata": {},
     "output_type": "execute_result"
    }
   ],
   "source": [
    "from scipy.stats import ttest_ind\n",
    "ttest_ind(\n",
    "    convertion_group_final.query('group == \"A\"')['conversion'],\n",
    "    convertion_group_final.query('group == \"B\"')['conversion'],\n",
    "    equal_var =True\n",
    ")\n",
    "\n"
   ]
  },
  {
   "cell_type": "code",
   "execution_count": 35,
   "metadata": {},
   "outputs": [
    {
     "data": {
      "text/plain": [
       "31    0.023843\n",
       "32    0.039587\n",
       "33    0.027505\n",
       "34    0.018182\n",
       "35    0.029703\n",
       "36    0.035115\n",
       "37    0.032440\n",
       "38    0.033639\n",
       "39    0.031148\n",
       "40    0.059621\n",
       "41    0.016644\n",
       "42    0.034991\n",
       "43    0.026008\n",
       "44    0.018767\n",
       "45    0.047794\n",
       "46    0.043584\n",
       "47    0.030879\n",
       "48    0.009498\n",
       "49    0.043121\n",
       "50    0.035714\n",
       "51    0.018293\n",
       "52    0.032308\n",
       "53    0.023810\n",
       "54    0.037037\n",
       "55    0.017673\n",
       "56    0.032544\n",
       "57    0.015278\n",
       "58    0.033639\n",
       "59    0.028249\n",
       "60    0.042857\n",
       "61    0.023677\n",
       "Name: conversion, dtype: float64"
      ]
     },
     "execution_count": 35,
     "metadata": {},
     "output_type": "execute_result"
    }
   ],
   "source": [
    "convertion_group_final.query('group == \"B\"')['conversion']"
   ]
  },
  {
   "cell_type": "markdown",
   "metadata": {},
   "source": [
    "No hay prueba de que la conversion de cada grupo sea estadisticamente significativa"
   ]
  },
  {
   "cell_type": "code",
   "execution_count": null,
   "metadata": {},
   "outputs": [],
   "source": [
    "convertion_group_final"
   ]
  },
  {
   "cell_type": "markdown",
   "metadata": {},
   "source": [
    "Encuentra la significancia estadística de la diferencia en el tamaño promedio de pedido entre los grupos utilizando los datos en bruto. Haz conclusiones y conjeturas.\n",
    "Calcular el revenue promedio por pedido para cada grupo."
   ]
  },
  {
   "cell_type": "code",
   "execution_count": null,
   "metadata": {},
   "outputs": [],
   "source": [
    "group_a_revenue = orders[orders['group'] == 'A']\n",
    "group_b_revenue = orders[orders['group'] == 'B']\n",
    "revenueavg_by_groupA = group_a_revenue.groupby(['transactionId','group'])['revenue'].mean()\n",
    "revenueavg_by_groupB = group_b_revenue.groupby(['transactionId','group'])['revenue'].mean()\n"
   ]
  },
  {
   "cell_type": "code",
   "execution_count": null,
   "metadata": {},
   "outputs": [],
   "source": [
    "#Realizamos la prueba de Levene para ver si las varianzas son diferentes.\n",
    "from scipy.stats import levene\n",
    "statistic, p_value= levene(\n",
    "    revenueavg_by_groupA,revenueavg_by_groupB,\n",
    "   )\n",
    "p_value"
   ]
  },
  {
   "cell_type": "markdown",
   "metadata": {},
   "source": [
    "No podemos rechazar la hipotesis nula de que las varianzas son iguales. por lo tanto asignaremos el equal_var del ttest en 'True'"
   ]
  },
  {
   "cell_type": "code",
   "execution_count": null,
   "metadata": {},
   "outputs": [],
   "source": [
    "ttest_ind(revenueavg_by_groupA,revenueavg_by_groupB,equal_var = True)\n",
    "\n"
   ]
  },
  {
   "cell_type": "markdown",
   "metadata": {},
   "source": [
    "No podemos rechazar la hipotesis nula, por lo tanto no existen diferencias estadistica,ente significativas entre los grupos A y B con los datos en bruto"
   ]
  },
  {
   "cell_type": "code",
   "execution_count": null,
   "metadata": {},
   "outputs": [],
   "source": [
    "#Filtramos los datos quitando los outlaiers en la columna revenue\n",
    "orders_filtered = orders[orders['revenue'] < 830]\n",
    "orders_filtered"
   ]
  },
  {
   "cell_type": "code",
   "execution_count": null,
   "metadata": {},
   "outputs": [],
   "source": [
    "#Realizamos ahora la prueba de hipotesis ahora con los datos filtrados\n",
    "group_a_revenue_filtered = orders_filtered[orders_filtered['group'] == 'A']\n",
    "group_b_revenue_filtered = orders_filtered[orders_filtered['group'] == 'B']\n",
    "revenueavg_by_groupA_filtered = group_a_revenue_filtered.groupby(['transactionId','group'])['revenue'].mean()\n",
    "revenueavg_by_groupB_filtered = group_b_revenue_filtered.groupby(['transactionId','group'])['revenue'].mean()\n",
    "\n"
   ]
  },
  {
   "cell_type": "code",
   "execution_count": null,
   "metadata": {},
   "outputs": [],
   "source": [
    "# De igual manera realizamos primero la prueba de levene primero\n",
    "from scipy.stats import levene\n",
    "statistic, p_value= levene(\n",
    "    revenueavg_by_groupA_filtered,revenueavg_by_groupB_filtered,\n",
    "   )\n",
    "p_value"
   ]
  },
  {
   "cell_type": "code",
   "execution_count": null,
   "metadata": {},
   "outputs": [],
   "source": [
    "#Realizamos la prueba de hipotesis con equal_var = False\n",
    "ttest_ind(revenueavg_by_groupA_filtered,revenueavg_by_groupB_filtered,equal_var=True)"
   ]
  },
  {
   "cell_type": "markdown",
   "metadata": {},
   "source": [
    "\n",
    "<div class=\"alert alert-block alert-success\">\n",
    "<b>Comentario del revisor</b> <a class=\"tocSkip\"></a>\n",
    "\n",
    "\n",
    "\n",
    "Excelente trabajo con el desarrollo de esta sección donde hacemos las pruebas estadísticas </div>"
   ]
  },
  {
   "cell_type": "markdown",
   "metadata": {},
   "source": [
    "No hay diferencia estadisticamente significativa entre los dos grupos"
   ]
  },
  {
   "cell_type": "markdown",
   "metadata": {},
   "source": [
    "# Colclusion:\n",
    "* El equipo de la empresa nos facilito 3 datasets los cules contienen informacion sobre las hipotesis discutidas, con esto, realizamos un preprocesamioento de los mismos para encontrar posibles errores en la informacion, posteriormente procedimos a realiszar graficas que nos dejaron ver como se comportaba el grupo A y B siendo el grupo B en distintas ocaciones el que parecia tener una mejor respuesta a lo que busca la empresa o al incremento de las ventas , sin embargo al realizar las pruebas de Hipotesis correspondientes pudimos llegar a la conclusion de que :*\n",
    "\n",
    "\n",
    "\n",
    "- *** Hay que parar la prueba, se concluye que no hay diferencia entre los grupos en ninguna prueba:***\n",
    "  - **1era prueba de hipótesis**: No hay prueba de que la conversion de cada grupo sea estadisticamente significativa.\n",
    "  - **Prueba de Hipótesis sobre datos brutos entre ambos grupos**: No podemos rechazar la hipotesis nula, por lo tanto no existen diferencias estadisticamente significativas entre los grupos A y B con los datos en brutos .\n",
    "  - **Prueba de Hipótesis con outliers filtrados:**:apesar de eliminar datos atipicos, no podemos rechazar la hipotesis nula, por lo tanto no existen diferencias estadisticamente significativas entre los grupos A y B con los datos en brutos.\n",
    "\n"
   ]
  },
  {
   "cell_type": "markdown",
   "metadata": {},
   "source": [
    "<div class=\"alert alert-block alert-info\">\n",
    "<b>Respuesta del estudiante:Listo se hace una conclusion con los resultados y la recomendacion .</b> <a class=\"tocSkip\"></a>\n",
    "</div>"
   ]
  },
  {
   "cell_type": "markdown",
   "metadata": {},
   "source": [
    "<div class=\"alert alert-block alert-danger\">\n",
    "<b>Resumen de la revisión</b> <a class=\"tocSkip\"></a>\n",
    "\n",
    "Muy buen trabajo, Alejandro! Solamente recuerda realizar una conclusión general con todos los hallazgos del ejercicio. \n",
    "</div>"
   ]
  },
  {
   "cell_type": "markdown",
   "metadata": {},
   "source": [
    "\n",
    "<div class=\"alert alert-block alert-success\">\n",
    "<b>Comentario del revisor</b> <a class=\"tocSkip\"></a>\n",
    "\n",
    "Gran trabajo con los ajustes! Que sigas disfrutando los siguientes cursos!\n",
    "</div>"
   ]
  }
 ],
 "metadata": {
  "ExecuteTimeLog": [
   {
    "duration": 5,
    "start_time": "2024-08-23T13:51:25.144Z"
   },
   {
    "duration": 4812,
    "start_time": "2024-08-23T13:54:07.003Z"
   },
   {
    "duration": 25,
    "start_time": "2024-08-23T13:57:27.616Z"
   },
   {
    "duration": 13,
    "start_time": "2024-08-23T13:57:40.266Z"
   },
   {
    "duration": 16,
    "start_time": "2024-08-23T13:58:03.567Z"
   },
   {
    "duration": 8,
    "start_time": "2024-08-23T13:58:06.822Z"
   },
   {
    "duration": 8,
    "start_time": "2024-08-23T13:58:11.110Z"
   },
   {
    "duration": 15,
    "start_time": "2024-08-23T13:58:14.437Z"
   },
   {
    "duration": 8,
    "start_time": "2024-08-23T13:58:17.691Z"
   },
   {
    "duration": 4,
    "start_time": "2024-08-23T13:58:34.839Z"
   },
   {
    "duration": 15,
    "start_time": "2024-08-23T13:58:36.728Z"
   },
   {
    "duration": 8,
    "start_time": "2024-08-23T13:58:37.854Z"
   },
   {
    "duration": 448,
    "start_time": "2024-08-23T13:58:44.283Z"
   },
   {
    "duration": 9,
    "start_time": "2024-08-23T13:58:49.353Z"
   },
   {
    "duration": 8,
    "start_time": "2024-08-23T13:59:04.292Z"
   },
   {
    "duration": 16,
    "start_time": "2024-08-23T13:59:32.464Z"
   },
   {
    "duration": 11,
    "start_time": "2024-08-23T13:59:35.747Z"
   },
   {
    "duration": 17,
    "start_time": "2024-08-23T14:00:07.304Z"
   },
   {
    "duration": 12,
    "start_time": "2024-08-23T14:00:09.232Z"
   },
   {
    "duration": 14,
    "start_time": "2024-08-23T14:00:22.945Z"
   },
   {
    "duration": 10,
    "start_time": "2024-08-23T14:01:01.046Z"
   },
   {
    "duration": 7,
    "start_time": "2024-08-23T14:02:13.306Z"
   },
   {
    "duration": 11,
    "start_time": "2024-08-23T14:03:47.138Z"
   },
   {
    "duration": 18,
    "start_time": "2024-08-23T14:04:15.731Z"
   },
   {
    "duration": 13,
    "start_time": "2024-08-23T14:04:47.372Z"
   },
   {
    "duration": 8,
    "start_time": "2024-08-23T14:05:37.546Z"
   },
   {
    "duration": 8,
    "start_time": "2024-08-23T14:05:54.304Z"
   },
   {
    "duration": 11,
    "start_time": "2024-08-23T14:06:30.446Z"
   },
   {
    "duration": 22,
    "start_time": "2024-08-23T14:06:33.338Z"
   },
   {
    "duration": 15,
    "start_time": "2024-08-23T14:08:57.764Z"
   },
   {
    "duration": 25,
    "start_time": "2024-08-23T14:12:30.185Z"
   },
   {
    "duration": 22,
    "start_time": "2024-08-23T14:13:20.414Z"
   },
   {
    "duration": 25,
    "start_time": "2024-08-23T14:13:29.412Z"
   },
   {
    "duration": 23,
    "start_time": "2024-08-23T14:13:56.559Z"
   },
   {
    "duration": 12,
    "start_time": "2024-08-23T14:14:09.508Z"
   },
   {
    "duration": 4,
    "start_time": "2024-08-23T14:34:08.809Z"
   },
   {
    "duration": 10,
    "start_time": "2024-08-23T14:34:11.862Z"
   },
   {
    "duration": 6,
    "start_time": "2024-08-23T14:34:37.361Z"
   },
   {
    "duration": 5,
    "start_time": "2024-08-23T14:34:44.623Z"
   },
   {
    "duration": 6,
    "start_time": "2024-08-23T14:34:49.890Z"
   },
   {
    "duration": 22,
    "start_time": "2024-08-23T14:35:12.065Z"
   },
   {
    "duration": 5,
    "start_time": "2024-08-23T14:35:39.556Z"
   },
   {
    "duration": 16,
    "start_time": "2024-08-23T14:35:50.306Z"
   },
   {
    "duration": 6,
    "start_time": "2024-08-23T14:35:56.095Z"
   },
   {
    "duration": 6,
    "start_time": "2024-08-23T14:36:08.534Z"
   },
   {
    "duration": 15,
    "start_time": "2024-08-23T14:36:33.957Z"
   },
   {
    "duration": 6,
    "start_time": "2024-08-23T14:36:43.672Z"
   },
   {
    "duration": 31,
    "start_time": "2024-08-23T14:37:01.747Z"
   },
   {
    "duration": 17,
    "start_time": "2024-08-23T14:37:13.619Z"
   },
   {
    "duration": 11,
    "start_time": "2024-08-23T14:37:17.048Z"
   },
   {
    "duration": 8,
    "start_time": "2024-08-23T14:39:01.315Z"
   },
   {
    "duration": 11,
    "start_time": "2024-08-23T14:39:10.339Z"
   },
   {
    "duration": 24,
    "start_time": "2024-08-23T14:44:22.862Z"
   },
   {
    "duration": 28,
    "start_time": "2024-08-23T14:44:35.859Z"
   },
   {
    "duration": 12,
    "start_time": "2024-08-23T14:44:55.030Z"
   },
   {
    "duration": 27,
    "start_time": "2024-08-23T14:45:16.867Z"
   },
   {
    "duration": 21,
    "start_time": "2024-08-23T14:46:26.543Z"
   },
   {
    "duration": 23,
    "start_time": "2024-08-23T14:47:24.680Z"
   },
   {
    "duration": 22,
    "start_time": "2024-08-23T14:48:15.880Z"
   },
   {
    "duration": 20,
    "start_time": "2024-08-23T14:48:27.968Z"
   },
   {
    "duration": 20,
    "start_time": "2024-08-23T14:48:45.178Z"
   },
   {
    "duration": 21,
    "start_time": "2024-08-23T14:49:20.931Z"
   },
   {
    "duration": 682,
    "start_time": "2024-08-23T14:49:38.544Z"
   },
   {
    "duration": 82,
    "start_time": "2024-08-23T14:50:05.379Z"
   },
   {
    "duration": 7,
    "start_time": "2024-08-23T14:50:27.189Z"
   },
   {
    "duration": 6,
    "start_time": "2024-08-23T14:50:56.211Z"
   },
   {
    "duration": 1151,
    "start_time": "2024-08-23T14:51:05.641Z"
   },
   {
    "duration": 21,
    "start_time": "2024-08-23T14:51:06.796Z"
   },
   {
    "duration": 16,
    "start_time": "2024-08-23T14:51:06.819Z"
   },
   {
    "duration": 16,
    "start_time": "2024-08-23T14:51:06.839Z"
   },
   {
    "duration": 47,
    "start_time": "2024-08-23T14:51:06.858Z"
   },
   {
    "duration": 16,
    "start_time": "2024-08-23T14:51:06.908Z"
   },
   {
    "duration": 9,
    "start_time": "2024-08-23T14:51:06.927Z"
   },
   {
    "duration": 50,
    "start_time": "2024-08-23T14:51:06.939Z"
   },
   {
    "duration": 1214,
    "start_time": "2024-08-23T14:51:21.631Z"
   },
   {
    "duration": 14,
    "start_time": "2024-08-23T14:51:51.847Z"
   },
   {
    "duration": 8,
    "start_time": "2024-08-23T14:52:53.946Z"
   },
   {
    "duration": 27,
    "start_time": "2024-08-23T14:53:00.510Z"
   },
   {
    "duration": 370,
    "start_time": "2024-08-23T14:53:23.036Z"
   },
   {
    "duration": 83,
    "start_time": "2024-08-23T14:53:45.783Z"
   },
   {
    "duration": 1146,
    "start_time": "2024-08-23T14:54:15.238Z"
   },
   {
    "duration": 18,
    "start_time": "2024-08-23T14:54:16.388Z"
   },
   {
    "duration": 16,
    "start_time": "2024-08-23T14:54:16.408Z"
   },
   {
    "duration": 13,
    "start_time": "2024-08-23T14:54:16.429Z"
   },
   {
    "duration": 53,
    "start_time": "2024-08-23T14:54:16.445Z"
   },
   {
    "duration": 16,
    "start_time": "2024-08-23T14:54:16.501Z"
   },
   {
    "duration": 9,
    "start_time": "2024-08-23T14:54:16.520Z"
   },
   {
    "duration": 12,
    "start_time": "2024-08-23T14:54:16.532Z"
   },
   {
    "duration": 1026,
    "start_time": "2024-08-23T14:54:28.421Z"
   },
   {
    "duration": 18,
    "start_time": "2024-08-23T14:54:51.867Z"
   },
   {
    "duration": 21,
    "start_time": "2024-08-23T14:55:02.833Z"
   },
   {
    "duration": 10,
    "start_time": "2024-08-23T14:55:03.973Z"
   },
   {
    "duration": 10,
    "start_time": "2024-08-23T14:55:05.094Z"
   },
   {
    "duration": 8,
    "start_time": "2024-08-23T14:57:56.706Z"
   },
   {
    "duration": 85,
    "start_time": "2024-08-23T14:58:09.575Z"
   },
   {
    "duration": 16,
    "start_time": "2024-08-23T14:58:26.320Z"
   },
   {
    "duration": 11,
    "start_time": "2024-08-23T14:58:27.170Z"
   },
   {
    "duration": 16,
    "start_time": "2024-08-23T14:58:27.873Z"
   },
   {
    "duration": 3,
    "start_time": "2024-08-23T15:00:50.572Z"
   },
   {
    "duration": 17,
    "start_time": "2024-08-23T15:00:51.383Z"
   },
   {
    "duration": 18,
    "start_time": "2024-08-23T15:02:01.211Z"
   },
   {
    "duration": 17,
    "start_time": "2024-08-23T15:02:11.995Z"
   },
   {
    "duration": 19,
    "start_time": "2024-08-23T15:02:24.279Z"
   },
   {
    "duration": 17,
    "start_time": "2024-08-23T15:03:16.759Z"
   },
   {
    "duration": 17,
    "start_time": "2024-08-23T15:03:30.952Z"
   },
   {
    "duration": 3,
    "start_time": "2024-08-23T15:04:20.298Z"
   },
   {
    "duration": 19,
    "start_time": "2024-08-23T15:04:21.164Z"
   },
   {
    "duration": 12,
    "start_time": "2024-08-23T15:04:23.105Z"
   },
   {
    "duration": 20,
    "start_time": "2024-08-23T15:04:24.778Z"
   },
   {
    "duration": 18,
    "start_time": "2024-08-23T15:04:25.939Z"
   },
   {
    "duration": 21,
    "start_time": "2024-08-23T15:04:27.548Z"
   },
   {
    "duration": 13,
    "start_time": "2024-08-23T15:04:28.451Z"
   },
   {
    "duration": 9,
    "start_time": "2024-08-23T15:04:29.598Z"
   },
   {
    "duration": 12,
    "start_time": "2024-08-23T15:04:30.508Z"
   },
   {
    "duration": 13,
    "start_time": "2024-08-23T20:00:01.857Z"
   },
   {
    "duration": 5,
    "start_time": "2024-08-23T20:00:13.589Z"
   },
   {
    "duration": 302,
    "start_time": "2024-08-23T20:00:21.163Z"
   },
   {
    "duration": 4757,
    "start_time": "2024-08-23T20:00:30.377Z"
   },
   {
    "duration": 29,
    "start_time": "2024-08-23T20:00:35.137Z"
   },
   {
    "duration": 16,
    "start_time": "2024-08-23T20:00:35.168Z"
   },
   {
    "duration": 18,
    "start_time": "2024-08-23T20:00:35.188Z"
   },
   {
    "duration": 37,
    "start_time": "2024-08-23T20:00:35.209Z"
   },
   {
    "duration": 261,
    "start_time": "2024-08-23T20:00:35.249Z"
   },
   {
    "duration": 200,
    "start_time": "2024-08-23T20:53:29.197Z"
   },
   {
    "duration": 15,
    "start_time": "2024-08-23T20:55:30.078Z"
   },
   {
    "duration": 18,
    "start_time": "2024-08-23T20:59:43.838Z"
   },
   {
    "duration": 10,
    "start_time": "2024-08-23T21:05:04.141Z"
   },
   {
    "duration": 145,
    "start_time": "2024-08-23T21:06:53.586Z"
   },
   {
    "duration": 1086,
    "start_time": "2024-08-23T21:07:27.318Z"
   },
   {
    "duration": 616,
    "start_time": "2024-08-23T21:07:37.759Z"
   },
   {
    "duration": 371,
    "start_time": "2024-08-23T21:07:48.400Z"
   },
   {
    "duration": 2083,
    "start_time": "2024-08-23T21:07:59.232Z"
   },
   {
    "duration": 301,
    "start_time": "2024-08-23T21:08:12.271Z"
   },
   {
    "duration": 168,
    "start_time": "2024-08-23T21:08:22.022Z"
   },
   {
    "duration": 130,
    "start_time": "2024-08-23T21:08:30.356Z"
   },
   {
    "duration": 114,
    "start_time": "2024-08-23T21:08:39.038Z"
   },
   {
    "duration": 163,
    "start_time": "2024-08-23T21:08:50.164Z"
   },
   {
    "duration": 263,
    "start_time": "2024-08-23T21:09:00.637Z"
   },
   {
    "duration": 142,
    "start_time": "2024-08-23T21:09:11.965Z"
   },
   {
    "duration": 196,
    "start_time": "2024-08-23T21:11:01.719Z"
   },
   {
    "duration": 160,
    "start_time": "2024-08-23T21:12:25.394Z"
   },
   {
    "duration": 6,
    "start_time": "2024-08-23T21:13:26.217Z"
   },
   {
    "duration": 9,
    "start_time": "2024-08-23T21:13:32.808Z"
   },
   {
    "duration": 464,
    "start_time": "2024-08-23T21:13:49.050Z"
   },
   {
    "duration": 172,
    "start_time": "2024-08-23T21:14:23.393Z"
   },
   {
    "duration": 17,
    "start_time": "2024-08-23T21:43:50.012Z"
   },
   {
    "duration": 6,
    "start_time": "2024-08-23T21:45:20.122Z"
   },
   {
    "duration": 809,
    "start_time": "2024-08-23T21:45:30.789Z"
   },
   {
    "duration": 116,
    "start_time": "2024-08-23T21:46:00.552Z"
   },
   {
    "duration": 137,
    "start_time": "2024-08-23T21:46:22.754Z"
   },
   {
    "duration": 22,
    "start_time": "2024-08-23T21:47:05.967Z"
   },
   {
    "duration": 22,
    "start_time": "2024-08-23T21:48:39.620Z"
   },
   {
    "duration": 21,
    "start_time": "2024-08-23T21:50:44.874Z"
   },
   {
    "duration": 8,
    "start_time": "2024-08-23T21:51:46.783Z"
   },
   {
    "duration": 24,
    "start_time": "2024-08-23T21:51:54.839Z"
   },
   {
    "duration": 22,
    "start_time": "2024-08-23T21:56:05.591Z"
   },
   {
    "duration": 14,
    "start_time": "2024-08-23T21:56:48.871Z"
   },
   {
    "duration": 6,
    "start_time": "2024-08-23T22:01:42.646Z"
   },
   {
    "duration": 28,
    "start_time": "2024-08-23T22:03:56.825Z"
   },
   {
    "duration": 5200,
    "start_time": "2024-08-24T15:09:35.551Z"
   },
   {
    "duration": 31,
    "start_time": "2024-08-24T15:09:40.755Z"
   },
   {
    "duration": 20,
    "start_time": "2024-08-24T15:09:40.790Z"
   },
   {
    "duration": 36,
    "start_time": "2024-08-24T15:09:40.813Z"
   },
   {
    "duration": 21,
    "start_time": "2024-08-24T15:09:40.855Z"
   },
   {
    "duration": 248,
    "start_time": "2024-08-24T15:09:40.879Z"
   },
   {
    "duration": 15,
    "start_time": "2024-08-24T15:09:41.130Z"
   },
   {
    "duration": 9,
    "start_time": "2024-08-24T15:09:41.148Z"
   },
   {
    "duration": 13,
    "start_time": "2024-08-24T15:09:41.160Z"
   },
   {
    "duration": 11,
    "start_time": "2024-08-24T15:09:41.177Z"
   },
   {
    "duration": 0,
    "start_time": "2024-08-24T15:09:41.235Z"
   },
   {
    "duration": 0,
    "start_time": "2024-08-24T15:09:41.237Z"
   },
   {
    "duration": 0,
    "start_time": "2024-08-24T15:09:41.242Z"
   },
   {
    "duration": 0,
    "start_time": "2024-08-24T15:09:41.244Z"
   },
   {
    "duration": 151,
    "start_time": "2024-08-24T15:09:53.790Z"
   },
   {
    "duration": 29,
    "start_time": "2024-08-24T15:10:01.860Z"
   },
   {
    "duration": 12,
    "start_time": "2024-08-24T15:10:07.420Z"
   },
   {
    "duration": 1304,
    "start_time": "2024-08-24T15:12:34.621Z"
   },
   {
    "duration": 28,
    "start_time": "2024-08-24T15:13:19.369Z"
   },
   {
    "duration": 33,
    "start_time": "2024-08-24T15:21:21.397Z"
   },
   {
    "duration": 329,
    "start_time": "2024-08-24T15:21:42.686Z"
   },
   {
    "duration": 261,
    "start_time": "2024-08-24T15:23:06.541Z"
   },
   {
    "duration": 276,
    "start_time": "2024-08-24T15:24:11.410Z"
   },
   {
    "duration": 312,
    "start_time": "2024-08-24T15:41:20.530Z"
   },
   {
    "duration": 26,
    "start_time": "2024-08-24T15:42:04.930Z"
   },
   {
    "duration": 228,
    "start_time": "2024-08-24T15:42:12.055Z"
   },
   {
    "duration": 25,
    "start_time": "2024-08-24T15:43:27.278Z"
   },
   {
    "duration": 227,
    "start_time": "2024-08-24T15:44:12.917Z"
   },
   {
    "duration": 171,
    "start_time": "2024-08-24T15:46:44.780Z"
   },
   {
    "duration": 156,
    "start_time": "2024-08-24T15:46:53.025Z"
   },
   {
    "duration": 235,
    "start_time": "2024-08-24T15:48:57.066Z"
   },
   {
    "duration": 25,
    "start_time": "2024-08-24T15:56:59.439Z"
   },
   {
    "duration": 9,
    "start_time": "2024-08-24T16:01:16.716Z"
   },
   {
    "duration": 191,
    "start_time": "2024-08-24T16:01:43.685Z"
   },
   {
    "duration": 222,
    "start_time": "2024-08-24T16:02:33.407Z"
   },
   {
    "duration": 37,
    "start_time": "2024-08-24T16:02:50.201Z"
   },
   {
    "duration": 211,
    "start_time": "2024-08-24T16:03:10.636Z"
   },
   {
    "duration": 26,
    "start_time": "2024-08-24T16:04:07.750Z"
   },
   {
    "duration": 5037,
    "start_time": "2024-08-24T19:44:13.908Z"
   },
   {
    "duration": 33,
    "start_time": "2024-08-24T19:44:18.950Z"
   },
   {
    "duration": 17,
    "start_time": "2024-08-24T19:44:18.986Z"
   },
   {
    "duration": 26,
    "start_time": "2024-08-24T19:44:19.008Z"
   },
   {
    "duration": 17,
    "start_time": "2024-08-24T19:44:19.037Z"
   },
   {
    "duration": 237,
    "start_time": "2024-08-24T19:44:19.057Z"
   },
   {
    "duration": 29,
    "start_time": "2024-08-24T19:44:19.297Z"
   },
   {
    "duration": 9,
    "start_time": "2024-08-24T19:44:19.330Z"
   },
   {
    "duration": 12,
    "start_time": "2024-08-24T19:44:19.341Z"
   },
   {
    "duration": 6,
    "start_time": "2024-08-24T19:44:19.359Z"
   },
   {
    "duration": 0,
    "start_time": "2024-08-24T19:44:19.368Z"
   },
   {
    "duration": 0,
    "start_time": "2024-08-24T19:44:19.370Z"
   },
   {
    "duration": 0,
    "start_time": "2024-08-24T19:44:19.372Z"
   },
   {
    "duration": 0,
    "start_time": "2024-08-24T19:44:19.374Z"
   },
   {
    "duration": 0,
    "start_time": "2024-08-24T19:44:19.377Z"
   },
   {
    "duration": 147,
    "start_time": "2024-08-24T19:44:39.944Z"
   },
   {
    "duration": 6,
    "start_time": "2024-08-24T19:44:43.603Z"
   },
   {
    "duration": 9,
    "start_time": "2024-08-24T19:45:29.779Z"
   },
   {
    "duration": 7,
    "start_time": "2024-08-24T19:45:35.794Z"
   },
   {
    "duration": 6,
    "start_time": "2024-08-24T19:47:58.254Z"
   },
   {
    "duration": 6,
    "start_time": "2024-08-24T19:48:22.928Z"
   },
   {
    "duration": 5,
    "start_time": "2024-08-24T19:48:35.199Z"
   },
   {
    "duration": 307,
    "start_time": "2024-08-24T19:48:46.848Z"
   },
   {
    "duration": 13,
    "start_time": "2024-08-24T19:50:51.077Z"
   },
   {
    "duration": 23,
    "start_time": "2024-08-24T19:51:07.014Z"
   },
   {
    "duration": 194,
    "start_time": "2024-08-24T19:53:30.756Z"
   },
   {
    "duration": 254,
    "start_time": "2024-08-24T19:54:31.976Z"
   },
   {
    "duration": 7,
    "start_time": "2024-08-24T19:58:24.098Z"
   },
   {
    "duration": 7,
    "start_time": "2024-08-24T19:58:28.469Z"
   },
   {
    "duration": 425,
    "start_time": "2024-08-24T19:58:41.413Z"
   },
   {
    "duration": 233,
    "start_time": "2024-08-24T19:58:58.836Z"
   },
   {
    "duration": 239,
    "start_time": "2024-08-24T19:59:56.345Z"
   },
   {
    "duration": 24,
    "start_time": "2024-08-24T20:04:15.594Z"
   },
   {
    "duration": 236,
    "start_time": "2024-08-24T20:05:41.861Z"
   },
   {
    "duration": 14,
    "start_time": "2024-08-24T20:07:55.437Z"
   },
   {
    "duration": 8,
    "start_time": "2024-08-24T20:08:14.562Z"
   },
   {
    "duration": 193,
    "start_time": "2024-08-24T20:08:46.546Z"
   },
   {
    "duration": 21,
    "start_time": "2024-08-24T20:08:53.763Z"
   },
   {
    "duration": 212,
    "start_time": "2024-08-24T20:09:00.995Z"
   },
   {
    "duration": 274,
    "start_time": "2024-08-24T20:09:23.187Z"
   },
   {
    "duration": 6,
    "start_time": "2024-08-24T20:10:24.613Z"
   },
   {
    "duration": 25,
    "start_time": "2024-08-24T20:11:14.063Z"
   },
   {
    "duration": 237,
    "start_time": "2024-08-24T20:24:47.301Z"
   },
   {
    "duration": 3,
    "start_time": "2024-08-24T20:27:20.420Z"
   },
   {
    "duration": 248,
    "start_time": "2024-08-24T20:27:58.919Z"
   },
   {
    "duration": 12,
    "start_time": "2024-08-24T20:28:02.521Z"
   },
   {
    "duration": 1155,
    "start_time": "2024-08-24T20:37:39.876Z"
   },
   {
    "duration": 81,
    "start_time": "2024-08-24T20:38:41.055Z"
   },
   {
    "duration": 13,
    "start_time": "2024-08-24T20:39:24.306Z"
   },
   {
    "duration": 8,
    "start_time": "2024-08-24T20:41:06.407Z"
   },
   {
    "duration": 4,
    "start_time": "2024-08-24T20:42:02.012Z"
   },
   {
    "duration": 10,
    "start_time": "2024-08-24T20:42:10.056Z"
   },
   {
    "duration": 177,
    "start_time": "2024-08-24T20:42:29.039Z"
   },
   {
    "duration": 674,
    "start_time": "2024-08-24T20:43:19.418Z"
   },
   {
    "duration": 184,
    "start_time": "2024-08-24T20:43:31.881Z"
   },
   {
    "duration": 197,
    "start_time": "2024-08-24T20:44:39.734Z"
   },
   {
    "duration": 182,
    "start_time": "2024-08-24T21:14:54.159Z"
   },
   {
    "duration": 218,
    "start_time": "2024-08-24T21:25:21.740Z"
   },
   {
    "duration": 328,
    "start_time": "2024-08-24T21:28:01.559Z"
   },
   {
    "duration": 7,
    "start_time": "2024-08-24T21:50:29.152Z"
   },
   {
    "duration": 14,
    "start_time": "2024-08-24T21:52:12.083Z"
   },
   {
    "duration": 13,
    "start_time": "2024-08-24T21:52:23.603Z"
   },
   {
    "duration": 14,
    "start_time": "2024-08-24T21:52:26.351Z"
   },
   {
    "duration": 12,
    "start_time": "2024-08-24T21:53:09.110Z"
   },
   {
    "duration": 20,
    "start_time": "2024-08-24T21:53:27.824Z"
   },
   {
    "duration": 16,
    "start_time": "2024-08-24T21:54:18.231Z"
   },
   {
    "duration": 17,
    "start_time": "2024-08-24T21:55:54.331Z"
   },
   {
    "duration": 10,
    "start_time": "2024-08-24T21:57:21.641Z"
   },
   {
    "duration": 27,
    "start_time": "2024-08-24T21:57:30.250Z"
   },
   {
    "duration": 23,
    "start_time": "2024-08-24T21:58:03.840Z"
   },
   {
    "duration": 7,
    "start_time": "2024-08-24T22:01:07.340Z"
   },
   {
    "duration": 5,
    "start_time": "2024-08-24T22:01:19.270Z"
   },
   {
    "duration": 26,
    "start_time": "2024-08-24T22:01:33.019Z"
   },
   {
    "duration": 35,
    "start_time": "2024-08-24T22:02:10.956Z"
   },
   {
    "duration": 28,
    "start_time": "2024-08-24T22:02:22.366Z"
   },
   {
    "duration": 26,
    "start_time": "2024-08-24T22:02:40.413Z"
   },
   {
    "duration": 18,
    "start_time": "2024-08-24T22:03:59.865Z"
   },
   {
    "duration": 280,
    "start_time": "2024-08-24T22:06:29.887Z"
   },
   {
    "duration": 15,
    "start_time": "2024-08-24T22:07:49.682Z"
   },
   {
    "duration": 16,
    "start_time": "2024-08-24T22:09:50.184Z"
   },
   {
    "duration": 21,
    "start_time": "2024-08-24T22:11:32.155Z"
   },
   {
    "duration": 22,
    "start_time": "2024-08-24T22:16:54.327Z"
   },
   {
    "duration": 29,
    "start_time": "2024-08-24T22:17:57.097Z"
   },
   {
    "duration": 75,
    "start_time": "2024-08-24T22:21:01.047Z"
   },
   {
    "duration": 17,
    "start_time": "2024-08-24T22:21:21.198Z"
   },
   {
    "duration": 20,
    "start_time": "2024-08-24T22:21:37.096Z"
   },
   {
    "duration": 20,
    "start_time": "2024-08-24T22:22:05.764Z"
   },
   {
    "duration": 8,
    "start_time": "2024-08-24T22:26:48.095Z"
   },
   {
    "duration": 29,
    "start_time": "2024-08-24T22:27:00.103Z"
   },
   {
    "duration": 357,
    "start_time": "2024-08-24T22:27:29.105Z"
   },
   {
    "duration": 15,
    "start_time": "2024-08-24T22:28:13.969Z"
   },
   {
    "duration": 15,
    "start_time": "2024-08-24T22:28:54.206Z"
   },
   {
    "duration": 28,
    "start_time": "2024-08-24T22:29:02.852Z"
   },
   {
    "duration": 201,
    "start_time": "2024-08-24T22:29:28.498Z"
   },
   {
    "duration": 243,
    "start_time": "2024-08-24T22:31:44.348Z"
   },
   {
    "duration": 261,
    "start_time": "2024-08-24T22:33:09.800Z"
   },
   {
    "duration": 33,
    "start_time": "2024-08-24T22:33:42.102Z"
   },
   {
    "duration": 19,
    "start_time": "2024-08-24T22:37:49.259Z"
   },
   {
    "duration": 18,
    "start_time": "2024-08-24T22:38:17.034Z"
   },
   {
    "duration": 243,
    "start_time": "2024-08-24T22:38:32.998Z"
   },
   {
    "duration": 15,
    "start_time": "2024-08-24T22:39:22.097Z"
   },
   {
    "duration": 30,
    "start_time": "2024-08-24T22:39:32.561Z"
   },
   {
    "duration": 29,
    "start_time": "2024-08-24T22:46:41.224Z"
   },
   {
    "duration": 8,
    "start_time": "2024-08-24T22:47:03.603Z"
   },
   {
    "duration": 45,
    "start_time": "2024-08-24T22:47:19.858Z"
   },
   {
    "duration": 257,
    "start_time": "2024-08-24T22:47:51.822Z"
   },
   {
    "duration": 4859,
    "start_time": "2024-08-25T13:45:37.577Z"
   },
   {
    "duration": 30,
    "start_time": "2024-08-25T13:45:42.440Z"
   },
   {
    "duration": 15,
    "start_time": "2024-08-25T13:45:42.473Z"
   },
   {
    "duration": 34,
    "start_time": "2024-08-25T13:45:42.491Z"
   },
   {
    "duration": 17,
    "start_time": "2024-08-25T13:45:42.530Z"
   },
   {
    "duration": 241,
    "start_time": "2024-08-25T13:45:42.550Z"
   },
   {
    "duration": 29,
    "start_time": "2024-08-25T13:45:42.795Z"
   },
   {
    "duration": 9,
    "start_time": "2024-08-25T13:45:42.827Z"
   },
   {
    "duration": 13,
    "start_time": "2024-08-25T13:45:42.839Z"
   },
   {
    "duration": 324,
    "start_time": "2024-08-25T13:45:42.855Z"
   },
   {
    "duration": 13,
    "start_time": "2024-08-25T13:45:43.183Z"
   },
   {
    "duration": 32,
    "start_time": "2024-08-25T13:45:43.200Z"
   },
   {
    "duration": 16,
    "start_time": "2024-08-25T13:45:43.234Z"
   },
   {
    "duration": 9,
    "start_time": "2024-08-25T13:45:43.257Z"
   },
   {
    "duration": 62,
    "start_time": "2024-08-25T13:45:43.269Z"
   },
   {
    "duration": 246,
    "start_time": "2024-08-25T13:45:43.334Z"
   },
   {
    "duration": 40,
    "start_time": "2024-08-25T13:45:43.584Z"
   },
   {
    "duration": 310,
    "start_time": "2024-08-25T13:45:43.627Z"
   },
   {
    "duration": 221,
    "start_time": "2024-08-25T13:45:43.941Z"
   },
   {
    "duration": 13,
    "start_time": "2024-08-25T13:45:44.166Z"
   },
   {
    "duration": 68,
    "start_time": "2024-08-25T13:45:44.182Z"
   },
   {
    "duration": 267,
    "start_time": "2024-08-25T13:45:44.252Z"
   },
   {
    "duration": 18,
    "start_time": "2024-08-25T13:45:44.524Z"
   },
   {
    "duration": 18,
    "start_time": "2024-08-25T13:46:59.963Z"
   },
   {
    "duration": 8,
    "start_time": "2024-08-25T13:48:17.932Z"
   },
   {
    "duration": 201,
    "start_time": "2024-08-25T13:48:26.318Z"
   },
   {
    "duration": 6,
    "start_time": "2024-08-25T13:48:39.052Z"
   },
   {
    "duration": 9,
    "start_time": "2024-08-25T13:48:49.776Z"
   },
   {
    "duration": 10,
    "start_time": "2024-08-25T13:49:11.918Z"
   },
   {
    "duration": 14,
    "start_time": "2024-08-25T13:49:18.149Z"
   },
   {
    "duration": 500,
    "start_time": "2024-08-25T13:50:01.601Z"
   },
   {
    "duration": 8,
    "start_time": "2024-08-25T13:50:31.520Z"
   },
   {
    "duration": 15,
    "start_time": "2024-08-25T13:50:41.200Z"
   },
   {
    "duration": 10,
    "start_time": "2024-08-25T13:59:45.849Z"
   },
   {
    "duration": 81,
    "start_time": "2024-08-25T14:01:01.564Z"
   },
   {
    "duration": 673,
    "start_time": "2024-08-25T14:01:17.433Z"
   },
   {
    "duration": 6,
    "start_time": "2024-08-25T14:02:11.914Z"
   },
   {
    "duration": 10,
    "start_time": "2024-08-25T14:02:20.088Z"
   },
   {
    "duration": 9,
    "start_time": "2024-08-25T14:07:49.502Z"
   },
   {
    "duration": 21,
    "start_time": "2024-08-25T14:09:28.342Z"
   },
   {
    "duration": 31,
    "start_time": "2024-08-25T14:09:48.570Z"
   },
   {
    "duration": 7,
    "start_time": "2024-08-25T14:10:22.422Z"
   },
   {
    "duration": 25,
    "start_time": "2024-08-25T14:10:35.443Z"
   },
   {
    "duration": 7,
    "start_time": "2024-08-25T14:12:17.728Z"
   },
   {
    "duration": 6,
    "start_time": "2024-08-25T14:12:33.568Z"
   },
   {
    "duration": 7,
    "start_time": "2024-08-25T14:12:56.922Z"
   },
   {
    "duration": 6,
    "start_time": "2024-08-25T14:13:06.981Z"
   },
   {
    "duration": 6,
    "start_time": "2024-08-25T14:13:27.314Z"
   },
   {
    "duration": 6,
    "start_time": "2024-08-25T14:13:48.924Z"
   },
   {
    "duration": 26,
    "start_time": "2024-08-25T14:14:06.854Z"
   },
   {
    "duration": 11,
    "start_time": "2024-08-25T14:15:20.648Z"
   },
   {
    "duration": 10,
    "start_time": "2024-08-25T14:15:28.683Z"
   },
   {
    "duration": 10,
    "start_time": "2024-08-25T14:15:43.949Z"
   },
   {
    "duration": 26,
    "start_time": "2024-08-25T14:16:09.078Z"
   },
   {
    "duration": 30,
    "start_time": "2024-08-25T14:17:53.767Z"
   },
   {
    "duration": 29,
    "start_time": "2024-08-25T14:18:08.959Z"
   },
   {
    "duration": 824,
    "start_time": "2024-08-25T14:19:55.236Z"
   },
   {
    "duration": 303,
    "start_time": "2024-08-25T14:23:53.244Z"
   },
   {
    "duration": 90,
    "start_time": "2024-08-25T14:24:28.906Z"
   },
   {
    "duration": 29,
    "start_time": "2024-08-25T14:24:50.629Z"
   },
   {
    "duration": 203,
    "start_time": "2024-08-25T14:26:08.428Z"
   },
   {
    "duration": 5,
    "start_time": "2024-08-25T14:45:49.323Z"
   },
   {
    "duration": 9,
    "start_time": "2024-08-25T14:45:56.993Z"
   },
   {
    "duration": 22,
    "start_time": "2024-08-25T14:46:20.322Z"
   },
   {
    "duration": 80,
    "start_time": "2024-08-25T14:50:23.895Z"
   },
   {
    "duration": 78,
    "start_time": "2024-08-25T14:50:57.646Z"
   },
   {
    "duration": 8,
    "start_time": "2024-08-25T14:51:46.476Z"
   },
   {
    "duration": 199,
    "start_time": "2024-08-25T14:52:11.758Z"
   },
   {
    "duration": 5,
    "start_time": "2024-08-25T14:52:17.229Z"
   },
   {
    "duration": 5,
    "start_time": "2024-08-25T14:56:05.355Z"
   },
   {
    "duration": 4783,
    "start_time": "2024-08-25T15:58:03.678Z"
   },
   {
    "duration": 29,
    "start_time": "2024-08-25T15:58:08.466Z"
   },
   {
    "duration": 19,
    "start_time": "2024-08-25T15:58:08.498Z"
   },
   {
    "duration": 17,
    "start_time": "2024-08-25T15:58:08.520Z"
   },
   {
    "duration": 17,
    "start_time": "2024-08-25T15:58:08.541Z"
   },
   {
    "duration": 242,
    "start_time": "2024-08-25T15:58:08.561Z"
   },
   {
    "duration": 17,
    "start_time": "2024-08-25T15:58:08.807Z"
   },
   {
    "duration": 9,
    "start_time": "2024-08-25T15:58:08.827Z"
   },
   {
    "duration": 11,
    "start_time": "2024-08-25T15:58:08.839Z"
   },
   {
    "duration": 319,
    "start_time": "2024-08-25T15:58:08.853Z"
   },
   {
    "duration": 16,
    "start_time": "2024-08-25T15:58:09.176Z"
   },
   {
    "duration": 13,
    "start_time": "2024-08-25T15:58:09.212Z"
   },
   {
    "duration": 14,
    "start_time": "2024-08-25T15:58:09.228Z"
   },
   {
    "duration": 8,
    "start_time": "2024-08-25T15:58:09.248Z"
   },
   {
    "duration": 67,
    "start_time": "2024-08-25T15:58:09.259Z"
   },
   {
    "duration": 245,
    "start_time": "2024-08-25T15:58:09.328Z"
   },
   {
    "duration": 37,
    "start_time": "2024-08-25T15:58:09.577Z"
   },
   {
    "duration": 247,
    "start_time": "2024-08-25T15:58:09.617Z"
   },
   {
    "duration": 284,
    "start_time": "2024-08-25T15:58:09.867Z"
   },
   {
    "duration": 15,
    "start_time": "2024-08-25T15:58:10.153Z"
   },
   {
    "duration": 61,
    "start_time": "2024-08-25T15:58:10.171Z"
   },
   {
    "duration": 291,
    "start_time": "2024-08-25T15:58:10.235Z"
   },
   {
    "duration": 21,
    "start_time": "2024-08-25T15:58:10.529Z"
   },
   {
    "duration": 12,
    "start_time": "2024-08-25T15:58:10.553Z"
   },
   {
    "duration": 5,
    "start_time": "2024-08-25T15:58:10.568Z"
   },
   {
    "duration": 0,
    "start_time": "2024-08-25T15:58:10.576Z"
   },
   {
    "duration": 0,
    "start_time": "2024-08-25T15:58:10.613Z"
   },
   {
    "duration": 0,
    "start_time": "2024-08-25T15:58:10.615Z"
   },
   {
    "duration": 5,
    "start_time": "2024-08-25T15:58:43.249Z"
   },
   {
    "duration": 5,
    "start_time": "2024-08-25T15:59:07.642Z"
   },
   {
    "duration": 5,
    "start_time": "2024-08-25T15:59:12.785Z"
   },
   {
    "duration": 9,
    "start_time": "2024-08-25T15:59:18.039Z"
   },
   {
    "duration": 10,
    "start_time": "2024-08-25T15:59:23.608Z"
   },
   {
    "duration": 5,
    "start_time": "2024-08-25T15:59:44.457Z"
   },
   {
    "duration": 200,
    "start_time": "2024-08-25T16:00:04.601Z"
   },
   {
    "duration": 202,
    "start_time": "2024-08-25T16:11:16.954Z"
   },
   {
    "duration": 17,
    "start_time": "2024-08-25T16:14:38.583Z"
   },
   {
    "duration": 9,
    "start_time": "2024-08-25T16:16:38.269Z"
   },
   {
    "duration": 195,
    "start_time": "2024-08-25T16:20:45.759Z"
   },
   {
    "duration": 305,
    "start_time": "2024-08-26T13:31:10.356Z"
   },
   {
    "duration": 4825,
    "start_time": "2024-08-26T13:31:19.149Z"
   },
   {
    "duration": 24,
    "start_time": "2024-08-26T13:31:23.980Z"
   },
   {
    "duration": 16,
    "start_time": "2024-08-26T13:31:24.007Z"
   },
   {
    "duration": 17,
    "start_time": "2024-08-26T13:31:24.026Z"
   },
   {
    "duration": 18,
    "start_time": "2024-08-26T13:31:24.049Z"
   },
   {
    "duration": 222,
    "start_time": "2024-08-26T13:31:24.108Z"
   },
   {
    "duration": 18,
    "start_time": "2024-08-26T13:31:24.333Z"
   },
   {
    "duration": 9,
    "start_time": "2024-08-26T13:31:24.354Z"
   },
   {
    "duration": 45,
    "start_time": "2024-08-26T13:31:24.366Z"
   },
   {
    "duration": 321,
    "start_time": "2024-08-26T13:31:24.414Z"
   },
   {
    "duration": 14,
    "start_time": "2024-08-26T13:31:24.738Z"
   },
   {
    "duration": 14,
    "start_time": "2024-08-26T13:31:24.755Z"
   },
   {
    "duration": 50,
    "start_time": "2024-08-26T13:31:24.772Z"
   },
   {
    "duration": 10,
    "start_time": "2024-08-26T13:31:24.828Z"
   },
   {
    "duration": 24,
    "start_time": "2024-08-26T13:31:24.840Z"
   },
   {
    "duration": 283,
    "start_time": "2024-08-26T13:31:24.867Z"
   },
   {
    "duration": 25,
    "start_time": "2024-08-26T13:31:25.152Z"
   },
   {
    "duration": 281,
    "start_time": "2024-08-26T13:31:25.180Z"
   },
   {
    "duration": 232,
    "start_time": "2024-08-26T13:31:25.464Z"
   },
   {
    "duration": 22,
    "start_time": "2024-08-26T13:31:25.699Z"
   },
   {
    "duration": 36,
    "start_time": "2024-08-26T13:31:25.724Z"
   },
   {
    "duration": 345,
    "start_time": "2024-08-26T13:31:25.763Z"
   },
   {
    "duration": 19,
    "start_time": "2024-08-26T13:31:26.111Z"
   },
   {
    "duration": 11,
    "start_time": "2024-08-26T13:31:26.155Z"
   },
   {
    "duration": 210,
    "start_time": "2024-08-26T13:31:26.210Z"
   },
   {
    "duration": 6,
    "start_time": "2024-08-26T13:31:26.424Z"
   },
   {
    "duration": 22,
    "start_time": "2024-08-26T13:31:26.433Z"
   },
   {
    "duration": 53,
    "start_time": "2024-08-26T13:31:26.458Z"
   },
   {
    "duration": 209,
    "start_time": "2024-08-26T13:31:26.514Z"
   },
   {
    "duration": 18,
    "start_time": "2024-08-26T13:31:26.726Z"
   },
   {
    "duration": 18,
    "start_time": "2024-08-26T14:36:40.610Z"
   },
   {
    "duration": 467,
    "start_time": "2024-08-26T14:40:59.850Z"
   },
   {
    "duration": 28,
    "start_time": "2024-08-26T14:42:06.721Z"
   },
   {
    "duration": 187,
    "start_time": "2024-08-26T14:42:59.902Z"
   },
   {
    "duration": 200,
    "start_time": "2024-08-26T14:43:54.001Z"
   },
   {
    "duration": 188,
    "start_time": "2024-08-26T14:49:13.194Z"
   },
   {
    "duration": 11,
    "start_time": "2024-08-26T14:54:38.124Z"
   },
   {
    "duration": 854,
    "start_time": "2024-08-26T14:55:10.144Z"
   },
   {
    "duration": 6,
    "start_time": "2024-08-26T14:55:20.478Z"
   },
   {
    "duration": 10,
    "start_time": "2024-08-26T15:03:22.599Z"
   },
   {
    "duration": 13,
    "start_time": "2024-08-26T15:05:26.272Z"
   },
   {
    "duration": 7,
    "start_time": "2024-08-26T15:09:36.445Z"
   },
   {
    "duration": 16,
    "start_time": "2024-08-26T15:09:42.737Z"
   },
   {
    "duration": 16,
    "start_time": "2024-08-26T15:10:26.497Z"
   },
   {
    "duration": 33,
    "start_time": "2024-08-26T15:13:15.413Z"
   },
   {
    "duration": 220,
    "start_time": "2024-08-26T15:13:55.084Z"
   },
   {
    "duration": 303,
    "start_time": "2024-08-26T15:47:04.154Z"
   },
   {
    "duration": 210,
    "start_time": "2024-08-26T15:47:30.376Z"
   },
   {
    "duration": 5,
    "start_time": "2024-08-26T15:48:01.778Z"
   },
   {
    "duration": 7,
    "start_time": "2024-08-26T15:48:36.415Z"
   },
   {
    "duration": 6,
    "start_time": "2024-08-26T15:48:59.115Z"
   },
   {
    "duration": 10,
    "start_time": "2024-08-26T15:52:42.171Z"
   },
   {
    "duration": 6,
    "start_time": "2024-08-26T15:53:02.468Z"
   },
   {
    "duration": 11,
    "start_time": "2024-08-26T15:53:39.560Z"
   },
   {
    "duration": 13,
    "start_time": "2024-08-26T15:53:55.696Z"
   },
   {
    "duration": 21,
    "start_time": "2024-08-26T16:10:05.071Z"
   },
   {
    "duration": 200,
    "start_time": "2024-08-26T16:17:52.267Z"
   },
   {
    "duration": 203,
    "start_time": "2024-08-26T16:19:43.679Z"
   },
   {
    "duration": 199,
    "start_time": "2024-08-26T16:22:20.359Z"
   },
   {
    "duration": 190,
    "start_time": "2024-08-26T16:27:59.114Z"
   },
   {
    "duration": 186,
    "start_time": "2024-08-26T16:28:15.280Z"
   },
   {
    "duration": 200,
    "start_time": "2024-08-26T16:28:24.884Z"
   },
   {
    "duration": 26,
    "start_time": "2024-08-26T16:51:39.893Z"
   },
   {
    "duration": 14,
    "start_time": "2024-08-26T16:51:46.818Z"
   },
   {
    "duration": 12,
    "start_time": "2024-08-26T16:52:00.250Z"
   },
   {
    "duration": 2472,
    "start_time": "2024-08-26T20:53:42.525Z"
   },
   {
    "duration": 20,
    "start_time": "2024-08-26T20:53:44.999Z"
   },
   {
    "duration": 7,
    "start_time": "2024-08-26T20:53:45.021Z"
   },
   {
    "duration": 11,
    "start_time": "2024-08-26T20:53:45.031Z"
   },
   {
    "duration": 10,
    "start_time": "2024-08-26T20:53:45.043Z"
   },
   {
    "duration": 129,
    "start_time": "2024-08-26T20:53:45.055Z"
   },
   {
    "duration": 10,
    "start_time": "2024-08-26T20:53:45.186Z"
   },
   {
    "duration": 6,
    "start_time": "2024-08-26T20:53:45.198Z"
   },
   {
    "duration": 7,
    "start_time": "2024-08-26T20:53:45.206Z"
   },
   {
    "duration": 166,
    "start_time": "2024-08-26T20:53:45.215Z"
   },
   {
    "duration": 10,
    "start_time": "2024-08-26T20:53:45.383Z"
   },
   {
    "duration": 8,
    "start_time": "2024-08-26T20:53:45.394Z"
   },
   {
    "duration": 8,
    "start_time": "2024-08-26T20:53:45.403Z"
   },
   {
    "duration": 26,
    "start_time": "2024-08-26T20:53:45.413Z"
   },
   {
    "duration": 12,
    "start_time": "2024-08-26T20:53:45.440Z"
   },
   {
    "duration": 142,
    "start_time": "2024-08-26T20:53:45.454Z"
   },
   {
    "duration": 14,
    "start_time": "2024-08-26T20:53:45.598Z"
   },
   {
    "duration": 136,
    "start_time": "2024-08-26T20:53:45.613Z"
   },
   {
    "duration": 118,
    "start_time": "2024-08-26T20:53:45.751Z"
   },
   {
    "duration": 9,
    "start_time": "2024-08-26T20:53:45.871Z"
   },
   {
    "duration": 24,
    "start_time": "2024-08-26T20:53:45.882Z"
   },
   {
    "duration": 154,
    "start_time": "2024-08-26T20:53:45.908Z"
   },
   {
    "duration": 11,
    "start_time": "2024-08-26T20:53:46.064Z"
   },
   {
    "duration": 167,
    "start_time": "2024-08-26T20:53:46.076Z"
   },
   {
    "duration": 8,
    "start_time": "2024-08-26T20:53:46.245Z"
   },
   {
    "duration": 6,
    "start_time": "2024-08-26T20:53:46.254Z"
   },
   {
    "duration": 10,
    "start_time": "2024-08-26T20:53:46.262Z"
   },
   {
    "duration": 9,
    "start_time": "2024-08-26T20:53:46.275Z"
   },
   {
    "duration": 140,
    "start_time": "2024-08-26T20:53:46.286Z"
   },
   {
    "duration": 124,
    "start_time": "2024-08-26T20:53:46.428Z"
   },
   {
    "duration": 112,
    "start_time": "2024-08-26T20:53:46.554Z"
   },
   {
    "duration": 9,
    "start_time": "2024-08-26T20:53:46.667Z"
   },
   {
    "duration": 10,
    "start_time": "2024-08-26T20:54:24.902Z"
   },
   {
    "duration": 13,
    "start_time": "2024-08-26T20:55:26.715Z"
   },
   {
    "duration": 218,
    "start_time": "2024-08-26T21:01:09.518Z"
   },
   {
    "duration": 13,
    "start_time": "2024-08-26T21:01:20.053Z"
   },
   {
    "duration": 7,
    "start_time": "2024-08-26T21:06:12.900Z"
   },
   {
    "duration": 5,
    "start_time": "2024-08-26T21:06:40.116Z"
   },
   {
    "duration": 3,
    "start_time": "2024-08-26T21:07:20.007Z"
   },
   {
    "duration": 11,
    "start_time": "2024-08-26T21:07:32.143Z"
   },
   {
    "duration": 26,
    "start_time": "2024-08-26T21:10:40.643Z"
   },
   {
    "duration": 9,
    "start_time": "2024-08-26T21:12:06.577Z"
   },
   {
    "duration": 22,
    "start_time": "2024-08-26T21:12:43.406Z"
   },
   {
    "duration": 14,
    "start_time": "2024-08-26T21:13:38.406Z"
   },
   {
    "duration": 14,
    "start_time": "2024-08-26T21:14:02.427Z"
   },
   {
    "duration": 412,
    "start_time": "2024-08-26T21:14:44.598Z"
   },
   {
    "duration": 45,
    "start_time": "2024-08-26T21:15:19.277Z"
   },
   {
    "duration": 15,
    "start_time": "2024-08-26T21:15:48.629Z"
   },
   {
    "duration": 79,
    "start_time": "2024-08-26T21:18:28.462Z"
   },
   {
    "duration": 183,
    "start_time": "2024-08-26T21:19:01.128Z"
   },
   {
    "duration": 14,
    "start_time": "2024-08-26T21:28:09.346Z"
   },
   {
    "duration": 15,
    "start_time": "2024-08-26T21:30:27.953Z"
   },
   {
    "duration": 136,
    "start_time": "2024-08-26T21:31:37.336Z"
   },
   {
    "duration": 7,
    "start_time": "2024-08-26T21:33:45.586Z"
   },
   {
    "duration": 16,
    "start_time": "2024-08-26T21:33:50.677Z"
   },
   {
    "duration": 7,
    "start_time": "2024-08-26T21:34:36.110Z"
   },
   {
    "duration": 19,
    "start_time": "2024-08-26T21:34:52.681Z"
   },
   {
    "duration": 17,
    "start_time": "2024-08-26T21:35:41.678Z"
   },
   {
    "duration": 17,
    "start_time": "2024-08-26T21:35:56.741Z"
   },
   {
    "duration": 224,
    "start_time": "2024-08-26T21:36:05.679Z"
   },
   {
    "duration": 141,
    "start_time": "2024-08-26T21:36:39.708Z"
   },
   {
    "duration": 14,
    "start_time": "2024-08-26T21:45:45.643Z"
   },
   {
    "duration": 9,
    "start_time": "2024-08-26T21:46:58.473Z"
   },
   {
    "duration": 4869,
    "start_time": "2024-08-27T00:35:07.053Z"
   },
   {
    "duration": 33,
    "start_time": "2024-08-27T00:35:11.927Z"
   },
   {
    "duration": 15,
    "start_time": "2024-08-27T00:35:11.963Z"
   },
   {
    "duration": 17,
    "start_time": "2024-08-27T00:35:11.980Z"
   },
   {
    "duration": 19,
    "start_time": "2024-08-27T00:35:12.002Z"
   },
   {
    "duration": 222,
    "start_time": "2024-08-27T00:35:12.043Z"
   },
   {
    "duration": 16,
    "start_time": "2024-08-27T00:35:12.268Z"
   },
   {
    "duration": 9,
    "start_time": "2024-08-27T00:35:12.287Z"
   },
   {
    "duration": 44,
    "start_time": "2024-08-27T00:35:12.299Z"
   },
   {
    "duration": 289,
    "start_time": "2024-08-27T00:35:12.347Z"
   },
   {
    "duration": 15,
    "start_time": "2024-08-27T00:35:12.643Z"
   },
   {
    "duration": 14,
    "start_time": "2024-08-27T00:35:12.661Z"
   },
   {
    "duration": 14,
    "start_time": "2024-08-27T00:35:12.678Z"
   },
   {
    "duration": 46,
    "start_time": "2024-08-27T00:35:12.700Z"
   },
   {
    "duration": 27,
    "start_time": "2024-08-27T00:35:12.749Z"
   },
   {
    "duration": 263,
    "start_time": "2024-08-27T00:35:12.779Z"
   },
   {
    "duration": 25,
    "start_time": "2024-08-27T00:35:13.045Z"
   },
   {
    "duration": 261,
    "start_time": "2024-08-27T00:35:13.073Z"
   },
   {
    "duration": 270,
    "start_time": "2024-08-27T00:35:13.341Z"
   },
   {
    "duration": 29,
    "start_time": "2024-08-27T00:35:13.613Z"
   },
   {
    "duration": 411,
    "start_time": "2024-08-27T00:35:13.645Z"
   },
   {
    "duration": 0,
    "start_time": "2024-08-27T00:35:14.059Z"
   },
   {
    "duration": 0,
    "start_time": "2024-08-27T00:35:14.061Z"
   },
   {
    "duration": 0,
    "start_time": "2024-08-27T00:35:14.063Z"
   },
   {
    "duration": 0,
    "start_time": "2024-08-27T00:35:14.066Z"
   },
   {
    "duration": 0,
    "start_time": "2024-08-27T00:35:14.068Z"
   },
   {
    "duration": 0,
    "start_time": "2024-08-27T00:35:14.070Z"
   },
   {
    "duration": 0,
    "start_time": "2024-08-27T00:35:14.073Z"
   },
   {
    "duration": 0,
    "start_time": "2024-08-27T00:35:14.075Z"
   },
   {
    "duration": 0,
    "start_time": "2024-08-27T00:35:14.077Z"
   },
   {
    "duration": 0,
    "start_time": "2024-08-27T00:35:14.079Z"
   },
   {
    "duration": 0,
    "start_time": "2024-08-27T00:35:14.081Z"
   },
   {
    "duration": 0,
    "start_time": "2024-08-27T00:35:14.083Z"
   },
   {
    "duration": 0,
    "start_time": "2024-08-27T00:35:14.085Z"
   },
   {
    "duration": 0,
    "start_time": "2024-08-27T00:35:14.088Z"
   },
   {
    "duration": 0,
    "start_time": "2024-08-27T00:35:14.090Z"
   },
   {
    "duration": 34,
    "start_time": "2024-08-27T00:35:28.354Z"
   },
   {
    "duration": 271,
    "start_time": "2024-08-27T00:35:34.315Z"
   },
   {
    "duration": 268,
    "start_time": "2024-08-27T00:41:09.181Z"
   },
   {
    "duration": 14,
    "start_time": "2024-08-27T00:43:34.110Z"
   },
   {
    "duration": 2654,
    "start_time": "2024-08-27T13:59:48.890Z"
   },
   {
    "duration": 42,
    "start_time": "2024-08-27T13:59:51.556Z"
   },
   {
    "duration": 9,
    "start_time": "2024-08-27T13:59:51.600Z"
   },
   {
    "duration": 10,
    "start_time": "2024-08-27T13:59:51.611Z"
   },
   {
    "duration": 11,
    "start_time": "2024-08-27T13:59:51.622Z"
   },
   {
    "duration": 140,
    "start_time": "2024-08-27T13:59:51.634Z"
   },
   {
    "duration": 9,
    "start_time": "2024-08-27T13:59:51.776Z"
   },
   {
    "duration": 5,
    "start_time": "2024-08-27T13:59:51.787Z"
   },
   {
    "duration": 7,
    "start_time": "2024-08-27T13:59:51.794Z"
   },
   {
    "duration": 162,
    "start_time": "2024-08-27T13:59:51.805Z"
   },
   {
    "duration": 13,
    "start_time": "2024-08-27T13:59:51.968Z"
   },
   {
    "duration": 8,
    "start_time": "2024-08-27T13:59:51.983Z"
   },
   {
    "duration": 10,
    "start_time": "2024-08-27T13:59:51.992Z"
   },
   {
    "duration": 6,
    "start_time": "2024-08-27T13:59:52.003Z"
   },
   {
    "duration": 59,
    "start_time": "2024-08-27T13:59:52.010Z"
   },
   {
    "duration": 128,
    "start_time": "2024-08-27T13:59:52.070Z"
   },
   {
    "duration": 13,
    "start_time": "2024-08-27T13:59:52.200Z"
   },
   {
    "duration": 161,
    "start_time": "2024-08-27T13:59:52.215Z"
   },
   {
    "duration": 118,
    "start_time": "2024-08-27T13:59:52.381Z"
   },
   {
    "duration": 8,
    "start_time": "2024-08-27T13:59:52.501Z"
   },
   {
    "duration": 290,
    "start_time": "2024-08-27T13:59:52.511Z"
   },
   {
    "duration": 0,
    "start_time": "2024-08-27T13:59:52.804Z"
   },
   {
    "duration": 0,
    "start_time": "2024-08-27T13:59:52.805Z"
   },
   {
    "duration": 0,
    "start_time": "2024-08-27T13:59:52.806Z"
   },
   {
    "duration": 0,
    "start_time": "2024-08-27T13:59:52.807Z"
   },
   {
    "duration": 0,
    "start_time": "2024-08-27T13:59:52.808Z"
   },
   {
    "duration": 0,
    "start_time": "2024-08-27T13:59:52.809Z"
   },
   {
    "duration": 0,
    "start_time": "2024-08-27T13:59:52.810Z"
   },
   {
    "duration": 0,
    "start_time": "2024-08-27T13:59:52.811Z"
   },
   {
    "duration": 0,
    "start_time": "2024-08-27T13:59:52.812Z"
   },
   {
    "duration": 0,
    "start_time": "2024-08-27T13:59:52.813Z"
   },
   {
    "duration": 0,
    "start_time": "2024-08-27T13:59:52.814Z"
   },
   {
    "duration": 0,
    "start_time": "2024-08-27T13:59:52.815Z"
   },
   {
    "duration": 0,
    "start_time": "2024-08-27T13:59:52.817Z"
   },
   {
    "duration": 0,
    "start_time": "2024-08-27T13:59:52.817Z"
   },
   {
    "duration": 0,
    "start_time": "2024-08-27T13:59:52.818Z"
   },
   {
    "duration": 16,
    "start_time": "2024-08-27T14:00:02.264Z"
   },
   {
    "duration": 788,
    "start_time": "2024-08-27T14:00:23.595Z"
   },
   {
    "duration": 12,
    "start_time": "2024-08-27T14:00:24.385Z"
   },
   {
    "duration": 8,
    "start_time": "2024-08-27T14:00:24.399Z"
   },
   {
    "duration": 9,
    "start_time": "2024-08-27T14:00:24.410Z"
   },
   {
    "duration": 32,
    "start_time": "2024-08-27T14:00:24.423Z"
   },
   {
    "duration": 123,
    "start_time": "2024-08-27T14:00:24.472Z"
   },
   {
    "duration": 9,
    "start_time": "2024-08-27T14:00:24.596Z"
   },
   {
    "duration": 6,
    "start_time": "2024-08-27T14:00:24.608Z"
   },
   {
    "duration": 12,
    "start_time": "2024-08-27T14:00:24.615Z"
   },
   {
    "duration": 167,
    "start_time": "2024-08-27T14:00:24.629Z"
   },
   {
    "duration": 8,
    "start_time": "2024-08-27T14:00:24.798Z"
   },
   {
    "duration": 8,
    "start_time": "2024-08-27T14:00:24.807Z"
   },
   {
    "duration": 9,
    "start_time": "2024-08-27T14:00:24.816Z"
   },
   {
    "duration": 11,
    "start_time": "2024-08-27T14:00:24.859Z"
   },
   {
    "duration": 61,
    "start_time": "2024-08-27T14:00:24.873Z"
   },
   {
    "duration": 141,
    "start_time": "2024-08-27T14:00:24.936Z"
   },
   {
    "duration": 13,
    "start_time": "2024-08-27T14:00:25.078Z"
   },
   {
    "duration": 135,
    "start_time": "2024-08-27T14:00:25.092Z"
   },
   {
    "duration": 135,
    "start_time": "2024-08-27T14:00:25.228Z"
   },
   {
    "duration": 7,
    "start_time": "2024-08-27T14:00:25.365Z"
   },
   {
    "duration": 15,
    "start_time": "2024-08-27T14:00:25.373Z"
   },
   {
    "duration": 161,
    "start_time": "2024-08-27T14:00:25.390Z"
   },
   {
    "duration": 157,
    "start_time": "2024-08-27T14:00:25.552Z"
   },
   {
    "duration": 269,
    "start_time": "2024-08-27T14:00:25.710Z"
   },
   {
    "duration": 0,
    "start_time": "2024-08-27T14:00:25.981Z"
   },
   {
    "duration": 0,
    "start_time": "2024-08-27T14:00:25.982Z"
   },
   {
    "duration": 0,
    "start_time": "2024-08-27T14:00:25.984Z"
   },
   {
    "duration": 0,
    "start_time": "2024-08-27T14:00:25.986Z"
   },
   {
    "duration": 0,
    "start_time": "2024-08-27T14:00:25.987Z"
   },
   {
    "duration": 0,
    "start_time": "2024-08-27T14:00:25.989Z"
   },
   {
    "duration": 0,
    "start_time": "2024-08-27T14:00:25.990Z"
   },
   {
    "duration": 0,
    "start_time": "2024-08-27T14:00:25.992Z"
   },
   {
    "duration": 0,
    "start_time": "2024-08-27T14:00:25.993Z"
   },
   {
    "duration": 0,
    "start_time": "2024-08-27T14:00:25.995Z"
   },
   {
    "duration": 0,
    "start_time": "2024-08-27T14:00:25.996Z"
   },
   {
    "duration": 815,
    "start_time": "2024-08-27T14:00:51.475Z"
   },
   {
    "duration": 11,
    "start_time": "2024-08-27T14:00:52.292Z"
   },
   {
    "duration": 7,
    "start_time": "2024-08-27T14:00:52.305Z"
   },
   {
    "duration": 9,
    "start_time": "2024-08-27T14:00:52.314Z"
   },
   {
    "duration": 11,
    "start_time": "2024-08-27T14:00:52.325Z"
   },
   {
    "duration": 131,
    "start_time": "2024-08-27T14:00:52.348Z"
   },
   {
    "duration": 8,
    "start_time": "2024-08-27T14:00:52.481Z"
   },
   {
    "duration": 5,
    "start_time": "2024-08-27T14:00:52.491Z"
   },
   {
    "duration": 7,
    "start_time": "2024-08-27T14:00:52.497Z"
   },
   {
    "duration": 167,
    "start_time": "2024-08-27T14:00:52.507Z"
   },
   {
    "duration": 7,
    "start_time": "2024-08-27T14:00:52.677Z"
   },
   {
    "duration": 8,
    "start_time": "2024-08-27T14:00:52.686Z"
   },
   {
    "duration": 8,
    "start_time": "2024-08-27T14:00:52.695Z"
   },
   {
    "duration": 5,
    "start_time": "2024-08-27T14:00:52.704Z"
   },
   {
    "duration": 38,
    "start_time": "2024-08-27T14:00:52.711Z"
   },
   {
    "duration": 181,
    "start_time": "2024-08-27T14:00:52.750Z"
   },
   {
    "duration": 26,
    "start_time": "2024-08-27T14:00:52.933Z"
   },
   {
    "duration": 142,
    "start_time": "2024-08-27T14:00:52.960Z"
   },
   {
    "duration": 130,
    "start_time": "2024-08-27T14:00:53.106Z"
   },
   {
    "duration": 18,
    "start_time": "2024-08-27T14:00:53.237Z"
   },
   {
    "duration": 27,
    "start_time": "2024-08-27T14:00:53.261Z"
   },
   {
    "duration": 156,
    "start_time": "2024-08-27T14:00:53.289Z"
   },
   {
    "duration": 171,
    "start_time": "2024-08-27T14:00:53.447Z"
   },
   {
    "duration": 103,
    "start_time": "2024-08-27T14:00:53.620Z"
   },
   {
    "duration": 8,
    "start_time": "2024-08-27T14:00:53.724Z"
   },
   {
    "duration": 46,
    "start_time": "2024-08-27T14:00:53.734Z"
   },
   {
    "duration": 9,
    "start_time": "2024-08-27T14:00:53.782Z"
   },
   {
    "duration": 9,
    "start_time": "2024-08-27T14:00:53.794Z"
   },
   {
    "duration": 113,
    "start_time": "2024-08-27T14:00:53.804Z"
   },
   {
    "duration": 116,
    "start_time": "2024-08-27T14:00:53.919Z"
   },
   {
    "duration": 139,
    "start_time": "2024-08-27T14:00:54.037Z"
   },
   {
    "duration": 9,
    "start_time": "2024-08-27T14:00:54.178Z"
   },
   {
    "duration": 8,
    "start_time": "2024-08-27T14:00:54.188Z"
   },
   {
    "duration": 12,
    "start_time": "2024-08-27T14:00:54.198Z"
   },
   {
    "duration": 10,
    "start_time": "2024-08-27T14:10:10.079Z"
   },
   {
    "duration": 8,
    "start_time": "2024-08-27T14:10:28.107Z"
   },
   {
    "duration": 11,
    "start_time": "2024-08-27T14:10:57.477Z"
   },
   {
    "duration": 331,
    "start_time": "2024-08-27T14:33:05.945Z"
   },
   {
    "duration": 7,
    "start_time": "2024-08-27T14:33:28.036Z"
   },
   {
    "duration": 30,
    "start_time": "2024-08-27T14:34:16.147Z"
   },
   {
    "duration": 8,
    "start_time": "2024-08-27T14:34:36.180Z"
   },
   {
    "duration": 8,
    "start_time": "2024-08-27T14:37:10.476Z"
   },
   {
    "duration": 5,
    "start_time": "2024-08-27T14:38:07.220Z"
   },
   {
    "duration": 8,
    "start_time": "2024-08-27T14:38:15.786Z"
   },
   {
    "duration": 2,
    "start_time": "2024-08-27T14:38:30.922Z"
   },
   {
    "duration": 10,
    "start_time": "2024-08-27T14:38:37.194Z"
   },
   {
    "duration": 8,
    "start_time": "2024-08-27T14:39:22.345Z"
   },
   {
    "duration": 7,
    "start_time": "2024-08-27T14:39:28.777Z"
   },
   {
    "duration": 5,
    "start_time": "2024-08-27T14:44:04.574Z"
   },
   {
    "duration": 14,
    "start_time": "2024-08-27T14:44:10.673Z"
   },
   {
    "duration": 6,
    "start_time": "2024-08-27T14:44:31.139Z"
   },
   {
    "duration": 11,
    "start_time": "2024-08-27T14:45:09.668Z"
   },
   {
    "duration": 24,
    "start_time": "2024-08-27T14:45:34.791Z"
   },
   {
    "duration": 12,
    "start_time": "2024-08-27T14:45:37.331Z"
   },
   {
    "duration": 6,
    "start_time": "2024-08-27T14:46:55.270Z"
   },
   {
    "duration": 29,
    "start_time": "2024-08-27T14:47:03.546Z"
   },
   {
    "duration": 8,
    "start_time": "2024-08-27T14:47:13.048Z"
   },
   {
    "duration": 7,
    "start_time": "2024-08-27T14:47:33.532Z"
   },
   {
    "duration": 12,
    "start_time": "2024-08-27T14:47:44.486Z"
   },
   {
    "duration": 7,
    "start_time": "2024-08-27T14:59:41.309Z"
   },
   {
    "duration": 803,
    "start_time": "2024-08-27T14:59:55.772Z"
   },
   {
    "duration": 15,
    "start_time": "2024-08-27T14:59:56.577Z"
   },
   {
    "duration": 9,
    "start_time": "2024-08-27T14:59:56.593Z"
   },
   {
    "duration": 9,
    "start_time": "2024-08-27T14:59:56.603Z"
   },
   {
    "duration": 10,
    "start_time": "2024-08-27T14:59:56.615Z"
   },
   {
    "duration": 137,
    "start_time": "2024-08-27T14:59:56.626Z"
   },
   {
    "duration": 9,
    "start_time": "2024-08-27T14:59:56.768Z"
   },
   {
    "duration": 7,
    "start_time": "2024-08-27T14:59:56.781Z"
   },
   {
    "duration": 7,
    "start_time": "2024-08-27T14:59:56.790Z"
   },
   {
    "duration": 186,
    "start_time": "2024-08-27T14:59:56.798Z"
   },
   {
    "duration": 10,
    "start_time": "2024-08-27T14:59:56.985Z"
   },
   {
    "duration": 7,
    "start_time": "2024-08-27T14:59:56.998Z"
   },
   {
    "duration": 8,
    "start_time": "2024-08-27T14:59:57.007Z"
   },
   {
    "duration": 7,
    "start_time": "2024-08-27T14:59:57.019Z"
   },
   {
    "duration": 5,
    "start_time": "2024-08-27T14:59:57.027Z"
   },
   {
    "duration": 88,
    "start_time": "2024-08-27T14:59:57.033Z"
   },
   {
    "duration": 137,
    "start_time": "2024-08-27T14:59:57.122Z"
   },
   {
    "duration": 17,
    "start_time": "2024-08-27T14:59:57.260Z"
   },
   {
    "duration": 149,
    "start_time": "2024-08-27T14:59:57.278Z"
   },
   {
    "duration": 114,
    "start_time": "2024-08-27T14:59:57.429Z"
   },
   {
    "duration": 11,
    "start_time": "2024-08-27T14:59:57.553Z"
   },
   {
    "duration": 27,
    "start_time": "2024-08-27T14:59:57.567Z"
   },
   {
    "duration": 178,
    "start_time": "2024-08-27T14:59:57.596Z"
   },
   {
    "duration": 153,
    "start_time": "2024-08-27T14:59:57.776Z"
   },
   {
    "duration": 111,
    "start_time": "2024-08-27T14:59:57.931Z"
   },
   {
    "duration": 33,
    "start_time": "2024-08-27T14:59:58.043Z"
   },
   {
    "duration": 7,
    "start_time": "2024-08-27T14:59:58.078Z"
   },
   {
    "duration": 10,
    "start_time": "2024-08-27T14:59:58.087Z"
   },
   {
    "duration": 9,
    "start_time": "2024-08-27T14:59:58.098Z"
   },
   {
    "duration": 116,
    "start_time": "2024-08-27T14:59:58.108Z"
   },
   {
    "duration": 138,
    "start_time": "2024-08-27T14:59:58.225Z"
   },
   {
    "duration": 115,
    "start_time": "2024-08-27T14:59:58.372Z"
   },
   {
    "duration": 8,
    "start_time": "2024-08-27T14:59:58.489Z"
   },
   {
    "duration": 8,
    "start_time": "2024-08-27T14:59:58.498Z"
   },
   {
    "duration": 12,
    "start_time": "2024-08-27T14:59:58.507Z"
   },
   {
    "duration": 6,
    "start_time": "2024-08-27T15:01:05.236Z"
   },
   {
    "duration": 12,
    "start_time": "2024-08-27T15:01:16.488Z"
   },
   {
    "duration": 4,
    "start_time": "2024-08-27T15:09:06.920Z"
   },
   {
    "duration": 6,
    "start_time": "2024-08-27T15:09:16.941Z"
   },
   {
    "duration": 4,
    "start_time": "2024-08-27T15:12:59.210Z"
   },
   {
    "duration": 4,
    "start_time": "2024-08-27T15:15:19.207Z"
   },
   {
    "duration": 5,
    "start_time": "2024-08-27T15:15:30.346Z"
   },
   {
    "duration": 3,
    "start_time": "2024-08-27T15:15:48.806Z"
   },
   {
    "duration": 4,
    "start_time": "2024-08-27T15:16:05.337Z"
   },
   {
    "duration": 133,
    "start_time": "2024-08-27T15:16:29.405Z"
   },
   {
    "duration": 188,
    "start_time": "2024-08-27T15:17:12.934Z"
   },
   {
    "duration": 4,
    "start_time": "2024-08-27T15:31:02.844Z"
   },
   {
    "duration": 6,
    "start_time": "2024-08-27T15:31:05.987Z"
   },
   {
    "duration": 4,
    "start_time": "2024-08-27T16:13:10.489Z"
   },
   {
    "duration": 6,
    "start_time": "2024-08-27T16:13:26.974Z"
   },
   {
    "duration": 11,
    "start_time": "2024-08-27T16:17:11.821Z"
   },
   {
    "duration": 4,
    "start_time": "2024-08-27T16:17:23.474Z"
   },
   {
    "duration": 5,
    "start_time": "2024-08-27T16:17:30.606Z"
   },
   {
    "duration": 8,
    "start_time": "2024-08-27T16:18:11.357Z"
   },
   {
    "duration": 3,
    "start_time": "2024-08-27T16:18:38.209Z"
   },
   {
    "duration": 12,
    "start_time": "2024-08-27T16:19:00.803Z"
   },
   {
    "duration": 12,
    "start_time": "2024-08-27T16:23:57.418Z"
   },
   {
    "duration": 4,
    "start_time": "2024-08-27T16:26:51.624Z"
   },
   {
    "duration": 2604,
    "start_time": "2024-08-27T20:41:53.070Z"
   },
   {
    "duration": 24,
    "start_time": "2024-08-27T20:41:55.676Z"
   },
   {
    "duration": 9,
    "start_time": "2024-08-27T20:41:55.703Z"
   },
   {
    "duration": 10,
    "start_time": "2024-08-27T20:41:55.713Z"
   },
   {
    "duration": 10,
    "start_time": "2024-08-27T20:41:55.726Z"
   },
   {
    "duration": 139,
    "start_time": "2024-08-27T20:41:55.738Z"
   },
   {
    "duration": 10,
    "start_time": "2024-08-27T20:41:55.879Z"
   },
   {
    "duration": 5,
    "start_time": "2024-08-27T20:41:55.891Z"
   },
   {
    "duration": 7,
    "start_time": "2024-08-27T20:41:55.911Z"
   },
   {
    "duration": 158,
    "start_time": "2024-08-27T20:41:55.920Z"
   },
   {
    "duration": 9,
    "start_time": "2024-08-27T20:41:56.080Z"
   },
   {
    "duration": 21,
    "start_time": "2024-08-27T20:41:56.091Z"
   },
   {
    "duration": 9,
    "start_time": "2024-08-27T20:41:56.114Z"
   },
   {
    "duration": 10,
    "start_time": "2024-08-27T20:41:56.128Z"
   },
   {
    "duration": 5,
    "start_time": "2024-08-27T20:41:56.140Z"
   },
   {
    "duration": 14,
    "start_time": "2024-08-27T20:41:56.146Z"
   },
   {
    "duration": 174,
    "start_time": "2024-08-27T20:41:56.162Z"
   },
   {
    "duration": 14,
    "start_time": "2024-08-27T20:41:56.338Z"
   },
   {
    "duration": 147,
    "start_time": "2024-08-27T20:41:56.355Z"
   },
   {
    "duration": 167,
    "start_time": "2024-08-27T20:41:56.506Z"
   },
   {
    "duration": 9,
    "start_time": "2024-08-27T20:41:56.675Z"
   },
   {
    "duration": 28,
    "start_time": "2024-08-27T20:41:56.685Z"
   },
   {
    "duration": 157,
    "start_time": "2024-08-27T20:41:56.715Z"
   },
   {
    "duration": 139,
    "start_time": "2024-08-27T20:41:56.874Z"
   },
   {
    "duration": 128,
    "start_time": "2024-08-27T20:41:57.016Z"
   },
   {
    "duration": 8,
    "start_time": "2024-08-27T20:41:57.146Z"
   },
   {
    "duration": 7,
    "start_time": "2024-08-27T20:41:57.155Z"
   },
   {
    "duration": 10,
    "start_time": "2024-08-27T20:41:57.163Z"
   },
   {
    "duration": 38,
    "start_time": "2024-08-27T20:41:57.175Z"
   },
   {
    "duration": 113,
    "start_time": "2024-08-27T20:41:57.216Z"
   },
   {
    "duration": 128,
    "start_time": "2024-08-27T20:41:57.330Z"
   },
   {
    "duration": 126,
    "start_time": "2024-08-27T20:41:57.460Z"
   },
   {
    "duration": 9,
    "start_time": "2024-08-27T20:41:57.588Z"
   },
   {
    "duration": 16,
    "start_time": "2024-08-27T20:41:57.598Z"
   },
   {
    "duration": 12,
    "start_time": "2024-08-27T20:41:57.616Z"
   },
   {
    "duration": 7,
    "start_time": "2024-08-27T20:41:57.629Z"
   },
   {
    "duration": 4,
    "start_time": "2024-08-27T20:41:57.637Z"
   },
   {
    "duration": 9,
    "start_time": "2024-08-27T20:41:57.644Z"
   },
   {
    "duration": 4,
    "start_time": "2024-08-27T20:42:08.718Z"
   },
   {
    "duration": 5,
    "start_time": "2024-08-27T20:42:28.646Z"
   },
   {
    "duration": 3,
    "start_time": "2024-08-27T20:42:38.201Z"
   },
   {
    "duration": 650,
    "start_time": "2024-08-27T20:43:03.929Z"
   },
   {
    "duration": 7,
    "start_time": "2024-08-27T20:43:13.352Z"
   },
   {
    "duration": 11,
    "start_time": "2024-08-27T20:44:18.410Z"
   },
   {
    "duration": 7,
    "start_time": "2024-08-27T20:48:55.699Z"
   },
   {
    "duration": 5,
    "start_time": "2024-08-27T20:49:29.150Z"
   },
   {
    "duration": 4,
    "start_time": "2024-08-27T20:49:38.898Z"
   },
   {
    "duration": 6,
    "start_time": "2024-08-27T20:50:03.488Z"
   },
   {
    "duration": 10,
    "start_time": "2024-08-27T20:54:36.937Z"
   },
   {
    "duration": 112,
    "start_time": "2024-08-27T20:55:54.248Z"
   },
   {
    "duration": 15,
    "start_time": "2024-08-27T21:01:03.840Z"
   },
   {
    "duration": 11,
    "start_time": "2024-08-27T21:04:04.571Z"
   },
   {
    "duration": 7,
    "start_time": "2024-08-27T21:05:14.566Z"
   },
   {
    "duration": 4,
    "start_time": "2024-08-27T21:05:57.479Z"
   },
   {
    "duration": 100,
    "start_time": "2024-08-27T21:15:41.425Z"
   },
   {
    "duration": 6,
    "start_time": "2024-08-27T21:15:55.736Z"
   },
   {
    "duration": 4,
    "start_time": "2024-08-27T21:16:41.961Z"
   },
   {
    "duration": 5,
    "start_time": "2024-08-27T21:17:49.967Z"
   },
   {
    "duration": 4,
    "start_time": "2024-08-27T21:19:50.361Z"
   },
   {
    "duration": 6,
    "start_time": "2024-08-27T21:20:56.526Z"
   },
   {
    "duration": 12,
    "start_time": "2024-08-27T21:21:56.189Z"
   },
   {
    "duration": 7,
    "start_time": "2024-08-27T21:23:08.390Z"
   },
   {
    "duration": 5,
    "start_time": "2024-08-27T21:23:28.041Z"
   },
   {
    "duration": 5,
    "start_time": "2024-08-27T21:23:56.295Z"
   },
   {
    "duration": 8,
    "start_time": "2024-08-27T21:28:46.005Z"
   },
   {
    "duration": 8,
    "start_time": "2024-08-27T21:30:15.113Z"
   },
   {
    "duration": 7,
    "start_time": "2024-09-05T20:02:07.111Z"
   },
   {
    "duration": 3,
    "start_time": "2024-09-05T20:03:38.764Z"
   },
   {
    "duration": 3,
    "start_time": "2024-09-05T20:06:02.203Z"
   },
   {
    "duration": 865,
    "start_time": "2024-10-26T14:24:22.634Z"
   },
   {
    "duration": 22,
    "start_time": "2024-10-26T14:24:23.501Z"
   },
   {
    "duration": 8,
    "start_time": "2024-10-26T14:24:23.526Z"
   },
   {
    "duration": 9,
    "start_time": "2024-10-26T14:24:23.536Z"
   },
   {
    "duration": 9,
    "start_time": "2024-10-26T14:24:23.548Z"
   },
   {
    "duration": 138,
    "start_time": "2024-10-26T14:24:23.558Z"
   },
   {
    "duration": 10,
    "start_time": "2024-10-26T14:24:23.697Z"
   },
   {
    "duration": 25,
    "start_time": "2024-10-26T14:24:23.708Z"
   },
   {
    "duration": 7,
    "start_time": "2024-10-26T14:24:23.735Z"
   },
   {
    "duration": 157,
    "start_time": "2024-10-26T14:24:23.746Z"
   },
   {
    "duration": 8,
    "start_time": "2024-10-26T14:24:23.906Z"
   },
   {
    "duration": 20,
    "start_time": "2024-10-26T14:24:23.916Z"
   },
   {
    "duration": 9,
    "start_time": "2024-10-26T14:24:23.938Z"
   },
   {
    "duration": 11,
    "start_time": "2024-10-26T14:24:23.949Z"
   },
   {
    "duration": 5,
    "start_time": "2024-10-26T14:24:23.961Z"
   },
   {
    "duration": 99,
    "start_time": "2024-10-26T14:24:23.968Z"
   },
   {
    "duration": 149,
    "start_time": "2024-10-26T14:24:24.069Z"
   },
   {
    "duration": 22,
    "start_time": "2024-10-26T14:24:24.221Z"
   },
   {
    "duration": 147,
    "start_time": "2024-10-26T14:24:24.246Z"
   },
   {
    "duration": 111,
    "start_time": "2024-10-26T14:24:24.395Z"
   },
   {
    "duration": 9,
    "start_time": "2024-10-26T14:24:24.508Z"
   },
   {
    "duration": 236,
    "start_time": "2024-10-26T14:24:24.519Z"
   },
   {
    "duration": 0,
    "start_time": "2024-10-26T14:24:24.757Z"
   },
   {
    "duration": 0,
    "start_time": "2024-10-26T14:24:24.758Z"
   },
   {
    "duration": 0,
    "start_time": "2024-10-26T14:24:24.759Z"
   },
   {
    "duration": 0,
    "start_time": "2024-10-26T14:24:24.760Z"
   },
   {
    "duration": 0,
    "start_time": "2024-10-26T14:24:24.761Z"
   },
   {
    "duration": 0,
    "start_time": "2024-10-26T14:24:24.762Z"
   },
   {
    "duration": 0,
    "start_time": "2024-10-26T14:24:24.763Z"
   },
   {
    "duration": 0,
    "start_time": "2024-10-26T14:24:24.764Z"
   },
   {
    "duration": 0,
    "start_time": "2024-10-26T14:24:24.765Z"
   },
   {
    "duration": 0,
    "start_time": "2024-10-26T14:24:24.766Z"
   },
   {
    "duration": 0,
    "start_time": "2024-10-26T14:24:24.767Z"
   },
   {
    "duration": 0,
    "start_time": "2024-10-26T14:24:24.768Z"
   },
   {
    "duration": 0,
    "start_time": "2024-10-26T14:24:24.769Z"
   },
   {
    "duration": 0,
    "start_time": "2024-10-26T14:24:24.770Z"
   },
   {
    "duration": 0,
    "start_time": "2024-10-26T14:24:24.772Z"
   },
   {
    "duration": 0,
    "start_time": "2024-10-26T14:24:24.773Z"
   },
   {
    "duration": 0,
    "start_time": "2024-10-26T14:24:24.774Z"
   },
   {
    "duration": 0,
    "start_time": "2024-10-26T14:24:24.775Z"
   },
   {
    "duration": 0,
    "start_time": "2024-10-26T14:24:24.776Z"
   },
   {
    "duration": 16,
    "start_time": "2024-10-26T14:24:49.900Z"
   },
   {
    "duration": 16,
    "start_time": "2024-10-26T14:25:14.553Z"
   },
   {
    "duration": 145,
    "start_time": "2024-10-26T14:25:17.994Z"
   },
   {
    "duration": 135,
    "start_time": "2024-10-26T14:25:21.767Z"
   },
   {
    "duration": 116,
    "start_time": "2024-10-26T14:25:26.946Z"
   },
   {
    "duration": 8,
    "start_time": "2024-10-26T14:25:30.950Z"
   },
   {
    "duration": 101,
    "start_time": "2024-10-26T14:25:34.311Z"
   },
   {
    "duration": 195,
    "start_time": "2024-10-26T14:25:38.747Z"
   },
   {
    "duration": 105,
    "start_time": "2024-10-26T14:25:43.371Z"
   },
   {
    "duration": 9,
    "start_time": "2024-10-26T14:26:00.772Z"
   },
   {
    "duration": 7,
    "start_time": "2024-10-26T14:26:08.783Z"
   },
   {
    "duration": 8,
    "start_time": "2024-10-26T14:26:12.999Z"
   },
   {
    "duration": 6,
    "start_time": "2024-10-26T14:26:15.485Z"
   }
  ],
  "kernelspec": {
   "display_name": "Python 3 (ipykernel)",
   "language": "python",
   "name": "python3"
  },
  "language_info": {
   "codemirror_mode": {
    "name": "ipython",
    "version": 3
   },
   "file_extension": ".py",
   "mimetype": "text/x-python",
   "name": "python",
   "nbconvert_exporter": "python",
   "pygments_lexer": "ipython3",
   "version": "3.9.19"
  },
  "toc": {
   "base_numbering": 1,
   "nav_menu": {},
   "number_sections": true,
   "sideBar": true,
   "skip_h1_title": true,
   "title_cell": "Table of Contents",
   "title_sidebar": "Contents",
   "toc_cell": false,
   "toc_position": {},
   "toc_section_display": true,
   "toc_window_display": false
  }
 },
 "nbformat": 4,
 "nbformat_minor": 2
}
