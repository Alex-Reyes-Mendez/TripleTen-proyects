{
 "cells": [
  {
   "cell_type": "markdown",
   "metadata": {},
   "source": [
    "¡ Hola Alejandro! Como te va?\n",
    "\n",
    "\n",
    "\n",
    " Mi nombre es Facundo Lozano! Y tengo el agrado de ser tu revisor hoy :)\n",
    "\n",
    "\n",
    "\n",
    "Como siempre, a continuación un poco sobre la modalidad de revisión que usaremos:\n",
    "\n",
    "\n",
    "\n",
    " Cuando enccuentro un error por primera vez, simplemente lo señalaré, te dejaré encontrarlo y arreglarlo tú cuenta. Además, a lo largo del texto iré haciendo algunas observaciones sobre mejora en tu código y también haré comentarios sobre tus percepciones sobre el tema. Pero si aún no puedes realizar esta tarea, te daré una pista más precisa en la próxima iteración y también algunos ejemplos prácticos. Estaré abierto a comentarios y discusiones sobre el tema.\n",
    "\n",
    "\n",
    "\n",
    " Encontrará mis comentarios a continuación: **no los mueva, modifique ni elimine**.\n",
    "\n",
    "\n",
    "\n",
    " Puedes encontrar mis comentarios en cuadros verdes, amarillos o rojos como este:\n",
    "\n",
    "\n",
    "\n",
    " <div class=\"alert alert-block alert-success\">\n",
    "\n",
    " <b>Comentario del revisor.</b> <a class=\"tocSkip\"></a>\n",
    "\n",
    "\n",
    "\n",
    " Exito. Todo se ha hecho de forma exitosa.\n",
    "\n",
    " </div>\n",
    "\n",
    "\n",
    "\n",
    " <div class=\"alert alert-block alert-warning\">\n",
    "\n",
    " <b>Comentario del revisor.</b> <a class=\"tocSkip\"></a>\n",
    "\n",
    "\n",
    "\n",
    " Observación. Algunas recomendaciones.\n",
    "\n",
    " </div>\n",
    "\n",
    "\n",
    "\n",
    " <div class=\"alert alert-block alert-danger\">\n",
    "\n",
    "\n",
    "\n",
    " <b>Comentario del revisor.</b> <a class=\"tocSkip\"></a>\n",
    "\n",
    "\n",
    "\n",
    " Necesita arreglos. Este apartado necesita algunas correcciones. El trabajo no puede ser aceptado con comentarios rojos.\n",
    "\n",
    " </div>\n",
    "\n",
    "\n",
    "\n",
    " Puedes responder utilizando esto:\n",
    "\n",
    "\n",
    "\n",
    " <div class=\"alert alert-block alert-info\">\n",
    "\n",
    " <b>Respuesta de estudiante.</b> <a class=\"tocSkip\"></a>\n",
    "\n",
    " </div>"
   ]
  },
  {
   "cell_type": "markdown",
   "metadata": {},
   "source": [
    "# Introduccion general del proyecto\n",
    "## Este proyecto  trata de hacer un estudio de mercado de los establecimientos que hay en  Los Ángeles.  El objetivo es poder realizar recomendaciones a inversionistas sobre que tipo de negocio , en que lugares y con cuanta capacidad deberian invertir .\n",
    "**Este proyecto constara de 3 etapas:**\n",
    "\n",
    "**Preprocesamiento de datos**\n",
    "\n",
    "**Analisis de datos.**\n",
    "\n",
    "**Conclusiones y recomendaciones**\n",
    "\n"
   ]
  },
  {
   "cell_type": "markdown",
   "metadata": {},
   "source": [
    "<div class=\"alert alert-block alert-success\">\n",
    "<b>Review General. (Iteración 3) </b> <a class=\"tocSkip\"></a>\n",
    "\n",
    "Hola Alejandro! Felicitaciones porque has corregido los detalles marcados en nuestra iteración anterior. Ahora si este proyecto está en total condiciones de ser aprobado, bien hecho!\n",
    "    \n",
    "Éxitos en tu camino dentro del mundo de los datos y saludos!"
   ]
  },
  {
   "cell_type": "markdown",
   "metadata": {},
   "source": [
    "<div class=\"alert alert-block alert-success\">\n",
    "<b>Review General. (Iteración 2) </b> <a class=\"tocSkip\"></a>\n",
    "\n",
    "Un gran avance Alejandro! Nos hemos acercado a la solución que buscamos, sin embargo aun debemos realizar algunas mejoras. Te he dejado un nuevo comentario en rojo con un mayor contexto para que puedas resolver el ejercicio.\n",
    "    \n",
    "Espero nuevamente a nuestra próxima iteración que estoy seguro que sera nuestra ultima :)\n",
    "    \n",
    "Exitos y saludos!"
   ]
  },
  {
   "cell_type": "markdown",
   "metadata": {},
   "source": [
    "<div class=\"alert alert-block alert-success\">\n",
    "<b>Review General. (Iteración 1) </b> <a class=\"tocSkip\"></a>\n",
    "\n",
    "Alejandro, siempre me tomo este tiempo al inicio del proyecto para comentar mis apreciaciones generales de esta primera iteración de la entrega.\n",
    "\n",
    "Siempre me gusta comenzar dando la bienvenida al mundo de los datos a los estudiantes, te deseo lo mejor y espero que consigas lograr tus objetivos. Personalmente siempre me gusta brindar el siguiente consejo, \"Está bien equivocarse, es normal y es lo mejor que te puede pasar. Aprendemos de los errores y eso te hará mejor programando ya que podrás descubrir cosas a medida que avances y son estas cosas las que te darán esa experiencia para ser mejor como Data Analyst\"\n",
    "    \n",
    "Ahora si yendo a esta notebook. Quiero felicitarte y agradecerte por este proyecto Alejandro, lo has resuelto de una forma espectacular, se ha notado a lo largo de todo el proceso tu gran manejo sobre python y las librerías que debían utilizarse. A la vez quiero destacar tu compromiso porque no solo has resuelto sino que lo has resuelto con creces. Más allá de algunos detalles a corregir el trabajo esta muy completo! Por ùltimo, te pido que revises el link de acceso a la presentación final así puedo corregirla. Espero con ansias la próxima iteración.\n",
    "\n",
    "Éxitos y saludos Alejandro!"
   ]
  },
  {
   "cell_type": "code",
   "execution_count": 1,
   "metadata": {},
   "outputs": [],
   "source": [
    "#Importamos las librerias correspondientes\n",
    "import pandas as pd\n",
    "import seaborn as sns\n",
    "import numpy as np\n",
    "import matplotlib.pyplot as plt\n",
    "import scipy.stats as st \n",
    "import re"
   ]
  },
  {
   "cell_type": "code",
   "execution_count": 2,
   "metadata": {},
   "outputs": [],
   "source": [
    "sns.set_theme()"
   ]
  },
  {
   "cell_type": "code",
   "execution_count": 3,
   "metadata": {},
   "outputs": [],
   "source": [
    "#Leemos los datasets que vamos a utilizar\n",
    "df = pd.read_csv('/datasets/rest_data_us_upd.csv')\n"
   ]
  },
  {
   "cell_type": "code",
   "execution_count": 4,
   "metadata": {},
   "outputs": [
    {
     "data": {
      "text/plain": [
       "array(['Cafe', 'Restaurant', 'Fast Food', 'Bakery', 'Bar', 'Pizza'],\n",
       "      dtype=object)"
      ]
     },
     "execution_count": 4,
     "metadata": {},
     "output_type": "execute_result"
    }
   ],
   "source": [
    "df['object_type'].unique()"
   ]
  },
  {
   "cell_type": "code",
   "execution_count": 5,
   "metadata": {},
   "outputs": [
    {
     "name": "stdout",
     "output_type": "stream",
     "text": [
      "<class 'pandas.core.frame.DataFrame'>\n",
      "RangeIndex: 9651 entries, 0 to 9650\n",
      "Data columns (total 6 columns):\n",
      " #   Column       Non-Null Count  Dtype \n",
      "---  ------       --------------  ----- \n",
      " 0   id           9651 non-null   int64 \n",
      " 1   object_name  9651 non-null   object\n",
      " 2   address      9651 non-null   object\n",
      " 3   chain        9648 non-null   object\n",
      " 4   object_type  9651 non-null   object\n",
      " 5   number       9651 non-null   int64 \n",
      "dtypes: int64(2), object(4)\n",
      "memory usage: 452.5+ KB\n"
     ]
    }
   ],
   "source": [
    "#Hacemos una visualizacion general de los datos\n",
    "df.info()"
   ]
  },
  {
   "cell_type": "code",
   "execution_count": 6,
   "metadata": {},
   "outputs": [
    {
     "data": {
      "text/html": [
       "<div>\n",
       "<style scoped>\n",
       "    .dataframe tbody tr th:only-of-type {\n",
       "        vertical-align: middle;\n",
       "    }\n",
       "\n",
       "    .dataframe tbody tr th {\n",
       "        vertical-align: top;\n",
       "    }\n",
       "\n",
       "    .dataframe thead th {\n",
       "        text-align: right;\n",
       "    }\n",
       "</style>\n",
       "<table border=\"1\" class=\"dataframe\">\n",
       "  <thead>\n",
       "    <tr style=\"text-align: right;\">\n",
       "      <th></th>\n",
       "      <th>id</th>\n",
       "      <th>number</th>\n",
       "    </tr>\n",
       "  </thead>\n",
       "  <tbody>\n",
       "    <tr>\n",
       "      <th>count</th>\n",
       "      <td>9651.000000</td>\n",
       "      <td>9651.000000</td>\n",
       "    </tr>\n",
       "    <tr>\n",
       "      <th>mean</th>\n",
       "      <td>16611.000000</td>\n",
       "      <td>43.695161</td>\n",
       "    </tr>\n",
       "    <tr>\n",
       "      <th>std</th>\n",
       "      <td>2786.148058</td>\n",
       "      <td>47.622874</td>\n",
       "    </tr>\n",
       "    <tr>\n",
       "      <th>min</th>\n",
       "      <td>11786.000000</td>\n",
       "      <td>1.000000</td>\n",
       "    </tr>\n",
       "    <tr>\n",
       "      <th>25%</th>\n",
       "      <td>14198.500000</td>\n",
       "      <td>14.000000</td>\n",
       "    </tr>\n",
       "    <tr>\n",
       "      <th>50%</th>\n",
       "      <td>16611.000000</td>\n",
       "      <td>27.000000</td>\n",
       "    </tr>\n",
       "    <tr>\n",
       "      <th>75%</th>\n",
       "      <td>19023.500000</td>\n",
       "      <td>46.000000</td>\n",
       "    </tr>\n",
       "    <tr>\n",
       "      <th>max</th>\n",
       "      <td>21436.000000</td>\n",
       "      <td>229.000000</td>\n",
       "    </tr>\n",
       "  </tbody>\n",
       "</table>\n",
       "</div>"
      ],
      "text/plain": [
       "                 id       number\n",
       "count   9651.000000  9651.000000\n",
       "mean   16611.000000    43.695161\n",
       "std     2786.148058    47.622874\n",
       "min    11786.000000     1.000000\n",
       "25%    14198.500000    14.000000\n",
       "50%    16611.000000    27.000000\n",
       "75%    19023.500000    46.000000\n",
       "max    21436.000000   229.000000"
      ]
     },
     "execution_count": 6,
     "metadata": {},
     "output_type": "execute_result"
    }
   ],
   "source": [
    "df.describe()"
   ]
  },
  {
   "cell_type": "code",
   "execution_count": 7,
   "metadata": {},
   "outputs": [
    {
     "data": {
      "text/plain": [
       "<AxesSubplot:>"
      ]
     },
     "execution_count": 7,
     "metadata": {},
     "output_type": "execute_result"
    },
    {
     "data": {
      "image/png": "[encoded data removed]",
      "text/plain": [
       "<Figure size 640x480 with 1 Axes>"
      ]
     },
     "metadata": {},
     "output_type": "display_data"
    }
   ],
   "source": [
    "df['number'].hist()"
   ]
  },
  {
   "cell_type": "code",
   "execution_count": 8,
   "metadata": {},
   "outputs": [
    {
     "data": {
      "text/html": [
       "<div>\n",
       "<style scoped>\n",
       "    .dataframe tbody tr th:only-of-type {\n",
       "        vertical-align: middle;\n",
       "    }\n",
       "\n",
       "    .dataframe tbody tr th {\n",
       "        vertical-align: top;\n",
       "    }\n",
       "\n",
       "    .dataframe thead th {\n",
       "        text-align: right;\n",
       "    }\n",
       "</style>\n",
       "<table border=\"1\" class=\"dataframe\">\n",
       "  <thead>\n",
       "    <tr style=\"text-align: right;\">\n",
       "      <th></th>\n",
       "      <th>id</th>\n",
       "      <th>object_name</th>\n",
       "      <th>address</th>\n",
       "      <th>chain</th>\n",
       "      <th>object_type</th>\n",
       "      <th>number</th>\n",
       "    </tr>\n",
       "  </thead>\n",
       "  <tbody>\n",
       "    <tr>\n",
       "      <th>0</th>\n",
       "      <td>11786</td>\n",
       "      <td>HABITAT COFFEE SHOP</td>\n",
       "      <td>3708 N EAGLE ROCK BLVD</td>\n",
       "      <td>False</td>\n",
       "      <td>Cafe</td>\n",
       "      <td>26</td>\n",
       "    </tr>\n",
       "    <tr>\n",
       "      <th>1</th>\n",
       "      <td>11787</td>\n",
       "      <td>REILLY'S</td>\n",
       "      <td>100 WORLD WAY 120</td>\n",
       "      <td>False</td>\n",
       "      <td>Restaurant</td>\n",
       "      <td>9</td>\n",
       "    </tr>\n",
       "    <tr>\n",
       "      <th>2</th>\n",
       "      <td>11788</td>\n",
       "      <td>STREET CHURROS</td>\n",
       "      <td>6801 HOLLYWOOD BLVD 253</td>\n",
       "      <td>False</td>\n",
       "      <td>Fast Food</td>\n",
       "      <td>20</td>\n",
       "    </tr>\n",
       "    <tr>\n",
       "      <th>3</th>\n",
       "      <td>11789</td>\n",
       "      <td>TRINITI ECHO PARK</td>\n",
       "      <td>1814 W SUNSET BLVD</td>\n",
       "      <td>False</td>\n",
       "      <td>Restaurant</td>\n",
       "      <td>22</td>\n",
       "    </tr>\n",
       "    <tr>\n",
       "      <th>4</th>\n",
       "      <td>11790</td>\n",
       "      <td>POLLEN</td>\n",
       "      <td>2100 ECHO PARK AVE</td>\n",
       "      <td>False</td>\n",
       "      <td>Restaurant</td>\n",
       "      <td>20</td>\n",
       "    </tr>\n",
       "    <tr>\n",
       "      <th>...</th>\n",
       "      <td>...</td>\n",
       "      <td>...</td>\n",
       "      <td>...</td>\n",
       "      <td>...</td>\n",
       "      <td>...</td>\n",
       "      <td>...</td>\n",
       "    </tr>\n",
       "    <tr>\n",
       "      <th>9646</th>\n",
       "      <td>21432</td>\n",
       "      <td>HALL OF JUSTICE</td>\n",
       "      <td>217 W TEMPLE AVE</td>\n",
       "      <td>False</td>\n",
       "      <td>Restaurant</td>\n",
       "      <td>122</td>\n",
       "    </tr>\n",
       "    <tr>\n",
       "      <th>9647</th>\n",
       "      <td>21433</td>\n",
       "      <td>FIN-MELROSE</td>\n",
       "      <td>5750 MELROSE AVE</td>\n",
       "      <td>False</td>\n",
       "      <td>Restaurant</td>\n",
       "      <td>93</td>\n",
       "    </tr>\n",
       "    <tr>\n",
       "      <th>9648</th>\n",
       "      <td>21434</td>\n",
       "      <td>JUICY WINGZ</td>\n",
       "      <td>6741 HOLLYWOOD BLVD</td>\n",
       "      <td>True</td>\n",
       "      <td>Fast Food</td>\n",
       "      <td>15</td>\n",
       "    </tr>\n",
       "    <tr>\n",
       "      <th>9649</th>\n",
       "      <td>21435</td>\n",
       "      <td>MEDIDATE COFFEE</td>\n",
       "      <td>548 S SPRING ST STE 100</td>\n",
       "      <td>False</td>\n",
       "      <td>Cafe</td>\n",
       "      <td>6</td>\n",
       "    </tr>\n",
       "    <tr>\n",
       "      <th>9650</th>\n",
       "      <td>21436</td>\n",
       "      <td>CAFE SPROUTS</td>\n",
       "      <td>1300 S SAN PEDRO ST STE 111</td>\n",
       "      <td>True</td>\n",
       "      <td>Restaurant</td>\n",
       "      <td>19</td>\n",
       "    </tr>\n",
       "  </tbody>\n",
       "</table>\n",
       "<p>9651 rows × 6 columns</p>\n",
       "</div>"
      ],
      "text/plain": [
       "         id          object_name                      address  chain  \\\n",
       "0     11786  HABITAT COFFEE SHOP       3708 N EAGLE ROCK BLVD  False   \n",
       "1     11787             REILLY'S            100 WORLD WAY 120  False   \n",
       "2     11788       STREET CHURROS      6801 HOLLYWOOD BLVD 253  False   \n",
       "3     11789    TRINITI ECHO PARK           1814 W SUNSET BLVD  False   \n",
       "4     11790               POLLEN           2100 ECHO PARK AVE  False   \n",
       "...     ...                  ...                          ...    ...   \n",
       "9646  21432      HALL OF JUSTICE             217 W TEMPLE AVE  False   \n",
       "9647  21433          FIN-MELROSE             5750 MELROSE AVE  False   \n",
       "9648  21434          JUICY WINGZ          6741 HOLLYWOOD BLVD   True   \n",
       "9649  21435      MEDIDATE COFFEE      548 S SPRING ST STE 100  False   \n",
       "9650  21436         CAFE SPROUTS  1300 S SAN PEDRO ST STE 111   True   \n",
       "\n",
       "     object_type  number  \n",
       "0           Cafe      26  \n",
       "1     Restaurant       9  \n",
       "2      Fast Food      20  \n",
       "3     Restaurant      22  \n",
       "4     Restaurant      20  \n",
       "...          ...     ...  \n",
       "9646  Restaurant     122  \n",
       "9647  Restaurant      93  \n",
       "9648   Fast Food      15  \n",
       "9649        Cafe       6  \n",
       "9650  Restaurant      19  \n",
       "\n",
       "[9651 rows x 6 columns]"
      ]
     },
     "execution_count": 8,
     "metadata": {},
     "output_type": "execute_result"
    }
   ],
   "source": [
    "df"
   ]
  },
  {
   "cell_type": "markdown",
   "metadata": {},
   "source": [
    "<div class=\"alert alert-block alert-success\">\n",
    "\n",
    "<b>Comentario del revisor. (Iteración 1)</b> <a class=\"tocSkip\"></a>\n",
    "\n",
    "Alejandro, bien realizada la importaciòn y una primera exploración de la base de datos!"
   ]
  },
  {
   "cell_type": "code",
   "execution_count": 9,
   "metadata": {},
   "outputs": [],
   "source": [
    "#comvertimos los valores de True y False de la columna 'chain' a 0 y 1 para una mejor procesamiento de datos \n",
    "#rellenamos con 0 los valores nulos de la columna 'chain' ya que son muy pocos (3) y no afectarian nuestro analisis.\n",
    "\n",
    "df['chain']= df['chain'].map({False:0,True:1})\n",
    "df=df.fillna(0.0)"
   ]
  },
  {
   "cell_type": "code",
   "execution_count": 10,
   "metadata": {},
   "outputs": [
    {
     "data": {
      "text/plain": [
       "0"
      ]
     },
     "execution_count": 10,
     "metadata": {},
     "output_type": "execute_result"
    }
   ],
   "source": [
    "#revisamos si no hay cuplicados en el df\n",
    "df.duplicated().sum()"
   ]
  },
  {
   "cell_type": "markdown",
   "metadata": {},
   "source": [
    "No se encontraron duplicados"
   ]
  },
  {
   "cell_type": "markdown",
   "metadata": {},
   "source": [
    "<div class=\"alert alert-block alert-success\">\n",
    "\n",
    "<b>Comentario del revisor. (Iteración 1)</b> <a class=\"tocSkip\"></a>\n",
    "\n",
    "Y aquì un buen anàlisis para identificar duplicados y ver valores ausentes. Bien hecho!"
   ]
  },
  {
   "cell_type": "code",
   "execution_count": 11,
   "metadata": {},
   "outputs": [
    {
     "data": {
      "text/plain": [
       "<AxesSubplot:title={'center':'Proportions of different types pf estabishments'}, xlabel='object_type'>"
      ]
     },
     "execution_count": 11,
     "metadata": {},
     "output_type": "execute_result"
    },
    {
     "data": {
      "image/png": "[encoded data removed]",
      "text/plain": [
       "<Figure size 640x480 with 1 Axes>"
      ]
     },
     "metadata": {},
     "output_type": "display_data"
    }
   ],
   "source": [
    "#Investiga las proporciones de los distintos tipos de establecimientos. Traza un gráfico.\n",
    "\n",
    "df_agropated=(df\n",
    "              .groupby('object_type')['id']\n",
    "              .sum()/df['id']\n",
    "              .sum()\n",
    "              \n",
    "             )\n",
    "df_agroup = (df_agropated\n",
    "             .to_frame()\n",
    "             .sort_values(by='object_type')\n",
    "             .reset_index()\n",
    "            )\n",
    "df_agroup.plot(kind='bar',x='object_type',y='id',legend = False,title='Proportions of different types pf estabishments')"
   ]
  },
  {
   "cell_type": "markdown",
   "metadata": {},
   "source": [
    "<div class=\"alert alert-block alert-success\">\n",
    "\n",
    "<b>Comentario del revisor. (Iteración 1)</b> <a class=\"tocSkip\"></a>\n",
    "\n",
    "Excelente análisis y comprensión del mismo Alejandro, hemos logrado el objetivo de visualizar las proporciones de los establecimientos, excelente! "
   ]
  },
  {
   "cell_type": "code",
   "execution_count": 12,
   "metadata": {},
   "outputs": [
    {
     "data": {
      "image/png": "[encoded data removed]",
      "text/plain": [
       "<Figure size 600x600 with 1 Axes>"
      ]
     },
     "metadata": {},
     "output_type": "display_data"
    }
   ],
   "source": [
    "#Realizamos una gráfica de pie para visualizar mejor las proporciones\n",
    "sns.set_style(\"whitegrid\")\n",
    "plt.figure(figsize=(6,6))\n",
    "plt.pie(df_agroup['id'], labels=df_agroup['object_type'], autopct='%1.1f%%')\n",
    "\n",
    "plt.title('Distribucion de establecimientos en L.A ')\n",
    "plt.show()"
   ]
  },
  {
   "cell_type": "markdown",
   "metadata": {},
   "source": [
    "**Podemos observar que el numero de resaturantes tiene una proporcion de  82.7% siendo notablemente mayor que las demas tipos de establecimientos como las pastelerias que representan solo el 1.5%**"
   ]
  },
  {
   "cell_type": "markdown",
   "metadata": {},
   "source": [
    "<div class=\"alert alert-block alert-success\">\n",
    "\n",
    "<b>Comentario del revisor. (Iteración 1)</b> <a class=\"tocSkip\"></a>\n",
    "\n",
    "Excelente! "
   ]
  },
  {
   "cell_type": "code",
   "execution_count": 13,
   "metadata": {},
   "outputs": [
    {
     "data": {
      "image/png": "[encoded data removed]",
      "text/plain": [
       "<Figure size 600x600 with 1 Axes>"
      ]
     },
     "metadata": {},
     "output_type": "display_data"
    },
    {
     "data": {
      "text/html": [
       "<div>\n",
       "<style scoped>\n",
       "    .dataframe tbody tr th:only-of-type {\n",
       "        vertical-align: middle;\n",
       "    }\n",
       "\n",
       "    .dataframe tbody tr th {\n",
       "        vertical-align: top;\n",
       "    }\n",
       "\n",
       "    .dataframe thead th {\n",
       "        text-align: right;\n",
       "    }\n",
       "</style>\n",
       "<table border=\"1\" class=\"dataframe\">\n",
       "  <thead>\n",
       "    <tr style=\"text-align: right;\">\n",
       "      <th></th>\n",
       "      <th>chain</th>\n",
       "      <th>Proportion of chains</th>\n",
       "    </tr>\n",
       "  </thead>\n",
       "  <tbody>\n",
       "    <tr>\n",
       "      <th>0</th>\n",
       "      <td>0.0</td>\n",
       "      <td>0.619107</td>\n",
       "    </tr>\n",
       "    <tr>\n",
       "      <th>1</th>\n",
       "      <td>1.0</td>\n",
       "      <td>0.380893</td>\n",
       "    </tr>\n",
       "  </tbody>\n",
       "</table>\n",
       "</div>"
      ],
      "text/plain": [
       "   chain  Proportion of chains\n",
       "0    0.0              0.619107\n",
       "1    1.0              0.380893"
      ]
     },
     "execution_count": 13,
     "metadata": {},
     "output_type": "execute_result"
    }
   ],
   "source": [
    "#Investiga las proporciones de los establecimientos que pertenecen a una cadena y de los que no. Traza un gráfico.\n",
    "df_chains=df.groupby('chain')['object_type'].count()/9651\n",
    "df_chains=(df_chains\n",
    "           .to_frame()\n",
    "           .reset_index()\n",
    "           .rename(columns={'object_type':'Proportion of chains'})\n",
    "          )\n",
    "\n",
    "df_chains\n",
    "sns.set_style('whitegrid')\n",
    "plt.figure(figsize=(6,6))\n",
    "plt.pie(df_chains['Proportion of chains'], labels=df_chains['chain'], autopct='%1.1f%%')\n",
    "#((''(data=df_chains,x='chain',y='Proportion of chains').set_title('Proportion of chains')\n",
    "\n",
    "plt.show()\n",
    "df_chains"
   ]
  },
  {
   "cell_type": "markdown",
   "metadata": {},
   "source": [
    "Podemos observar que el 61.9 de negocios no son cadenas mientras que el 38.1 si lo son."
   ]
  },
  {
   "cell_type": "markdown",
   "metadata": {},
   "source": [
    "<div class=\"alert alert-block alert-success\">\n",
    "\n",
    "<b>Comentario del revisor. (Iteración 1)</b> <a class=\"tocSkip\"></a>\n",
    "\n",
    "Y aquí un gráfico ideal para poder visualizar por tipo de establecimiento las cadenas, impresionante!"
   ]
  },
  {
   "cell_type": "code",
   "execution_count": 14,
   "metadata": {},
   "outputs": [
    {
     "data": {
      "text/plain": [
       "(3676, 6)"
      ]
     },
     "execution_count": 14,
     "metadata": {},
     "output_type": "execute_result"
    }
   ],
   "source": [
    "df[df['chain']==1].shape"
   ]
  },
  {
   "cell_type": "markdown",
   "metadata": {},
   "source": [
    "¿Qué tipo de establecimiento es habitualmente una cadena?"
   ]
  },
  {
   "cell_type": "code",
   "execution_count": 15,
   "metadata": {},
   "outputs": [
    {
     "data": {
      "image/png": "[encoded data removed]",
      "text/plain": [
       "<Figure size 640x480 with 1 Axes>"
      ]
     },
     "metadata": {},
     "output_type": "display_data"
    }
   ],
   "source": [
    "#Sacamos las proporciones de las cadenas para cada establecimiento.\n",
    "#divido la cantidad de, por ejemplo, restaurantes que si son cadenas sobre los que no son cadenas\n",
    "df_agroup2 =(df\n",
    "             .groupby('object_type')['chain']\n",
    "             .sum()\n",
    "             .sort_values(ascending=False)/ (df[df['chain']==0].shape[0])\n",
    "            \n",
    "            )\n",
    "df_agroup2\n",
    "df_agroup2=df_agroup2.to_frame().reset_index().rename(columns={'chain':'number of chains'})\n",
    "sns.barplot(data=df_agroup2,x='object_type',y='number of chains')\n",
    "plt.title('La distribucion de cadenas en L.A ')\n",
    "plt.show()\n"
   ]
  },
  {
   "cell_type": "code",
   "execution_count": 16,
   "metadata": {
    "scrolled": true
   },
   "outputs": [
    {
     "data": {
      "text/plain": [
       "<AxesSubplot:xlabel='object_type'>"
      ]
     },
     "execution_count": 16,
     "metadata": {},
     "output_type": "execute_result"
    },
    {
     "data": {
      "image/png": "[encoded data removed]",
      "text/plain": [
       "<Figure size 640x480 with 1 Axes>"
      ]
     },
     "metadata": {},
     "output_type": "display_data"
    }
   ],
   "source": [
    "\n",
    "proporcion_cadena=df[df['chain']==1].groupby('object_type')['chain'].count()\n",
    "proporcion_sin_cadena=df[df['chain']==0].groupby('object_type')['chain'].count()\n",
    "\n",
    "\n",
    "results_of_proportions=proporcion_cadena/(proporcion_sin_cadena + proporcion_cadena)\n",
    "#results_of_proportions.plot(kind='bar')\n",
    "results_of_proportions.sort_values().plot(kind='bar')\n",
    "    \n",
    "    \n",
    "    "
   ]
  },
  {
   "cell_type": "code",
   "execution_count": 17,
   "metadata": {},
   "outputs": [
    {
     "data": {
      "text/plain": [
       "1.0    283\n",
       "Name: chain, dtype: int64"
      ]
     },
     "execution_count": 17,
     "metadata": {},
     "output_type": "execute_result"
    }
   ],
   "source": [
    "#Podemos ver que las pastelerias solo son cadenas\n",
    "df[df['object_type']=='Bakery']['chain'].value_counts()"
   ]
  },
  {
   "cell_type": "markdown",
   "metadata": {},
   "source": []
  },
  {
   "cell_type": "markdown",
   "metadata": {},
   "source": [
    "Podemos ver que los restaurantes representan el 62.4 de las cadenas, mientras que los bare son los  que menos tienen. Algo interesante es que las pastelerias ocupan el 3er lugar  apesar de ser minoria entre todos los tipos de negocios."
   ]
  },
  {
   "cell_type": "markdown",
   "metadata": {},
   "source": [
    "<div class=\"alert alert-block alert-warning\">\n",
    "\n",
    "<b>Comentario del revisor. (Iteración 1)</b> <a class=\"tocSkip\"></a>\n",
    "\n",
    "Cuidado aquí Alejandro, la intención es correcta pero deberíamos cambiar el enfoque. Si queremos corroborar que tipo de establecimiento es habitualmente una cadena no debemos simplemente contabilizar la cantidad de cadenas que hay por establecimiento a nivel general sino ver el porcentaje del mismo, es decir sobre los restaurantes, ¿cuál es el porcentaje de restaurantes que son cadenas? ¿y sobre bakery?, es decir que si bakery tiene 9 cadenas sobre 10 establecimientos tiene un 90% de cadenas mientras que si restaurante tiene 20 de 100 significa que un 20% es habitualmente cadena, etc. Tratemos de corregirlo pero con este nuevo enfoque que te comento. :)"
   ]
  },
  {
   "cell_type": "markdown",
   "metadata": {},
   "source": [
    " <div class=\"alert alert-block alert-info\">\n",
    "\n",
    " <b>Respuesta de estudiante:Listo, cambienmos la suma por las proporciones de las cadenas para cada establecimiento.</b> <a class=\"tocSkip\"></a>\n",
    "\n",
    " </div>"
   ]
  },
  {
   "cell_type": "markdown",
   "metadata": {},
   "source": [
    " <div class=\"alert alert-block alert-info\">\n",
    "\n",
    " <b>Respuesta de estudiante:Listo, en el primer codigo,dividi la cantidad de cada establecimiento que son cadenas entre los que no son cadena, despues realice otra operacion que fue esta:'results_of_proportions=proporcion_cadena/(proporcion_sin_cadena + proporcion_cadena), y que me dijieron que de esa forma era en el colearning pero tengo dudas por que dice que Bakery tienen 'Nan' no se por que me aparece nan pero dejo las dos opciones para que me digas cual es la correcta y poder ya continuar al otro sprint, gracias.</b> <a class=\"tocSkip\"></a>\n",
    "\n",
    " </div>"
   ]
  },
  {
   "cell_type": "markdown",
   "metadata": {},
   "source": [
    "<div class=\"alert alert-block alert-warning\">\n",
    "\n",
    "<b>Comentario del revisor. (Iteración 3)</b> <a class=\"tocSkip\"></a>\n",
    "\n",
    "Alejandro, Un gran avance! Nos hemos acercado a la solución que buscamos, sin embargo todavía no llegamos a responder correctamente la consigna. ¿Que establecimiento es habitualmente una cadena?, es decir si se abre una cadena que establecimiento tiene mayor probabilidad de ser? Calcula los porcentajes relativos por tipo de establecimiento, es decir por ejemplo de Bakery cual es el porcentaje de cadenas sobre ellos?\n",
    "    \n",
    "La pista es buscar dividir la cantidad de, por ejemplo, restaurantes que si son cadenas sobre los que no son cadenas y así con cada tipo de establecimiento. \n",
    "    "
   ]
  },
  {
   "cell_type": "markdown",
   "metadata": {},
   "source": [
    "<div class=\"alert alert-block alert-warning\">\n",
    "\n",
    "<b>Comentario del revisor. (Iteración 3)</b> <a class=\"tocSkip\"></a>\n",
    "    \n",
    "Alejandro, ahì veo que has podido llegar a la conclusión correcta: efectivamente TODAS las bakery corresponden a cadenas. Aún así, estaría bueno pensar en un gráfico que te permita inferir de manera más clara esa conclusión. Por ejemplo, haciendo columnas apiladas por tipo de establecimiento donde se apilen la cantidad de cadenas con las no cadenas. Algo en las lìneas de:\n",
    "    \n",
    "    df.groupby(['object_type','chain'], as_index=False)['id'].count()"
   ]
  },
  {
   "cell_type": "code",
   "execution_count": 18,
   "metadata": {},
   "outputs": [
    {
     "data": {
      "text/html": [
       "<div>\n",
       "<style scoped>\n",
       "    .dataframe tbody tr th:only-of-type {\n",
       "        vertical-align: middle;\n",
       "    }\n",
       "\n",
       "    .dataframe tbody tr th {\n",
       "        vertical-align: top;\n",
       "    }\n",
       "\n",
       "    .dataframe thead th {\n",
       "        text-align: right;\n",
       "    }\n",
       "</style>\n",
       "<table border=\"1\" class=\"dataframe\">\n",
       "  <thead>\n",
       "    <tr style=\"text-align: right;\">\n",
       "      <th></th>\n",
       "      <th>object_type</th>\n",
       "      <th>chain</th>\n",
       "      <th>id</th>\n",
       "    </tr>\n",
       "  </thead>\n",
       "  <tbody>\n",
       "    <tr>\n",
       "      <th>0</th>\n",
       "      <td>Bakery</td>\n",
       "      <td>1.0</td>\n",
       "      <td>283</td>\n",
       "    </tr>\n",
       "    <tr>\n",
       "      <th>1</th>\n",
       "      <td>Bar</td>\n",
       "      <td>0.0</td>\n",
       "      <td>215</td>\n",
       "    </tr>\n",
       "    <tr>\n",
       "      <th>2</th>\n",
       "      <td>Bar</td>\n",
       "      <td>1.0</td>\n",
       "      <td>77</td>\n",
       "    </tr>\n",
       "    <tr>\n",
       "      <th>3</th>\n",
       "      <td>Cafe</td>\n",
       "      <td>0.0</td>\n",
       "      <td>169</td>\n",
       "    </tr>\n",
       "    <tr>\n",
       "      <th>4</th>\n",
       "      <td>Cafe</td>\n",
       "      <td>1.0</td>\n",
       "      <td>266</td>\n",
       "    </tr>\n",
       "    <tr>\n",
       "      <th>5</th>\n",
       "      <td>Fast Food</td>\n",
       "      <td>0.0</td>\n",
       "      <td>461</td>\n",
       "    </tr>\n",
       "    <tr>\n",
       "      <th>6</th>\n",
       "      <td>Fast Food</td>\n",
       "      <td>1.0</td>\n",
       "      <td>605</td>\n",
       "    </tr>\n",
       "    <tr>\n",
       "      <th>7</th>\n",
       "      <td>Pizza</td>\n",
       "      <td>0.0</td>\n",
       "      <td>167</td>\n",
       "    </tr>\n",
       "    <tr>\n",
       "      <th>8</th>\n",
       "      <td>Pizza</td>\n",
       "      <td>1.0</td>\n",
       "      <td>153</td>\n",
       "    </tr>\n",
       "    <tr>\n",
       "      <th>9</th>\n",
       "      <td>Restaurant</td>\n",
       "      <td>0.0</td>\n",
       "      <td>4963</td>\n",
       "    </tr>\n",
       "    <tr>\n",
       "      <th>10</th>\n",
       "      <td>Restaurant</td>\n",
       "      <td>1.0</td>\n",
       "      <td>2292</td>\n",
       "    </tr>\n",
       "  </tbody>\n",
       "</table>\n",
       "</div>"
      ],
      "text/plain": [
       "   object_type  chain    id\n",
       "0       Bakery    1.0   283\n",
       "1          Bar    0.0   215\n",
       "2          Bar    1.0    77\n",
       "3         Cafe    0.0   169\n",
       "4         Cafe    1.0   266\n",
       "5    Fast Food    0.0   461\n",
       "6    Fast Food    1.0   605\n",
       "7        Pizza    0.0   167\n",
       "8        Pizza    1.0   153\n",
       "9   Restaurant    0.0  4963\n",
       "10  Restaurant    1.0  2292"
      ]
     },
     "execution_count": 18,
     "metadata": {},
     "output_type": "execute_result"
    }
   ],
   "source": [
    "df.groupby(['object_type','chain'], as_index=False)['id'].count()"
   ]
  },
  {
   "cell_type": "markdown",
   "metadata": {},
   "source": [
    "¿Qué caracteriza a las cadenas: muchos establecimientos\n",
    "con un pequeño número de asientos o unos pocos establecimientos con un montón de asientos?"
   ]
  },
  {
   "cell_type": "code",
   "execution_count": 19,
   "metadata": {},
   "outputs": [
    {
     "data": {
      "text/plain": [
       "count    3676.000000\n",
       "mean       39.694233\n",
       "std        43.437212\n",
       "min         1.000000\n",
       "25%        13.000000\n",
       "50%        25.000000\n",
       "75%        44.000000\n",
       "80%        48.000000\n",
       "85%        76.000000\n",
       "90%       107.000000\n",
       "95%       140.000000\n",
       "97%       161.750000\n",
       "99%       206.250000\n",
       "max       229.000000\n",
       "Name: number, dtype: float64"
      ]
     },
     "execution_count": 19,
     "metadata": {},
     "output_type": "execute_result"
    }
   ],
   "source": [
    "#Sacamos los percentiles de la columna de asientos de los establecimientos que son cadena para determinar cuantos son muchos asientos\n",
    "\n",
    "data_with_chains= df[df['chain']== 1]\n",
    "data_with_chains.groupby('object_type')['number'].sum()\n",
    "\n",
    "data_with_chains['number'].describe(percentiles=[.25,.50,.75,.80,.85,.90,.95,.97,.99])"
   ]
  },
  {
   "cell_type": "markdown",
   "metadata": {},
   "source": [
    "podemos ver que el 80% de las cadenas tienen de 1 a 48 asientos mientras que solo el 20%restante tiene de 48 a 229 asientos\n",
    "por lo que podemos decir que las cadenas se caracterizan por tener muchos establecimientos con un pequeño numero de asientos."
   ]
  },
  {
   "cell_type": "markdown",
   "metadata": {},
   "source": [
    "Determina el promedio de número de asientos para cada tipo de restaurante. De promedio,\n",
    "¿qué tipo de restaurante tiene el mayor número de asientos? Traza gráficos."
   ]
  },
  {
   "cell_type": "code",
   "execution_count": 20,
   "metadata": {},
   "outputs": [
    {
     "data": {
      "text/plain": [
       "Text(0.5, 1.0, 'Restaurantes y bares con mayor numero de asientos(con cadena)')"
      ]
     },
     "execution_count": 20,
     "metadata": {},
     "output_type": "execute_result"
    },
    {
     "data": {
      "image/png": "[encoded data removed]",
      "text/plain": [
       "<Figure size 640x480 with 1 Axes>"
      ]
     },
     "metadata": {},
     "output_type": "display_data"
    }
   ],
   "source": [
    "df_seat_mean=df.groupby('object_type')['number'].mean()\n",
    "df_seat_mean=(df_seat_mean\n",
    "              .to_frame()\n",
    "              .reset_index()\n",
    "              .rename(columns={'number':'average number of users'})\n",
    "              .sort_values(by='average number of users')\n",
    "             )\n",
    "\n",
    "sns.barplot(data=df_seat_mean,x='object_type',y='average number of users')\n",
    "plt.xlabel('Establecimiento')\n",
    "plt.ylabel('Promedio de numero de asientos')\n",
    "plt.title('Restaurantes y bares con mayor numero de asientos(con cadena)')\n"
   ]
  },
  {
   "cell_type": "markdown",
   "metadata": {},
   "source": [
    "<div class=\"alert alert-block alert-success\">\n",
    "\n",
    "<b>Comentario del revisor. (Iteración 1)</b> <a class=\"tocSkip\"></a>\n",
    "\n",
    "Bien resuelta la consigna para determinar què cantidad de asientos tienen las cadenas de los distintos tipos de establecimientos."
   ]
  },
  {
   "cell_type": "markdown",
   "metadata": {},
   "source": [
    "Los Restaurantes nuevamente son los primeros, ahora en el promedio de  numero de asientos , seguido por los bares."
   ]
  },
  {
   "cell_type": "markdown",
   "metadata": {},
   "source": [
    "### **Los restaurantes son los que tienen mayor numero de asientos.**"
   ]
  },
  {
   "cell_type": "code",
   "execution_count": 21,
   "metadata": {},
   "outputs": [
    {
     "ename": "SyntaxError",
     "evalue": "invalid syntax (452015609.py, line 1)",
     "output_type": "error",
     "traceback": [
      "\u001b[0;36m  Cell \u001b[0;32mIn[21], line 1\u001b[0;36m\u001b[0m\n\u001b[0;31m    Coloca los datos de los nombres de las calles de la columna address en una columna separada.\u001b[0m\n\u001b[0m           ^\u001b[0m\n\u001b[0;31mSyntaxError\u001b[0m\u001b[0;31m:\u001b[0m invalid syntax\n"
     ]
    }
   ],
   "source": [
    "Coloca los datos de los nombres de las calles de la columna address en una columna separada.\n"
   ]
  },
  {
   "cell_type": "code",
   "execution_count": null,
   "metadata": {},
   "outputs": [],
   "source": [
    "#creamos una nueva columna donde extraemos las direcciones sin numeros y la guardamos como 'direccion_sin_numeros'\n",
    "df['direccion_sin_numeros'] = df['address'].apply(lambda x: ' '.join(x.split()[1:]))\n",
    "df"
   ]
  },
  {
   "cell_type": "markdown",
   "metadata": {},
   "source": [
    "<div class=\"alert alert-block alert-warning\">\n",
    "\n",
    "<b>Comentario del revisor. (Iteración 1)</b> <a class=\"tocSkip\"></a>\n",
    "\n",
    "Antes que nada felicitaciones Alejandro porque el procedimiento es muy completo e incluso casi perfecto, simplemente debemos tener en cuenta que esta expresión nos esta quitando algunos numeros que corresponden al nombre de la calle (Ej: World Way 120 es el nombre completo de la calle de la linea 1). Te invito a que trates de implementar algo similar a lo siguiente: \n",
    "    \n",
    "    rest_data['address'].apply(lambda x: ' '.join(x.split()[1:]))\n",
    "    \n",
    "Corrigiendo esto tambien veremos un cambio en el valor de los siguientes ejercicios.\n",
    "   "
   ]
  },
  {
   "cell_type": "markdown",
   "metadata": {},
   "source": [
    " <div class=\"alert alert-block alert-info\">\n",
    "\n",
    " <b>Respuesta de estudiante:Listo en ves de usar la expresion regular se usa split para rescatar la direccion completa</b> <a class=\"tocSkip\"></a>\n",
    "\n",
    " </div>"
   ]
  },
  {
   "cell_type": "markdown",
   "metadata": {},
   "source": [
    "<div class=\"alert alert-block alert-success\">\n",
    "\n",
    "<b>Comentario del revisor. (Iteración 2)</b> <a class=\"tocSkip\"></a>\n",
    "\n",
    "Ahora si, excelente gráfico derivado de la transformación correcta sobre los nombres de las calles, bien hecho!"
   ]
  },
  {
   "cell_type": "markdown",
   "metadata": {},
   "source": [
    "Traza un gráfico de las diez mejores calles por número de restaurantes.\n",
    "\n"
   ]
  },
  {
   "cell_type": "code",
   "execution_count": null,
   "metadata": {},
   "outputs": [],
   "source": [
    "best_streets"
   ]
  },
  {
   "cell_type": "code",
   "execution_count": null,
   "metadata": {},
   "outputs": [],
   "source": [
    "best_streets=df.groupby('direccion_sin_numeros')['id'].count().sort_values(ascending=False).head(10)\n",
    "best_streets=best_streets.to_frame().reset_index().rename(columns={'direccion_sin_numeros':'street',\n",
    "                                                                   'id':'number of Restaurants'})\n",
    "best_streets\n",
    "plt.figure(figsize=(8,3))\n",
    "sns.barplot(data=best_streets,x='street',y='number of Restaurants',ax=plt.gca())\n",
    "plt.title('10 calles con mayor numero de establecimientos con cadena(con cadena)')\n",
    "\n",
    "plt.xticks(rotation=45)\n",
    "plt.show()"
   ]
  },
  {
   "cell_type": "markdown",
   "metadata": {},
   "source": [
    "Podemos ver que W SUNSET BLVD Y W PICO BLVD seon las calles con mas numero de cadenas en L.A"
   ]
  },
  {
   "cell_type": "markdown",
   "metadata": {},
   "source": [
    "<div class=\"alert alert-block alert-success\">\n",
    "\n",
    "<b>Comentario del revisor. (Iteración 1)</b> <a class=\"tocSkip\"></a>\n",
    "    \n",
    "El procedimeinto es el adecuado! Recordemos que los valores van a cambiar una vez que ajustes la corrección anterior.\n",
    "    \n",
    "    Ahora está perfecto!\n",
    "    "
   ]
  },
  {
   "cell_type": "code",
   "execution_count": null,
   "metadata": {},
   "outputs": [],
   "source": [
    "df_onerestaurants=df.groupby('direccion_sin_numeros')['id'].count().sort_values().reset_index()\n"
   ]
  },
  {
   "cell_type": "markdown",
   "metadata": {},
   "source": [
    "Encuentra el número de calles que solo tienen un restaurante."
   ]
  },
  {
   "cell_type": "code",
   "execution_count": null,
   "metadata": {},
   "outputs": [],
   "source": [
    "df_onerestaurants[df_onerestaurants['id']==1].sum()"
   ]
  },
  {
   "cell_type": "markdown",
   "metadata": {},
   "source": [
    "2445 calles solo cuentan con un negocio o restaurante."
   ]
  },
  {
   "cell_type": "markdown",
   "metadata": {},
   "source": [
    "<div class=\"alert alert-block alert-warning\">\n",
    "\n",
    "<b>Comentario del revisor. (Iteración 1)</b> <a class=\"tocSkip\"></a>\n",
    "    \n",
    "Este número no es el que buscamos. Con la corrección anterior deberías poder dar con la cantidad correcta.\n",
    "    \n",
    "    Ahora sí! Has llegado al número de calles indicado."
   ]
  },
  {
   "cell_type": "markdown",
   "metadata": {},
   "source": [
    "<div class=\"alert alert-block alert-info\">\n",
    "\n",
    " <b>Respuesta de estudiante:Listo el numero de calles con un solo establecimiento cambio ,derivado de los cambios hechos</b> <a class=\"tocSkip\"></a>\n",
    "\n",
    " </div>"
   ]
  },
  {
   "cell_type": "markdown",
   "metadata": {},
   "source": [
    "Para las calles con muchos restaurantes, analiza la distribución del número de asientos. ¿Qué tendencias puedes ver?"
   ]
  },
  {
   "cell_type": "code",
   "execution_count": null,
   "metadata": {},
   "outputs": [],
   "source": [
    "#Realizamos un merge para poder sacar la proporcion del numero de asientos de las 10 calles con mas cadenas\n",
    "merge_street=best_streets.merge(df, left_on='street',right_on='direccion_sin_numeros')\n",
    "merge_street['direccion_sin_numeros'].value_counts()"
   ]
  },
  {
   "cell_type": "code",
   "execution_count": null,
   "metadata": {},
   "outputs": [],
   "source": [
    "merge_street['number'].plot(kind='hist',title='La mayoria de cadenas tiene de 1 a 50 asientos')\n"
   ]
  },
  {
   "cell_type": "markdown",
   "metadata": {},
   "source": [
    "<div class=\"alert alert-block alert-success\">\n",
    "\n",
    "<b>Comentario del revisor. (Iteración 2)</b> <a class=\"tocSkip\"></a>\n",
    "    \n",
    "Bien hecho! Has aplicado correctamente un gráfico de tipo histograma para presentar de manera clara los datos solicitados por la consigna. Felicitaciones! Los datos pueden cambiar un poco una vez que realices las correcciones anteriores."
   ]
  },
  {
   "cell_type": "code",
   "execution_count": null,
   "metadata": {},
   "outputs": [],
   "source": [
    "merge_street['number'].describe(percentiles=[.25,.50,.75,.76,.80,.85,.90,.95,.97,.99])"
   ]
  },
  {
   "cell_type": "markdown",
   "metadata": {},
   "source": [
    "Podemos ver que  alrededor del 76% de las cadenas tiene de 1 a 50 asientos"
   ]
  },
  {
   "cell_type": "markdown",
   "metadata": {},
   "source": [
    "## Recomendaciones"
   ]
  },
  {
   "cell_type": "markdown",
   "metadata": {},
   "source": [
    "**Invertir en un establecimiento tipo Restaurante que sea cadena y que se encuentre dentro de las 10 principales calles ya mostradas.**\n",
    "\n",
    "**El restaurante tiene que contar con un rango de 30 a 50 asientos respondiendo al análisis sobre la distribución de asientos de los restaurantes de las principales calles.**\n"
   ]
  },
  {
   "cell_type": "markdown",
   "metadata": {},
   "source": [
    "Link a presentacion de Power Point:https://github.com/Alex-Reyes-Mendez/pdf/blob/main/Analisis%20sobre%20mercado%20en%20L.A.pdf"
   ]
  },
  {
   "cell_type": "markdown",
   "metadata": {},
   "source": [
    "<div class=\"alert alert-block alert-warning\">\n",
    "\n",
    "<b>Comentario del revisor. (Iteración 1)</b> <a class=\"tocSkip\"></a>\n",
    "    \n",
    "Alejandro, he intentado ingresar al link provisto pero me indica que no es un link vàlido. Te pido que revises el mismo. En todo caso puede ser màs fàcil utilizar un link abierto a un documento en Google Drive. De todas formas, te quería felicitar por los avances a lo largo de tu proyecto! Espero a la pròxima iteración para poder aprobarlo."
   ]
  },
  {
   "cell_type": "markdown",
   "metadata": {},
   "source": [
    "<div class=\"alert alert-block alert-info\">\n",
    "\n",
    " <b>Respuesta de estudiante:Listo , lo que pasaba es que tenia el repositorio como privado, pero espero que ya lo puedas abris.</b> <a class=\"tocSkip\"></a>\n",
    "\n",
    "</div>"
   ]
  },
  {
   "cell_type": "markdown",
   "metadata": {},
   "source": []
  },
  {
   "cell_type": "markdown",
   "metadata": {},
   "source": [
    "<div class=\"alert alert-block alert-success\">\n",
    "<b>Comentario del revisor. (Iteración 2)</b> <a class=\"tocSkip\"></a>\n",
    "\n",
    "Bien hecho Alejandro, la presentación es correcta y te felicito, esta presentación en conjunto con el trabajo tienen un muy buen desarrollo! Solo queda  agradecerte por este compromiso a lo largo de todo el proceso y sobre todo en esta presentación, esto es un punto muy importante para los clientes sobre todo. Felicitaciones!"
   ]
  },
  {
   "cell_type": "code",
   "execution_count": null,
   "metadata": {},
   "outputs": [],
   "source": []
  }
 ],
 "metadata": {
  "ExecuteTimeLog": [
   {
    "duration": 2502,
    "start_time": "2024-09-06T23:41:13.204Z"
   },
   {
    "duration": 2,
    "start_time": "2024-09-06T23:41:31.689Z"
   },
   {
    "duration": 4,
    "start_time": "2024-09-06T23:41:40.681Z"
   },
   {
    "duration": 2,
    "start_time": "2024-09-06T23:42:11.010Z"
   },
   {
    "duration": 2,
    "start_time": "2024-09-06T23:42:37.216Z"
   },
   {
    "duration": 219,
    "start_time": "2024-09-06T23:43:35.563Z"
   },
   {
    "duration": 361,
    "start_time": "2024-09-06T23:43:40.959Z"
   },
   {
    "duration": 26,
    "start_time": "2024-09-06T23:43:55.322Z"
   },
   {
    "duration": 12,
    "start_time": "2024-09-06T23:43:59.177Z"
   },
   {
    "duration": 9,
    "start_time": "2024-09-06T23:47:07.516Z"
   },
   {
    "duration": 13,
    "start_time": "2024-09-06T23:49:38.024Z"
   },
   {
    "duration": 7,
    "start_time": "2024-09-06T23:50:02.287Z"
   },
   {
    "duration": 13,
    "start_time": "2024-09-06T23:50:25.688Z"
   },
   {
    "duration": 15,
    "start_time": "2024-09-06T23:50:38.315Z"
   },
   {
    "duration": 10,
    "start_time": "2024-09-06T23:50:42.479Z"
   },
   {
    "duration": 11,
    "start_time": "2024-09-06T23:51:30.532Z"
   },
   {
    "duration": 6,
    "start_time": "2024-09-06T23:54:22.202Z"
   },
   {
    "duration": 4,
    "start_time": "2024-09-06T23:54:31.835Z"
   },
   {
    "duration": 4,
    "start_time": "2024-09-07T00:57:08.416Z"
   },
   {
    "duration": 5,
    "start_time": "2024-09-07T00:57:11.938Z"
   },
   {
    "duration": 15,
    "start_time": "2024-09-07T00:57:19.016Z"
   },
   {
    "duration": 564,
    "start_time": "2024-09-07T00:58:02.900Z"
   },
   {
    "duration": 5,
    "start_time": "2024-09-07T01:00:15.933Z"
   },
   {
    "duration": 4,
    "start_time": "2024-09-07T01:01:08.669Z"
   },
   {
    "duration": 5,
    "start_time": "2024-09-07T01:04:01.746Z"
   },
   {
    "duration": 6,
    "start_time": "2024-09-07T01:07:22.871Z"
   },
   {
    "duration": 6,
    "start_time": "2024-09-07T01:07:50.534Z"
   },
   {
    "duration": 5,
    "start_time": "2024-09-07T01:08:03.428Z"
   },
   {
    "duration": 115,
    "start_time": "2024-09-07T01:09:43.763Z"
   },
   {
    "duration": 116,
    "start_time": "2024-09-07T01:11:28.990Z"
   },
   {
    "duration": 112,
    "start_time": "2024-09-07T01:13:57.771Z"
   },
   {
    "duration": 245,
    "start_time": "2024-09-07T01:42:06.389Z"
   },
   {
    "duration": 7,
    "start_time": "2024-09-07T01:43:23.963Z"
   },
   {
    "duration": 271,
    "start_time": "2024-09-07T01:45:52.684Z"
   },
   {
    "duration": 42,
    "start_time": "2024-09-07T01:47:47.408Z"
   },
   {
    "duration": 250,
    "start_time": "2024-09-07T01:48:07.404Z"
   },
   {
    "duration": 230,
    "start_time": "2024-09-07T01:48:20.158Z"
   },
   {
    "duration": 41,
    "start_time": "2024-09-07T01:49:16.318Z"
   },
   {
    "duration": 267,
    "start_time": "2024-09-07T02:28:59.264Z"
   },
   {
    "duration": 4,
    "start_time": "2024-09-07T02:30:19.119Z"
   },
   {
    "duration": 4,
    "start_time": "2024-09-07T02:31:57.258Z"
   },
   {
    "duration": 53,
    "start_time": "2024-09-07T02:32:04.391Z"
   },
   {
    "duration": 433,
    "start_time": "2024-09-07T02:32:42.112Z"
   },
   {
    "duration": 55,
    "start_time": "2024-09-07T02:33:20.230Z"
   },
   {
    "duration": 270,
    "start_time": "2024-09-07T02:34:11.613Z"
   },
   {
    "duration": 168,
    "start_time": "2024-09-07T02:34:51.425Z"
   },
   {
    "duration": 41,
    "start_time": "2024-09-07T02:35:00.228Z"
   },
   {
    "duration": 58,
    "start_time": "2024-09-07T02:35:07.076Z"
   },
   {
    "duration": 274,
    "start_time": "2024-09-07T02:35:20.938Z"
   },
   {
    "duration": 165,
    "start_time": "2024-09-07T02:35:34.843Z"
   },
   {
    "duration": 167,
    "start_time": "2024-09-07T02:35:41.361Z"
   },
   {
    "duration": 238,
    "start_time": "2024-09-07T02:35:46.782Z"
   },
   {
    "duration": 14,
    "start_time": "2024-09-07T02:35:56.462Z"
   },
   {
    "duration": 217,
    "start_time": "2024-09-07T02:36:04.960Z"
   },
   {
    "duration": 157,
    "start_time": "2024-09-07T11:00:52.621Z"
   },
   {
    "duration": 2448,
    "start_time": "2024-09-07T11:01:04.704Z"
   },
   {
    "duration": 26,
    "start_time": "2024-09-07T11:01:07.154Z"
   },
   {
    "duration": 10,
    "start_time": "2024-09-07T11:01:07.182Z"
   },
   {
    "duration": 5,
    "start_time": "2024-09-07T11:01:07.193Z"
   },
   {
    "duration": 13,
    "start_time": "2024-09-07T11:01:07.201Z"
   },
   {
    "duration": 12,
    "start_time": "2024-09-07T11:01:07.216Z"
   },
   {
    "duration": 141,
    "start_time": "2024-09-07T11:01:07.230Z"
   },
   {
    "duration": 2,
    "start_time": "2024-09-07T11:01:07.373Z"
   },
   {
    "duration": 212,
    "start_time": "2024-09-07T11:01:07.377Z"
   },
   {
    "duration": 6,
    "start_time": "2024-09-07T11:01:07.591Z"
   },
   {
    "duration": 4,
    "start_time": "2024-09-07T11:01:07.598Z"
   },
   {
    "duration": 3,
    "start_time": "2024-09-07T11:01:28.298Z"
   },
   {
    "duration": 4,
    "start_time": "2024-09-07T11:01:42.946Z"
   },
   {
    "duration": 262,
    "start_time": "2024-09-07T11:02:33.830Z"
   },
   {
    "duration": 109,
    "start_time": "2024-09-07T11:02:49.938Z"
   },
   {
    "duration": 4,
    "start_time": "2024-09-07T11:03:36.459Z"
   },
   {
    "duration": 4,
    "start_time": "2024-09-07T11:04:14.957Z"
   },
   {
    "duration": 4,
    "start_time": "2024-09-07T11:09:42.115Z"
   },
   {
    "duration": 13,
    "start_time": "2024-09-07T11:10:01.467Z"
   },
   {
    "duration": 15,
    "start_time": "2024-09-07T11:11:07.139Z"
   },
   {
    "duration": 4,
    "start_time": "2024-09-07T11:11:40.048Z"
   },
   {
    "duration": 6,
    "start_time": "2024-09-07T11:11:51.994Z"
   },
   {
    "duration": 266,
    "start_time": "2024-09-07T11:12:19.651Z"
   },
   {
    "duration": 4,
    "start_time": "2024-09-07T11:12:39.084Z"
   },
   {
    "duration": 4,
    "start_time": "2024-09-07T11:13:18.602Z"
   },
   {
    "duration": 14,
    "start_time": "2024-09-07T11:13:37.056Z"
   },
   {
    "duration": 4,
    "start_time": "2024-09-07T11:14:07.444Z"
   },
   {
    "duration": 3,
    "start_time": "2024-09-07T11:14:23.607Z"
   },
   {
    "duration": 5,
    "start_time": "2024-09-07T11:14:42.440Z"
   },
   {
    "duration": 16,
    "start_time": "2024-09-07T11:15:19.591Z"
   },
   {
    "duration": 276,
    "start_time": "2024-09-07T11:16:49.101Z"
   },
   {
    "duration": 201,
    "start_time": "2024-09-07T11:16:58.830Z"
   },
   {
    "duration": 4,
    "start_time": "2024-09-07T11:26:16.469Z"
   },
   {
    "duration": 14,
    "start_time": "2024-09-07T11:26:21.845Z"
   },
   {
    "duration": 13,
    "start_time": "2024-09-07T11:26:34.239Z"
   },
   {
    "duration": 13,
    "start_time": "2024-09-07T11:27:26.994Z"
   },
   {
    "duration": 15,
    "start_time": "2024-09-07T11:27:33.092Z"
   },
   {
    "duration": 8,
    "start_time": "2024-09-07T11:28:16.694Z"
   },
   {
    "duration": 7,
    "start_time": "2024-09-07T11:28:26.788Z"
   },
   {
    "duration": 14,
    "start_time": "2024-09-07T11:28:33.252Z"
   },
   {
    "duration": 13,
    "start_time": "2024-09-07T11:28:39.083Z"
   },
   {
    "duration": 6,
    "start_time": "2024-09-07T11:29:02.864Z"
   },
   {
    "duration": 3,
    "start_time": "2024-09-07T11:29:56.084Z"
   },
   {
    "duration": 725,
    "start_time": "2024-09-07T11:30:08.514Z"
   },
   {
    "duration": 250,
    "start_time": "2024-09-07T11:33:47.483Z"
   },
   {
    "duration": 40,
    "start_time": "2024-09-07T11:33:56.878Z"
   },
   {
    "duration": 14,
    "start_time": "2024-09-07T11:34:20.023Z"
   },
   {
    "duration": 7,
    "start_time": "2024-09-07T11:34:34.992Z"
   },
   {
    "duration": 97,
    "start_time": "2024-09-07T11:35:47.994Z"
   },
   {
    "duration": 5,
    "start_time": "2024-09-07T11:36:23.275Z"
   },
   {
    "duration": 4,
    "start_time": "2024-09-07T11:36:32.695Z"
   },
   {
    "duration": 4,
    "start_time": "2024-09-07T11:37:51.815Z"
   },
   {
    "duration": 5,
    "start_time": "2024-09-07T11:38:15.749Z"
   },
   {
    "duration": 4,
    "start_time": "2024-09-07T11:39:03.971Z"
   },
   {
    "duration": 96,
    "start_time": "2024-09-07T11:39:15.708Z"
   },
   {
    "duration": 97,
    "start_time": "2024-09-07T11:39:28.032Z"
   },
   {
    "duration": 97,
    "start_time": "2024-09-07T11:39:37.647Z"
   },
   {
    "duration": 98,
    "start_time": "2024-09-07T11:39:50.548Z"
   },
   {
    "duration": 100,
    "start_time": "2024-09-07T11:39:58.105Z"
   },
   {
    "duration": 98,
    "start_time": "2024-09-07T11:40:30.014Z"
   },
   {
    "duration": 16,
    "start_time": "2024-09-07T11:47:32.045Z"
   },
   {
    "duration": 9,
    "start_time": "2024-09-07T11:47:38.081Z"
   },
   {
    "duration": 10,
    "start_time": "2024-09-07T11:48:08.623Z"
   },
   {
    "duration": 10,
    "start_time": "2024-09-07T11:48:19.380Z"
   },
   {
    "duration": 15,
    "start_time": "2024-09-07T11:52:19.804Z"
   },
   {
    "duration": 11,
    "start_time": "2024-09-07T11:52:34.321Z"
   },
   {
    "duration": 15,
    "start_time": "2024-09-07T11:53:12.456Z"
   },
   {
    "duration": 9,
    "start_time": "2024-09-07T11:53:17.020Z"
   },
   {
    "duration": 15,
    "start_time": "2024-09-07T11:53:45.268Z"
   },
   {
    "duration": 10,
    "start_time": "2024-09-07T11:53:46.792Z"
   },
   {
    "duration": 11,
    "start_time": "2024-09-07T11:53:53.849Z"
   },
   {
    "duration": 104,
    "start_time": "2024-09-07T11:55:03.364Z"
   },
   {
    "duration": 15,
    "start_time": "2024-09-07T11:55:22.345Z"
   },
   {
    "duration": 10,
    "start_time": "2024-09-07T11:55:26.329Z"
   },
   {
    "duration": 766,
    "start_time": "2024-09-07T11:55:45.529Z"
   },
   {
    "duration": 16,
    "start_time": "2024-09-07T11:55:46.297Z"
   },
   {
    "duration": 10,
    "start_time": "2024-09-07T11:55:46.315Z"
   },
   {
    "duration": 16,
    "start_time": "2024-09-07T11:55:46.326Z"
   },
   {
    "duration": 9,
    "start_time": "2024-09-07T11:55:46.345Z"
   },
   {
    "duration": 40,
    "start_time": "2024-09-07T11:55:46.355Z"
   },
   {
    "duration": 265,
    "start_time": "2024-09-07T11:55:46.396Z"
   },
   {
    "duration": 0,
    "start_time": "2024-09-07T11:55:46.663Z"
   },
   {
    "duration": 0,
    "start_time": "2024-09-07T11:55:46.664Z"
   },
   {
    "duration": 0,
    "start_time": "2024-09-07T11:55:46.665Z"
   },
   {
    "duration": 0,
    "start_time": "2024-09-07T11:55:46.666Z"
   },
   {
    "duration": 0,
    "start_time": "2024-09-07T11:55:46.667Z"
   },
   {
    "duration": 0,
    "start_time": "2024-09-07T11:55:46.668Z"
   },
   {
    "duration": 6,
    "start_time": "2024-09-07T11:57:40.092Z"
   },
   {
    "duration": 10,
    "start_time": "2024-09-07T11:57:42.409Z"
   },
   {
    "duration": 12,
    "start_time": "2024-09-07T11:57:45.431Z"
   },
   {
    "duration": 15,
    "start_time": "2024-09-07T11:57:46.598Z"
   },
   {
    "duration": 10,
    "start_time": "2024-09-07T11:59:06.010Z"
   },
   {
    "duration": 8,
    "start_time": "2024-09-07T11:59:15.910Z"
   },
   {
    "duration": 7,
    "start_time": "2024-09-07T11:59:36.351Z"
   },
   {
    "duration": 7,
    "start_time": "2024-09-07T12:00:56.016Z"
   },
   {
    "duration": 8,
    "start_time": "2024-09-07T12:01:02.783Z"
   },
   {
    "duration": 8,
    "start_time": "2024-09-07T12:01:21.634Z"
   },
   {
    "duration": 9,
    "start_time": "2024-09-07T12:03:34.815Z"
   },
   {
    "duration": 14,
    "start_time": "2024-09-07T12:04:09.274Z"
   },
   {
    "duration": 234,
    "start_time": "2024-09-07T12:05:23.751Z"
   },
   {
    "duration": 103,
    "start_time": "2024-09-07T12:06:00.827Z"
   },
   {
    "duration": 115,
    "start_time": "2024-09-07T12:08:11.687Z"
   },
   {
    "duration": 4,
    "start_time": "2024-09-07T12:08:44.370Z"
   },
   {
    "duration": 213,
    "start_time": "2024-09-07T12:09:03.321Z"
   },
   {
    "duration": 207,
    "start_time": "2024-09-07T12:09:43.701Z"
   },
   {
    "duration": 96,
    "start_time": "2024-09-07T12:10:08.394Z"
   },
   {
    "duration": 314,
    "start_time": "2024-09-07T12:12:05.929Z"
   },
   {
    "duration": 159,
    "start_time": "2024-09-07T12:12:23.527Z"
   },
   {
    "duration": 159,
    "start_time": "2024-09-07T12:12:37.188Z"
   },
   {
    "duration": 155,
    "start_time": "2024-09-07T12:12:49.532Z"
   },
   {
    "duration": 772,
    "start_time": "2024-09-07T12:14:57.195Z"
   },
   {
    "duration": 229,
    "start_time": "2024-09-07T12:15:23.543Z"
   },
   {
    "duration": 158,
    "start_time": "2024-09-07T12:18:07.377Z"
   },
   {
    "duration": 159,
    "start_time": "2024-09-07T12:18:37.299Z"
   },
   {
    "duration": 171,
    "start_time": "2024-09-07T12:19:09.237Z"
   },
   {
    "duration": 192,
    "start_time": "2024-09-07T12:21:19.868Z"
   },
   {
    "duration": 194,
    "start_time": "2024-09-07T12:21:41.998Z"
   },
   {
    "duration": 4,
    "start_time": "2024-09-07T12:23:06.710Z"
   },
   {
    "duration": 190,
    "start_time": "2024-09-07T12:23:16.346Z"
   },
   {
    "duration": 193,
    "start_time": "2024-09-07T12:24:10.433Z"
   },
   {
    "duration": 7,
    "start_time": "2024-09-07T12:26:44.617Z"
   },
   {
    "duration": 168,
    "start_time": "2024-09-07T14:53:14.856Z"
   },
   {
    "duration": 2593,
    "start_time": "2024-09-07T14:53:20.599Z"
   },
   {
    "duration": 29,
    "start_time": "2024-09-07T14:53:23.196Z"
   },
   {
    "duration": 19,
    "start_time": "2024-09-07T14:53:23.227Z"
   },
   {
    "duration": 18,
    "start_time": "2024-09-07T14:53:23.249Z"
   },
   {
    "duration": 121,
    "start_time": "2024-09-07T14:53:23.270Z"
   },
   {
    "duration": 7,
    "start_time": "2024-09-07T14:53:23.393Z"
   },
   {
    "duration": 16,
    "start_time": "2024-09-07T14:53:23.401Z"
   },
   {
    "duration": 125,
    "start_time": "2024-09-07T14:53:23.419Z"
   },
   {
    "duration": 217,
    "start_time": "2024-09-07T14:53:23.546Z"
   },
   {
    "duration": 204,
    "start_time": "2024-09-07T14:53:23.765Z"
   },
   {
    "duration": 8,
    "start_time": "2024-09-07T14:53:23.971Z"
   },
   {
    "duration": 12,
    "start_time": "2024-09-07T14:53:23.980Z"
   },
   {
    "duration": 13,
    "start_time": "2024-09-07T14:53:24.181Z"
   },
   {
    "duration": 4,
    "start_time": "2024-09-07T14:56:23.185Z"
   },
   {
    "duration": 14,
    "start_time": "2024-09-07T14:57:33.721Z"
   },
   {
    "duration": 316,
    "start_time": "2024-09-07T14:57:49.900Z"
   },
   {
    "duration": 103,
    "start_time": "2024-09-07T14:57:58.852Z"
   },
   {
    "duration": 6,
    "start_time": "2024-09-07T14:58:32.166Z"
   },
   {
    "duration": 5,
    "start_time": "2024-09-07T14:58:47.856Z"
   },
   {
    "duration": 6,
    "start_time": "2024-09-07T14:58:58.948Z"
   },
   {
    "duration": 5,
    "start_time": "2024-09-07T15:01:36.926Z"
   },
   {
    "duration": 101,
    "start_time": "2024-09-07T15:03:55.740Z"
   },
   {
    "duration": 104,
    "start_time": "2024-09-07T15:05:05.838Z"
   },
   {
    "duration": 100,
    "start_time": "2024-09-07T15:05:52.967Z"
   },
   {
    "duration": 4,
    "start_time": "2024-09-07T15:06:16.991Z"
   },
   {
    "duration": 6,
    "start_time": "2024-09-07T15:06:19.639Z"
   },
   {
    "duration": 104,
    "start_time": "2024-09-07T15:06:34.087Z"
   },
   {
    "duration": 103,
    "start_time": "2024-09-07T15:06:53.651Z"
   },
   {
    "duration": 211,
    "start_time": "2024-09-07T15:07:57.591Z"
   },
   {
    "duration": 14,
    "start_time": "2024-09-07T15:09:00.631Z"
   },
   {
    "duration": 14,
    "start_time": "2024-09-07T15:09:38.394Z"
   },
   {
    "duration": 13,
    "start_time": "2024-09-07T15:10:12.376Z"
   },
   {
    "duration": 6,
    "start_time": "2024-09-07T15:10:28.823Z"
   },
   {
    "duration": 4,
    "start_time": "2024-09-07T15:11:58.919Z"
   },
   {
    "duration": 14,
    "start_time": "2024-09-07T15:12:04.425Z"
   },
   {
    "duration": 277,
    "start_time": "2024-09-07T15:12:24.166Z"
   },
   {
    "duration": 41,
    "start_time": "2024-09-07T15:13:02.603Z"
   },
   {
    "duration": 9,
    "start_time": "2024-09-07T15:13:15.548Z"
   },
   {
    "duration": 7,
    "start_time": "2024-09-07T15:13:24.528Z"
   },
   {
    "duration": 9,
    "start_time": "2024-09-07T15:13:40.737Z"
   },
   {
    "duration": 6,
    "start_time": "2024-09-07T15:14:09.404Z"
   },
   {
    "duration": 18,
    "start_time": "2024-09-07T15:17:35.146Z"
   },
   {
    "duration": 7,
    "start_time": "2024-09-07T15:44:13.874Z"
   },
   {
    "duration": 104,
    "start_time": "2024-09-07T15:44:39.797Z"
   },
   {
    "duration": 6,
    "start_time": "2024-09-07T15:47:04.898Z"
   },
   {
    "duration": 10,
    "start_time": "2024-09-07T15:47:37.359Z"
   },
   {
    "duration": 7,
    "start_time": "2024-09-07T15:47:41.803Z"
   },
   {
    "duration": 5,
    "start_time": "2024-09-07T15:48:11.168Z"
   },
   {
    "duration": 5,
    "start_time": "2024-09-07T15:48:17.653Z"
   },
   {
    "duration": 273,
    "start_time": "2024-09-07T15:49:26.070Z"
   },
   {
    "duration": 16,
    "start_time": "2024-09-07T15:51:02.892Z"
   },
   {
    "duration": 811,
    "start_time": "2024-09-07T15:54:55.078Z"
   },
   {
    "duration": 21,
    "start_time": "2024-09-07T15:54:55.891Z"
   },
   {
    "duration": 10,
    "start_time": "2024-09-07T15:54:55.913Z"
   },
   {
    "duration": 13,
    "start_time": "2024-09-07T15:54:55.925Z"
   },
   {
    "duration": 127,
    "start_time": "2024-09-07T15:54:55.940Z"
   },
   {
    "duration": 6,
    "start_time": "2024-09-07T15:54:56.069Z"
   },
   {
    "duration": 8,
    "start_time": "2024-09-07T15:54:56.077Z"
   },
   {
    "duration": 117,
    "start_time": "2024-09-07T15:54:56.086Z"
   },
   {
    "duration": 273,
    "start_time": "2024-09-07T15:54:56.211Z"
   },
   {
    "duration": 0,
    "start_time": "2024-09-07T15:54:56.486Z"
   },
   {
    "duration": 0,
    "start_time": "2024-09-07T15:54:56.487Z"
   },
   {
    "duration": 0,
    "start_time": "2024-09-07T15:54:56.488Z"
   },
   {
    "duration": 1,
    "start_time": "2024-09-07T15:54:56.489Z"
   },
   {
    "duration": 17,
    "start_time": "2024-09-07T15:55:20.499Z"
   },
   {
    "duration": 94305,
    "start_time": "2024-09-07T15:55:26.953Z"
   },
   {
    "duration": 17,
    "start_time": "2024-09-07T15:59:01.701Z"
   },
   {
    "duration": 5,
    "start_time": "2024-09-07T15:59:38.062Z"
   },
   {
    "duration": 276,
    "start_time": "2024-09-07T15:59:55.511Z"
   },
   {
    "duration": 7,
    "start_time": "2024-09-07T16:00:28.646Z"
   },
   {
    "duration": 5,
    "start_time": "2024-09-07T16:22:43.481Z"
   },
   {
    "duration": 7,
    "start_time": "2024-09-07T16:22:54.802Z"
   },
   {
    "duration": 68,
    "start_time": "2024-09-07T16:25:56.890Z"
   },
   {
    "duration": 136,
    "start_time": "2024-09-07T16:32:31.263Z"
   },
   {
    "duration": 9,
    "start_time": "2024-09-07T16:39:28.968Z"
   },
   {
    "duration": 10,
    "start_time": "2024-09-07T16:39:49.800Z"
   },
   {
    "duration": 6,
    "start_time": "2024-09-07T16:40:27.283Z"
   },
   {
    "duration": 8,
    "start_time": "2024-09-07T16:41:11.622Z"
   },
   {
    "duration": 9,
    "start_time": "2024-09-07T16:42:18.853Z"
   },
   {
    "duration": 9,
    "start_time": "2024-09-07T16:42:53.826Z"
   },
   {
    "duration": 210,
    "start_time": "2024-09-07T16:44:25.418Z"
   },
   {
    "duration": 10,
    "start_time": "2024-09-07T16:44:52.761Z"
   },
   {
    "duration": 98,
    "start_time": "2024-09-07T16:44:56.531Z"
   },
   {
    "duration": 1844,
    "start_time": "2024-09-07T16:47:40.041Z"
   },
   {
    "duration": 176,
    "start_time": "2024-09-07T18:22:14.338Z"
   },
   {
    "duration": 2882,
    "start_time": "2024-09-07T18:22:29.645Z"
   },
   {
    "duration": 45,
    "start_time": "2024-09-07T18:22:32.529Z"
   },
   {
    "duration": 11,
    "start_time": "2024-09-07T18:22:32.576Z"
   },
   {
    "duration": 13,
    "start_time": "2024-09-07T18:22:32.589Z"
   },
   {
    "duration": 149,
    "start_time": "2024-09-07T18:22:32.604Z"
   },
   {
    "duration": 6,
    "start_time": "2024-09-07T18:22:32.755Z"
   },
   {
    "duration": 9,
    "start_time": "2024-09-07T18:22:32.763Z"
   },
   {
    "duration": 125,
    "start_time": "2024-09-07T18:22:32.774Z"
   },
   {
    "duration": 9,
    "start_time": "2024-09-07T18:22:32.901Z"
   },
   {
    "duration": 129,
    "start_time": "2024-09-07T18:22:32.919Z"
   },
   {
    "duration": 211,
    "start_time": "2024-09-07T18:22:33.050Z"
   },
   {
    "duration": 245,
    "start_time": "2024-09-07T18:22:33.262Z"
   },
   {
    "duration": 0,
    "start_time": "2024-09-07T18:22:33.516Z"
   },
   {
    "duration": 0,
    "start_time": "2024-09-07T18:22:33.517Z"
   },
   {
    "duration": 166,
    "start_time": "2024-09-07T18:23:32.909Z"
   },
   {
    "duration": 118,
    "start_time": "2024-09-07T18:25:19.628Z"
   },
   {
    "duration": 13,
    "start_time": "2024-09-07T18:28:59.424Z"
   },
   {
    "duration": 4,
    "start_time": "2024-09-07T18:30:31.037Z"
   },
   {
    "duration": 10,
    "start_time": "2024-09-07T18:30:37.905Z"
   },
   {
    "duration": 6,
    "start_time": "2024-09-07T18:32:18.153Z"
   },
   {
    "duration": 6,
    "start_time": "2024-09-07T18:32:29.840Z"
   },
   {
    "duration": 12,
    "start_time": "2024-09-07T18:32:44.115Z"
   },
   {
    "duration": 173,
    "start_time": "2024-09-09T14:25:04.108Z"
   },
   {
    "duration": 2583,
    "start_time": "2024-09-09T14:25:13.961Z"
   },
   {
    "duration": 29,
    "start_time": "2024-09-09T14:25:16.546Z"
   },
   {
    "duration": 11,
    "start_time": "2024-09-09T14:25:16.577Z"
   },
   {
    "duration": 20,
    "start_time": "2024-09-09T14:25:16.590Z"
   },
   {
    "duration": 125,
    "start_time": "2024-09-09T14:25:16.611Z"
   },
   {
    "duration": 6,
    "start_time": "2024-09-09T14:25:16.738Z"
   },
   {
    "duration": 8,
    "start_time": "2024-09-09T14:25:16.746Z"
   },
   {
    "duration": 144,
    "start_time": "2024-09-09T14:25:16.756Z"
   },
   {
    "duration": 118,
    "start_time": "2024-09-09T14:25:16.902Z"
   },
   {
    "duration": 6,
    "start_time": "2024-09-09T14:25:17.024Z"
   },
   {
    "duration": 13,
    "start_time": "2024-09-09T14:25:17.031Z"
   },
   {
    "duration": 8,
    "start_time": "2024-09-09T14:25:17.045Z"
   },
   {
    "duration": 13,
    "start_time": "2024-09-09T14:25:17.055Z"
   },
   {
    "duration": 40,
    "start_time": "2024-09-09T14:25:17.070Z"
   },
   {
    "duration": 13,
    "start_time": "2024-09-09T14:25:17.113Z"
   },
   {
    "duration": 7,
    "start_time": "2024-09-09T14:29:10.366Z"
   },
   {
    "duration": 9,
    "start_time": "2024-09-09T14:29:33.751Z"
   },
   {
    "duration": 7,
    "start_time": "2024-09-09T14:31:31.564Z"
   },
   {
    "duration": 7,
    "start_time": "2024-09-09T14:31:46.278Z"
   },
   {
    "duration": 11,
    "start_time": "2024-09-09T14:34:13.427Z"
   },
   {
    "duration": 7,
    "start_time": "2024-09-09T14:37:57.717Z"
   },
   {
    "duration": 291,
    "start_time": "2024-09-09T14:38:05.585Z"
   },
   {
    "duration": 21,
    "start_time": "2024-09-09T14:39:00.711Z"
   },
   {
    "duration": 7,
    "start_time": "2024-09-09T14:50:55.440Z"
   },
   {
    "duration": 200,
    "start_time": "2024-09-09T14:51:07.290Z"
   },
   {
    "duration": 9,
    "start_time": "2024-09-09T14:51:35.919Z"
   },
   {
    "duration": 43,
    "start_time": "2024-09-09T14:52:06.785Z"
   },
   {
    "duration": 45,
    "start_time": "2024-09-09T14:52:26.633Z"
   },
   {
    "duration": 113,
    "start_time": "2024-09-09T14:53:45.723Z"
   },
   {
    "duration": 16,
    "start_time": "2024-09-09T14:54:38.345Z"
   },
   {
    "duration": 6,
    "start_time": "2024-09-09T14:56:34.822Z"
   },
   {
    "duration": 6,
    "start_time": "2024-09-09T14:57:00.601Z"
   },
   {
    "duration": 10,
    "start_time": "2024-09-09T14:57:08.204Z"
   },
   {
    "duration": 44,
    "start_time": "2024-09-09T14:59:32.798Z"
   },
   {
    "duration": 115,
    "start_time": "2024-09-09T14:59:54.881Z"
   },
   {
    "duration": 42,
    "start_time": "2024-09-09T15:06:13.602Z"
   },
   {
    "duration": 59,
    "start_time": "2024-09-09T15:06:27.738Z"
   },
   {
    "duration": 96,
    "start_time": "2024-09-09T15:06:36.783Z"
   },
   {
    "duration": 47,
    "start_time": "2024-09-09T15:06:53.730Z"
   },
   {
    "duration": 122,
    "start_time": "2024-09-09T15:07:26.335Z"
   },
   {
    "duration": 15,
    "start_time": "2024-09-09T15:32:13.112Z"
   },
   {
    "duration": 5,
    "start_time": "2024-09-09T15:36:49.174Z"
   },
   {
    "duration": 12,
    "start_time": "2024-09-09T15:36:56.551Z"
   },
   {
    "duration": 7,
    "start_time": "2024-09-09T15:37:11.820Z"
   },
   {
    "duration": 7,
    "start_time": "2024-09-09T15:38:59.044Z"
   },
   {
    "duration": 4,
    "start_time": "2024-09-09T15:39:28.179Z"
   },
   {
    "duration": 4,
    "start_time": "2024-09-09T15:39:32.712Z"
   },
   {
    "duration": 7,
    "start_time": "2024-09-09T15:39:54.719Z"
   },
   {
    "duration": 8,
    "start_time": "2024-09-09T15:40:12.635Z"
   },
   {
    "duration": 8,
    "start_time": "2024-09-09T15:40:50.773Z"
   },
   {
    "duration": 9,
    "start_time": "2024-09-09T15:41:21.509Z"
   },
   {
    "duration": 124,
    "start_time": "2024-09-09T15:44:16.285Z"
   },
   {
    "duration": 117,
    "start_time": "2024-09-09T15:45:18.894Z"
   },
   {
    "duration": 16,
    "start_time": "2024-09-09T15:48:25.681Z"
   },
   {
    "duration": 5,
    "start_time": "2024-09-09T15:50:02.898Z"
   },
   {
    "duration": 216,
    "start_time": "2024-09-09T15:50:30.053Z"
   },
   {
    "duration": 22,
    "start_time": "2024-09-09T15:51:17.572Z"
   },
   {
    "duration": 130,
    "start_time": "2024-09-09T15:51:50.723Z"
   },
   {
    "duration": 18,
    "start_time": "2024-09-09T15:52:20.039Z"
   },
   {
    "duration": 140,
    "start_time": "2024-09-09T15:52:45.005Z"
   },
   {
    "duration": 117,
    "start_time": "2024-09-09T15:53:13.487Z"
   },
   {
    "duration": 125,
    "start_time": "2024-09-09T15:54:53.714Z"
   },
   {
    "duration": 448,
    "start_time": "2024-09-09T15:58:04.512Z"
   },
   {
    "duration": 82,
    "start_time": "2024-09-09T15:58:37.966Z"
   },
   {
    "duration": 51,
    "start_time": "2024-09-09T15:59:01.883Z"
   },
   {
    "duration": 70,
    "start_time": "2024-09-09T15:59:11.583Z"
   },
   {
    "duration": 8,
    "start_time": "2024-09-09T16:03:58.388Z"
   },
   {
    "duration": 9,
    "start_time": "2024-09-09T16:07:07.654Z"
   },
   {
    "duration": 8,
    "start_time": "2024-09-09T16:07:41.970Z"
   },
   {
    "duration": 8,
    "start_time": "2024-09-09T16:09:27.445Z"
   },
   {
    "duration": 162,
    "start_time": "2024-09-09T23:46:02.165Z"
   },
   {
    "duration": 2684,
    "start_time": "2024-09-09T23:46:15.158Z"
   },
   {
    "duration": 27,
    "start_time": "2024-09-09T23:46:17.845Z"
   },
   {
    "duration": 11,
    "start_time": "2024-09-09T23:46:17.874Z"
   },
   {
    "duration": 13,
    "start_time": "2024-09-09T23:46:17.887Z"
   },
   {
    "duration": 136,
    "start_time": "2024-09-09T23:46:17.902Z"
   },
   {
    "duration": 11,
    "start_time": "2024-09-09T23:46:18.041Z"
   },
   {
    "duration": 6,
    "start_time": "2024-09-09T23:46:18.054Z"
   },
   {
    "duration": 7,
    "start_time": "2024-09-09T23:46:18.062Z"
   },
   {
    "duration": 147,
    "start_time": "2024-09-09T23:46:18.070Z"
   },
   {
    "duration": 652,
    "start_time": "2024-09-09T23:46:18.219Z"
   },
   {
    "duration": 0,
    "start_time": "2024-09-09T23:46:18.873Z"
   },
   {
    "duration": 0,
    "start_time": "2024-09-09T23:46:18.874Z"
   },
   {
    "duration": 0,
    "start_time": "2024-09-09T23:46:18.876Z"
   },
   {
    "duration": 0,
    "start_time": "2024-09-09T23:46:18.877Z"
   },
   {
    "duration": 0,
    "start_time": "2024-09-09T23:46:18.879Z"
   },
   {
    "duration": 0,
    "start_time": "2024-09-09T23:46:18.880Z"
   },
   {
    "duration": 10,
    "start_time": "2024-09-09T23:46:31.765Z"
   },
   {
    "duration": 8,
    "start_time": "2024-09-09T23:47:47.504Z"
   },
   {
    "duration": 6,
    "start_time": "2024-09-09T23:48:04.263Z"
   },
   {
    "duration": 7,
    "start_time": "2024-09-09T23:48:16.585Z"
   },
   {
    "duration": 8,
    "start_time": "2024-09-09T23:48:22.077Z"
   },
   {
    "duration": 9,
    "start_time": "2024-09-09T23:48:33.585Z"
   },
   {
    "duration": 10,
    "start_time": "2024-09-09T23:50:36.456Z"
   },
   {
    "duration": 216,
    "start_time": "2024-09-09T23:51:18.194Z"
   },
   {
    "duration": 10,
    "start_time": "2024-09-09T23:51:34.493Z"
   },
   {
    "duration": 11,
    "start_time": "2024-09-09T23:51:57.690Z"
   },
   {
    "duration": 12,
    "start_time": "2024-09-09T23:52:30.051Z"
   },
   {
    "duration": 13,
    "start_time": "2024-09-09T23:53:22.278Z"
   },
   {
    "duration": 21,
    "start_time": "2024-09-09T23:54:01.409Z"
   },
   {
    "duration": 4,
    "start_time": "2024-09-09T23:54:12.716Z"
   },
   {
    "duration": 147,
    "start_time": "2024-09-09T23:54:21.901Z"
   },
   {
    "duration": 9,
    "start_time": "2024-09-09T23:57:21.749Z"
   },
   {
    "duration": 10,
    "start_time": "2024-09-09T23:57:38.611Z"
   },
   {
    "duration": 5,
    "start_time": "2024-09-10T00:06:32.860Z"
   },
   {
    "duration": 8,
    "start_time": "2024-09-10T00:16:24.788Z"
   },
   {
    "duration": 6,
    "start_time": "2024-09-10T00:18:13.500Z"
   },
   {
    "duration": 9,
    "start_time": "2024-09-10T00:18:19.631Z"
   },
   {
    "duration": 10,
    "start_time": "2024-09-10T00:20:08.029Z"
   },
   {
    "duration": 278,
    "start_time": "2024-09-10T00:21:21.418Z"
   },
   {
    "duration": 4,
    "start_time": "2024-09-10T00:23:57.657Z"
   },
   {
    "duration": 18,
    "start_time": "2024-09-10T00:24:03.316Z"
   },
   {
    "duration": 9,
    "start_time": "2024-09-10T00:24:25.770Z"
   },
   {
    "duration": 20,
    "start_time": "2024-09-10T00:24:42.543Z"
   },
   {
    "duration": 11,
    "start_time": "2024-09-10T00:25:00.589Z"
   },
   {
    "duration": 282,
    "start_time": "2024-09-10T00:25:22.880Z"
   },
   {
    "duration": 115,
    "start_time": "2024-09-10T00:25:51.062Z"
   },
   {
    "duration": 114,
    "start_time": "2024-09-10T00:31:06.069Z"
   },
   {
    "duration": 68,
    "start_time": "2024-09-10T00:31:18.721Z"
   },
   {
    "duration": 96,
    "start_time": "2024-09-10T00:32:47.820Z"
   },
   {
    "duration": 11,
    "start_time": "2024-09-10T00:38:57.399Z"
   },
   {
    "duration": 23,
    "start_time": "2024-09-10T00:44:44.699Z"
   },
   {
    "duration": 11,
    "start_time": "2024-09-10T00:46:48.112Z"
   },
   {
    "duration": 2508,
    "start_time": "2024-09-10T02:03:56.632Z"
   },
   {
    "duration": 778,
    "start_time": "2024-09-10T02:04:10.105Z"
   },
   {
    "duration": 26,
    "start_time": "2024-09-10T02:04:10.885Z"
   },
   {
    "duration": 9,
    "start_time": "2024-09-10T02:04:10.914Z"
   },
   {
    "duration": 12,
    "start_time": "2024-09-10T02:04:10.925Z"
   },
   {
    "duration": 119,
    "start_time": "2024-09-10T02:04:10.939Z"
   },
   {
    "duration": 17,
    "start_time": "2024-09-10T02:04:11.060Z"
   },
   {
    "duration": 6,
    "start_time": "2024-09-10T02:04:11.079Z"
   },
   {
    "duration": 7,
    "start_time": "2024-09-10T02:04:11.086Z"
   },
   {
    "duration": 139,
    "start_time": "2024-09-10T02:04:11.095Z"
   },
   {
    "duration": 150,
    "start_time": "2024-09-10T02:04:11.237Z"
   },
   {
    "duration": 65,
    "start_time": "2024-09-10T02:04:11.389Z"
   },
   {
    "duration": 5,
    "start_time": "2024-09-10T02:04:11.470Z"
   },
   {
    "duration": 124,
    "start_time": "2024-09-10T02:04:11.476Z"
   },
   {
    "duration": 9,
    "start_time": "2024-09-10T02:04:11.602Z"
   },
   {
    "duration": 4,
    "start_time": "2024-09-10T02:04:11.613Z"
   },
   {
    "duration": 0,
    "start_time": "2024-09-10T02:04:11.619Z"
   },
   {
    "duration": 0,
    "start_time": "2024-09-10T02:04:11.621Z"
   },
   {
    "duration": 0,
    "start_time": "2024-09-10T02:04:11.622Z"
   },
   {
    "duration": 0,
    "start_time": "2024-09-10T02:04:11.623Z"
   },
   {
    "duration": 0,
    "start_time": "2024-09-10T02:04:11.625Z"
   },
   {
    "duration": 5,
    "start_time": "2024-09-10T02:05:31.100Z"
   },
   {
    "duration": 4,
    "start_time": "2024-09-10T02:06:24.771Z"
   },
   {
    "duration": 13,
    "start_time": "2024-09-10T02:06:34.248Z"
   },
   {
    "duration": 5,
    "start_time": "2024-09-10T02:06:53.817Z"
   },
   {
    "duration": 5,
    "start_time": "2024-09-10T02:13:26.480Z"
   },
   {
    "duration": 4,
    "start_time": "2024-09-10T02:13:39.759Z"
   },
   {
    "duration": 18,
    "start_time": "2024-09-10T02:14:22.842Z"
   },
   {
    "duration": 24,
    "start_time": "2024-09-10T02:15:10.192Z"
   },
   {
    "duration": 8,
    "start_time": "2024-09-10T02:26:39.465Z"
   },
   {
    "duration": 4,
    "start_time": "2024-09-10T02:28:21.224Z"
   },
   {
    "duration": 7,
    "start_time": "2024-09-10T02:28:45.829Z"
   },
   {
    "duration": 9,
    "start_time": "2024-09-10T02:29:04.270Z"
   },
   {
    "duration": 9,
    "start_time": "2024-09-10T02:30:17.857Z"
   },
   {
    "duration": 7,
    "start_time": "2024-09-10T02:30:38.998Z"
   },
   {
    "duration": 8,
    "start_time": "2024-09-10T02:31:41.244Z"
   },
   {
    "duration": 7,
    "start_time": "2024-09-10T02:32:50.021Z"
   },
   {
    "duration": 8,
    "start_time": "2024-09-10T02:33:17.712Z"
   },
   {
    "duration": 7,
    "start_time": "2024-09-10T02:33:38.620Z"
   },
   {
    "duration": 24,
    "start_time": "2024-09-10T02:35:13.237Z"
   },
   {
    "duration": 7,
    "start_time": "2024-09-10T02:35:18.915Z"
   },
   {
    "duration": 14,
    "start_time": "2024-09-10T02:35:26.323Z"
   },
   {
    "duration": 11,
    "start_time": "2024-09-10T02:36:09.830Z"
   },
   {
    "duration": 8,
    "start_time": "2024-09-10T02:36:47.719Z"
   },
   {
    "duration": 4,
    "start_time": "2024-09-10T02:38:28.716Z"
   },
   {
    "duration": 4,
    "start_time": "2024-09-10T02:38:36.856Z"
   },
   {
    "duration": 4,
    "start_time": "2024-09-10T02:38:57.016Z"
   },
   {
    "duration": 24,
    "start_time": "2024-09-10T02:39:14.889Z"
   },
   {
    "duration": 1264,
    "start_time": "2024-09-10T02:39:41.145Z"
   },
   {
    "duration": 153,
    "start_time": "2024-09-10T02:40:39.783Z"
   },
   {
    "duration": 43,
    "start_time": "2024-09-10T02:40:43.109Z"
   },
   {
    "duration": 40,
    "start_time": "2024-09-10T02:41:43.366Z"
   },
   {
    "duration": 416,
    "start_time": "2024-09-10T02:42:14.041Z"
   },
   {
    "duration": 419,
    "start_time": "2024-09-10T02:42:51.962Z"
   },
   {
    "duration": 515,
    "start_time": "2024-09-10T02:43:27.993Z"
   },
   {
    "duration": 40,
    "start_time": "2024-09-10T02:43:43.849Z"
   },
   {
    "duration": 423,
    "start_time": "2024-09-10T02:44:00.028Z"
   },
   {
    "duration": 14,
    "start_time": "2024-09-10T02:44:08.646Z"
   },
   {
    "duration": 10,
    "start_time": "2024-09-10T02:44:15.198Z"
   },
   {
    "duration": 12,
    "start_time": "2024-09-10T02:44:21.136Z"
   },
   {
    "duration": 120,
    "start_time": "2024-09-10T02:44:23.508Z"
   },
   {
    "duration": 11,
    "start_time": "2024-09-10T02:44:29.246Z"
   },
   {
    "duration": 10,
    "start_time": "2024-09-10T02:44:42.220Z"
   },
   {
    "duration": 23,
    "start_time": "2024-09-10T02:44:47.213Z"
   },
   {
    "duration": 8,
    "start_time": "2024-09-10T02:44:56.403Z"
   },
   {
    "duration": 8,
    "start_time": "2024-09-10T02:45:04.263Z"
   },
   {
    "duration": 7,
    "start_time": "2024-09-10T02:45:14.441Z"
   },
   {
    "duration": 7,
    "start_time": "2024-09-10T02:45:53.994Z"
   },
   {
    "duration": 16,
    "start_time": "2024-09-10T02:46:26.402Z"
   },
   {
    "duration": 4,
    "start_time": "2024-09-10T02:47:00.837Z"
   },
   {
    "duration": 6,
    "start_time": "2024-09-10T02:47:09.388Z"
   },
   {
    "duration": 7,
    "start_time": "2024-09-10T02:48:33.452Z"
   },
   {
    "duration": 4,
    "start_time": "2024-09-10T02:49:17.397Z"
   },
   {
    "duration": 11,
    "start_time": "2024-09-10T02:49:23.461Z"
   },
   {
    "duration": 4,
    "start_time": "2024-09-10T02:52:34.450Z"
   },
   {
    "duration": 8,
    "start_time": "2024-09-10T02:53:46.759Z"
   },
   {
    "duration": 8,
    "start_time": "2024-09-10T02:54:07.241Z"
   },
   {
    "duration": 7,
    "start_time": "2024-09-10T02:54:16.035Z"
   },
   {
    "duration": 14,
    "start_time": "2024-09-10T02:54:36.583Z"
   },
   {
    "duration": 7,
    "start_time": "2024-09-10T02:55:57.641Z"
   },
   {
    "duration": 2504,
    "start_time": "2024-09-10T12:51:30.755Z"
   },
   {
    "duration": 765,
    "start_time": "2024-09-10T12:51:40.658Z"
   },
   {
    "duration": 27,
    "start_time": "2024-09-10T12:51:41.425Z"
   },
   {
    "duration": 9,
    "start_time": "2024-09-10T12:51:41.453Z"
   },
   {
    "duration": 13,
    "start_time": "2024-09-10T12:51:41.464Z"
   },
   {
    "duration": 116,
    "start_time": "2024-09-10T12:51:41.480Z"
   },
   {
    "duration": 14,
    "start_time": "2024-09-10T12:51:41.598Z"
   },
   {
    "duration": 6,
    "start_time": "2024-09-10T12:51:41.614Z"
   },
   {
    "duration": 7,
    "start_time": "2024-09-10T12:51:41.622Z"
   },
   {
    "duration": 139,
    "start_time": "2024-09-10T12:51:41.630Z"
   },
   {
    "duration": 147,
    "start_time": "2024-09-10T12:51:41.771Z"
   },
   {
    "duration": 64,
    "start_time": "2024-09-10T12:51:41.920Z"
   },
   {
    "duration": 19,
    "start_time": "2024-09-10T12:51:41.986Z"
   },
   {
    "duration": 118,
    "start_time": "2024-09-10T12:51:42.007Z"
   },
   {
    "duration": 9,
    "start_time": "2024-09-10T12:51:42.128Z"
   },
   {
    "duration": 4,
    "start_time": "2024-09-10T12:51:42.139Z"
   },
   {
    "duration": 0,
    "start_time": "2024-09-10T12:51:42.145Z"
   },
   {
    "duration": 0,
    "start_time": "2024-09-10T12:51:42.146Z"
   },
   {
    "duration": 0,
    "start_time": "2024-09-10T12:51:42.147Z"
   },
   {
    "duration": 0,
    "start_time": "2024-09-10T12:51:42.148Z"
   },
   {
    "duration": 0,
    "start_time": "2024-09-10T12:51:42.149Z"
   },
   {
    "duration": 0,
    "start_time": "2024-09-10T12:51:42.150Z"
   },
   {
    "duration": 0,
    "start_time": "2024-09-10T12:51:42.151Z"
   },
   {
    "duration": 0,
    "start_time": "2024-09-10T12:51:42.152Z"
   },
   {
    "duration": 0,
    "start_time": "2024-09-10T12:51:42.153Z"
   },
   {
    "duration": 0,
    "start_time": "2024-09-10T12:51:42.154Z"
   },
   {
    "duration": 114,
    "start_time": "2024-09-10T12:52:28.981Z"
   },
   {
    "duration": 24,
    "start_time": "2024-09-10T12:53:44.106Z"
   },
   {
    "duration": 7,
    "start_time": "2024-09-10T12:54:27.741Z"
   },
   {
    "duration": 7,
    "start_time": "2024-09-10T12:55:00.332Z"
   },
   {
    "duration": 10,
    "start_time": "2024-09-10T12:57:13.614Z"
   },
   {
    "duration": 123,
    "start_time": "2024-09-10T12:57:45.839Z"
   },
   {
    "duration": 22,
    "start_time": "2024-09-10T12:58:47.598Z"
   },
   {
    "duration": 16,
    "start_time": "2024-09-10T12:59:02.137Z"
   },
   {
    "duration": 25,
    "start_time": "2024-09-10T13:05:28.105Z"
   },
   {
    "duration": 4,
    "start_time": "2024-09-10T13:06:35.075Z"
   },
   {
    "duration": 7,
    "start_time": "2024-09-10T13:06:43.724Z"
   },
   {
    "duration": 7,
    "start_time": "2024-09-10T13:06:48.383Z"
   },
   {
    "duration": 7,
    "start_time": "2024-09-10T13:07:04.836Z"
   },
   {
    "duration": 3,
    "start_time": "2024-09-10T13:08:03.177Z"
   },
   {
    "duration": 14,
    "start_time": "2024-09-10T13:08:47.716Z"
   },
   {
    "duration": 9,
    "start_time": "2024-09-10T13:10:19.967Z"
   },
   {
    "duration": 755,
    "start_time": "2024-09-10T13:10:44.880Z"
   },
   {
    "duration": 16,
    "start_time": "2024-09-10T13:10:45.638Z"
   },
   {
    "duration": 10,
    "start_time": "2024-09-10T13:10:45.655Z"
   },
   {
    "duration": 13,
    "start_time": "2024-09-10T13:10:45.666Z"
   },
   {
    "duration": 134,
    "start_time": "2024-09-10T13:10:45.682Z"
   },
   {
    "duration": 11,
    "start_time": "2024-09-10T13:10:45.817Z"
   },
   {
    "duration": 6,
    "start_time": "2024-09-10T13:10:45.829Z"
   },
   {
    "duration": 7,
    "start_time": "2024-09-10T13:10:45.838Z"
   },
   {
    "duration": 138,
    "start_time": "2024-09-10T13:10:45.846Z"
   },
   {
    "duration": 147,
    "start_time": "2024-09-10T13:10:45.986Z"
   },
   {
    "duration": 70,
    "start_time": "2024-09-10T13:10:46.136Z"
   },
   {
    "duration": 4,
    "start_time": "2024-09-10T13:10:46.208Z"
   },
   {
    "duration": 134,
    "start_time": "2024-09-10T13:10:46.214Z"
   },
   {
    "duration": 9,
    "start_time": "2024-09-10T13:10:46.352Z"
   },
   {
    "duration": 4,
    "start_time": "2024-09-10T13:10:46.363Z"
   },
   {
    "duration": 0,
    "start_time": "2024-09-10T13:10:46.368Z"
   },
   {
    "duration": 0,
    "start_time": "2024-09-10T13:10:46.370Z"
   },
   {
    "duration": 0,
    "start_time": "2024-09-10T13:10:46.371Z"
   },
   {
    "duration": 0,
    "start_time": "2024-09-10T13:10:46.372Z"
   },
   {
    "duration": 0,
    "start_time": "2024-09-10T13:10:46.373Z"
   },
   {
    "duration": 0,
    "start_time": "2024-09-10T13:10:46.374Z"
   },
   {
    "duration": 0,
    "start_time": "2024-09-10T13:10:46.375Z"
   },
   {
    "duration": 0,
    "start_time": "2024-09-10T13:10:46.376Z"
   },
   {
    "duration": 603,
    "start_time": "2024-09-10T13:10:49.672Z"
   },
   {
    "duration": 24,
    "start_time": "2024-09-10T13:10:53.724Z"
   },
   {
    "duration": 7,
    "start_time": "2024-09-10T13:10:59.064Z"
   },
   {
    "duration": 10,
    "start_time": "2024-09-10T13:11:59.046Z"
   },
   {
    "duration": 6,
    "start_time": "2024-09-10T13:13:44.339Z"
   },
   {
    "duration": 11,
    "start_time": "2024-09-10T13:15:18.033Z"
   },
   {
    "duration": 17,
    "start_time": "2024-09-10T13:15:29.691Z"
   },
   {
    "duration": 9,
    "start_time": "2024-09-10T13:16:06.220Z"
   },
   {
    "duration": 94,
    "start_time": "2024-09-10T13:16:35.620Z"
   },
   {
    "duration": 88,
    "start_time": "2024-09-10T13:16:58.950Z"
   },
   {
    "duration": 96,
    "start_time": "2024-09-10T13:18:50.272Z"
   },
   {
    "duration": 9,
    "start_time": "2024-09-10T13:18:58.666Z"
   },
   {
    "duration": 3,
    "start_time": "2024-09-10T13:19:22.226Z"
   },
   {
    "duration": 9,
    "start_time": "2024-09-10T13:19:24.984Z"
   },
   {
    "duration": 9,
    "start_time": "2024-09-10T13:19:48.373Z"
   },
   {
    "duration": 10,
    "start_time": "2024-09-10T13:20:19.861Z"
   },
   {
    "duration": 9,
    "start_time": "2024-09-10T13:20:37.393Z"
   },
   {
    "duration": 11,
    "start_time": "2024-09-10T13:20:50.042Z"
   },
   {
    "duration": 8,
    "start_time": "2024-09-10T13:20:58.915Z"
   },
   {
    "duration": 9,
    "start_time": "2024-09-10T13:21:15.175Z"
   },
   {
    "duration": 91,
    "start_time": "2024-09-10T13:23:39.423Z"
   },
   {
    "duration": 11,
    "start_time": "2024-09-10T13:23:46.176Z"
   },
   {
    "duration": 142,
    "start_time": "2024-09-10T13:24:30.530Z"
   },
   {
    "duration": 253,
    "start_time": "2024-09-10T13:26:02.647Z"
   },
   {
    "duration": 152,
    "start_time": "2024-09-10T13:26:32.107Z"
   },
   {
    "duration": 150,
    "start_time": "2024-09-10T13:27:28.899Z"
   },
   {
    "duration": 158,
    "start_time": "2024-09-10T13:38:12.567Z"
   },
   {
    "duration": 156,
    "start_time": "2024-09-10T13:38:26.605Z"
   },
   {
    "duration": 152,
    "start_time": "2024-09-10T13:38:46.579Z"
   },
   {
    "duration": 117,
    "start_time": "2024-09-10T13:51:01.820Z"
   },
   {
    "duration": 109,
    "start_time": "2024-09-10T13:51:39.615Z"
   },
   {
    "duration": 152,
    "start_time": "2024-09-10T13:53:03.056Z"
   },
   {
    "duration": 3,
    "start_time": "2024-09-10T13:55:45.434Z"
   },
   {
    "duration": 114,
    "start_time": "2024-09-10T13:56:11.294Z"
   },
   {
    "duration": 116,
    "start_time": "2024-09-10T13:56:25.005Z"
   },
   {
    "duration": 166,
    "start_time": "2024-09-10T13:56:35.303Z"
   },
   {
    "duration": 6,
    "start_time": "2024-09-10T14:00:51.648Z"
   },
   {
    "duration": 7,
    "start_time": "2024-09-10T14:01:21.097Z"
   },
   {
    "duration": 7,
    "start_time": "2024-09-10T14:01:36.161Z"
   },
   {
    "duration": 5,
    "start_time": "2024-09-10T14:02:01.793Z"
   },
   {
    "duration": 12,
    "start_time": "2024-09-10T14:02:30.735Z"
   },
   {
    "duration": 6,
    "start_time": "2024-09-10T14:02:47.297Z"
   },
   {
    "duration": 12,
    "start_time": "2024-09-10T14:03:30.458Z"
   },
   {
    "duration": 12,
    "start_time": "2024-09-10T14:04:12.064Z"
   },
   {
    "duration": 12,
    "start_time": "2024-09-10T14:04:36.951Z"
   },
   {
    "duration": 8,
    "start_time": "2024-09-10T14:04:56.454Z"
   },
   {
    "duration": 5,
    "start_time": "2024-09-10T14:05:09.717Z"
   },
   {
    "duration": 5,
    "start_time": "2024-09-10T14:05:13.075Z"
   },
   {
    "duration": 6,
    "start_time": "2024-09-10T14:05:24.452Z"
   },
   {
    "duration": 7,
    "start_time": "2024-09-10T14:05:26.900Z"
   },
   {
    "duration": 9,
    "start_time": "2024-09-10T14:05:44.733Z"
   },
   {
    "duration": 7,
    "start_time": "2024-09-10T14:06:57.605Z"
   },
   {
    "duration": 9,
    "start_time": "2024-09-10T14:07:09.880Z"
   },
   {
    "duration": 7,
    "start_time": "2024-09-10T14:07:17.968Z"
   },
   {
    "duration": 8,
    "start_time": "2024-09-10T14:17:11.757Z"
   },
   {
    "duration": 14,
    "start_time": "2024-09-10T14:17:34.885Z"
   },
   {
    "duration": 12,
    "start_time": "2024-09-10T14:19:40.456Z"
   },
   {
    "duration": 6,
    "start_time": "2024-09-10T14:24:07.608Z"
   },
   {
    "duration": 7,
    "start_time": "2024-09-10T14:32:20.554Z"
   },
   {
    "duration": 7,
    "start_time": "2024-09-10T14:32:23.867Z"
   },
   {
    "duration": 6,
    "start_time": "2024-09-10T14:33:15.375Z"
   },
   {
    "duration": 20,
    "start_time": "2024-09-10T14:39:14.729Z"
   },
   {
    "duration": 16,
    "start_time": "2024-09-10T14:41:11.950Z"
   },
   {
    "duration": 13,
    "start_time": "2024-09-10T14:42:20.624Z"
   },
   {
    "duration": 8,
    "start_time": "2024-09-10T14:44:09.241Z"
   },
   {
    "duration": 9,
    "start_time": "2024-09-10T14:44:27.616Z"
   },
   {
    "duration": 11,
    "start_time": "2024-09-10T14:44:35.485Z"
   },
   {
    "duration": 14,
    "start_time": "2024-09-10T14:44:47.396Z"
   },
   {
    "duration": 7,
    "start_time": "2024-09-10T14:45:30.180Z"
   },
   {
    "duration": 131,
    "start_time": "2024-09-10T14:46:33.747Z"
   },
   {
    "duration": 119,
    "start_time": "2024-09-10T14:46:39.326Z"
   },
   {
    "duration": 168,
    "start_time": "2024-09-10T15:58:28.903Z"
   },
   {
    "duration": 2626,
    "start_time": "2024-09-10T15:58:42.025Z"
   },
   {
    "duration": 4,
    "start_time": "2024-09-10T15:58:44.654Z"
   },
   {
    "duration": 20,
    "start_time": "2024-09-10T15:58:44.661Z"
   },
   {
    "duration": 25,
    "start_time": "2024-09-10T15:58:44.684Z"
   },
   {
    "duration": 15,
    "start_time": "2024-09-10T15:58:44.711Z"
   },
   {
    "duration": 164,
    "start_time": "2024-09-10T15:58:44.729Z"
   },
   {
    "duration": 18,
    "start_time": "2024-09-10T15:58:44.895Z"
   },
   {
    "duration": 7,
    "start_time": "2024-09-10T15:58:44.915Z"
   },
   {
    "duration": 9,
    "start_time": "2024-09-10T15:58:44.923Z"
   },
   {
    "duration": 154,
    "start_time": "2024-09-10T15:58:44.935Z"
   },
   {
    "duration": 105,
    "start_time": "2024-09-10T15:58:45.091Z"
   },
   {
    "duration": 75,
    "start_time": "2024-09-10T15:58:45.197Z"
   },
   {
    "duration": 5,
    "start_time": "2024-09-10T15:58:45.273Z"
   },
   {
    "duration": 137,
    "start_time": "2024-09-10T15:58:45.280Z"
   },
   {
    "duration": 10,
    "start_time": "2024-09-10T15:58:45.419Z"
   },
   {
    "duration": 5,
    "start_time": "2024-09-10T15:58:45.430Z"
   },
   {
    "duration": 0,
    "start_time": "2024-09-10T15:58:45.436Z"
   },
   {
    "duration": 0,
    "start_time": "2024-09-10T15:58:45.438Z"
   },
   {
    "duration": 0,
    "start_time": "2024-09-10T15:58:45.440Z"
   },
   {
    "duration": 0,
    "start_time": "2024-09-10T15:58:45.441Z"
   },
   {
    "duration": 0,
    "start_time": "2024-09-10T15:58:45.442Z"
   },
   {
    "duration": 0,
    "start_time": "2024-09-10T15:58:45.444Z"
   },
   {
    "duration": 0,
    "start_time": "2024-09-10T15:58:45.445Z"
   },
   {
    "duration": 0,
    "start_time": "2024-09-10T15:58:45.446Z"
   },
   {
    "duration": 0,
    "start_time": "2024-09-10T15:58:45.448Z"
   },
   {
    "duration": 1,
    "start_time": "2024-09-10T15:58:45.449Z"
   },
   {
    "duration": 0,
    "start_time": "2024-09-10T15:58:45.452Z"
   },
   {
    "duration": 0,
    "start_time": "2024-09-10T15:58:45.453Z"
   },
   {
    "duration": 0,
    "start_time": "2024-09-10T15:58:45.455Z"
   },
   {
    "duration": 660,
    "start_time": "2024-09-10T15:58:55.890Z"
   },
   {
    "duration": 45,
    "start_time": "2024-09-10T15:59:24.070Z"
   },
   {
    "duration": 138,
    "start_time": "2024-09-10T15:59:32.173Z"
   },
   {
    "duration": 27,
    "start_time": "2024-09-10T15:59:37.667Z"
   },
   {
    "duration": 169,
    "start_time": "2024-09-10T15:59:42.776Z"
   },
   {
    "duration": 735,
    "start_time": "2024-09-10T15:59:54.641Z"
   },
   {
    "duration": 24,
    "start_time": "2024-09-10T16:04:05.115Z"
   },
   {
    "duration": 159,
    "start_time": "2024-09-10T16:04:55.165Z"
   },
   {
    "duration": 160,
    "start_time": "2024-09-10T16:08:08.303Z"
   },
   {
    "duration": 160,
    "start_time": "2024-09-10T16:09:15.264Z"
   },
   {
    "duration": 155,
    "start_time": "2024-09-10T16:09:19.443Z"
   },
   {
    "duration": 6,
    "start_time": "2024-09-10T16:09:53.355Z"
   },
   {
    "duration": 168,
    "start_time": "2024-09-10T16:09:57.922Z"
   },
   {
    "duration": 163,
    "start_time": "2024-09-10T16:10:06.597Z"
   },
   {
    "duration": 168,
    "start_time": "2024-09-10T16:18:19.955Z"
   },
   {
    "duration": 160,
    "start_time": "2024-09-10T16:18:47.491Z"
   },
   {
    "duration": 2773,
    "start_time": "2024-09-10T18:18:32.616Z"
   },
   {
    "duration": 2,
    "start_time": "2024-09-10T18:18:35.395Z"
   },
   {
    "duration": 19,
    "start_time": "2024-09-10T18:18:35.399Z"
   },
   {
    "duration": 10,
    "start_time": "2024-09-10T18:18:35.419Z"
   },
   {
    "duration": 13,
    "start_time": "2024-09-10T18:18:35.431Z"
   },
   {
    "duration": 151,
    "start_time": "2024-09-10T18:18:35.446Z"
   },
   {
    "duration": 11,
    "start_time": "2024-09-10T18:18:35.598Z"
   },
   {
    "duration": 5,
    "start_time": "2024-09-10T18:18:35.611Z"
   },
   {
    "duration": 7,
    "start_time": "2024-09-10T18:18:35.618Z"
   },
   {
    "duration": 169,
    "start_time": "2024-09-10T18:18:35.627Z"
   },
   {
    "duration": 103,
    "start_time": "2024-09-10T18:18:35.799Z"
   },
   {
    "duration": 73,
    "start_time": "2024-09-10T18:18:35.904Z"
   },
   {
    "duration": 6,
    "start_time": "2024-09-10T18:18:35.990Z"
   },
   {
    "duration": 136,
    "start_time": "2024-09-10T18:18:36.001Z"
   },
   {
    "duration": 10,
    "start_time": "2024-09-10T18:18:36.139Z"
   },
   {
    "duration": 5,
    "start_time": "2024-09-10T18:18:36.150Z"
   },
   {
    "duration": 0,
    "start_time": "2024-09-10T18:18:36.156Z"
   },
   {
    "duration": 0,
    "start_time": "2024-09-10T18:18:36.157Z"
   },
   {
    "duration": 0,
    "start_time": "2024-09-10T18:18:36.158Z"
   },
   {
    "duration": 0,
    "start_time": "2024-09-10T18:18:36.189Z"
   },
   {
    "duration": 0,
    "start_time": "2024-09-10T18:18:36.190Z"
   },
   {
    "duration": 0,
    "start_time": "2024-09-10T18:18:36.191Z"
   },
   {
    "duration": 0,
    "start_time": "2024-09-10T18:18:36.191Z"
   },
   {
    "duration": 0,
    "start_time": "2024-09-10T18:18:36.192Z"
   },
   {
    "duration": 0,
    "start_time": "2024-09-10T18:18:36.192Z"
   },
   {
    "duration": 0,
    "start_time": "2024-09-10T18:18:36.193Z"
   },
   {
    "duration": 0,
    "start_time": "2024-09-10T18:18:36.194Z"
   },
   {
    "duration": 0,
    "start_time": "2024-09-10T18:18:36.197Z"
   },
   {
    "duration": 0,
    "start_time": "2024-09-10T18:18:36.199Z"
   },
   {
    "duration": 13,
    "start_time": "2024-09-10T18:19:11.313Z"
   },
   {
    "duration": 5,
    "start_time": "2024-09-10T18:19:30.729Z"
   },
   {
    "duration": 5,
    "start_time": "2024-09-10T18:19:55.145Z"
   },
   {
    "duration": 6,
    "start_time": "2024-09-10T18:20:12.834Z"
   },
   {
    "duration": 5,
    "start_time": "2024-09-10T18:23:45.923Z"
   },
   {
    "duration": 5,
    "start_time": "2024-09-10T18:23:49.936Z"
   },
   {
    "duration": 122,
    "start_time": "2024-09-10T18:33:35.531Z"
   },
   {
    "duration": 672,
    "start_time": "2024-09-10T18:33:53.254Z"
   },
   {
    "duration": 43,
    "start_time": "2024-09-10T18:40:19.161Z"
   },
   {
    "duration": 24,
    "start_time": "2024-09-10T18:40:54.102Z"
   },
   {
    "duration": 10,
    "start_time": "2024-09-10T18:41:04.913Z"
   },
   {
    "duration": 173,
    "start_time": "2024-09-10T18:41:16.774Z"
   },
   {
    "duration": 7,
    "start_time": "2024-09-10T18:41:26.140Z"
   },
   {
    "duration": 8,
    "start_time": "2024-09-10T18:41:30.941Z"
   },
   {
    "duration": 9,
    "start_time": "2024-09-10T18:41:46.892Z"
   },
   {
    "duration": 122,
    "start_time": "2024-09-10T18:41:50.900Z"
   },
   {
    "duration": 24,
    "start_time": "2024-09-10T18:42:22.121Z"
   },
   {
    "duration": 6,
    "start_time": "2024-09-10T18:43:11.176Z"
   },
   {
    "duration": 140,
    "start_time": "2024-09-10T19:12:16.258Z"
   },
   {
    "duration": 116,
    "start_time": "2024-09-10T19:12:32.876Z"
   },
   {
    "duration": 116,
    "start_time": "2024-09-10T19:13:04.386Z"
   },
   {
    "duration": 119,
    "start_time": "2024-09-10T19:14:14.092Z"
   },
   {
    "duration": 8,
    "start_time": "2024-09-10T19:37:12.894Z"
   },
   {
    "duration": 97,
    "start_time": "2024-09-10T19:39:17.183Z"
   },
   {
    "duration": 67,
    "start_time": "2024-09-10T19:46:22.694Z"
   },
   {
    "duration": 130,
    "start_time": "2024-09-10T19:46:36.566Z"
   },
   {
    "duration": 9,
    "start_time": "2024-09-10T19:47:04.022Z"
   },
   {
    "duration": 134,
    "start_time": "2024-09-10T19:47:26.922Z"
   },
   {
    "duration": 117,
    "start_time": "2024-09-10T19:49:07.214Z"
   },
   {
    "duration": 121,
    "start_time": "2024-09-10T19:49:53.834Z"
   },
   {
    "duration": 123,
    "start_time": "2024-09-10T19:50:03.098Z"
   },
   {
    "duration": 161,
    "start_time": "2024-09-10T19:56:03.065Z"
   },
   {
    "duration": 163,
    "start_time": "2024-09-10T19:56:55.239Z"
   },
   {
    "duration": 159,
    "start_time": "2024-09-10T19:57:29.364Z"
   },
   {
    "duration": 5,
    "start_time": "2024-09-10T19:57:46.990Z"
   },
   {
    "duration": 127,
    "start_time": "2024-09-10T19:57:50.651Z"
   },
   {
    "duration": 233,
    "start_time": "2024-09-10T20:04:04.698Z"
   },
   {
    "duration": 136,
    "start_time": "2024-09-10T20:04:42.462Z"
   },
   {
    "duration": 134,
    "start_time": "2024-09-10T20:05:11.433Z"
   },
   {
    "duration": 177,
    "start_time": "2024-09-10T20:05:41.970Z"
   },
   {
    "duration": 7,
    "start_time": "2024-09-10T20:08:41.240Z"
   },
   {
    "duration": 12,
    "start_time": "2024-09-10T20:09:22.891Z"
   },
   {
    "duration": 2,
    "start_time": "2024-09-10T20:22:43.364Z"
   },
   {
    "duration": 12,
    "start_time": "2024-09-11T14:01:08.705Z"
   },
   {
    "duration": 159,
    "start_time": "2024-09-11T14:41:20.225Z"
   },
   {
    "duration": 2716,
    "start_time": "2024-09-11T14:41:30.258Z"
   },
   {
    "duration": 6,
    "start_time": "2024-09-11T14:41:32.977Z"
   },
   {
    "duration": 34,
    "start_time": "2024-09-11T14:41:32.985Z"
   },
   {
    "duration": 5,
    "start_time": "2024-09-11T14:41:33.021Z"
   },
   {
    "duration": 9,
    "start_time": "2024-09-11T14:41:33.028Z"
   },
   {
    "duration": 13,
    "start_time": "2024-09-11T14:41:33.039Z"
   },
   {
    "duration": 147,
    "start_time": "2024-09-11T14:41:33.054Z"
   },
   {
    "duration": 10,
    "start_time": "2024-09-11T14:41:33.203Z"
   },
   {
    "duration": 20,
    "start_time": "2024-09-11T14:41:33.215Z"
   },
   {
    "duration": 9,
    "start_time": "2024-09-11T14:41:33.238Z"
   },
   {
    "duration": 144,
    "start_time": "2024-09-11T14:41:33.248Z"
   },
   {
    "duration": 104,
    "start_time": "2024-09-11T14:41:33.394Z"
   },
   {
    "duration": 80,
    "start_time": "2024-09-11T14:41:33.499Z"
   },
   {
    "duration": 298,
    "start_time": "2024-09-11T14:41:33.580Z"
   },
   {
    "duration": 0,
    "start_time": "2024-09-11T14:41:33.880Z"
   },
   {
    "duration": 0,
    "start_time": "2024-09-11T14:41:33.882Z"
   },
   {
    "duration": 0,
    "start_time": "2024-09-11T14:41:33.883Z"
   },
   {
    "duration": 0,
    "start_time": "2024-09-11T14:41:33.885Z"
   },
   {
    "duration": 0,
    "start_time": "2024-09-11T14:41:33.886Z"
   },
   {
    "duration": 0,
    "start_time": "2024-09-11T14:41:33.887Z"
   },
   {
    "duration": 0,
    "start_time": "2024-09-11T14:41:33.889Z"
   },
   {
    "duration": 0,
    "start_time": "2024-09-11T14:41:33.890Z"
   },
   {
    "duration": 0,
    "start_time": "2024-09-11T14:41:33.891Z"
   },
   {
    "duration": 0,
    "start_time": "2024-09-11T14:41:33.893Z"
   },
   {
    "duration": 0,
    "start_time": "2024-09-11T14:41:33.894Z"
   },
   {
    "duration": 16,
    "start_time": "2024-09-11T14:41:53.287Z"
   },
   {
    "duration": 124,
    "start_time": "2024-09-11T14:42:25.807Z"
   },
   {
    "duration": 90,
    "start_time": "2024-09-11T14:53:36.913Z"
   },
   {
    "duration": 89,
    "start_time": "2024-09-11T14:54:26.708Z"
   },
   {
    "duration": 94,
    "start_time": "2024-09-11T14:54:32.995Z"
   },
   {
    "duration": 85,
    "start_time": "2024-09-11T14:55:21.062Z"
   },
   {
    "duration": 108,
    "start_time": "2024-09-11T14:55:28.355Z"
   },
   {
    "duration": 85,
    "start_time": "2024-09-11T14:55:35.947Z"
   },
   {
    "duration": 8,
    "start_time": "2024-09-11T14:56:33.041Z"
   },
   {
    "duration": 94,
    "start_time": "2024-09-11T15:03:09.523Z"
   },
   {
    "duration": 3,
    "start_time": "2024-09-11T15:04:03.014Z"
   },
   {
    "duration": 7,
    "start_time": "2024-09-11T15:04:06.410Z"
   },
   {
    "duration": 7,
    "start_time": "2024-09-11T15:04:16.882Z"
   },
   {
    "duration": 5,
    "start_time": "2024-09-11T15:04:27.560Z"
   },
   {
    "duration": 96,
    "start_time": "2024-09-11T15:17:35.578Z"
   },
   {
    "duration": 183,
    "start_time": "2024-09-11T15:17:54.195Z"
   },
   {
    "duration": 4,
    "start_time": "2024-09-11T15:19:04.448Z"
   },
   {
    "duration": 3,
    "start_time": "2024-09-11T15:19:22.204Z"
   },
   {
    "duration": 94,
    "start_time": "2024-09-11T15:22:16.778Z"
   },
   {
    "duration": 10,
    "start_time": "2024-09-11T15:23:34.171Z"
   },
   {
    "duration": 134,
    "start_time": "2024-09-11T15:23:45.281Z"
   },
   {
    "duration": 34,
    "start_time": "2024-09-11T15:24:01.314Z"
   },
   {
    "duration": 17,
    "start_time": "2024-09-11T15:25:25.713Z"
   },
   {
    "duration": 197,
    "start_time": "2024-09-11T15:27:39.303Z"
   },
   {
    "duration": 7,
    "start_time": "2024-09-11T15:29:01.474Z"
   },
   {
    "duration": 8,
    "start_time": "2024-09-11T15:29:04.208Z"
   },
   {
    "duration": 9,
    "start_time": "2024-09-11T15:29:35.579Z"
   },
   {
    "duration": 144,
    "start_time": "2024-09-11T15:29:39.071Z"
   },
   {
    "duration": 138,
    "start_time": "2024-09-11T15:30:00.583Z"
   },
   {
    "duration": 11,
    "start_time": "2024-09-11T15:30:07.072Z"
   },
   {
    "duration": 130,
    "start_time": "2024-09-11T15:30:37.510Z"
   },
   {
    "duration": 9,
    "start_time": "2024-09-11T15:32:10.142Z"
   },
   {
    "duration": 7,
    "start_time": "2024-09-11T15:33:49.748Z"
   },
   {
    "duration": 5,
    "start_time": "2024-09-11T15:38:02.451Z"
   },
   {
    "duration": 4,
    "start_time": "2024-09-11T15:38:12.488Z"
   },
   {
    "duration": 4,
    "start_time": "2024-09-11T15:38:24.509Z"
   },
   {
    "duration": 4,
    "start_time": "2024-09-11T15:38:30.849Z"
   },
   {
    "duration": 8,
    "start_time": "2024-09-12T14:06:03.349Z"
   },
   {
    "duration": 153,
    "start_time": "2024-09-12T14:06:14.170Z"
   },
   {
    "duration": 12,
    "start_time": "2024-09-12T14:06:27.092Z"
   },
   {
    "duration": 2553,
    "start_time": "2024-09-12T14:06:35.517Z"
   },
   {
    "duration": 3,
    "start_time": "2024-09-12T14:06:38.073Z"
   },
   {
    "duration": 33,
    "start_time": "2024-09-12T14:06:38.078Z"
   },
   {
    "duration": 5,
    "start_time": "2024-09-12T14:06:38.114Z"
   },
   {
    "duration": 9,
    "start_time": "2024-09-12T14:06:38.121Z"
   },
   {
    "duration": 13,
    "start_time": "2024-09-12T14:06:38.131Z"
   },
   {
    "duration": 143,
    "start_time": "2024-09-12T14:06:38.145Z"
   },
   {
    "duration": 10,
    "start_time": "2024-09-12T14:06:38.290Z"
   },
   {
    "duration": 6,
    "start_time": "2024-09-12T14:06:38.301Z"
   },
   {
    "duration": 7,
    "start_time": "2024-09-12T14:06:38.310Z"
   },
   {
    "duration": 152,
    "start_time": "2024-09-12T14:06:38.318Z"
   },
   {
    "duration": 99,
    "start_time": "2024-09-12T14:06:38.471Z"
   },
   {
    "duration": 65,
    "start_time": "2024-09-12T14:06:38.572Z"
   },
   {
    "duration": 5,
    "start_time": "2024-09-12T14:06:38.639Z"
   },
   {
    "duration": 3,
    "start_time": "2024-09-12T14:06:38.645Z"
   },
   {
    "duration": 370,
    "start_time": "2024-09-12T14:06:38.670Z"
   },
   {
    "duration": 0,
    "start_time": "2024-09-12T14:06:39.042Z"
   },
   {
    "duration": 0,
    "start_time": "2024-09-12T14:06:39.043Z"
   },
   {
    "duration": 0,
    "start_time": "2024-09-12T14:06:39.044Z"
   },
   {
    "duration": 0,
    "start_time": "2024-09-12T14:06:39.045Z"
   },
   {
    "duration": 0,
    "start_time": "2024-09-12T14:06:39.046Z"
   },
   {
    "duration": 0,
    "start_time": "2024-09-12T14:06:39.047Z"
   },
   {
    "duration": 0,
    "start_time": "2024-09-12T14:06:39.048Z"
   },
   {
    "duration": 0,
    "start_time": "2024-09-12T14:06:39.050Z"
   },
   {
    "duration": 0,
    "start_time": "2024-09-12T14:06:39.051Z"
   },
   {
    "duration": 0,
    "start_time": "2024-09-12T14:06:39.070Z"
   },
   {
    "duration": 0,
    "start_time": "2024-09-12T14:06:39.071Z"
   },
   {
    "duration": 0,
    "start_time": "2024-09-12T14:06:39.074Z"
   },
   {
    "duration": 5,
    "start_time": "2024-09-12T14:10:56.338Z"
   },
   {
    "duration": 6,
    "start_time": "2024-09-12T14:11:03.826Z"
   },
   {
    "duration": 12,
    "start_time": "2024-09-12T14:16:31.491Z"
   },
   {
    "duration": 9,
    "start_time": "2024-09-12T14:19:33.786Z"
   },
   {
    "duration": 10,
    "start_time": "2024-09-12T14:22:04.361Z"
   },
   {
    "duration": 10,
    "start_time": "2024-09-12T14:22:42.631Z"
   },
   {
    "duration": 15,
    "start_time": "2024-09-12T14:23:07.077Z"
   },
   {
    "duration": 11,
    "start_time": "2024-09-12T14:27:43.194Z"
   },
   {
    "duration": 6,
    "start_time": "2024-09-12T14:39:52.533Z"
   },
   {
    "duration": 6,
    "start_time": "2024-09-12T14:43:03.895Z"
   },
   {
    "duration": 13,
    "start_time": "2024-09-12T14:43:44.134Z"
   },
   {
    "duration": 7,
    "start_time": "2024-09-12T14:45:14.597Z"
   },
   {
    "duration": 10,
    "start_time": "2024-09-12T14:46:08.650Z"
   },
   {
    "duration": 10,
    "start_time": "2024-09-12T14:46:23.382Z"
   },
   {
    "duration": 9,
    "start_time": "2024-09-12T14:46:42.576Z"
   },
   {
    "duration": 10,
    "start_time": "2024-09-12T14:48:12.932Z"
   },
   {
    "duration": 18,
    "start_time": "2024-09-12T14:48:52.097Z"
   },
   {
    "duration": 9,
    "start_time": "2024-09-12T14:48:59.603Z"
   },
   {
    "duration": 10,
    "start_time": "2024-09-12T14:49:29.937Z"
   },
   {
    "duration": 9,
    "start_time": "2024-09-12T14:50:08.161Z"
   },
   {
    "duration": 9,
    "start_time": "2024-09-12T14:50:24.417Z"
   },
   {
    "duration": 9,
    "start_time": "2024-09-12T14:50:54.165Z"
   },
   {
    "duration": 10,
    "start_time": "2024-09-12T14:51:02.987Z"
   },
   {
    "duration": 10,
    "start_time": "2024-09-12T16:13:18.062Z"
   },
   {
    "duration": 11,
    "start_time": "2024-09-12T16:18:13.564Z"
   },
   {
    "duration": 4,
    "start_time": "2024-09-12T16:20:47.878Z"
   },
   {
    "duration": 97,
    "start_time": "2024-09-12T16:20:56.573Z"
   },
   {
    "duration": 13,
    "start_time": "2024-09-12T16:23:24.551Z"
   },
   {
    "duration": 8,
    "start_time": "2024-09-12T16:23:46.320Z"
   },
   {
    "duration": 9,
    "start_time": "2024-09-12T16:23:58.426Z"
   },
   {
    "duration": 6,
    "start_time": "2024-09-12T16:24:32.792Z"
   },
   {
    "duration": 120,
    "start_time": "2024-09-12T16:26:04.208Z"
   },
   {
    "duration": 9,
    "start_time": "2024-09-12T16:26:24.878Z"
   },
   {
    "duration": 10,
    "start_time": "2024-09-12T16:26:31.172Z"
   },
   {
    "duration": 4,
    "start_time": "2024-09-12T16:28:26.965Z"
   },
   {
    "duration": 4,
    "start_time": "2024-09-12T16:28:45.088Z"
   },
   {
    "duration": 10,
    "start_time": "2024-09-12T16:29:23.933Z"
   },
   {
    "duration": 9,
    "start_time": "2024-09-12T16:29:42.467Z"
   },
   {
    "duration": 9,
    "start_time": "2024-09-12T16:29:45.850Z"
   },
   {
    "duration": 9,
    "start_time": "2024-09-12T16:29:58.387Z"
   },
   {
    "duration": 9,
    "start_time": "2024-09-12T16:30:23.080Z"
   },
   {
    "duration": 4,
    "start_time": "2024-09-12T16:30:43.376Z"
   },
   {
    "duration": 10,
    "start_time": "2024-09-12T16:32:29.079Z"
   },
   {
    "duration": 9,
    "start_time": "2024-09-12T16:35:27.404Z"
   },
   {
    "duration": 92,
    "start_time": "2024-09-12T16:41:52.136Z"
   },
   {
    "duration": 241,
    "start_time": "2024-09-12T16:45:14.673Z"
   },
   {
    "duration": 147,
    "start_time": "2024-09-12T16:45:36.498Z"
   },
   {
    "duration": 10,
    "start_time": "2024-09-12T16:45:54.229Z"
   },
   {
    "duration": 117,
    "start_time": "2024-09-12T16:46:11.904Z"
   },
   {
    "duration": 157,
    "start_time": "2024-09-12T21:17:13.999Z"
   },
   {
    "duration": 2528,
    "start_time": "2024-09-12T21:17:26.042Z"
   },
   {
    "duration": 3,
    "start_time": "2024-09-12T21:17:28.572Z"
   },
   {
    "duration": 31,
    "start_time": "2024-09-12T21:17:28.586Z"
   },
   {
    "duration": 5,
    "start_time": "2024-09-12T21:17:28.619Z"
   },
   {
    "duration": 10,
    "start_time": "2024-09-12T21:17:28.625Z"
   },
   {
    "duration": 12,
    "start_time": "2024-09-12T21:17:28.636Z"
   },
   {
    "duration": 140,
    "start_time": "2024-09-12T21:17:28.651Z"
   },
   {
    "duration": 11,
    "start_time": "2024-09-12T21:17:28.792Z"
   },
   {
    "duration": 6,
    "start_time": "2024-09-12T21:17:28.804Z"
   },
   {
    "duration": 7,
    "start_time": "2024-09-12T21:17:28.813Z"
   },
   {
    "duration": 157,
    "start_time": "2024-09-12T21:17:28.822Z"
   },
   {
    "duration": 97,
    "start_time": "2024-09-12T21:17:28.981Z"
   },
   {
    "duration": 128,
    "start_time": "2024-09-12T21:17:29.086Z"
   },
   {
    "duration": 6,
    "start_time": "2024-09-12T21:17:29.216Z"
   },
   {
    "duration": 143,
    "start_time": "2024-09-12T21:17:29.223Z"
   },
   {
    "duration": 134,
    "start_time": "2024-09-12T21:17:29.368Z"
   },
   {
    "duration": 6,
    "start_time": "2024-09-12T21:17:29.504Z"
   },
   {
    "duration": 9,
    "start_time": "2024-09-12T21:17:29.512Z"
   },
   {
    "duration": 8,
    "start_time": "2024-09-12T21:17:29.523Z"
   },
   {
    "duration": 151,
    "start_time": "2024-09-12T21:17:29.533Z"
   },
   {
    "duration": 6,
    "start_time": "2024-09-12T21:17:29.687Z"
   },
   {
    "duration": 0,
    "start_time": "2024-09-12T21:17:29.694Z"
   },
   {
    "duration": 0,
    "start_time": "2024-09-12T21:17:29.695Z"
   },
   {
    "duration": 0,
    "start_time": "2024-09-12T21:17:29.697Z"
   },
   {
    "duration": 0,
    "start_time": "2024-09-12T21:17:29.699Z"
   },
   {
    "duration": 0,
    "start_time": "2024-09-12T21:17:29.700Z"
   },
   {
    "duration": 0,
    "start_time": "2024-09-12T21:17:29.701Z"
   },
   {
    "duration": 0,
    "start_time": "2024-09-12T21:17:29.702Z"
   },
   {
    "duration": 0,
    "start_time": "2024-09-12T21:17:29.703Z"
   }
  ],
  "kernelspec": {
   "display_name": "Python 3 (ipykernel)",
   "language": "python",
   "name": "python3"
  },
  "language_info": {
   "codemirror_mode": {
    "name": "ipython",
    "version": 3
   },
   "file_extension": ".py",
   "mimetype": "text/x-python",
   "name": "python",
   "nbconvert_exporter": "python",
   "pygments_lexer": "ipython3",
   "version": "3.9.19"
  },
  "toc": {
   "base_numbering": 1,
   "nav_menu": {},
   "number_sections": true,
   "sideBar": true,
   "skip_h1_title": true,
   "title_cell": "Table of Contents",
   "title_sidebar": "Contents",
   "toc_cell": false,
   "toc_position": {},
   "toc_section_display": true,
   "toc_window_display": false
  }
 },
 "nbformat": 4,
 "nbformat_minor": 2
}
