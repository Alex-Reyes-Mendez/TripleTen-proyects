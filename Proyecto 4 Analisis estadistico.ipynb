{
 "cells": [
  {
   "cell_type": "markdown",
   "metadata": {},
   "source": [
    "¡Hola!\n",
    "\n",
    "Mi nombre es Tonatiuh Cruz. Me complace revisar tu proyecto hoy.\n",
    "\n",
    "Al identificar cualquier error inicialmente, simplemente los destacaré. Te animo a localizar y abordar los problemas de forma independiente como parte de tu preparación para un rol como data-scientist. En un entorno profesional, tu líder de equipo seguiría un enfoque similar. Si encuentras la tarea desafiante, proporcionaré una pista más específica en la próxima iteración.\n",
    "\n",
    "Encontrarás mis comentarios a continuación - **por favor no los muevas, modifiques o elimines**.\n",
    "\n",
    "Puedes encontrar mis comentarios en cajas verdes, amarillas o rojas como esta:\n",
    "\n",
    "<div class=\"alert alert-block alert-success\">\n",
    "<b>Comentario del revisor</b> <a class=\"tocSkip\"></a>\n",
    "\n",
    "Éxito. Todo está hecho correctamente.\n",
    "</div>\n",
    "\n",
    "<div class=\"alert alert-block alert-warning\">\n",
    "<b>Comentario del revisor</b> <a class=\"tocSkip\"></a>\n",
    "\n",
    "Observaciones. Algunas recomendaciones.\n",
    "</div>\n",
    "\n",
    "<div class=\"alert alert-block alert-danger\">\n",
    "<b>Comentario del revisor</b> <a class=\"tocSkip\"></a>\n",
    "\n",
    "Necesita corrección. El bloque requiere algunas correcciones. El trabajo no puede ser aceptado con comentarios en rojo.\n",
    "</div>\n",
    "\n",
    "Puedes responderme utilizando esto:\n",
    "\n",
    "<div class=\"alert alert-block alert-info\">\n",
    "<b>Respuesta del estudiante.</b> <a class=\"tocSkip\"></a>"
   ]
  },
  {
   "cell_type": "markdown",
   "metadata": {
    "id": "3rYiDeEH0q0f"
   },
   "source": [
    "# ¿Cuál es la mejor tarifa?\n",
    "\n",
    "Trabajas como analista para el operador de telecomunicaciones Megaline. La empresa ofrece a sus clientes dos tarifas de prepago, Surf y Ultimate. El departamento comercial quiere saber cuál de las tarifas genera más ingresos para poder ajustar el presupuesto de publicidad.\n",
    "\n",
    "Vas a realizar un análisis preliminar de las tarifas basado en una selección de clientes relativamente pequeña. Tendrás los datos de 500 clientes de Megaline: quiénes son los clientes, de dónde son, qué tarifa usan, así como la cantidad de llamadas que hicieron y los mensajes de texto que enviaron en 2018. Tu trabajo es analizar el comportamiento de los clientes y determinar qué tarifa de prepago genera más ingresos."
   ]
  },
  {
   "cell_type": "markdown",
   "metadata": {
    "id": "VNddPNRQ0q0w"
   },
   "source": [
    "[Te proporcionamos algunos comentarios para orientarte mientras completas este proyecto. Pero debes asegurarte de eliminar todos los comentarios entre corchetes antes de entregar tu proyecto.]\n",
    "\n",
    "[Antes de sumergirte en el análisis de datos, explica por tu propia cuenta el propósito del proyecto y las acciones que planeas realizar.]\n",
    "\n",
    "[Ten en cuenta que estudiar, modificar y analizar datos es un proceso iterativo. Es normal volver a los pasos anteriores y corregirlos/ampliarlos para permitir nuevos pasos.]"
   ]
  },
  {
   "cell_type": "markdown",
   "metadata": {
    "id": "MQi4IPy70q0y"
   },
   "source": [
    "## Inicialización"
   ]
  },
  {
   "cell_type": "code",
   "execution_count": 1,
   "metadata": {
    "id": "MtYIuBxu0q0z"
   },
   "outputs": [],
   "source": [
    "import pandas as pd\n",
    "import numpy as np\n",
    "import seaborn as sns\n",
    "from scipy import stats as st\n",
    "from matplotlib import pyplot as plt\n",
    "import math\n",
    "\n",
    " # Cargar todas las librerías\n",
    "\n"
   ]
  },
  {
   "cell_type": "markdown",
   "metadata": {},
   "source": [
    "<div class=\"alert alert-block alert-warning\">\n",
    "<b>Comentario revisor</b> <a class=\"tocSkip\"></a>\n",
    "\n",
    "\n",
    "Recomiendo cargar la libreria math. De esta manera, puedes realizar redondeos con otros métodos. \n",
    "</div>\n",
    "Comentario del estudiante:Listo importo tambien math."
   ]
  },
  {
   "cell_type": "markdown",
   "metadata": {},
   "source": [
    "<div class=\"alert alert-block alert-success\">\n",
    "<b>Comentario del revisor</b> <a class=\"tocSkip\"></a>\n",
    "\n",
    "Gran trabajo con los ajustes!\n",
    "</div>"
   ]
  },
  {
   "cell_type": "markdown",
   "metadata": {
    "id": "4ysWWC5i0q00"
   },
   "source": [
    "## Cargar datos"
   ]
  },
  {
   "cell_type": "code",
   "execution_count": 2,
   "metadata": {
    "id": "CCqPW7rS0q01"
   },
   "outputs": [],
   "source": [
    "users=pd.read_csv('/datasets/megaline_users.csv')\n",
    "calls=pd.read_csv('/datasets/megaline_calls.csv')\n",
    "messages=pd.read_csv('/datasets/megaline_messages.csv')\n",
    "internet=pd.read_csv('/datasets/megaline_internet.csv')\n",
    "plans=pd.read_csv('/datasets/megaline_plans.csv')\n"
   ]
  },
  {
   "cell_type": "markdown",
   "metadata": {
    "id": "69qqoJ3r0q01"
   },
   "source": [
    "## Preparar los datos"
   ]
  },
  {
   "cell_type": "markdown",
   "metadata": {
    "id": "ohBhimvH0q01"
   },
   "source": [
    "## Tarifas"
   ]
  },
  {
   "cell_type": "code",
   "execution_count": 3,
   "metadata": {
    "id": "GptqP3Q40q02"
   },
   "outputs": [
    {
     "name": "stdout",
     "output_type": "stream",
     "text": [
      "<class 'pandas.core.frame.DataFrame'>\n",
      "RangeIndex: 2 entries, 0 to 1\n",
      "Data columns (total 8 columns):\n",
      " #   Column                 Non-Null Count  Dtype  \n",
      "---  ------                 --------------  -----  \n",
      " 0   messages_included      2 non-null      int64  \n",
      " 1   mb_per_month_included  2 non-null      int64  \n",
      " 2   minutes_included       2 non-null      int64  \n",
      " 3   usd_monthly_pay        2 non-null      int64  \n",
      " 4   usd_per_gb             2 non-null      int64  \n",
      " 5   usd_per_message        2 non-null      float64\n",
      " 6   usd_per_minute         2 non-null      float64\n",
      " 7   plan_name              2 non-null      object \n",
      "dtypes: float64(2), int64(5), object(1)\n",
      "memory usage: 256.0+ bytes\n"
     ]
    }
   ],
   "source": [
    "plans.info()\n",
    "# Imprime la información general/resumida sobre el DataFrame de las tarifas\n",
    "\n"
   ]
  },
  {
   "cell_type": "code",
   "execution_count": 4,
   "metadata": {
    "id": "64xzjwL70q02",
    "scrolled": true
   },
   "outputs": [
    {
     "data": {
      "text/html": [
       "<div>\n",
       "<style scoped>\n",
       "    .dataframe tbody tr th:only-of-type {\n",
       "        vertical-align: middle;\n",
       "    }\n",
       "\n",
       "    .dataframe tbody tr th {\n",
       "        vertical-align: top;\n",
       "    }\n",
       "\n",
       "    .dataframe thead th {\n",
       "        text-align: right;\n",
       "    }\n",
       "</style>\n",
       "<table border=\"1\" class=\"dataframe\">\n",
       "  <thead>\n",
       "    <tr style=\"text-align: right;\">\n",
       "      <th></th>\n",
       "      <th>messages_included</th>\n",
       "      <th>mb_per_month_included</th>\n",
       "      <th>minutes_included</th>\n",
       "      <th>usd_monthly_pay</th>\n",
       "      <th>usd_per_gb</th>\n",
       "      <th>usd_per_message</th>\n",
       "      <th>usd_per_minute</th>\n",
       "      <th>plan_name</th>\n",
       "    </tr>\n",
       "  </thead>\n",
       "  <tbody>\n",
       "    <tr>\n",
       "      <th>0</th>\n",
       "      <td>50</td>\n",
       "      <td>15360</td>\n",
       "      <td>500</td>\n",
       "      <td>20</td>\n",
       "      <td>10</td>\n",
       "      <td>0.03</td>\n",
       "      <td>0.03</td>\n",
       "      <td>surf</td>\n",
       "    </tr>\n",
       "    <tr>\n",
       "      <th>1</th>\n",
       "      <td>1000</td>\n",
       "      <td>30720</td>\n",
       "      <td>3000</td>\n",
       "      <td>70</td>\n",
       "      <td>7</td>\n",
       "      <td>0.01</td>\n",
       "      <td>0.01</td>\n",
       "      <td>ultimate</td>\n",
       "    </tr>\n",
       "  </tbody>\n",
       "</table>\n",
       "</div>"
      ],
      "text/plain": [
       "   messages_included  mb_per_month_included  minutes_included  \\\n",
       "0                 50                  15360               500   \n",
       "1               1000                  30720              3000   \n",
       "\n",
       "   usd_monthly_pay  usd_per_gb  usd_per_message  usd_per_minute plan_name  \n",
       "0               20          10             0.03            0.03      surf  \n",
       "1               70           7             0.01            0.01  ultimate  "
      ]
     },
     "execution_count": 4,
     "metadata": {},
     "output_type": "execute_result"
    }
   ],
   "source": [
    "(plans)# Imprime una muestra de los datos para las tarifas\n",
    "\n"
   ]
  },
  {
   "cell_type": "markdown",
   "metadata": {
    "id": "mEc_3_hs0q02"
   },
   "source": [
    "Al hacer una revision a simple vista, sobre si cuento con los datos correctos para resolver el proyecto me parcate que tenia datos en megabites y el proyecto pide gb por lo que tenemos que cambiar los datos de la columna mb_per_month_included a gb."
   ]
  },
  {
   "cell_type": "markdown",
   "metadata": {
    "id": "R3C05i1l0q03"
   },
   "source": [
    "## Corregir datos"
   ]
  },
  {
   "cell_type": "code",
   "execution_count": 5,
   "metadata": {
    "id": "Y7SVmjGn0q03"
   },
   "outputs": [
    {
     "data": {
      "text/html": [
       "<div>\n",
       "<style scoped>\n",
       "    .dataframe tbody tr th:only-of-type {\n",
       "        vertical-align: middle;\n",
       "    }\n",
       "\n",
       "    .dataframe tbody tr th {\n",
       "        vertical-align: top;\n",
       "    }\n",
       "\n",
       "    .dataframe thead th {\n",
       "        text-align: right;\n",
       "    }\n",
       "</style>\n",
       "<table border=\"1\" class=\"dataframe\">\n",
       "  <thead>\n",
       "    <tr style=\"text-align: right;\">\n",
       "      <th></th>\n",
       "      <th>messages_included</th>\n",
       "      <th>mb_per_month_included</th>\n",
       "      <th>minutes_included</th>\n",
       "      <th>usd_monthly_pay</th>\n",
       "      <th>usd_per_gb</th>\n",
       "      <th>usd_per_message</th>\n",
       "      <th>usd_per_minute</th>\n",
       "      <th>plan_name</th>\n",
       "    </tr>\n",
       "  </thead>\n",
       "  <tbody>\n",
       "    <tr>\n",
       "      <th>0</th>\n",
       "      <td>50</td>\n",
       "      <td>15.0</td>\n",
       "      <td>500</td>\n",
       "      <td>20</td>\n",
       "      <td>10</td>\n",
       "      <td>0.03</td>\n",
       "      <td>0.03</td>\n",
       "      <td>surf</td>\n",
       "    </tr>\n",
       "    <tr>\n",
       "      <th>1</th>\n",
       "      <td>1000</td>\n",
       "      <td>30.0</td>\n",
       "      <td>3000</td>\n",
       "      <td>70</td>\n",
       "      <td>7</td>\n",
       "      <td>0.01</td>\n",
       "      <td>0.01</td>\n",
       "      <td>ultimate</td>\n",
       "    </tr>\n",
       "  </tbody>\n",
       "</table>\n",
       "</div>"
      ],
      "text/plain": [
       "   messages_included  mb_per_month_included  minutes_included  \\\n",
       "0                 50                   15.0               500   \n",
       "1               1000                   30.0              3000   \n",
       "\n",
       "   usd_monthly_pay  usd_per_gb  usd_per_message  usd_per_minute plan_name  \n",
       "0               20          10             0.03            0.03      surf  \n",
       "1               70           7             0.01            0.01  ultimate  "
      ]
     },
     "execution_count": 5,
     "metadata": {},
     "output_type": "execute_result"
    }
   ],
   "source": [
    "plans['mb_per_month_included']=plans['mb_per_month_included']/1024\n",
    "plans\n"
   ]
  },
  {
   "cell_type": "markdown",
   "metadata": {},
   "source": [
    "<div class=\"alert alert-block alert-success\">\n",
    "<b>Comentario del revisor</b> <a class=\"tocSkip\"></a>\n",
    "\n",
    "Muy buen trabajo!! Es correcto considerar que 1024 megabytes son 1 gigabytes.\n",
    "    \n",
    "</div>"
   ]
  },
  {
   "cell_type": "markdown",
   "metadata": {
    "id": "LJir7bml0q03"
   },
   "source": [
    "## Enriquecer los datos"
   ]
  },
  {
   "cell_type": "markdown",
   "metadata": {
    "id": "1n2X6WXf0q04"
   },
   "source": [
    "## Usuarios/as"
   ]
  },
  {
   "cell_type": "code",
   "execution_count": 6,
   "metadata": {
    "id": "2NgjWFqx0q05"
   },
   "outputs": [
    {
     "name": "stdout",
     "output_type": "stream",
     "text": [
      "<class 'pandas.core.frame.DataFrame'>\n",
      "RangeIndex: 500 entries, 0 to 499\n",
      "Data columns (total 8 columns):\n",
      " #   Column      Non-Null Count  Dtype \n",
      "---  ------      --------------  ----- \n",
      " 0   user_id     500 non-null    int64 \n",
      " 1   first_name  500 non-null    object\n",
      " 2   last_name   500 non-null    object\n",
      " 3   age         500 non-null    int64 \n",
      " 4   city        500 non-null    object\n",
      " 5   reg_date    500 non-null    object\n",
      " 6   plan        500 non-null    object\n",
      " 7   churn_date  34 non-null     object\n",
      "dtypes: int64(2), object(6)\n",
      "memory usage: 31.4+ KB\n"
     ]
    }
   ],
   "source": [
    "users.info()# Imprime la información general/resumida sobre el DataFrame de usuarios\n",
    "\n"
   ]
  },
  {
   "cell_type": "code",
   "execution_count": 7,
   "metadata": {
    "id": "1IN1L9uh0q05"
   },
   "outputs": [
    {
     "data": {
      "text/html": [
       "<div>\n",
       "<style scoped>\n",
       "    .dataframe tbody tr th:only-of-type {\n",
       "        vertical-align: middle;\n",
       "    }\n",
       "\n",
       "    .dataframe tbody tr th {\n",
       "        vertical-align: top;\n",
       "    }\n",
       "\n",
       "    .dataframe thead th {\n",
       "        text-align: right;\n",
       "    }\n",
       "</style>\n",
       "<table border=\"1\" class=\"dataframe\">\n",
       "  <thead>\n",
       "    <tr style=\"text-align: right;\">\n",
       "      <th></th>\n",
       "      <th>user_id</th>\n",
       "      <th>first_name</th>\n",
       "      <th>last_name</th>\n",
       "      <th>age</th>\n",
       "      <th>city</th>\n",
       "      <th>reg_date</th>\n",
       "      <th>plan</th>\n",
       "      <th>churn_date</th>\n",
       "    </tr>\n",
       "  </thead>\n",
       "  <tbody>\n",
       "    <tr>\n",
       "      <th>0</th>\n",
       "      <td>1000</td>\n",
       "      <td>Anamaria</td>\n",
       "      <td>Bauer</td>\n",
       "      <td>45</td>\n",
       "      <td>Atlanta-Sandy Springs-Roswell, GA MSA</td>\n",
       "      <td>2018-12-24</td>\n",
       "      <td>ultimate</td>\n",
       "      <td>NaN</td>\n",
       "    </tr>\n",
       "    <tr>\n",
       "      <th>1</th>\n",
       "      <td>1001</td>\n",
       "      <td>Mickey</td>\n",
       "      <td>Wilkerson</td>\n",
       "      <td>28</td>\n",
       "      <td>Seattle-Tacoma-Bellevue, WA MSA</td>\n",
       "      <td>2018-08-13</td>\n",
       "      <td>surf</td>\n",
       "      <td>NaN</td>\n",
       "    </tr>\n",
       "    <tr>\n",
       "      <th>2</th>\n",
       "      <td>1002</td>\n",
       "      <td>Carlee</td>\n",
       "      <td>Hoffman</td>\n",
       "      <td>36</td>\n",
       "      <td>Las Vegas-Henderson-Paradise, NV MSA</td>\n",
       "      <td>2018-10-21</td>\n",
       "      <td>surf</td>\n",
       "      <td>NaN</td>\n",
       "    </tr>\n",
       "    <tr>\n",
       "      <th>3</th>\n",
       "      <td>1003</td>\n",
       "      <td>Reynaldo</td>\n",
       "      <td>Jenkins</td>\n",
       "      <td>52</td>\n",
       "      <td>Tulsa, OK MSA</td>\n",
       "      <td>2018-01-28</td>\n",
       "      <td>surf</td>\n",
       "      <td>NaN</td>\n",
       "    </tr>\n",
       "    <tr>\n",
       "      <th>4</th>\n",
       "      <td>1004</td>\n",
       "      <td>Leonila</td>\n",
       "      <td>Thompson</td>\n",
       "      <td>40</td>\n",
       "      <td>Seattle-Tacoma-Bellevue, WA MSA</td>\n",
       "      <td>2018-05-23</td>\n",
       "      <td>surf</td>\n",
       "      <td>NaN</td>\n",
       "    </tr>\n",
       "    <tr>\n",
       "      <th>...</th>\n",
       "      <td>...</td>\n",
       "      <td>...</td>\n",
       "      <td>...</td>\n",
       "      <td>...</td>\n",
       "      <td>...</td>\n",
       "      <td>...</td>\n",
       "      <td>...</td>\n",
       "      <td>...</td>\n",
       "    </tr>\n",
       "    <tr>\n",
       "      <th>495</th>\n",
       "      <td>1495</td>\n",
       "      <td>Fidel</td>\n",
       "      <td>Sharpe</td>\n",
       "      <td>67</td>\n",
       "      <td>New York-Newark-Jersey City, NY-NJ-PA MSA</td>\n",
       "      <td>2018-09-04</td>\n",
       "      <td>surf</td>\n",
       "      <td>NaN</td>\n",
       "    </tr>\n",
       "    <tr>\n",
       "      <th>496</th>\n",
       "      <td>1496</td>\n",
       "      <td>Ariel</td>\n",
       "      <td>Shepherd</td>\n",
       "      <td>49</td>\n",
       "      <td>New Orleans-Metairie, LA MSA</td>\n",
       "      <td>2018-02-20</td>\n",
       "      <td>surf</td>\n",
       "      <td>NaN</td>\n",
       "    </tr>\n",
       "    <tr>\n",
       "      <th>497</th>\n",
       "      <td>1497</td>\n",
       "      <td>Donte</td>\n",
       "      <td>Barrera</td>\n",
       "      <td>49</td>\n",
       "      <td>Los Angeles-Long Beach-Anaheim, CA MSA</td>\n",
       "      <td>2018-12-10</td>\n",
       "      <td>ultimate</td>\n",
       "      <td>NaN</td>\n",
       "    </tr>\n",
       "    <tr>\n",
       "      <th>498</th>\n",
       "      <td>1498</td>\n",
       "      <td>Scot</td>\n",
       "      <td>Williamson</td>\n",
       "      <td>51</td>\n",
       "      <td>New York-Newark-Jersey City, NY-NJ-PA MSA</td>\n",
       "      <td>2018-02-04</td>\n",
       "      <td>surf</td>\n",
       "      <td>NaN</td>\n",
       "    </tr>\n",
       "    <tr>\n",
       "      <th>499</th>\n",
       "      <td>1499</td>\n",
       "      <td>Shena</td>\n",
       "      <td>Dickson</td>\n",
       "      <td>37</td>\n",
       "      <td>Orlando-Kissimmee-Sanford, FL MSA</td>\n",
       "      <td>2018-05-06</td>\n",
       "      <td>surf</td>\n",
       "      <td>NaN</td>\n",
       "    </tr>\n",
       "  </tbody>\n",
       "</table>\n",
       "<p>500 rows × 8 columns</p>\n",
       "</div>"
      ],
      "text/plain": [
       "     user_id first_name   last_name  age  \\\n",
       "0       1000   Anamaria       Bauer   45   \n",
       "1       1001     Mickey   Wilkerson   28   \n",
       "2       1002     Carlee     Hoffman   36   \n",
       "3       1003   Reynaldo     Jenkins   52   \n",
       "4       1004    Leonila    Thompson   40   \n",
       "..       ...        ...         ...  ...   \n",
       "495     1495      Fidel      Sharpe   67   \n",
       "496     1496      Ariel    Shepherd   49   \n",
       "497     1497      Donte     Barrera   49   \n",
       "498     1498       Scot  Williamson   51   \n",
       "499     1499      Shena     Dickson   37   \n",
       "\n",
       "                                          city    reg_date      plan  \\\n",
       "0        Atlanta-Sandy Springs-Roswell, GA MSA  2018-12-24  ultimate   \n",
       "1              Seattle-Tacoma-Bellevue, WA MSA  2018-08-13      surf   \n",
       "2         Las Vegas-Henderson-Paradise, NV MSA  2018-10-21      surf   \n",
       "3                                Tulsa, OK MSA  2018-01-28      surf   \n",
       "4              Seattle-Tacoma-Bellevue, WA MSA  2018-05-23      surf   \n",
       "..                                         ...         ...       ...   \n",
       "495  New York-Newark-Jersey City, NY-NJ-PA MSA  2018-09-04      surf   \n",
       "496               New Orleans-Metairie, LA MSA  2018-02-20      surf   \n",
       "497     Los Angeles-Long Beach-Anaheim, CA MSA  2018-12-10  ultimate   \n",
       "498  New York-Newark-Jersey City, NY-NJ-PA MSA  2018-02-04      surf   \n",
       "499          Orlando-Kissimmee-Sanford, FL MSA  2018-05-06      surf   \n",
       "\n",
       "    churn_date  \n",
       "0          NaN  \n",
       "1          NaN  \n",
       "2          NaN  \n",
       "3          NaN  \n",
       "4          NaN  \n",
       "..         ...  \n",
       "495        NaN  \n",
       "496        NaN  \n",
       "497        NaN  \n",
       "498        NaN  \n",
       "499        NaN  \n",
       "\n",
       "[500 rows x 8 columns]"
      ]
     },
     "execution_count": 7,
     "metadata": {},
     "output_type": "execute_result"
    }
   ],
   "source": [
    "users# Imprime una muestra de datos para usuarios\n",
    "\n"
   ]
  },
  {
   "cell_type": "code",
   "execution_count": 43,
   "metadata": {},
   "outputs": [
    {
     "data": {
      "text/plain": [
       "1024    1\n",
       "1027    1\n",
       "1028    1\n",
       "1029    1\n",
       "1030    1\n",
       "       ..\n",
       "1495    1\n",
       "1494    1\n",
       "1493    1\n",
       "1012    1\n",
       "1023    1\n",
       "Name: user_id, Length: 500, dtype: int64"
      ]
     },
     "execution_count": 43,
     "metadata": {},
     "output_type": "execute_result"
    }
   ],
   "source": [
    "#verifico que no haya duplicados con el metodo value_count(), que muestra el numero de veces que tenemos cada user_id().\n",
    "users['user_id'].value_counts().sort_values()\n"
   ]
  },
  {
   "cell_type": "markdown",
   "metadata": {
    "id": "dCZoUq4f0q06"
   },
   "source": [
    " La columna reg_date esta con tipos de datos object, tenemos que cambiarla a la correspondiente.Ademas podemos observar que hay datos NaN , sin embargo estos estan en la columna de cuentas canceladas, por lo que es bueno que no haya cuentas canceladas para la empresa. Asi que no se eliminan esos datos NaN.\n",
    " "
   ]
  },
  {
   "cell_type": "markdown",
   "metadata": {
    "id": "BX5FQh_I0q06"
   },
   "source": [
    "### Corregir los datos"
   ]
  },
  {
   "cell_type": "markdown",
   "metadata": {
    "id": "8OdKMwJv0q06"
   },
   "source": [
    "[Corrige los problemas obvios con los datos basándote en las observaciones iniciales.]"
   ]
  },
  {
   "cell_type": "code",
   "execution_count": 9,
   "metadata": {
    "id": "yUqX-K0C0q07"
   },
   "outputs": [
    {
     "name": "stdout",
     "output_type": "stream",
     "text": [
      "<class 'pandas.core.frame.DataFrame'>\n",
      "RangeIndex: 500 entries, 0 to 499\n",
      "Data columns (total 8 columns):\n",
      " #   Column      Non-Null Count  Dtype         \n",
      "---  ------      --------------  -----         \n",
      " 0   user_id     500 non-null    int64         \n",
      " 1   first_name  500 non-null    object        \n",
      " 2   last_name   500 non-null    object        \n",
      " 3   age         500 non-null    int64         \n",
      " 4   city        500 non-null    object        \n",
      " 5   reg_date    500 non-null    datetime64[ns]\n",
      " 6   plan        500 non-null    object        \n",
      " 7   churn_date  34 non-null     object        \n",
      "dtypes: datetime64[ns](1), int64(2), object(5)\n",
      "memory usage: 31.4+ KB\n"
     ]
    }
   ],
   "source": [
    "users['reg_date']=pd.to_datetime(users['reg_date'],format ='%Y-%m-%d')\n",
    "users.info()"
   ]
  },
  {
   "cell_type": "markdown",
   "metadata": {
    "id": "ycwuARJp0q07"
   },
   "source": [
    "### Enriquecer los datos"
   ]
  },
  {
   "cell_type": "code",
   "execution_count": 10,
   "metadata": {
    "id": "iq0AaBS90q08"
   },
   "outputs": [
    {
     "data": {
      "text/html": [
       "<div>\n",
       "<style scoped>\n",
       "    .dataframe tbody tr th:only-of-type {\n",
       "        vertical-align: middle;\n",
       "    }\n",
       "\n",
       "    .dataframe tbody tr th {\n",
       "        vertical-align: top;\n",
       "    }\n",
       "\n",
       "    .dataframe thead th {\n",
       "        text-align: right;\n",
       "    }\n",
       "</style>\n",
       "<table border=\"1\" class=\"dataframe\">\n",
       "  <thead>\n",
       "    <tr style=\"text-align: right;\">\n",
       "      <th></th>\n",
       "      <th>user_id</th>\n",
       "      <th>first_name</th>\n",
       "      <th>last_name</th>\n",
       "      <th>age</th>\n",
       "      <th>city</th>\n",
       "      <th>reg_date</th>\n",
       "      <th>plan</th>\n",
       "      <th>churn_date</th>\n",
       "      <th>month_of_reg</th>\n",
       "    </tr>\n",
       "  </thead>\n",
       "  <tbody>\n",
       "    <tr>\n",
       "      <th>0</th>\n",
       "      <td>1000</td>\n",
       "      <td>Anamaria</td>\n",
       "      <td>Bauer</td>\n",
       "      <td>45</td>\n",
       "      <td>Atlanta-Sandy Springs-Roswell, GA MSA</td>\n",
       "      <td>2018-12-24</td>\n",
       "      <td>ultimate</td>\n",
       "      <td>NaN</td>\n",
       "      <td>12</td>\n",
       "    </tr>\n",
       "    <tr>\n",
       "      <th>1</th>\n",
       "      <td>1001</td>\n",
       "      <td>Mickey</td>\n",
       "      <td>Wilkerson</td>\n",
       "      <td>28</td>\n",
       "      <td>Seattle-Tacoma-Bellevue, WA MSA</td>\n",
       "      <td>2018-08-13</td>\n",
       "      <td>surf</td>\n",
       "      <td>NaN</td>\n",
       "      <td>8</td>\n",
       "    </tr>\n",
       "    <tr>\n",
       "      <th>2</th>\n",
       "      <td>1002</td>\n",
       "      <td>Carlee</td>\n",
       "      <td>Hoffman</td>\n",
       "      <td>36</td>\n",
       "      <td>Las Vegas-Henderson-Paradise, NV MSA</td>\n",
       "      <td>2018-10-21</td>\n",
       "      <td>surf</td>\n",
       "      <td>NaN</td>\n",
       "      <td>10</td>\n",
       "    </tr>\n",
       "    <tr>\n",
       "      <th>3</th>\n",
       "      <td>1003</td>\n",
       "      <td>Reynaldo</td>\n",
       "      <td>Jenkins</td>\n",
       "      <td>52</td>\n",
       "      <td>Tulsa, OK MSA</td>\n",
       "      <td>2018-01-28</td>\n",
       "      <td>surf</td>\n",
       "      <td>NaN</td>\n",
       "      <td>1</td>\n",
       "    </tr>\n",
       "    <tr>\n",
       "      <th>4</th>\n",
       "      <td>1004</td>\n",
       "      <td>Leonila</td>\n",
       "      <td>Thompson</td>\n",
       "      <td>40</td>\n",
       "      <td>Seattle-Tacoma-Bellevue, WA MSA</td>\n",
       "      <td>2018-05-23</td>\n",
       "      <td>surf</td>\n",
       "      <td>NaN</td>\n",
       "      <td>5</td>\n",
       "    </tr>\n",
       "    <tr>\n",
       "      <th>...</th>\n",
       "      <td>...</td>\n",
       "      <td>...</td>\n",
       "      <td>...</td>\n",
       "      <td>...</td>\n",
       "      <td>...</td>\n",
       "      <td>...</td>\n",
       "      <td>...</td>\n",
       "      <td>...</td>\n",
       "      <td>...</td>\n",
       "    </tr>\n",
       "    <tr>\n",
       "      <th>495</th>\n",
       "      <td>1495</td>\n",
       "      <td>Fidel</td>\n",
       "      <td>Sharpe</td>\n",
       "      <td>67</td>\n",
       "      <td>New York-Newark-Jersey City, NY-NJ-PA MSA</td>\n",
       "      <td>2018-09-04</td>\n",
       "      <td>surf</td>\n",
       "      <td>NaN</td>\n",
       "      <td>9</td>\n",
       "    </tr>\n",
       "    <tr>\n",
       "      <th>496</th>\n",
       "      <td>1496</td>\n",
       "      <td>Ariel</td>\n",
       "      <td>Shepherd</td>\n",
       "      <td>49</td>\n",
       "      <td>New Orleans-Metairie, LA MSA</td>\n",
       "      <td>2018-02-20</td>\n",
       "      <td>surf</td>\n",
       "      <td>NaN</td>\n",
       "      <td>2</td>\n",
       "    </tr>\n",
       "    <tr>\n",
       "      <th>497</th>\n",
       "      <td>1497</td>\n",
       "      <td>Donte</td>\n",
       "      <td>Barrera</td>\n",
       "      <td>49</td>\n",
       "      <td>Los Angeles-Long Beach-Anaheim, CA MSA</td>\n",
       "      <td>2018-12-10</td>\n",
       "      <td>ultimate</td>\n",
       "      <td>NaN</td>\n",
       "      <td>12</td>\n",
       "    </tr>\n",
       "    <tr>\n",
       "      <th>498</th>\n",
       "      <td>1498</td>\n",
       "      <td>Scot</td>\n",
       "      <td>Williamson</td>\n",
       "      <td>51</td>\n",
       "      <td>New York-Newark-Jersey City, NY-NJ-PA MSA</td>\n",
       "      <td>2018-02-04</td>\n",
       "      <td>surf</td>\n",
       "      <td>NaN</td>\n",
       "      <td>2</td>\n",
       "    </tr>\n",
       "    <tr>\n",
       "      <th>499</th>\n",
       "      <td>1499</td>\n",
       "      <td>Shena</td>\n",
       "      <td>Dickson</td>\n",
       "      <td>37</td>\n",
       "      <td>Orlando-Kissimmee-Sanford, FL MSA</td>\n",
       "      <td>2018-05-06</td>\n",
       "      <td>surf</td>\n",
       "      <td>NaN</td>\n",
       "      <td>5</td>\n",
       "    </tr>\n",
       "  </tbody>\n",
       "</table>\n",
       "<p>500 rows × 9 columns</p>\n",
       "</div>"
      ],
      "text/plain": [
       "     user_id first_name   last_name  age  \\\n",
       "0       1000   Anamaria       Bauer   45   \n",
       "1       1001     Mickey   Wilkerson   28   \n",
       "2       1002     Carlee     Hoffman   36   \n",
       "3       1003   Reynaldo     Jenkins   52   \n",
       "4       1004    Leonila    Thompson   40   \n",
       "..       ...        ...         ...  ...   \n",
       "495     1495      Fidel      Sharpe   67   \n",
       "496     1496      Ariel    Shepherd   49   \n",
       "497     1497      Donte     Barrera   49   \n",
       "498     1498       Scot  Williamson   51   \n",
       "499     1499      Shena     Dickson   37   \n",
       "\n",
       "                                          city   reg_date      plan  \\\n",
       "0        Atlanta-Sandy Springs-Roswell, GA MSA 2018-12-24  ultimate   \n",
       "1              Seattle-Tacoma-Bellevue, WA MSA 2018-08-13      surf   \n",
       "2         Las Vegas-Henderson-Paradise, NV MSA 2018-10-21      surf   \n",
       "3                                Tulsa, OK MSA 2018-01-28      surf   \n",
       "4              Seattle-Tacoma-Bellevue, WA MSA 2018-05-23      surf   \n",
       "..                                         ...        ...       ...   \n",
       "495  New York-Newark-Jersey City, NY-NJ-PA MSA 2018-09-04      surf   \n",
       "496               New Orleans-Metairie, LA MSA 2018-02-20      surf   \n",
       "497     Los Angeles-Long Beach-Anaheim, CA MSA 2018-12-10  ultimate   \n",
       "498  New York-Newark-Jersey City, NY-NJ-PA MSA 2018-02-04      surf   \n",
       "499          Orlando-Kissimmee-Sanford, FL MSA 2018-05-06      surf   \n",
       "\n",
       "    churn_date  month_of_reg  \n",
       "0          NaN            12  \n",
       "1          NaN             8  \n",
       "2          NaN            10  \n",
       "3          NaN             1  \n",
       "4          NaN             5  \n",
       "..         ...           ...  \n",
       "495        NaN             9  \n",
       "496        NaN             2  \n",
       "497        NaN            12  \n",
       "498        NaN             2  \n",
       "499        NaN             5  \n",
       "\n",
       "[500 rows x 9 columns]"
      ]
     },
     "execution_count": 10,
     "metadata": {},
     "output_type": "execute_result"
    }
   ],
   "source": [
    "users['month_of_reg']=users['reg_date'].dt.month\n",
    "users"
   ]
  },
  {
   "cell_type": "markdown",
   "metadata": {
    "id": "o7MeKCid0q08"
   },
   "source": [
    "## Llamadas"
   ]
  },
  {
   "cell_type": "code",
   "execution_count": 11,
   "metadata": {
    "id": "6dDlnoDm0q08"
   },
   "outputs": [
    {
     "name": "stdout",
     "output_type": "stream",
     "text": [
      "<class 'pandas.core.frame.DataFrame'>\n",
      "RangeIndex: 137735 entries, 0 to 137734\n",
      "Data columns (total 4 columns):\n",
      " #   Column     Non-Null Count   Dtype  \n",
      "---  ------     --------------   -----  \n",
      " 0   id         137735 non-null  object \n",
      " 1   user_id    137735 non-null  int64  \n",
      " 2   call_date  137735 non-null  object \n",
      " 3   duration   137735 non-null  float64\n",
      "dtypes: float64(1), int64(1), object(2)\n",
      "memory usage: 4.2+ MB\n"
     ]
    }
   ],
   "source": [
    "calls.info()# Imprime la información general/resumida sobre el DataFrame de las llamadas\n",
    "\n"
   ]
  },
  {
   "cell_type": "code",
   "execution_count": 12,
   "metadata": {
    "id": "kuh1vlNB0q09",
    "scrolled": true
   },
   "outputs": [
    {
     "data": {
      "text/html": [
       "<div>\n",
       "<style scoped>\n",
       "    .dataframe tbody tr th:only-of-type {\n",
       "        vertical-align: middle;\n",
       "    }\n",
       "\n",
       "    .dataframe tbody tr th {\n",
       "        vertical-align: top;\n",
       "    }\n",
       "\n",
       "    .dataframe thead th {\n",
       "        text-align: right;\n",
       "    }\n",
       "</style>\n",
       "<table border=\"1\" class=\"dataframe\">\n",
       "  <thead>\n",
       "    <tr style=\"text-align: right;\">\n",
       "      <th></th>\n",
       "      <th>id</th>\n",
       "      <th>user_id</th>\n",
       "      <th>call_date</th>\n",
       "      <th>duration</th>\n",
       "    </tr>\n",
       "  </thead>\n",
       "  <tbody>\n",
       "    <tr>\n",
       "      <th>0</th>\n",
       "      <td>1000_93</td>\n",
       "      <td>1000</td>\n",
       "      <td>2018-12-27</td>\n",
       "      <td>8.52</td>\n",
       "    </tr>\n",
       "    <tr>\n",
       "      <th>1</th>\n",
       "      <td>1000_145</td>\n",
       "      <td>1000</td>\n",
       "      <td>2018-12-27</td>\n",
       "      <td>13.66</td>\n",
       "    </tr>\n",
       "    <tr>\n",
       "      <th>2</th>\n",
       "      <td>1000_247</td>\n",
       "      <td>1000</td>\n",
       "      <td>2018-12-27</td>\n",
       "      <td>14.48</td>\n",
       "    </tr>\n",
       "    <tr>\n",
       "      <th>3</th>\n",
       "      <td>1000_309</td>\n",
       "      <td>1000</td>\n",
       "      <td>2018-12-28</td>\n",
       "      <td>5.76</td>\n",
       "    </tr>\n",
       "    <tr>\n",
       "      <th>4</th>\n",
       "      <td>1000_380</td>\n",
       "      <td>1000</td>\n",
       "      <td>2018-12-30</td>\n",
       "      <td>4.22</td>\n",
       "    </tr>\n",
       "  </tbody>\n",
       "</table>\n",
       "</div>"
      ],
      "text/plain": [
       "         id  user_id   call_date  duration\n",
       "0   1000_93     1000  2018-12-27      8.52\n",
       "1  1000_145     1000  2018-12-27     13.66\n",
       "2  1000_247     1000  2018-12-27     14.48\n",
       "3  1000_309     1000  2018-12-28      5.76\n",
       "4  1000_380     1000  2018-12-30      4.22"
      ]
     },
     "execution_count": 12,
     "metadata": {},
     "output_type": "execute_result"
    }
   ],
   "source": [
    "calls.head()# Imprime una muestra de datos para las llamadas\n",
    "\n"
   ]
  },
  {
   "cell_type": "code",
   "execution_count": 65,
   "metadata": {},
   "outputs": [
    {
     "data": {
      "text/plain": [
       "1152119     1\n",
       "1099197     1\n",
       "1181832     1\n",
       "1340114     1\n",
       "1072669     1\n",
       "           ..\n",
       "1101196     1\n",
       "122062      1\n",
       "1077138     1\n",
       "117943      1\n",
       "13241057    1\n",
       "Name: id, Length: 137735, dtype: int64"
      ]
     },
     "execution_count": 65,
     "metadata": {},
     "output_type": "execute_result"
    }
   ],
   "source": [
    "#verifico que no haya duplicados con el metodo value_counts(), que muestra el numero de veces que tenemos cada id\n",
    "calls['id'].value_counts().sort_values()"
   ]
  },
  {
   "cell_type": "markdown",
   "metadata": {
    "id": "DOAxYJSx0q09"
   },
   "source": [
    "Puedo observar que la columna id tiene datos con guines bajos, hay que modificarlos , ademas de que el tipo de dato en call_date   esta como object, hay que pasarlo a datatime."
   ]
  },
  {
   "cell_type": "markdown",
   "metadata": {
    "id": "S7hzxmbX0q0-"
   },
   "source": [
    "### Corregir los datos"
   ]
  },
  {
   "cell_type": "markdown",
   "metadata": {
    "id": "YxWyAjD20q0-"
   },
   "source": [
    "[Corrige los problemas obvios con los datos basándote en las observaciones iniciales.]"
   ]
  },
  {
   "cell_type": "code",
   "execution_count": 13,
   "metadata": {
    "id": "S2r8xA4f0q0-"
   },
   "outputs": [
    {
     "name": "stdout",
     "output_type": "stream",
     "text": [
      "<class 'pandas.core.frame.DataFrame'>\n",
      "RangeIndex: 137735 entries, 0 to 137734\n",
      "Data columns (total 4 columns):\n",
      " #   Column     Non-Null Count   Dtype         \n",
      "---  ------     --------------   -----         \n",
      " 0   id         137735 non-null  object        \n",
      " 1   user_id    137735 non-null  int64         \n",
      " 2   call_date  137735 non-null  datetime64[ns]\n",
      " 3   duration   137735 non-null  float64       \n",
      "dtypes: datetime64[ns](1), float64(1), int64(1), object(1)\n",
      "memory usage: 4.2+ MB\n"
     ]
    },
    {
     "data": {
      "text/html": [
       "<div>\n",
       "<style scoped>\n",
       "    .dataframe tbody tr th:only-of-type {\n",
       "        vertical-align: middle;\n",
       "    }\n",
       "\n",
       "    .dataframe tbody tr th {\n",
       "        vertical-align: top;\n",
       "    }\n",
       "\n",
       "    .dataframe thead th {\n",
       "        text-align: right;\n",
       "    }\n",
       "</style>\n",
       "<table border=\"1\" class=\"dataframe\">\n",
       "  <thead>\n",
       "    <tr style=\"text-align: right;\">\n",
       "      <th></th>\n",
       "      <th>id</th>\n",
       "      <th>user_id</th>\n",
       "      <th>call_date</th>\n",
       "      <th>duration</th>\n",
       "    </tr>\n",
       "  </thead>\n",
       "  <tbody>\n",
       "    <tr>\n",
       "      <th>0</th>\n",
       "      <td>100093</td>\n",
       "      <td>1000</td>\n",
       "      <td>2018-12-27</td>\n",
       "      <td>8.52</td>\n",
       "    </tr>\n",
       "    <tr>\n",
       "      <th>1</th>\n",
       "      <td>1000145</td>\n",
       "      <td>1000</td>\n",
       "      <td>2018-12-27</td>\n",
       "      <td>13.66</td>\n",
       "    </tr>\n",
       "    <tr>\n",
       "      <th>2</th>\n",
       "      <td>1000247</td>\n",
       "      <td>1000</td>\n",
       "      <td>2018-12-27</td>\n",
       "      <td>14.48</td>\n",
       "    </tr>\n",
       "    <tr>\n",
       "      <th>3</th>\n",
       "      <td>1000309</td>\n",
       "      <td>1000</td>\n",
       "      <td>2018-12-28</td>\n",
       "      <td>5.76</td>\n",
       "    </tr>\n",
       "    <tr>\n",
       "      <th>4</th>\n",
       "      <td>1000380</td>\n",
       "      <td>1000</td>\n",
       "      <td>2018-12-30</td>\n",
       "      <td>4.22</td>\n",
       "    </tr>\n",
       "    <tr>\n",
       "      <th>...</th>\n",
       "      <td>...</td>\n",
       "      <td>...</td>\n",
       "      <td>...</td>\n",
       "      <td>...</td>\n",
       "    </tr>\n",
       "    <tr>\n",
       "      <th>137730</th>\n",
       "      <td>1499199</td>\n",
       "      <td>1499</td>\n",
       "      <td>2018-11-21</td>\n",
       "      <td>8.72</td>\n",
       "    </tr>\n",
       "    <tr>\n",
       "      <th>137731</th>\n",
       "      <td>1499200</td>\n",
       "      <td>1499</td>\n",
       "      <td>2018-10-20</td>\n",
       "      <td>10.89</td>\n",
       "    </tr>\n",
       "    <tr>\n",
       "      <th>137732</th>\n",
       "      <td>1499201</td>\n",
       "      <td>1499</td>\n",
       "      <td>2018-09-21</td>\n",
       "      <td>8.12</td>\n",
       "    </tr>\n",
       "    <tr>\n",
       "      <th>137733</th>\n",
       "      <td>1499202</td>\n",
       "      <td>1499</td>\n",
       "      <td>2018-10-10</td>\n",
       "      <td>0.37</td>\n",
       "    </tr>\n",
       "    <tr>\n",
       "      <th>137734</th>\n",
       "      <td>1499203</td>\n",
       "      <td>1499</td>\n",
       "      <td>2018-12-29</td>\n",
       "      <td>13.86</td>\n",
       "    </tr>\n",
       "  </tbody>\n",
       "</table>\n",
       "<p>137735 rows × 4 columns</p>\n",
       "</div>"
      ],
      "text/plain": [
       "             id  user_id  call_date  duration\n",
       "0        100093     1000 2018-12-27      8.52\n",
       "1       1000145     1000 2018-12-27     13.66\n",
       "2       1000247     1000 2018-12-27     14.48\n",
       "3       1000309     1000 2018-12-28      5.76\n",
       "4       1000380     1000 2018-12-30      4.22\n",
       "...         ...      ...        ...       ...\n",
       "137730  1499199     1499 2018-11-21      8.72\n",
       "137731  1499200     1499 2018-10-20     10.89\n",
       "137732  1499201     1499 2018-09-21      8.12\n",
       "137733  1499202     1499 2018-10-10      0.37\n",
       "137734  1499203     1499 2018-12-29     13.86\n",
       "\n",
       "[137735 rows x 4 columns]"
      ]
     },
     "execution_count": 13,
     "metadata": {},
     "output_type": "execute_result"
    }
   ],
   "source": [
    "calls['id']=calls['id'].str.replace('_','')\n",
    "calls['call_date']=pd.to_datetime(calls['call_date'], format= '%Y-%m-%d')\n",
    "calls.info()\n",
    "calls\n"
   ]
  },
  {
   "cell_type": "markdown",
   "metadata": {
    "id": "KrMgTrlG0q0_"
   },
   "source": [
    "### Enriquecer los datos"
   ]
  },
  {
   "cell_type": "markdown",
   "metadata": {
    "id": "a9MbmEvE0q0_"
   },
   "source": [
    "[Agrega factores adicionales a los datos si crees que pudieran ser útiles.]"
   ]
  },
  {
   "cell_type": "code",
   "execution_count": 49,
   "metadata": {
    "id": "iZ1avpA_0q0_",
    "scrolled": true
   },
   "outputs": [
    {
     "data": {
      "text/html": [
       "<div>\n",
       "<style scoped>\n",
       "    .dataframe tbody tr th:only-of-type {\n",
       "        vertical-align: middle;\n",
       "    }\n",
       "\n",
       "    .dataframe tbody tr th {\n",
       "        vertical-align: top;\n",
       "    }\n",
       "\n",
       "    .dataframe thead th {\n",
       "        text-align: right;\n",
       "    }\n",
       "</style>\n",
       "<table border=\"1\" class=\"dataframe\">\n",
       "  <thead>\n",
       "    <tr style=\"text-align: right;\">\n",
       "      <th></th>\n",
       "      <th>id</th>\n",
       "      <th>user_id</th>\n",
       "      <th>call_date</th>\n",
       "      <th>duration</th>\n",
       "      <th>rounded_minutes</th>\n",
       "      <th>month</th>\n",
       "    </tr>\n",
       "  </thead>\n",
       "  <tbody>\n",
       "    <tr>\n",
       "      <th>0</th>\n",
       "      <td>100093</td>\n",
       "      <td>1000</td>\n",
       "      <td>2018-12-27</td>\n",
       "      <td>8.52</td>\n",
       "      <td>9.0</td>\n",
       "      <td>12</td>\n",
       "    </tr>\n",
       "    <tr>\n",
       "      <th>1</th>\n",
       "      <td>1000145</td>\n",
       "      <td>1000</td>\n",
       "      <td>2018-12-27</td>\n",
       "      <td>13.66</td>\n",
       "      <td>14.0</td>\n",
       "      <td>12</td>\n",
       "    </tr>\n",
       "    <tr>\n",
       "      <th>2</th>\n",
       "      <td>1000247</td>\n",
       "      <td>1000</td>\n",
       "      <td>2018-12-27</td>\n",
       "      <td>14.48</td>\n",
       "      <td>15.0</td>\n",
       "      <td>12</td>\n",
       "    </tr>\n",
       "    <tr>\n",
       "      <th>3</th>\n",
       "      <td>1000309</td>\n",
       "      <td>1000</td>\n",
       "      <td>2018-12-28</td>\n",
       "      <td>5.76</td>\n",
       "      <td>6.0</td>\n",
       "      <td>12</td>\n",
       "    </tr>\n",
       "    <tr>\n",
       "      <th>4</th>\n",
       "      <td>1000380</td>\n",
       "      <td>1000</td>\n",
       "      <td>2018-12-30</td>\n",
       "      <td>4.22</td>\n",
       "      <td>5.0</td>\n",
       "      <td>12</td>\n",
       "    </tr>\n",
       "    <tr>\n",
       "      <th>...</th>\n",
       "      <td>...</td>\n",
       "      <td>...</td>\n",
       "      <td>...</td>\n",
       "      <td>...</td>\n",
       "      <td>...</td>\n",
       "      <td>...</td>\n",
       "    </tr>\n",
       "    <tr>\n",
       "      <th>137730</th>\n",
       "      <td>1499199</td>\n",
       "      <td>1499</td>\n",
       "      <td>2018-11-21</td>\n",
       "      <td>8.72</td>\n",
       "      <td>9.0</td>\n",
       "      <td>11</td>\n",
       "    </tr>\n",
       "    <tr>\n",
       "      <th>137731</th>\n",
       "      <td>1499200</td>\n",
       "      <td>1499</td>\n",
       "      <td>2018-10-20</td>\n",
       "      <td>10.89</td>\n",
       "      <td>11.0</td>\n",
       "      <td>10</td>\n",
       "    </tr>\n",
       "    <tr>\n",
       "      <th>137732</th>\n",
       "      <td>1499201</td>\n",
       "      <td>1499</td>\n",
       "      <td>2018-09-21</td>\n",
       "      <td>8.12</td>\n",
       "      <td>9.0</td>\n",
       "      <td>9</td>\n",
       "    </tr>\n",
       "    <tr>\n",
       "      <th>137733</th>\n",
       "      <td>1499202</td>\n",
       "      <td>1499</td>\n",
       "      <td>2018-10-10</td>\n",
       "      <td>0.37</td>\n",
       "      <td>1.0</td>\n",
       "      <td>10</td>\n",
       "    </tr>\n",
       "    <tr>\n",
       "      <th>137734</th>\n",
       "      <td>1499203</td>\n",
       "      <td>1499</td>\n",
       "      <td>2018-12-29</td>\n",
       "      <td>13.86</td>\n",
       "      <td>14.0</td>\n",
       "      <td>12</td>\n",
       "    </tr>\n",
       "  </tbody>\n",
       "</table>\n",
       "<p>137735 rows × 6 columns</p>\n",
       "</div>"
      ],
      "text/plain": [
       "             id  user_id  call_date  duration  rounded_minutes  month\n",
       "0        100093     1000 2018-12-27      8.52              9.0     12\n",
       "1       1000145     1000 2018-12-27     13.66             14.0     12\n",
       "2       1000247     1000 2018-12-27     14.48             15.0     12\n",
       "3       1000309     1000 2018-12-28      5.76              6.0     12\n",
       "4       1000380     1000 2018-12-30      4.22              5.0     12\n",
       "...         ...      ...        ...       ...              ...    ...\n",
       "137730  1499199     1499 2018-11-21      8.72              9.0     11\n",
       "137731  1499200     1499 2018-10-20     10.89             11.0     10\n",
       "137732  1499201     1499 2018-09-21      8.12              9.0      9\n",
       "137733  1499202     1499 2018-10-10      0.37              1.0     10\n",
       "137734  1499203     1499 2018-12-29     13.86             14.0     12\n",
       "\n",
       "[137735 rows x 6 columns]"
      ]
     },
     "execution_count": 49,
     "metadata": {},
     "output_type": "execute_result"
    }
   ],
   "source": [
    "calls['rounded_minutes']=np.ceil(calls['duration'])\n",
    "calls['month']=calls['call_date'].dt.month\n",
    "calls"
   ]
  },
  {
   "cell_type": "code",
   "execution_count": 60,
   "metadata": {},
   "outputs": [
    {
     "name": "stdout",
     "output_type": "stream",
     "text": [
      "          id  user_id  call_date  duration  rounded_minutes  month\n",
      "19     10014     1001 2018-12-05       0.0              0.0     12\n",
      "25    100113     1001 2018-12-24       0.0              0.0     12\n",
      "31    100130     1001 2018-10-17       0.0              0.0     10\n",
      "32    100131     1001 2018-11-03       0.0              0.0     11\n",
      "34    100135     1001 2018-12-21       0.0              0.0     12\n",
      "39    100143     1001 2018-12-13       0.0              0.0     12\n",
      "44    100152     1001 2018-11-23       0.0              0.0     11\n",
      "45    100153     1001 2018-10-24       0.0              0.0     10\n",
      "49    100160     1001 2018-12-16       0.0              0.0     12\n",
      "61    100184     1001 2018-10-07       0.0              0.0     10\n",
      "69    100198     1001 2018-11-06       0.0              0.0     11\n",
      "74   1001109     1001 2018-10-27       0.0              0.0     10\n",
      "75   1001110     1001 2018-08-16       0.0              0.0      8\n",
      "76   1001112     1001 2018-10-28       0.0              0.0     10\n",
      "82   1001129     1001 2018-09-22       0.0              0.0      9\n",
      "91   1001146     1001 2018-09-05       0.0              0.0      9\n",
      "99   1001166     1001 2018-10-16       0.0              0.0     10\n",
      "101  1001170     1001 2018-08-21       0.0              0.0      8\n",
      "105  1001177     1001 2018-09-21       0.0              0.0      9\n",
      "108  1001186     1001 2018-09-03       0.0              0.0      9\n",
      "112  1001194     1001 2018-11-18       0.0              0.0     11\n",
      "121  1001209     1001 2018-12-11       0.0              0.0     12\n",
      "125  1001213     1001 2018-09-02       0.0              0.0      9\n",
      "129  1001220     1001 2018-10-26       0.0              0.0     10\n",
      "132  1001229     1001 2018-08-27       0.0              0.0      8\n",
      "137  1001234     1001 2018-10-23       0.0              0.0     10\n",
      "138  1001235     1001 2018-10-05       0.0              0.0     10\n",
      "141  1001239     1001 2018-09-10       0.0              0.0      9\n",
      "148  1001253     1001 2018-11-26       0.0              0.0     11\n",
      "149  1001256     1001 2018-09-04       0.0              0.0      9\n",
      "151  1001259     1001 2018-10-07       0.0              0.0     10\n",
      "155  1001267     1001 2018-12-01       0.0              0.0     12\n",
      "157  1001269     1001 2018-12-02       0.0              0.0     12\n",
      "159  1001277     1001 2018-10-23       0.0              0.0     10\n",
      "166  1001297     1001 2018-10-15       0.0              0.0     10\n",
      "170  1001302     1001 2018-11-13       0.0              0.0     11\n",
      "173  1001305     1001 2018-10-03       0.0              0.0     10\n",
      "177  1001322     1001 2018-09-20       0.0              0.0      9\n",
      "181  1001327     1001 2018-11-23       0.0              0.0     11\n",
      "185  1001334     1001 2018-11-04       0.0              0.0     11\n",
      "188  1001337     1001 2018-12-30       0.0              0.0     12\n",
      "195  1001349     1001 2018-10-25       0.0              0.0     10\n",
      "202  1001368     1001 2018-10-13       0.0              0.0     10\n",
      "216  1001396     1001 2018-09-22       0.0              0.0      9\n",
      "222  1001408     1001 2018-10-02       0.0              0.0     10\n",
      "227  1001415     1001 2018-09-05       0.0              0.0      9\n",
      "230  1001419     1001 2018-11-11       0.0              0.0     11\n",
      "232  1001425     1001 2018-11-26       0.0              0.0     11\n",
      "238  1001436     1001 2018-11-30       0.0              0.0     11\n",
      "239  1001437     1001 2018-08-29       0.0              0.0      8\n",
      "248  1001451     1001 2018-11-06       0.0              0.0     11\n",
      "250  1001456     1001 2018-11-29       0.0              0.0     11\n",
      "254  1001460     1001 2018-08-29       0.0              0.0      8\n",
      "255  1001462     1001 2018-11-25       0.0              0.0     11\n",
      "257  1001467     1001 2018-10-25       0.0              0.0     10\n",
      "260  1001471     1001 2018-09-13       0.0              0.0      9\n",
      "263  1001474     1001 2018-12-29       0.0              0.0     12\n",
      "264  1001486     1001 2018-11-23       0.0              0.0     11\n",
      "272  1001506     1001 2018-10-23       0.0              0.0     10\n",
      "281   100217     1002 2018-12-19       0.0              0.0     12\n"
     ]
    }
   ],
   "source": [
    "calls_filtered= calls[calls['duration']==0]\n",
    "print(calls_filtered.head(60))"
   ]
  },
  {
   "cell_type": "markdown",
   "metadata": {},
   "source": [
    "<div class=\"alert alert-block alert-warning\">\n",
    "<b>Comentario Revisor</b> <a class=\"tocSkip\"></a>\n",
    "\n",
    "Qué podríamos decir hasta el momento de las llamadas que tienen una duración de 0?\n",
    "</div>\n",
    "filtre las llamadas con valor a cero y encontre que ciertos usuarios tienen muchos id de llamadas con duracion cero, por ejemplo el usuario 1001 tiene todas sus llamadas , que son 59 , con duracion 0"
   ]
  },
  {
   "cell_type": "markdown",
   "metadata": {},
   "source": [
    "<div class=\"alert alert-block alert-success\">\n",
    "<b>Comentario del revisor</b> <a class=\"tocSkip\"></a>\n",
    "\n",
    "Gran trabajo con los ajustes!\n",
    "</div>"
   ]
  },
  {
   "cell_type": "markdown",
   "metadata": {
    "id": "mOUZSi180q0_"
   },
   "source": [
    "## Mensajes"
   ]
  },
  {
   "cell_type": "code",
   "execution_count": 15,
   "metadata": {
    "id": "R-bYJpdV0q1A"
   },
   "outputs": [
    {
     "name": "stdout",
     "output_type": "stream",
     "text": [
      "<class 'pandas.core.frame.DataFrame'>\n",
      "RangeIndex: 76051 entries, 0 to 76050\n",
      "Data columns (total 3 columns):\n",
      " #   Column        Non-Null Count  Dtype \n",
      "---  ------        --------------  ----- \n",
      " 0   id            76051 non-null  object\n",
      " 1   user_id       76051 non-null  int64 \n",
      " 2   message_date  76051 non-null  object\n",
      "dtypes: int64(1), object(2)\n",
      "memory usage: 1.7+ MB\n"
     ]
    }
   ],
   "source": [
    "messages.info()# Imprime la información general/resumida sobre el DataFrame de los mensajes\n",
    "\n"
   ]
  },
  {
   "cell_type": "code",
   "execution_count": 16,
   "metadata": {
    "id": "mCEl2iGE0q1A",
    "scrolled": true
   },
   "outputs": [
    {
     "data": {
      "text/html": [
       "<div>\n",
       "<style scoped>\n",
       "    .dataframe tbody tr th:only-of-type {\n",
       "        vertical-align: middle;\n",
       "    }\n",
       "\n",
       "    .dataframe tbody tr th {\n",
       "        vertical-align: top;\n",
       "    }\n",
       "\n",
       "    .dataframe thead th {\n",
       "        text-align: right;\n",
       "    }\n",
       "</style>\n",
       "<table border=\"1\" class=\"dataframe\">\n",
       "  <thead>\n",
       "    <tr style=\"text-align: right;\">\n",
       "      <th></th>\n",
       "      <th>id</th>\n",
       "      <th>user_id</th>\n",
       "      <th>message_date</th>\n",
       "    </tr>\n",
       "  </thead>\n",
       "  <tbody>\n",
       "    <tr>\n",
       "      <th>0</th>\n",
       "      <td>1000_125</td>\n",
       "      <td>1000</td>\n",
       "      <td>2018-12-27</td>\n",
       "    </tr>\n",
       "    <tr>\n",
       "      <th>1</th>\n",
       "      <td>1000_160</td>\n",
       "      <td>1000</td>\n",
       "      <td>2018-12-31</td>\n",
       "    </tr>\n",
       "    <tr>\n",
       "      <th>2</th>\n",
       "      <td>1000_223</td>\n",
       "      <td>1000</td>\n",
       "      <td>2018-12-31</td>\n",
       "    </tr>\n",
       "    <tr>\n",
       "      <th>3</th>\n",
       "      <td>1000_251</td>\n",
       "      <td>1000</td>\n",
       "      <td>2018-12-27</td>\n",
       "    </tr>\n",
       "    <tr>\n",
       "      <th>4</th>\n",
       "      <td>1000_255</td>\n",
       "      <td>1000</td>\n",
       "      <td>2018-12-26</td>\n",
       "    </tr>\n",
       "    <tr>\n",
       "      <th>5</th>\n",
       "      <td>1000_346</td>\n",
       "      <td>1000</td>\n",
       "      <td>2018-12-29</td>\n",
       "    </tr>\n",
       "    <tr>\n",
       "      <th>6</th>\n",
       "      <td>1000_386</td>\n",
       "      <td>1000</td>\n",
       "      <td>2018-12-30</td>\n",
       "    </tr>\n",
       "    <tr>\n",
       "      <th>7</th>\n",
       "      <td>1000_413</td>\n",
       "      <td>1000</td>\n",
       "      <td>2018-12-31</td>\n",
       "    </tr>\n",
       "    <tr>\n",
       "      <th>8</th>\n",
       "      <td>1000_502</td>\n",
       "      <td>1000</td>\n",
       "      <td>2018-12-27</td>\n",
       "    </tr>\n",
       "    <tr>\n",
       "      <th>9</th>\n",
       "      <td>1000_525</td>\n",
       "      <td>1000</td>\n",
       "      <td>2018-12-28</td>\n",
       "    </tr>\n",
       "  </tbody>\n",
       "</table>\n",
       "</div>"
      ],
      "text/plain": [
       "         id  user_id message_date\n",
       "0  1000_125     1000   2018-12-27\n",
       "1  1000_160     1000   2018-12-31\n",
       "2  1000_223     1000   2018-12-31\n",
       "3  1000_251     1000   2018-12-27\n",
       "4  1000_255     1000   2018-12-26\n",
       "5  1000_346     1000   2018-12-29\n",
       "6  1000_386     1000   2018-12-30\n",
       "7  1000_413     1000   2018-12-31\n",
       "8  1000_502     1000   2018-12-27\n",
       "9  1000_525     1000   2018-12-28"
      ]
     },
     "execution_count": 16,
     "metadata": {},
     "output_type": "execute_result"
    }
   ],
   "source": [
    "#\n",
    "messages.head(10)# Imprime una muestra de datos para los mensajes\n",
    "\n"
   ]
  },
  {
   "cell_type": "code",
   "execution_count": 66,
   "metadata": {},
   "outputs": [
    {
     "data": {
      "text/plain": [
       "1264449     1\n",
       "1060304     1\n",
       "118146      1\n",
       "1362621     1\n",
       "1114747     1\n",
       "           ..\n",
       "1229904     1\n",
       "109943      1\n",
       "1055285     1\n",
       "122062      1\n",
       "13241057    1\n",
       "Name: id, Length: 76051, dtype: int64"
      ]
     },
     "execution_count": 66,
     "metadata": {},
     "output_type": "execute_result"
    }
   ],
   "source": [
    "#verifico que no haya duplicados con el metodo value_counts(), que muestra el numero de veces que tenemos cada id\n",
    "messages['id'].value_counts().sort_values()"
   ]
  },
  {
   "cell_type": "markdown",
   "metadata": {
    "id": "04xDj7KH0q1A"
   },
   "source": [
    "La columna 'id' tiene valores con guines bajos, hay que cambiarlos, ademas la columna  'message_date' esta guardada como object, gat que cambiarla a dato tipo datetime."
   ]
  },
  {
   "cell_type": "markdown",
   "metadata": {
    "id": "Sprfak900q1B"
   },
   "source": [
    "### Corregir los datos"
   ]
  },
  {
   "cell_type": "markdown",
   "metadata": {
    "id": "eGw7d9j10q1B"
   },
   "source": [
    "[Corrige los problemas obvios con los datos basándote en las observaciones iniciales.]"
   ]
  },
  {
   "cell_type": "code",
   "execution_count": 17,
   "metadata": {
    "id": "vsllvkoa0q1B"
   },
   "outputs": [
    {
     "name": "stdout",
     "output_type": "stream",
     "text": [
      "<class 'pandas.core.frame.DataFrame'>\n",
      "RangeIndex: 76051 entries, 0 to 76050\n",
      "Data columns (total 3 columns):\n",
      " #   Column        Non-Null Count  Dtype         \n",
      "---  ------        --------------  -----         \n",
      " 0   id            76051 non-null  object        \n",
      " 1   user_id       76051 non-null  int64         \n",
      " 2   message_date  76051 non-null  datetime64[ns]\n",
      "dtypes: datetime64[ns](1), int64(1), object(1)\n",
      "memory usage: 1.7+ MB\n"
     ]
    },
    {
     "data": {
      "text/html": [
       "<div>\n",
       "<style scoped>\n",
       "    .dataframe tbody tr th:only-of-type {\n",
       "        vertical-align: middle;\n",
       "    }\n",
       "\n",
       "    .dataframe tbody tr th {\n",
       "        vertical-align: top;\n",
       "    }\n",
       "\n",
       "    .dataframe thead th {\n",
       "        text-align: right;\n",
       "    }\n",
       "</style>\n",
       "<table border=\"1\" class=\"dataframe\">\n",
       "  <thead>\n",
       "    <tr style=\"text-align: right;\">\n",
       "      <th></th>\n",
       "      <th>id</th>\n",
       "      <th>user_id</th>\n",
       "      <th>message_date</th>\n",
       "    </tr>\n",
       "  </thead>\n",
       "  <tbody>\n",
       "    <tr>\n",
       "      <th>0</th>\n",
       "      <td>1000125</td>\n",
       "      <td>1000</td>\n",
       "      <td>2018-12-27</td>\n",
       "    </tr>\n",
       "    <tr>\n",
       "      <th>1</th>\n",
       "      <td>1000160</td>\n",
       "      <td>1000</td>\n",
       "      <td>2018-12-31</td>\n",
       "    </tr>\n",
       "    <tr>\n",
       "      <th>2</th>\n",
       "      <td>1000223</td>\n",
       "      <td>1000</td>\n",
       "      <td>2018-12-31</td>\n",
       "    </tr>\n",
       "    <tr>\n",
       "      <th>3</th>\n",
       "      <td>1000251</td>\n",
       "      <td>1000</td>\n",
       "      <td>2018-12-27</td>\n",
       "    </tr>\n",
       "    <tr>\n",
       "      <th>4</th>\n",
       "      <td>1000255</td>\n",
       "      <td>1000</td>\n",
       "      <td>2018-12-26</td>\n",
       "    </tr>\n",
       "  </tbody>\n",
       "</table>\n",
       "</div>"
      ],
      "text/plain": [
       "        id  user_id message_date\n",
       "0  1000125     1000   2018-12-27\n",
       "1  1000160     1000   2018-12-31\n",
       "2  1000223     1000   2018-12-31\n",
       "3  1000251     1000   2018-12-27\n",
       "4  1000255     1000   2018-12-26"
      ]
     },
     "execution_count": 17,
     "metadata": {},
     "output_type": "execute_result"
    }
   ],
   "source": [
    "messages['id']=messages['id'].str.replace('_','')\n",
    "messages['message_date']=pd.to_datetime(messages['message_date'],format='%Y-%m-%d')\n",
    "messages.info()\n",
    "messages.head()"
   ]
  },
  {
   "cell_type": "markdown",
   "metadata": {
    "id": "HvLid7iD0q1B"
   },
   "source": [
    "### Enriquecer los datos"
   ]
  },
  {
   "cell_type": "code",
   "execution_count": 18,
   "metadata": {
    "id": "zYEXZac10q1C"
   },
   "outputs": [
    {
     "data": {
      "text/html": [
       "<div>\n",
       "<style scoped>\n",
       "    .dataframe tbody tr th:only-of-type {\n",
       "        vertical-align: middle;\n",
       "    }\n",
       "\n",
       "    .dataframe tbody tr th {\n",
       "        vertical-align: top;\n",
       "    }\n",
       "\n",
       "    .dataframe thead th {\n",
       "        text-align: right;\n",
       "    }\n",
       "</style>\n",
       "<table border=\"1\" class=\"dataframe\">\n",
       "  <thead>\n",
       "    <tr style=\"text-align: right;\">\n",
       "      <th></th>\n",
       "      <th>id</th>\n",
       "      <th>user_id</th>\n",
       "      <th>message_date</th>\n",
       "      <th>month</th>\n",
       "    </tr>\n",
       "  </thead>\n",
       "  <tbody>\n",
       "    <tr>\n",
       "      <th>0</th>\n",
       "      <td>1000125</td>\n",
       "      <td>1000</td>\n",
       "      <td>2018-12-27</td>\n",
       "      <td>12</td>\n",
       "    </tr>\n",
       "    <tr>\n",
       "      <th>1</th>\n",
       "      <td>1000160</td>\n",
       "      <td>1000</td>\n",
       "      <td>2018-12-31</td>\n",
       "      <td>12</td>\n",
       "    </tr>\n",
       "    <tr>\n",
       "      <th>2</th>\n",
       "      <td>1000223</td>\n",
       "      <td>1000</td>\n",
       "      <td>2018-12-31</td>\n",
       "      <td>12</td>\n",
       "    </tr>\n",
       "    <tr>\n",
       "      <th>3</th>\n",
       "      <td>1000251</td>\n",
       "      <td>1000</td>\n",
       "      <td>2018-12-27</td>\n",
       "      <td>12</td>\n",
       "    </tr>\n",
       "    <tr>\n",
       "      <th>4</th>\n",
       "      <td>1000255</td>\n",
       "      <td>1000</td>\n",
       "      <td>2018-12-26</td>\n",
       "      <td>12</td>\n",
       "    </tr>\n",
       "    <tr>\n",
       "      <th>...</th>\n",
       "      <td>...</td>\n",
       "      <td>...</td>\n",
       "      <td>...</td>\n",
       "      <td>...</td>\n",
       "    </tr>\n",
       "    <tr>\n",
       "      <th>76046</th>\n",
       "      <td>1497526</td>\n",
       "      <td>1497</td>\n",
       "      <td>2018-12-24</td>\n",
       "      <td>12</td>\n",
       "    </tr>\n",
       "    <tr>\n",
       "      <th>76047</th>\n",
       "      <td>1497536</td>\n",
       "      <td>1497</td>\n",
       "      <td>2018-12-24</td>\n",
       "      <td>12</td>\n",
       "    </tr>\n",
       "    <tr>\n",
       "      <th>76048</th>\n",
       "      <td>1497547</td>\n",
       "      <td>1497</td>\n",
       "      <td>2018-12-31</td>\n",
       "      <td>12</td>\n",
       "    </tr>\n",
       "    <tr>\n",
       "      <th>76049</th>\n",
       "      <td>1497558</td>\n",
       "      <td>1497</td>\n",
       "      <td>2018-12-24</td>\n",
       "      <td>12</td>\n",
       "    </tr>\n",
       "    <tr>\n",
       "      <th>76050</th>\n",
       "      <td>1497613</td>\n",
       "      <td>1497</td>\n",
       "      <td>2018-12-23</td>\n",
       "      <td>12</td>\n",
       "    </tr>\n",
       "  </tbody>\n",
       "</table>\n",
       "<p>76051 rows × 4 columns</p>\n",
       "</div>"
      ],
      "text/plain": [
       "            id  user_id message_date  month\n",
       "0      1000125     1000   2018-12-27     12\n",
       "1      1000160     1000   2018-12-31     12\n",
       "2      1000223     1000   2018-12-31     12\n",
       "3      1000251     1000   2018-12-27     12\n",
       "4      1000255     1000   2018-12-26     12\n",
       "...        ...      ...          ...    ...\n",
       "76046  1497526     1497   2018-12-24     12\n",
       "76047  1497536     1497   2018-12-24     12\n",
       "76048  1497547     1497   2018-12-31     12\n",
       "76049  1497558     1497   2018-12-24     12\n",
       "76050  1497613     1497   2018-12-23     12\n",
       "\n",
       "[76051 rows x 4 columns]"
      ]
     },
     "execution_count": 18,
     "metadata": {},
     "output_type": "execute_result"
    }
   ],
   "source": [
    "messages['month']=messages['message_date'].dt.month\n",
    "messages"
   ]
  },
  {
   "cell_type": "markdown",
   "metadata": {
    "id": "bStkaxn40q1C"
   },
   "source": [
    "## Internet"
   ]
  },
  {
   "cell_type": "code",
   "execution_count": 19,
   "metadata": {
    "id": "e-Uz5qyn0q1C"
   },
   "outputs": [
    {
     "name": "stdout",
     "output_type": "stream",
     "text": [
      "<class 'pandas.core.frame.DataFrame'>\n",
      "RangeIndex: 104825 entries, 0 to 104824\n",
      "Data columns (total 4 columns):\n",
      " #   Column        Non-Null Count   Dtype  \n",
      "---  ------        --------------   -----  \n",
      " 0   id            104825 non-null  object \n",
      " 1   user_id       104825 non-null  int64  \n",
      " 2   session_date  104825 non-null  object \n",
      " 3   mb_used       104825 non-null  float64\n",
      "dtypes: float64(1), int64(1), object(2)\n",
      "memory usage: 3.2+ MB\n"
     ]
    }
   ],
   "source": [
    "internet.info()# Imprime la información general/resumida sobre el DataFrame de internet\n",
    "\n"
   ]
  },
  {
   "cell_type": "code",
   "execution_count": 20,
   "metadata": {
    "id": "9r3x_XLw0q1C",
    "scrolled": true
   },
   "outputs": [
    {
     "data": {
      "text/html": [
       "<div>\n",
       "<style scoped>\n",
       "    .dataframe tbody tr th:only-of-type {\n",
       "        vertical-align: middle;\n",
       "    }\n",
       "\n",
       "    .dataframe tbody tr th {\n",
       "        vertical-align: top;\n",
       "    }\n",
       "\n",
       "    .dataframe thead th {\n",
       "        text-align: right;\n",
       "    }\n",
       "</style>\n",
       "<table border=\"1\" class=\"dataframe\">\n",
       "  <thead>\n",
       "    <tr style=\"text-align: right;\">\n",
       "      <th></th>\n",
       "      <th>id</th>\n",
       "      <th>user_id</th>\n",
       "      <th>session_date</th>\n",
       "      <th>mb_used</th>\n",
       "    </tr>\n",
       "  </thead>\n",
       "  <tbody>\n",
       "    <tr>\n",
       "      <th>0</th>\n",
       "      <td>1000_13</td>\n",
       "      <td>1000</td>\n",
       "      <td>2018-12-29</td>\n",
       "      <td>89.86</td>\n",
       "    </tr>\n",
       "    <tr>\n",
       "      <th>1</th>\n",
       "      <td>1000_204</td>\n",
       "      <td>1000</td>\n",
       "      <td>2018-12-31</td>\n",
       "      <td>0.00</td>\n",
       "    </tr>\n",
       "    <tr>\n",
       "      <th>2</th>\n",
       "      <td>1000_379</td>\n",
       "      <td>1000</td>\n",
       "      <td>2018-12-28</td>\n",
       "      <td>660.40</td>\n",
       "    </tr>\n",
       "    <tr>\n",
       "      <th>3</th>\n",
       "      <td>1000_413</td>\n",
       "      <td>1000</td>\n",
       "      <td>2018-12-26</td>\n",
       "      <td>270.99</td>\n",
       "    </tr>\n",
       "    <tr>\n",
       "      <th>4</th>\n",
       "      <td>1000_442</td>\n",
       "      <td>1000</td>\n",
       "      <td>2018-12-27</td>\n",
       "      <td>880.22</td>\n",
       "    </tr>\n",
       "    <tr>\n",
       "      <th>5</th>\n",
       "      <td>1001_0</td>\n",
       "      <td>1001</td>\n",
       "      <td>2018-08-24</td>\n",
       "      <td>284.68</td>\n",
       "    </tr>\n",
       "    <tr>\n",
       "      <th>6</th>\n",
       "      <td>1001_3</td>\n",
       "      <td>1001</td>\n",
       "      <td>2018-12-09</td>\n",
       "      <td>656.04</td>\n",
       "    </tr>\n",
       "    <tr>\n",
       "      <th>7</th>\n",
       "      <td>1001_4</td>\n",
       "      <td>1001</td>\n",
       "      <td>2018-11-04</td>\n",
       "      <td>16.97</td>\n",
       "    </tr>\n",
       "    <tr>\n",
       "      <th>8</th>\n",
       "      <td>1001_10</td>\n",
       "      <td>1001</td>\n",
       "      <td>2018-11-27</td>\n",
       "      <td>135.18</td>\n",
       "    </tr>\n",
       "    <tr>\n",
       "      <th>9</th>\n",
       "      <td>1001_15</td>\n",
       "      <td>1001</td>\n",
       "      <td>2018-12-13</td>\n",
       "      <td>761.92</td>\n",
       "    </tr>\n",
       "  </tbody>\n",
       "</table>\n",
       "</div>"
      ],
      "text/plain": [
       "         id  user_id session_date  mb_used\n",
       "0   1000_13     1000   2018-12-29    89.86\n",
       "1  1000_204     1000   2018-12-31     0.00\n",
       "2  1000_379     1000   2018-12-28   660.40\n",
       "3  1000_413     1000   2018-12-26   270.99\n",
       "4  1000_442     1000   2018-12-27   880.22\n",
       "5    1001_0     1001   2018-08-24   284.68\n",
       "6    1001_3     1001   2018-12-09   656.04\n",
       "7    1001_4     1001   2018-11-04    16.97\n",
       "8   1001_10     1001   2018-11-27   135.18\n",
       "9   1001_15     1001   2018-12-13   761.92"
      ]
     },
     "execution_count": 20,
     "metadata": {},
     "output_type": "execute_result"
    }
   ],
   "source": [
    "internet.head(10)# Imprime una muestra de datos para el tráfico de internet\n",
    "\n"
   ]
  },
  {
   "cell_type": "code",
   "execution_count": 72,
   "metadata": {},
   "outputs": [
    {
     "data": {
      "text/plain": [
       "1133225    1\n",
       "1332260    1\n",
       "1258497    1\n",
       "131176     1\n",
       "138579     1\n",
       "          ..\n",
       "124294     1\n",
       "139791     1\n",
       "1332301    1\n",
       "101611     1\n",
       "1280382    1\n",
       "Name: id, Length: 104825, dtype: int64"
      ]
     },
     "execution_count": 72,
     "metadata": {},
     "output_type": "execute_result"
    }
   ],
   "source": [
    "#verifico que no haya duplicados con el metodo value_counts(), que muestra el numero de veces que tenemos cada id\n",
    "internet['id'].value_counts().sort_values()"
   ]
  },
  {
   "cell_type": "markdown",
   "metadata": {
    "id": "EzOG5ik30q1D"
   },
   "source": [
    "La columna 'id' tiene valores con guines bajos, hay que cambiarlos, ademas la columna 'session_date' esta guardada como object, hay que cambiarla a dato tipo datetime."
   ]
  },
  {
   "cell_type": "markdown",
   "metadata": {
    "id": "yA0tkPFg0q1D"
   },
   "source": [
    "### Corregir los datos"
   ]
  },
  {
   "cell_type": "markdown",
   "metadata": {
    "id": "zlZMuIEK0q1D"
   },
   "source": [
    "[Corrige los problemas obvios con los datos basándote en las observaciones iniciales.]"
   ]
  },
  {
   "cell_type": "code",
   "execution_count": 21,
   "metadata": {
    "id": "zVeanzdd0q1E"
   },
   "outputs": [
    {
     "data": {
      "text/html": [
       "<div>\n",
       "<style scoped>\n",
       "    .dataframe tbody tr th:only-of-type {\n",
       "        vertical-align: middle;\n",
       "    }\n",
       "\n",
       "    .dataframe tbody tr th {\n",
       "        vertical-align: top;\n",
       "    }\n",
       "\n",
       "    .dataframe thead th {\n",
       "        text-align: right;\n",
       "    }\n",
       "</style>\n",
       "<table border=\"1\" class=\"dataframe\">\n",
       "  <thead>\n",
       "    <tr style=\"text-align: right;\">\n",
       "      <th></th>\n",
       "      <th>id</th>\n",
       "      <th>user_id</th>\n",
       "      <th>session_date</th>\n",
       "      <th>mb_used</th>\n",
       "    </tr>\n",
       "  </thead>\n",
       "  <tbody>\n",
       "    <tr>\n",
       "      <th>0</th>\n",
       "      <td>100013</td>\n",
       "      <td>1000</td>\n",
       "      <td>2018-12-29</td>\n",
       "      <td>89.86</td>\n",
       "    </tr>\n",
       "    <tr>\n",
       "      <th>1</th>\n",
       "      <td>1000204</td>\n",
       "      <td>1000</td>\n",
       "      <td>2018-12-31</td>\n",
       "      <td>0.00</td>\n",
       "    </tr>\n",
       "    <tr>\n",
       "      <th>2</th>\n",
       "      <td>1000379</td>\n",
       "      <td>1000</td>\n",
       "      <td>2018-12-28</td>\n",
       "      <td>660.40</td>\n",
       "    </tr>\n",
       "    <tr>\n",
       "      <th>3</th>\n",
       "      <td>1000413</td>\n",
       "      <td>1000</td>\n",
       "      <td>2018-12-26</td>\n",
       "      <td>270.99</td>\n",
       "    </tr>\n",
       "    <tr>\n",
       "      <th>4</th>\n",
       "      <td>1000442</td>\n",
       "      <td>1000</td>\n",
       "      <td>2018-12-27</td>\n",
       "      <td>880.22</td>\n",
       "    </tr>\n",
       "    <tr>\n",
       "      <th>...</th>\n",
       "      <td>...</td>\n",
       "      <td>...</td>\n",
       "      <td>...</td>\n",
       "      <td>...</td>\n",
       "    </tr>\n",
       "    <tr>\n",
       "      <th>104820</th>\n",
       "      <td>1499215</td>\n",
       "      <td>1499</td>\n",
       "      <td>2018-10-20</td>\n",
       "      <td>218.06</td>\n",
       "    </tr>\n",
       "    <tr>\n",
       "      <th>104821</th>\n",
       "      <td>1499216</td>\n",
       "      <td>1499</td>\n",
       "      <td>2018-12-30</td>\n",
       "      <td>304.72</td>\n",
       "    </tr>\n",
       "    <tr>\n",
       "      <th>104822</th>\n",
       "      <td>1499217</td>\n",
       "      <td>1499</td>\n",
       "      <td>2018-09-22</td>\n",
       "      <td>292.75</td>\n",
       "    </tr>\n",
       "    <tr>\n",
       "      <th>104823</th>\n",
       "      <td>1499218</td>\n",
       "      <td>1499</td>\n",
       "      <td>2018-12-07</td>\n",
       "      <td>0.00</td>\n",
       "    </tr>\n",
       "    <tr>\n",
       "      <th>104824</th>\n",
       "      <td>1499219</td>\n",
       "      <td>1499</td>\n",
       "      <td>2018-12-24</td>\n",
       "      <td>758.31</td>\n",
       "    </tr>\n",
       "  </tbody>\n",
       "</table>\n",
       "<p>104825 rows × 4 columns</p>\n",
       "</div>"
      ],
      "text/plain": [
       "             id  user_id session_date  mb_used\n",
       "0        100013     1000   2018-12-29    89.86\n",
       "1       1000204     1000   2018-12-31     0.00\n",
       "2       1000379     1000   2018-12-28   660.40\n",
       "3       1000413     1000   2018-12-26   270.99\n",
       "4       1000442     1000   2018-12-27   880.22\n",
       "...         ...      ...          ...      ...\n",
       "104820  1499215     1499   2018-10-20   218.06\n",
       "104821  1499216     1499   2018-12-30   304.72\n",
       "104822  1499217     1499   2018-09-22   292.75\n",
       "104823  1499218     1499   2018-12-07     0.00\n",
       "104824  1499219     1499   2018-12-24   758.31\n",
       "\n",
       "[104825 rows x 4 columns]"
      ]
     },
     "execution_count": 21,
     "metadata": {},
     "output_type": "execute_result"
    }
   ],
   "source": [
    "internet['id']=internet['id'].str.replace('_','')\n",
    "internet['session_date']=pd.to_datetime(internet['session_date'],format='%Y-%m-%d')\n",
    "\n",
    "\n",
    "internet"
   ]
  },
  {
   "cell_type": "markdown",
   "metadata": {
    "id": "e8_mLF4a0q1E"
   },
   "source": [
    "### Enriquecer los datos"
   ]
  },
  {
   "cell_type": "markdown",
   "metadata": {
    "id": "xhNdn2tE0q1E"
   },
   "source": [
    "[Agrega factores adicionales a los datos si crees que pudieran ser útiles.]"
   ]
  },
  {
   "cell_type": "code",
   "execution_count": 22,
   "metadata": {
    "id": "ESiYPIEK0q1E"
   },
   "outputs": [
    {
     "data": {
      "text/html": [
       "<div>\n",
       "<style scoped>\n",
       "    .dataframe tbody tr th:only-of-type {\n",
       "        vertical-align: middle;\n",
       "    }\n",
       "\n",
       "    .dataframe tbody tr th {\n",
       "        vertical-align: top;\n",
       "    }\n",
       "\n",
       "    .dataframe thead th {\n",
       "        text-align: right;\n",
       "    }\n",
       "</style>\n",
       "<table border=\"1\" class=\"dataframe\">\n",
       "  <thead>\n",
       "    <tr style=\"text-align: right;\">\n",
       "      <th></th>\n",
       "      <th>id</th>\n",
       "      <th>user_id</th>\n",
       "      <th>session_date</th>\n",
       "      <th>mb_used</th>\n",
       "      <th>month</th>\n",
       "      <th>gb_used</th>\n",
       "    </tr>\n",
       "  </thead>\n",
       "  <tbody>\n",
       "    <tr>\n",
       "      <th>0</th>\n",
       "      <td>100013</td>\n",
       "      <td>1000</td>\n",
       "      <td>2018-12-29</td>\n",
       "      <td>89.86</td>\n",
       "      <td>12</td>\n",
       "      <td>0.087754</td>\n",
       "    </tr>\n",
       "    <tr>\n",
       "      <th>1</th>\n",
       "      <td>1000204</td>\n",
       "      <td>1000</td>\n",
       "      <td>2018-12-31</td>\n",
       "      <td>0.00</td>\n",
       "      <td>12</td>\n",
       "      <td>0.000000</td>\n",
       "    </tr>\n",
       "    <tr>\n",
       "      <th>2</th>\n",
       "      <td>1000379</td>\n",
       "      <td>1000</td>\n",
       "      <td>2018-12-28</td>\n",
       "      <td>660.40</td>\n",
       "      <td>12</td>\n",
       "      <td>0.644922</td>\n",
       "    </tr>\n",
       "    <tr>\n",
       "      <th>3</th>\n",
       "      <td>1000413</td>\n",
       "      <td>1000</td>\n",
       "      <td>2018-12-26</td>\n",
       "      <td>270.99</td>\n",
       "      <td>12</td>\n",
       "      <td>0.264639</td>\n",
       "    </tr>\n",
       "    <tr>\n",
       "      <th>4</th>\n",
       "      <td>1000442</td>\n",
       "      <td>1000</td>\n",
       "      <td>2018-12-27</td>\n",
       "      <td>880.22</td>\n",
       "      <td>12</td>\n",
       "      <td>0.859590</td>\n",
       "    </tr>\n",
       "    <tr>\n",
       "      <th>...</th>\n",
       "      <td>...</td>\n",
       "      <td>...</td>\n",
       "      <td>...</td>\n",
       "      <td>...</td>\n",
       "      <td>...</td>\n",
       "      <td>...</td>\n",
       "    </tr>\n",
       "    <tr>\n",
       "      <th>104820</th>\n",
       "      <td>1499215</td>\n",
       "      <td>1499</td>\n",
       "      <td>2018-10-20</td>\n",
       "      <td>218.06</td>\n",
       "      <td>10</td>\n",
       "      <td>0.212949</td>\n",
       "    </tr>\n",
       "    <tr>\n",
       "      <th>104821</th>\n",
       "      <td>1499216</td>\n",
       "      <td>1499</td>\n",
       "      <td>2018-12-30</td>\n",
       "      <td>304.72</td>\n",
       "      <td>12</td>\n",
       "      <td>0.297578</td>\n",
       "    </tr>\n",
       "    <tr>\n",
       "      <th>104822</th>\n",
       "      <td>1499217</td>\n",
       "      <td>1499</td>\n",
       "      <td>2018-09-22</td>\n",
       "      <td>292.75</td>\n",
       "      <td>9</td>\n",
       "      <td>0.285889</td>\n",
       "    </tr>\n",
       "    <tr>\n",
       "      <th>104823</th>\n",
       "      <td>1499218</td>\n",
       "      <td>1499</td>\n",
       "      <td>2018-12-07</td>\n",
       "      <td>0.00</td>\n",
       "      <td>12</td>\n",
       "      <td>0.000000</td>\n",
       "    </tr>\n",
       "    <tr>\n",
       "      <th>104824</th>\n",
       "      <td>1499219</td>\n",
       "      <td>1499</td>\n",
       "      <td>2018-12-24</td>\n",
       "      <td>758.31</td>\n",
       "      <td>12</td>\n",
       "      <td>0.740537</td>\n",
       "    </tr>\n",
       "  </tbody>\n",
       "</table>\n",
       "<p>104825 rows × 6 columns</p>\n",
       "</div>"
      ],
      "text/plain": [
       "             id  user_id session_date  mb_used  month   gb_used\n",
       "0        100013     1000   2018-12-29    89.86     12  0.087754\n",
       "1       1000204     1000   2018-12-31     0.00     12  0.000000\n",
       "2       1000379     1000   2018-12-28   660.40     12  0.644922\n",
       "3       1000413     1000   2018-12-26   270.99     12  0.264639\n",
       "4       1000442     1000   2018-12-27   880.22     12  0.859590\n",
       "...         ...      ...          ...      ...    ...       ...\n",
       "104820  1499215     1499   2018-10-20   218.06     10  0.212949\n",
       "104821  1499216     1499   2018-12-30   304.72     12  0.297578\n",
       "104822  1499217     1499   2018-09-22   292.75      9  0.285889\n",
       "104823  1499218     1499   2018-12-07     0.00     12  0.000000\n",
       "104824  1499219     1499   2018-12-24   758.31     12  0.740537\n",
       "\n",
       "[104825 rows x 6 columns]"
      ]
     },
     "execution_count": 22,
     "metadata": {},
     "output_type": "execute_result"
    }
   ],
   "source": [
    "internet['month']=internet['session_date'].dt.month\n",
    "internet['gb_used']=internet['mb_used']/1024\n",
    "\n",
    "internet"
   ]
  },
  {
   "cell_type": "markdown",
   "metadata": {
    "id": "3UA2cqIW0q1E"
   },
   "source": [
    "## Estudiar las condiciones de las tarifas"
   ]
  },
  {
   "cell_type": "code",
   "execution_count": 23,
   "metadata": {
    "id": "T86Sqltq0q1F"
   },
   "outputs": [
    {
     "data": {
      "text/html": [
       "<div>\n",
       "<style scoped>\n",
       "    .dataframe tbody tr th:only-of-type {\n",
       "        vertical-align: middle;\n",
       "    }\n",
       "\n",
       "    .dataframe tbody tr th {\n",
       "        vertical-align: top;\n",
       "    }\n",
       "\n",
       "    .dataframe thead th {\n",
       "        text-align: right;\n",
       "    }\n",
       "</style>\n",
       "<table border=\"1\" class=\"dataframe\">\n",
       "  <thead>\n",
       "    <tr style=\"text-align: right;\">\n",
       "      <th></th>\n",
       "      <th>messages_included</th>\n",
       "      <th>mb_per_month_included</th>\n",
       "      <th>minutes_included</th>\n",
       "      <th>usd_monthly_pay</th>\n",
       "      <th>usd_per_gb</th>\n",
       "      <th>usd_per_message</th>\n",
       "      <th>usd_per_minute</th>\n",
       "      <th>plan_name</th>\n",
       "    </tr>\n",
       "  </thead>\n",
       "  <tbody>\n",
       "    <tr>\n",
       "      <th>0</th>\n",
       "      <td>50</td>\n",
       "      <td>15.0</td>\n",
       "      <td>500</td>\n",
       "      <td>20</td>\n",
       "      <td>10</td>\n",
       "      <td>0.03</td>\n",
       "      <td>0.03</td>\n",
       "      <td>surf</td>\n",
       "    </tr>\n",
       "    <tr>\n",
       "      <th>1</th>\n",
       "      <td>1000</td>\n",
       "      <td>30.0</td>\n",
       "      <td>3000</td>\n",
       "      <td>70</td>\n",
       "      <td>7</td>\n",
       "      <td>0.01</td>\n",
       "      <td>0.01</td>\n",
       "      <td>ultimate</td>\n",
       "    </tr>\n",
       "  </tbody>\n",
       "</table>\n",
       "</div>"
      ],
      "text/plain": [
       "   messages_included  mb_per_month_included  minutes_included  \\\n",
       "0                 50                   15.0               500   \n",
       "1               1000                   30.0              3000   \n",
       "\n",
       "   usd_monthly_pay  usd_per_gb  usd_per_message  usd_per_minute plan_name  \n",
       "0               20          10             0.03            0.03      surf  \n",
       "1               70           7             0.01            0.01  ultimate  "
      ]
     },
     "execution_count": 23,
     "metadata": {},
     "output_type": "execute_result"
    }
   ],
   "source": [
    "plans"
   ]
  },
  {
   "cell_type": "markdown",
   "metadata": {
    "id": "hMR1tP5d0q1F"
   },
   "source": [
    "## Agregar datos por usuario\n",
    "\n",
    "[Ahora que los datos están limpios, agrega los datos por usuario y por periodo para que solo haya un registro por usuario y por periodo. Esto facilitará mucho el análisis posterior.]"
   ]
  },
  {
   "cell_type": "code",
   "execution_count": 73,
   "metadata": {
    "id": "A332cedB0q1G"
   },
   "outputs": [
    {
     "data": {
      "text/html": [
       "<div>\n",
       "<style scoped>\n",
       "    .dataframe tbody tr th:only-of-type {\n",
       "        vertical-align: middle;\n",
       "    }\n",
       "\n",
       "    .dataframe tbody tr th {\n",
       "        vertical-align: top;\n",
       "    }\n",
       "\n",
       "    .dataframe thead tr th {\n",
       "        text-align: left;\n",
       "    }\n",
       "</style>\n",
       "<table border=\"1\" class=\"dataframe\">\n",
       "  <thead>\n",
       "    <tr>\n",
       "      <th></th>\n",
       "      <th>user_id</th>\n",
       "      <th>month</th>\n",
       "      <th>sum</th>\n",
       "      <th>count</th>\n",
       "    </tr>\n",
       "    <tr>\n",
       "      <th></th>\n",
       "      <th></th>\n",
       "      <th></th>\n",
       "      <th>duration</th>\n",
       "      <th>duration</th>\n",
       "    </tr>\n",
       "  </thead>\n",
       "  <tbody>\n",
       "    <tr>\n",
       "      <th>0</th>\n",
       "      <td>1000</td>\n",
       "      <td>12</td>\n",
       "      <td>116.83</td>\n",
       "      <td>16</td>\n",
       "    </tr>\n",
       "    <tr>\n",
       "      <th>1</th>\n",
       "      <td>1001</td>\n",
       "      <td>8</td>\n",
       "      <td>171.14</td>\n",
       "      <td>27</td>\n",
       "    </tr>\n",
       "    <tr>\n",
       "      <th>2</th>\n",
       "      <td>1001</td>\n",
       "      <td>9</td>\n",
       "      <td>297.69</td>\n",
       "      <td>49</td>\n",
       "    </tr>\n",
       "    <tr>\n",
       "      <th>3</th>\n",
       "      <td>1001</td>\n",
       "      <td>10</td>\n",
       "      <td>374.11</td>\n",
       "      <td>65</td>\n",
       "    </tr>\n",
       "    <tr>\n",
       "      <th>4</th>\n",
       "      <td>1001</td>\n",
       "      <td>11</td>\n",
       "      <td>404.59</td>\n",
       "      <td>64</td>\n",
       "    </tr>\n",
       "    <tr>\n",
       "      <th>...</th>\n",
       "      <td>...</td>\n",
       "      <td>...</td>\n",
       "      <td>...</td>\n",
       "      <td>...</td>\n",
       "    </tr>\n",
       "    <tr>\n",
       "      <th>2253</th>\n",
       "      <td>1498</td>\n",
       "      <td>12</td>\n",
       "      <td>324.77</td>\n",
       "      <td>39</td>\n",
       "    </tr>\n",
       "    <tr>\n",
       "      <th>2254</th>\n",
       "      <td>1499</td>\n",
       "      <td>9</td>\n",
       "      <td>330.37</td>\n",
       "      <td>41</td>\n",
       "    </tr>\n",
       "    <tr>\n",
       "      <th>2255</th>\n",
       "      <td>1499</td>\n",
       "      <td>10</td>\n",
       "      <td>363.28</td>\n",
       "      <td>53</td>\n",
       "    </tr>\n",
       "    <tr>\n",
       "      <th>2256</th>\n",
       "      <td>1499</td>\n",
       "      <td>11</td>\n",
       "      <td>288.56</td>\n",
       "      <td>45</td>\n",
       "    </tr>\n",
       "    <tr>\n",
       "      <th>2257</th>\n",
       "      <td>1499</td>\n",
       "      <td>12</td>\n",
       "      <td>468.10</td>\n",
       "      <td>65</td>\n",
       "    </tr>\n",
       "  </tbody>\n",
       "</table>\n",
       "<p>2258 rows × 4 columns</p>\n",
       "</div>"
      ],
      "text/plain": [
       "     user_id month      sum    count\n",
       "                   duration duration\n",
       "0       1000    12   116.83       16\n",
       "1       1001     8   171.14       27\n",
       "2       1001     9   297.69       49\n",
       "3       1001    10   374.11       65\n",
       "4       1001    11   404.59       64\n",
       "...      ...   ...      ...      ...\n",
       "2253    1498    12   324.77       39\n",
       "2254    1499     9   330.37       41\n",
       "2255    1499    10   363.28       53\n",
       "2256    1499    11   288.56       45\n",
       "2257    1499    12   468.10       65\n",
       "\n",
       "[2258 rows x 4 columns]"
      ]
     },
     "execution_count": 73,
     "metadata": {},
     "output_type": "execute_result"
    }
   ],
   "source": [
    "pivot_calls = calls.pivot_table(index=['user_id', 'month'],\n",
    "                            values=['duration'],\n",
    "                            aggfunc=['sum','count']).reset_index()\n",
    "\n",
    "pivot_calls\n",
    "# Calcula el número de llamadas hechas por cada usuario al mes. Guarda el resultado.\n",
    "\n"
   ]
  },
  {
   "cell_type": "markdown",
   "metadata": {},
   "source": [
    "\n",
    "<div class=\"alert alert-block alert-warning\">\n",
    "\n",
    "<b>Comentario revisor</b> <a class=\"tocSkip\"></a>\n",
    "\n",
    "Si bien es correcta la forma de agrupar para sacar la duración de las llamadas por cada ususario, para proximas ocasiones puedes hacer uso de la siguiente forma:\n",
    "    \n",
    "    pivot_calls = calls.pivot_table(index=['user_id', 'month'],\n",
    "                                values=['duration'],\n",
    "                                aggfunc=['sum','count']).reset_index()\n",
    "\n",
    "</div>\n",
    "Comentario de estudiante: Se  cambia el group by por un pivot table, para un mejor entendimiento y organizacion de la tabla agrupada."
   ]
  },
  {
   "cell_type": "markdown",
   "metadata": {},
   "source": [
    "<div class=\"alert alert-block alert-success\">\n",
    "<b>Comentario del revisor</b> <a class=\"tocSkip\"></a>\n",
    "\n",
    "Gran trabajo con los ajustes!\n",
    "</div>"
   ]
  },
  {
   "cell_type": "code",
   "execution_count": 74,
   "metadata": {
    "id": "CcQvNHn60q1G"
   },
   "outputs": [
    {
     "name": "stdout",
     "output_type": "stream",
     "text": [
      "<class 'pandas.core.frame.DataFrame'>\n",
      "RangeIndex: 1806 entries, 0 to 1805\n",
      "Data columns (total 3 columns):\n",
      " #   Column     Non-Null Count  Dtype\n",
      "---  ------     --------------  -----\n",
      " 0   user_id    1806 non-null   int64\n",
      " 1   month      1806 non-null   int64\n",
      " 2   total_sms  1806 non-null   int64\n",
      "dtypes: int64(3)\n",
      "memory usage: 42.5 KB\n"
     ]
    }
   ],
   "source": [
    "messages_by_month= messages.groupby(['user_id','month']).agg(total_sms =('id','count')).reset_index()\n",
    "messages_by_month# Calcula el número de mensajes enviados por cada usuario al mes. Guarda el resultado.\n",
    "messages_by_month.info()\n"
   ]
  },
  {
   "cell_type": "code",
   "execution_count": 26,
   "metadata": {
    "id": "H1AqN2eG0q1H"
   },
   "outputs": [
    {
     "data": {
      "text/html": [
       "<div>\n",
       "<style scoped>\n",
       "    .dataframe tbody tr th:only-of-type {\n",
       "        vertical-align: middle;\n",
       "    }\n",
       "\n",
       "    .dataframe tbody tr th {\n",
       "        vertical-align: top;\n",
       "    }\n",
       "\n",
       "    .dataframe thead th {\n",
       "        text-align: right;\n",
       "    }\n",
       "</style>\n",
       "<table border=\"1\" class=\"dataframe\">\n",
       "  <thead>\n",
       "    <tr style=\"text-align: right;\">\n",
       "      <th></th>\n",
       "      <th>user_id</th>\n",
       "      <th>month</th>\n",
       "      <th>total_gb</th>\n",
       "    </tr>\n",
       "  </thead>\n",
       "  <tbody>\n",
       "    <tr>\n",
       "      <th>0</th>\n",
       "      <td>1000</td>\n",
       "      <td>12</td>\n",
       "      <td>2.0</td>\n",
       "    </tr>\n",
       "    <tr>\n",
       "      <th>1</th>\n",
       "      <td>1001</td>\n",
       "      <td>8</td>\n",
       "      <td>7.0</td>\n",
       "    </tr>\n",
       "    <tr>\n",
       "      <th>2</th>\n",
       "      <td>1001</td>\n",
       "      <td>9</td>\n",
       "      <td>14.0</td>\n",
       "    </tr>\n",
       "    <tr>\n",
       "      <th>3</th>\n",
       "      <td>1001</td>\n",
       "      <td>10</td>\n",
       "      <td>22.0</td>\n",
       "    </tr>\n",
       "    <tr>\n",
       "      <th>4</th>\n",
       "      <td>1001</td>\n",
       "      <td>11</td>\n",
       "      <td>19.0</td>\n",
       "    </tr>\n",
       "    <tr>\n",
       "      <th>...</th>\n",
       "      <td>...</td>\n",
       "      <td>...</td>\n",
       "      <td>...</td>\n",
       "    </tr>\n",
       "    <tr>\n",
       "      <th>2272</th>\n",
       "      <td>1498</td>\n",
       "      <td>12</td>\n",
       "      <td>23.0</td>\n",
       "    </tr>\n",
       "    <tr>\n",
       "      <th>2273</th>\n",
       "      <td>1499</td>\n",
       "      <td>9</td>\n",
       "      <td>13.0</td>\n",
       "    </tr>\n",
       "    <tr>\n",
       "      <th>2274</th>\n",
       "      <td>1499</td>\n",
       "      <td>10</td>\n",
       "      <td>20.0</td>\n",
       "    </tr>\n",
       "    <tr>\n",
       "      <th>2275</th>\n",
       "      <td>1499</td>\n",
       "      <td>11</td>\n",
       "      <td>17.0</td>\n",
       "    </tr>\n",
       "    <tr>\n",
       "      <th>2276</th>\n",
       "      <td>1499</td>\n",
       "      <td>12</td>\n",
       "      <td>22.0</td>\n",
       "    </tr>\n",
       "  </tbody>\n",
       "</table>\n",
       "<p>2277 rows × 3 columns</p>\n",
       "</div>"
      ],
      "text/plain": [
       "      user_id  month  total_gb\n",
       "0        1000     12       2.0\n",
       "1        1001      8       7.0\n",
       "2        1001      9      14.0\n",
       "3        1001     10      22.0\n",
       "4        1001     11      19.0\n",
       "...       ...    ...       ...\n",
       "2272     1498     12      23.0\n",
       "2273     1499      9      13.0\n",
       "2274     1499     10      20.0\n",
       "2275     1499     11      17.0\n",
       "2276     1499     12      22.0\n",
       "\n",
       "[2277 rows x 3 columns]"
      ]
     },
     "execution_count": 26,
     "metadata": {},
     "output_type": "execute_result"
    }
   ],
   "source": [
    "internet_by_month=internet.groupby(['user_id','month']).agg(total_gb =('gb_used','sum')).reset_index()\n",
    "internet_by_month['total_gb']=np.ceil(internet_by_month['total_gb'])\n",
    "internet_by_month# Calcula el volumen del tráfico de Internet usado por cada usuario al mes. Guarda el resultado.\n",
    "\n"
   ]
  },
  {
   "cell_type": "markdown",
   "metadata": {
    "id": "VDfYXnj80q1H"
   },
   "source": [
    "[Junta los datos agregados en un DataFrame para que haya un registro que represente lo que consumió un usuario único en un mes determinado.]"
   ]
  },
  {
   "cell_type": "code",
   "execution_count": 75,
   "metadata": {
    "id": "FW99ykyf0q1H"
   },
   "outputs": [
    {
     "name": "stdout",
     "output_type": "stream",
     "text": [
      "user_id          0\n",
      "month            0\n",
      "total_calls      0\n",
      "total_minutes    0\n",
      "total_gb         0\n",
      "total_sms        0\n",
      "dtype: int64\n"
     ]
    }
   ],
   "source": [
    "combinated_data= pd.merge(calls_by_month,internet_by_month,\n",
    "                  on= ['user_id','month'],\n",
    "                  how='outer'\n",
    "                 )\n",
    "combinated_data=combinated_data.merge(messages_by_month,\n",
    "                  on= ['user_id','month'],\n",
    "                  how='outer'\n",
    "                 )\n",
    "fill_columns=['total_minutes','total_calls','total_gb','total_sms']# Fusiona los datos de llamadas, minutos, mensajes e Internet con base en user_id y month\n",
    "for fill in fill_columns:\n",
    "    combinated_data[fill].fillna(0, inplace=True)\n",
    "print(combinated_data.isna().sum())\n",
    "\n"
   ]
  },
  {
   "cell_type": "markdown",
   "metadata": {},
   "source": [
    "<div class=\"alert alert-block alert-success\">\n",
    "<b>Comentario del revisor</b> <a class=\"tocSkip\"></a>\n",
    "\n",
    "Muy buen trabajo!! el merge es correcto para unir todas las bases trabajadas.\n",
    "    \n",
    "</div>"
   ]
  },
  {
   "cell_type": "code",
   "execution_count": 76,
   "metadata": {
    "id": "0dNOXHag0q1H"
   },
   "outputs": [
    {
     "data": {
      "text/html": [
       "<div>\n",
       "<style scoped>\n",
       "    .dataframe tbody tr th:only-of-type {\n",
       "        vertical-align: middle;\n",
       "    }\n",
       "\n",
       "    .dataframe tbody tr th {\n",
       "        vertical-align: top;\n",
       "    }\n",
       "\n",
       "    .dataframe thead th {\n",
       "        text-align: right;\n",
       "    }\n",
       "</style>\n",
       "<table border=\"1\" class=\"dataframe\">\n",
       "  <thead>\n",
       "    <tr style=\"text-align: right;\">\n",
       "      <th></th>\n",
       "      <th>user_id</th>\n",
       "      <th>month</th>\n",
       "      <th>total_calls</th>\n",
       "      <th>total_minutes</th>\n",
       "      <th>total_gb</th>\n",
       "      <th>total_sms</th>\n",
       "      <th>plan</th>\n",
       "      <th>city</th>\n",
       "      <th>messages_included</th>\n",
       "      <th>mb_per_month_included</th>\n",
       "      <th>minutes_included</th>\n",
       "      <th>usd_monthly_pay</th>\n",
       "      <th>usd_per_gb</th>\n",
       "      <th>usd_per_message</th>\n",
       "      <th>usd_per_minute</th>\n",
       "      <th>plan_name</th>\n",
       "    </tr>\n",
       "  </thead>\n",
       "  <tbody>\n",
       "    <tr>\n",
       "      <th>0</th>\n",
       "      <td>1000</td>\n",
       "      <td>12</td>\n",
       "      <td>16.0</td>\n",
       "      <td>116.83</td>\n",
       "      <td>2.0</td>\n",
       "      <td>11.0</td>\n",
       "      <td>ultimate</td>\n",
       "      <td>Atlanta-Sandy Springs-Roswell, GA MSA</td>\n",
       "      <td>1000</td>\n",
       "      <td>30.0</td>\n",
       "      <td>3000</td>\n",
       "      <td>70</td>\n",
       "      <td>7</td>\n",
       "      <td>0.01</td>\n",
       "      <td>0.01</td>\n",
       "      <td>ultimate</td>\n",
       "    </tr>\n",
       "    <tr>\n",
       "      <th>1</th>\n",
       "      <td>1006</td>\n",
       "      <td>11</td>\n",
       "      <td>2.0</td>\n",
       "      <td>9.32</td>\n",
       "      <td>3.0</td>\n",
       "      <td>15.0</td>\n",
       "      <td>ultimate</td>\n",
       "      <td>San Francisco-Oakland-Berkeley, CA MSA</td>\n",
       "      <td>1000</td>\n",
       "      <td>30.0</td>\n",
       "      <td>3000</td>\n",
       "      <td>70</td>\n",
       "      <td>7</td>\n",
       "      <td>0.01</td>\n",
       "      <td>0.01</td>\n",
       "      <td>ultimate</td>\n",
       "    </tr>\n",
       "    <tr>\n",
       "      <th>2</th>\n",
       "      <td>1006</td>\n",
       "      <td>12</td>\n",
       "      <td>9.0</td>\n",
       "      <td>54.79</td>\n",
       "      <td>32.0</td>\n",
       "      <td>139.0</td>\n",
       "      <td>ultimate</td>\n",
       "      <td>San Francisco-Oakland-Berkeley, CA MSA</td>\n",
       "      <td>1000</td>\n",
       "      <td>30.0</td>\n",
       "      <td>3000</td>\n",
       "      <td>70</td>\n",
       "      <td>7</td>\n",
       "      <td>0.01</td>\n",
       "      <td>0.01</td>\n",
       "      <td>ultimate</td>\n",
       "    </tr>\n",
       "    <tr>\n",
       "      <th>3</th>\n",
       "      <td>1008</td>\n",
       "      <td>10</td>\n",
       "      <td>71.0</td>\n",
       "      <td>450.21</td>\n",
       "      <td>17.0</td>\n",
       "      <td>21.0</td>\n",
       "      <td>ultimate</td>\n",
       "      <td>Orlando-Kissimmee-Sanford, FL MSA</td>\n",
       "      <td>1000</td>\n",
       "      <td>30.0</td>\n",
       "      <td>3000</td>\n",
       "      <td>70</td>\n",
       "      <td>7</td>\n",
       "      <td>0.01</td>\n",
       "      <td>0.01</td>\n",
       "      <td>ultimate</td>\n",
       "    </tr>\n",
       "    <tr>\n",
       "      <th>4</th>\n",
       "      <td>1008</td>\n",
       "      <td>11</td>\n",
       "      <td>63.0</td>\n",
       "      <td>422.81</td>\n",
       "      <td>24.0</td>\n",
       "      <td>37.0</td>\n",
       "      <td>ultimate</td>\n",
       "      <td>Orlando-Kissimmee-Sanford, FL MSA</td>\n",
       "      <td>1000</td>\n",
       "      <td>30.0</td>\n",
       "      <td>3000</td>\n",
       "      <td>70</td>\n",
       "      <td>7</td>\n",
       "      <td>0.01</td>\n",
       "      <td>0.01</td>\n",
       "      <td>ultimate</td>\n",
       "    </tr>\n",
       "    <tr>\n",
       "      <th>...</th>\n",
       "      <td>...</td>\n",
       "      <td>...</td>\n",
       "      <td>...</td>\n",
       "      <td>...</td>\n",
       "      <td>...</td>\n",
       "      <td>...</td>\n",
       "      <td>...</td>\n",
       "      <td>...</td>\n",
       "      <td>...</td>\n",
       "      <td>...</td>\n",
       "      <td>...</td>\n",
       "      <td>...</td>\n",
       "      <td>...</td>\n",
       "      <td>...</td>\n",
       "      <td>...</td>\n",
       "      <td>...</td>\n",
       "    </tr>\n",
       "    <tr>\n",
       "      <th>2288</th>\n",
       "      <td>1194</td>\n",
       "      <td>11</td>\n",
       "      <td>0.0</td>\n",
       "      <td>0.00</td>\n",
       "      <td>42.0</td>\n",
       "      <td>62.0</td>\n",
       "      <td>surf</td>\n",
       "      <td>San Jose-Sunnyvale-Santa Clara, CA MSA</td>\n",
       "      <td>50</td>\n",
       "      <td>15.0</td>\n",
       "      <td>500</td>\n",
       "      <td>20</td>\n",
       "      <td>10</td>\n",
       "      <td>0.03</td>\n",
       "      <td>0.03</td>\n",
       "      <td>surf</td>\n",
       "    </tr>\n",
       "    <tr>\n",
       "      <th>2289</th>\n",
       "      <td>1194</td>\n",
       "      <td>12</td>\n",
       "      <td>0.0</td>\n",
       "      <td>0.00</td>\n",
       "      <td>31.0</td>\n",
       "      <td>56.0</td>\n",
       "      <td>surf</td>\n",
       "      <td>San Jose-Sunnyvale-Santa Clara, CA MSA</td>\n",
       "      <td>50</td>\n",
       "      <td>15.0</td>\n",
       "      <td>500</td>\n",
       "      <td>20</td>\n",
       "      <td>10</td>\n",
       "      <td>0.03</td>\n",
       "      <td>0.03</td>\n",
       "      <td>surf</td>\n",
       "    </tr>\n",
       "    <tr>\n",
       "      <th>2290</th>\n",
       "      <td>1349</td>\n",
       "      <td>10</td>\n",
       "      <td>0.0</td>\n",
       "      <td>0.00</td>\n",
       "      <td>13.0</td>\n",
       "      <td>76.0</td>\n",
       "      <td>surf</td>\n",
       "      <td>Boston-Cambridge-Newton, MA-NH MSA</td>\n",
       "      <td>50</td>\n",
       "      <td>15.0</td>\n",
       "      <td>500</td>\n",
       "      <td>20</td>\n",
       "      <td>10</td>\n",
       "      <td>0.03</td>\n",
       "      <td>0.03</td>\n",
       "      <td>surf</td>\n",
       "    </tr>\n",
       "    <tr>\n",
       "      <th>2291</th>\n",
       "      <td>1349</td>\n",
       "      <td>11</td>\n",
       "      <td>0.0</td>\n",
       "      <td>0.00</td>\n",
       "      <td>17.0</td>\n",
       "      <td>72.0</td>\n",
       "      <td>surf</td>\n",
       "      <td>Boston-Cambridge-Newton, MA-NH MSA</td>\n",
       "      <td>50</td>\n",
       "      <td>15.0</td>\n",
       "      <td>500</td>\n",
       "      <td>20</td>\n",
       "      <td>10</td>\n",
       "      <td>0.03</td>\n",
       "      <td>0.03</td>\n",
       "      <td>surf</td>\n",
       "    </tr>\n",
       "    <tr>\n",
       "      <th>2292</th>\n",
       "      <td>1349</td>\n",
       "      <td>12</td>\n",
       "      <td>0.0</td>\n",
       "      <td>0.00</td>\n",
       "      <td>13.0</td>\n",
       "      <td>61.0</td>\n",
       "      <td>surf</td>\n",
       "      <td>Boston-Cambridge-Newton, MA-NH MSA</td>\n",
       "      <td>50</td>\n",
       "      <td>15.0</td>\n",
       "      <td>500</td>\n",
       "      <td>20</td>\n",
       "      <td>10</td>\n",
       "      <td>0.03</td>\n",
       "      <td>0.03</td>\n",
       "      <td>surf</td>\n",
       "    </tr>\n",
       "  </tbody>\n",
       "</table>\n",
       "<p>2293 rows × 16 columns</p>\n",
       "</div>"
      ],
      "text/plain": [
       "      user_id  month  total_calls  total_minutes  total_gb  total_sms  \\\n",
       "0        1000     12         16.0         116.83       2.0       11.0   \n",
       "1        1006     11          2.0           9.32       3.0       15.0   \n",
       "2        1006     12          9.0          54.79      32.0      139.0   \n",
       "3        1008     10         71.0         450.21      17.0       21.0   \n",
       "4        1008     11         63.0         422.81      24.0       37.0   \n",
       "...       ...    ...          ...            ...       ...        ...   \n",
       "2288     1194     11          0.0           0.00      42.0       62.0   \n",
       "2289     1194     12          0.0           0.00      31.0       56.0   \n",
       "2290     1349     10          0.0           0.00      13.0       76.0   \n",
       "2291     1349     11          0.0           0.00      17.0       72.0   \n",
       "2292     1349     12          0.0           0.00      13.0       61.0   \n",
       "\n",
       "          plan                                    city  messages_included  \\\n",
       "0     ultimate   Atlanta-Sandy Springs-Roswell, GA MSA               1000   \n",
       "1     ultimate  San Francisco-Oakland-Berkeley, CA MSA               1000   \n",
       "2     ultimate  San Francisco-Oakland-Berkeley, CA MSA               1000   \n",
       "3     ultimate       Orlando-Kissimmee-Sanford, FL MSA               1000   \n",
       "4     ultimate       Orlando-Kissimmee-Sanford, FL MSA               1000   \n",
       "...        ...                                     ...                ...   \n",
       "2288      surf  San Jose-Sunnyvale-Santa Clara, CA MSA                 50   \n",
       "2289      surf  San Jose-Sunnyvale-Santa Clara, CA MSA                 50   \n",
       "2290      surf      Boston-Cambridge-Newton, MA-NH MSA                 50   \n",
       "2291      surf      Boston-Cambridge-Newton, MA-NH MSA                 50   \n",
       "2292      surf      Boston-Cambridge-Newton, MA-NH MSA                 50   \n",
       "\n",
       "      mb_per_month_included  minutes_included  usd_monthly_pay  usd_per_gb  \\\n",
       "0                      30.0              3000               70           7   \n",
       "1                      30.0              3000               70           7   \n",
       "2                      30.0              3000               70           7   \n",
       "3                      30.0              3000               70           7   \n",
       "4                      30.0              3000               70           7   \n",
       "...                     ...               ...              ...         ...   \n",
       "2288                   15.0               500               20          10   \n",
       "2289                   15.0               500               20          10   \n",
       "2290                   15.0               500               20          10   \n",
       "2291                   15.0               500               20          10   \n",
       "2292                   15.0               500               20          10   \n",
       "\n",
       "      usd_per_message  usd_per_minute plan_name  \n",
       "0                0.01            0.01  ultimate  \n",
       "1                0.01            0.01  ultimate  \n",
       "2                0.01            0.01  ultimate  \n",
       "3                0.01            0.01  ultimate  \n",
       "4                0.01            0.01  ultimate  \n",
       "...               ...             ...       ...  \n",
       "2288             0.03            0.03      surf  \n",
       "2289             0.03            0.03      surf  \n",
       "2290             0.03            0.03      surf  \n",
       "2291             0.03            0.03      surf  \n",
       "2292             0.03            0.03      surf  \n",
       "\n",
       "[2293 rows x 16 columns]"
      ]
     },
     "execution_count": 76,
     "metadata": {},
     "output_type": "execute_result"
    }
   ],
   "source": [
    "all_info=combinated_data.merge(users[['user_id','plan','city']],\n",
    "                       on='user_id')\n",
    "\n",
    "all_info= all_info.merge(plans,left_on='plan',right_on='plan_name') \n",
    "all_info# Añade la información de la tarifa\n",
    "\n"
   ]
  },
  {
   "cell_type": "code",
   "execution_count": 77,
   "metadata": {
    "id": "5FGCf_c60q1I",
    "scrolled": true
   },
   "outputs": [
    {
     "data": {
      "text/html": [
       "<div>\n",
       "<style scoped>\n",
       "    .dataframe tbody tr th:only-of-type {\n",
       "        vertical-align: middle;\n",
       "    }\n",
       "\n",
       "    .dataframe tbody tr th {\n",
       "        vertical-align: top;\n",
       "    }\n",
       "\n",
       "    .dataframe thead th {\n",
       "        text-align: right;\n",
       "    }\n",
       "</style>\n",
       "<table border=\"1\" class=\"dataframe\">\n",
       "  <thead>\n",
       "    <tr style=\"text-align: right;\">\n",
       "      <th></th>\n",
       "      <th>user_id</th>\n",
       "      <th>month</th>\n",
       "      <th>plan</th>\n",
       "      <th>city</th>\n",
       "      <th>income</th>\n",
       "      <th>total_minutes</th>\n",
       "      <th>total_gb</th>\n",
       "      <th>total_sms</th>\n",
       "      <th>usd_monthly_pay</th>\n",
       "    </tr>\n",
       "  </thead>\n",
       "  <tbody>\n",
       "    <tr>\n",
       "      <th>0</th>\n",
       "      <td>1000</td>\n",
       "      <td>12</td>\n",
       "      <td>ultimate</td>\n",
       "      <td>Atlanta-Sandy Springs-Roswell, GA MSA</td>\n",
       "      <td>70.00</td>\n",
       "      <td>116.83</td>\n",
       "      <td>2.0</td>\n",
       "      <td>11.0</td>\n",
       "      <td>70</td>\n",
       "    </tr>\n",
       "    <tr>\n",
       "      <th>1</th>\n",
       "      <td>1006</td>\n",
       "      <td>11</td>\n",
       "      <td>ultimate</td>\n",
       "      <td>San Francisco-Oakland-Berkeley, CA MSA</td>\n",
       "      <td>70.00</td>\n",
       "      <td>9.32</td>\n",
       "      <td>3.0</td>\n",
       "      <td>15.0</td>\n",
       "      <td>70</td>\n",
       "    </tr>\n",
       "    <tr>\n",
       "      <th>2</th>\n",
       "      <td>1006</td>\n",
       "      <td>12</td>\n",
       "      <td>ultimate</td>\n",
       "      <td>San Francisco-Oakland-Berkeley, CA MSA</td>\n",
       "      <td>84.00</td>\n",
       "      <td>54.79</td>\n",
       "      <td>32.0</td>\n",
       "      <td>139.0</td>\n",
       "      <td>70</td>\n",
       "    </tr>\n",
       "    <tr>\n",
       "      <th>3</th>\n",
       "      <td>1008</td>\n",
       "      <td>10</td>\n",
       "      <td>ultimate</td>\n",
       "      <td>Orlando-Kissimmee-Sanford, FL MSA</td>\n",
       "      <td>70.00</td>\n",
       "      <td>450.21</td>\n",
       "      <td>17.0</td>\n",
       "      <td>21.0</td>\n",
       "      <td>70</td>\n",
       "    </tr>\n",
       "    <tr>\n",
       "      <th>4</th>\n",
       "      <td>1008</td>\n",
       "      <td>11</td>\n",
       "      <td>ultimate</td>\n",
       "      <td>Orlando-Kissimmee-Sanford, FL MSA</td>\n",
       "      <td>70.00</td>\n",
       "      <td>422.81</td>\n",
       "      <td>24.0</td>\n",
       "      <td>37.0</td>\n",
       "      <td>70</td>\n",
       "    </tr>\n",
       "    <tr>\n",
       "      <th>...</th>\n",
       "      <td>...</td>\n",
       "      <td>...</td>\n",
       "      <td>...</td>\n",
       "      <td>...</td>\n",
       "      <td>...</td>\n",
       "      <td>...</td>\n",
       "      <td>...</td>\n",
       "      <td>...</td>\n",
       "      <td>...</td>\n",
       "    </tr>\n",
       "    <tr>\n",
       "      <th>2288</th>\n",
       "      <td>1194</td>\n",
       "      <td>11</td>\n",
       "      <td>surf</td>\n",
       "      <td>San Jose-Sunnyvale-Santa Clara, CA MSA</td>\n",
       "      <td>290.36</td>\n",
       "      <td>0.00</td>\n",
       "      <td>42.0</td>\n",
       "      <td>62.0</td>\n",
       "      <td>20</td>\n",
       "    </tr>\n",
       "    <tr>\n",
       "      <th>2289</th>\n",
       "      <td>1194</td>\n",
       "      <td>12</td>\n",
       "      <td>surf</td>\n",
       "      <td>San Jose-Sunnyvale-Santa Clara, CA MSA</td>\n",
       "      <td>180.18</td>\n",
       "      <td>0.00</td>\n",
       "      <td>31.0</td>\n",
       "      <td>56.0</td>\n",
       "      <td>20</td>\n",
       "    </tr>\n",
       "    <tr>\n",
       "      <th>2290</th>\n",
       "      <td>1349</td>\n",
       "      <td>10</td>\n",
       "      <td>surf</td>\n",
       "      <td>Boston-Cambridge-Newton, MA-NH MSA</td>\n",
       "      <td>20.78</td>\n",
       "      <td>0.00</td>\n",
       "      <td>13.0</td>\n",
       "      <td>76.0</td>\n",
       "      <td>20</td>\n",
       "    </tr>\n",
       "    <tr>\n",
       "      <th>2291</th>\n",
       "      <td>1349</td>\n",
       "      <td>11</td>\n",
       "      <td>surf</td>\n",
       "      <td>Boston-Cambridge-Newton, MA-NH MSA</td>\n",
       "      <td>40.66</td>\n",
       "      <td>0.00</td>\n",
       "      <td>17.0</td>\n",
       "      <td>72.0</td>\n",
       "      <td>20</td>\n",
       "    </tr>\n",
       "    <tr>\n",
       "      <th>2292</th>\n",
       "      <td>1349</td>\n",
       "      <td>12</td>\n",
       "      <td>surf</td>\n",
       "      <td>Boston-Cambridge-Newton, MA-NH MSA</td>\n",
       "      <td>20.33</td>\n",
       "      <td>0.00</td>\n",
       "      <td>13.0</td>\n",
       "      <td>61.0</td>\n",
       "      <td>20</td>\n",
       "    </tr>\n",
       "  </tbody>\n",
       "</table>\n",
       "<p>2293 rows × 9 columns</p>\n",
       "</div>"
      ],
      "text/plain": [
       "      user_id  month      plan                                    city  \\\n",
       "0        1000     12  ultimate   Atlanta-Sandy Springs-Roswell, GA MSA   \n",
       "1        1006     11  ultimate  San Francisco-Oakland-Berkeley, CA MSA   \n",
       "2        1006     12  ultimate  San Francisco-Oakland-Berkeley, CA MSA   \n",
       "3        1008     10  ultimate       Orlando-Kissimmee-Sanford, FL MSA   \n",
       "4        1008     11  ultimate       Orlando-Kissimmee-Sanford, FL MSA   \n",
       "...       ...    ...       ...                                     ...   \n",
       "2288     1194     11      surf  San Jose-Sunnyvale-Santa Clara, CA MSA   \n",
       "2289     1194     12      surf  San Jose-Sunnyvale-Santa Clara, CA MSA   \n",
       "2290     1349     10      surf      Boston-Cambridge-Newton, MA-NH MSA   \n",
       "2291     1349     11      surf      Boston-Cambridge-Newton, MA-NH MSA   \n",
       "2292     1349     12      surf      Boston-Cambridge-Newton, MA-NH MSA   \n",
       "\n",
       "      income  total_minutes  total_gb  total_sms  usd_monthly_pay  \n",
       "0      70.00         116.83       2.0       11.0               70  \n",
       "1      70.00           9.32       3.0       15.0               70  \n",
       "2      84.00          54.79      32.0      139.0               70  \n",
       "3      70.00         450.21      17.0       21.0               70  \n",
       "4      70.00         422.81      24.0       37.0               70  \n",
       "...      ...            ...       ...        ...              ...  \n",
       "2288  290.36           0.00      42.0       62.0               20  \n",
       "2289  180.18           0.00      31.0       56.0               20  \n",
       "2290   20.78           0.00      13.0       76.0               20  \n",
       "2291   40.66           0.00      17.0       72.0               20  \n",
       "2292   20.33           0.00      13.0       61.0               20  \n",
       "\n",
       "[2293 rows x 9 columns]"
      ]
     },
     "execution_count": 77,
     "metadata": {},
     "output_type": "execute_result"
    }
   ],
   "source": [
    "all_info['internet_extra_pay']=all_info['total_gb']-all_info['mb_per_month_included']\n",
    "all_info['internet_extra_pay']=np.where(all_info['internet_extra_pay']<0,0,all_info['internet_extra_pay'])\n",
    "all_info['internet_extra_pay']=all_info['internet_extra_pay']*all_info['usd_per_gb']\n",
    "all_info['calls_extra_charge']=all_info['total_minutes']-all_info['minutes_included']# Calcula el ingreso mensual para cada usuario\n",
    "all_info['calls_extra_charge']=np.where(all_info['calls_extra_charge']<0,0,all_info['calls_extra_charge'])\n",
    "all_info['calls_extra_charge']=all_info['calls_extra_charge']*all_info['usd_per_minute']\n",
    "all_info['messages_extra_charge']=all_info['total_sms']-all_info['messages_included']\n",
    "all_info['messages_extra_charge']=np.where(all_info['messages_extra_charge']<0,0,all_info['messages_extra_charge'])\n",
    "all_info['messages_extra_charge']=all_info['messages_extra_charge']*all_info['usd_per_message']\n",
    "all_info['income']=all_info['messages_extra_charge']+all_info['calls_extra_charge']+all_info['internet_extra_pay']+all_info['usd_monthly_pay']\n",
    "all_info\n",
    "final_table_charge=all_info[['user_id','month','plan','city','income','total_minutes','total_gb','total_sms','usd_monthly_pay']]\n",
    "final_table_charge"
   ]
  },
  {
   "cell_type": "code",
   "execution_count": null,
   "metadata": {},
   "outputs": [],
   "source": []
  },
  {
   "cell_type": "markdown",
   "metadata": {
    "id": "-jtyHzJb0q1I"
   },
   "source": [
    "## Estudia el comportamiento de usuario"
   ]
  },
  {
   "cell_type": "markdown",
   "metadata": {
    "id": "AxU3Y0N70q1J"
   },
   "source": [
    "[Calcula algunas estadísticas descriptivas para los datos agregados y fusionados que nos sean útiles y que muestren un panorama general captado por los datos. Dibuja gráficos útiles para facilitar la comprensión. Dado que la tarea principal es comparar las tarifas y decidir cuál es más rentable, las estadísticas y gráficas deben calcularse por tarifa.]\n",
    "\n",
    "[En los comentarios hallarás pistas relevantes para las llamadas, pero no las hay para los mensajes e Internet. Sin embargo, el principio del estudio estadístico que se aplica para ellos es el mismo que para las llamadas.]"
   ]
  },
  {
   "cell_type": "markdown",
   "metadata": {
    "id": "vtW4CJEe0q1J"
   },
   "source": [
    "### Llamadas"
   ]
  },
  {
   "cell_type": "code",
   "execution_count": 30,
   "metadata": {
    "id": "Jf5v5--k0q1J"
   },
   "outputs": [
    {
     "data": {
      "text/plain": [
       "Text(0.5, 1.0, 'El total de minutos por mes no parece diferir mucho entre los dos planes')"
      ]
     },
     "execution_count": 30,
     "metadata": {},
     "output_type": "execute_result"
    },
    {
     "data": {
      "image/png": "[encoded data removed]",
      "text/plain": [
       "<Figure size 640x480 with 1 Axes>"
      ]
     },
     "metadata": {},
     "output_type": "display_data"
    }
   ],
   "source": [
    "\n",
    "sns.barplot(data=final_table_charge,x='month',y='total_minutes',hue='plan').set_title('El total de minutos por mes no parece diferir mucho entre los dos planes')\n",
    "\n",
    "\n"
   ]
  },
  {
   "cell_type": "code",
   "execution_count": 31,
   "metadata": {
    "id": "QoLqW1S_0q1J"
   },
   "outputs": [
    {
     "data": {
      "text/plain": [
       "Text(0.5, 1.0, 'La frecuencia de minutos por mes no parece diferir mucho entre los dos planes')"
      ]
     },
     "execution_count": 31,
     "metadata": {},
     "output_type": "execute_result"
    },
    {
     "data": {
      "image/png": "[encoded data removed]",
      "text/plain": [
       "<Figure size 640x480 with 1 Axes>"
      ]
     },
     "metadata": {},
     "output_type": "display_data"
    }
   ],
   "source": [
    "sns.histplot(data=final_table_charge, x=\"total_minutes\",hue='plan',stat='density',common_norm=False).set_title('La frecuencia de minutos por mes no parece diferir mucho entre los dos planes')# Compara el número de minutos mensuales que necesitan los usuarios de cada plan. Traza un histograma.\n",
    "\n"
   ]
  },
  {
   "cell_type": "code",
   "execution_count": 79,
   "metadata": {
    "id": "oSndbAnt0q1K"
   },
   "outputs": [
    {
     "name": "stdout",
     "output_type": "stream",
     "text": [
      "plan\n",
      "surf        404.762390\n",
      "ultimate    406.193083\n",
      "Name: total_minutes, dtype: float64 plan\n",
      "surf        49135.104891\n",
      "ultimate    51640.971402\n",
      "Name: total_minutes, dtype: float64\n"
     ]
    }
   ],
   "source": [
    "mean_calls=final_table_charge.groupby('plan')['total_minutes'].mean()\n",
    "var_calls=final_table_charge.groupby('plan')['total_minutes'].var()\n",
    "print(mean_calls,var_calls)\n",
    "# Calcula la media y la varianza de la duración mensual de llamadas.\n",
    "\n"
   ]
  },
  {
   "cell_type": "code",
   "execution_count": 78,
   "metadata": {
    "id": "nZzoRUKc0q1K"
   },
   "outputs": [
    {
     "data": {
      "text/plain": [
       "Text(0.5, 1.0, 'La distribucion de la duracion mensual de llamadasn no parece tener una diferencia importante')"
      ]
     },
     "execution_count": 78,
     "metadata": {},
     "output_type": "execute_result"
    },
    {
     "data": {
      "image/png": "[encoded data removed]",
      "text/plain": [
       "<Figure size 640x480 with 1 Axes>"
      ]
     },
     "metadata": {},
     "output_type": "display_data"
    }
   ],
   "source": [
    "#Traza un diagrama de caja para visualizar la distribución de la duración mensual de llamadas\n",
    "#un boxplot por cada plan\n",
    "sns.boxplot(data=final_table_charge, x=\"plan\", y=\"total_minutes\").set_title('La distribucion de la duracion mensual de llamadasn no parece tener una diferencia importante')\n",
    "\n"
   ]
  },
  {
   "cell_type": "markdown",
   "metadata": {
    "id": "8idKy8Wh0q1L"
   },
   "source": [
    "### Mensajes"
   ]
  },
  {
   "cell_type": "code",
   "execution_count": 34,
   "metadata": {
    "id": "NXLxiTit0q1L"
   },
   "outputs": [
    {
     "data": {
      "text/plain": [
       "Text(0.5, 1.0, 'Los usuarios realizan mayor numero de mensajes en el plan Ultimate')"
      ]
     },
     "execution_count": 34,
     "metadata": {},
     "output_type": "execute_result"
    },
    {
     "data": {
      "image/png": "[encoded data removed]",
      "text/plain": [
       "<Figure size 640x480 with 1 Axes>"
      ]
     },
     "metadata": {},
     "output_type": "display_data"
    }
   ],
   "source": [
    "sns.barplot(data=final_table_charge,x='month',y='total_sms',hue='plan').set_title('Los usuarios realizan mayor numero de mensajes en el plan Ultimate')# Comprara el número de mensajes que tienden a enviar cada mes los usuarios de cada plan\n",
    "\n"
   ]
  },
  {
   "cell_type": "code",
   "execution_count": 35,
   "metadata": {},
   "outputs": [
    {
     "data": {
      "text/html": [
       "<div>\n",
       "<style scoped>\n",
       "    .dataframe tbody tr th:only-of-type {\n",
       "        vertical-align: middle;\n",
       "    }\n",
       "\n",
       "    .dataframe tbody tr th {\n",
       "        vertical-align: top;\n",
       "    }\n",
       "\n",
       "    .dataframe thead th {\n",
       "        text-align: right;\n",
       "    }\n",
       "</style>\n",
       "<table border=\"1\" class=\"dataframe\">\n",
       "  <thead>\n",
       "    <tr style=\"text-align: right;\">\n",
       "      <th></th>\n",
       "      <th>user_id</th>\n",
       "      <th>month</th>\n",
       "      <th>plan</th>\n",
       "      <th>city</th>\n",
       "      <th>income</th>\n",
       "      <th>total_minutes</th>\n",
       "      <th>total_gb</th>\n",
       "      <th>total_sms</th>\n",
       "      <th>usd_monthly_pay</th>\n",
       "    </tr>\n",
       "  </thead>\n",
       "  <tbody>\n",
       "    <tr>\n",
       "      <th>0</th>\n",
       "      <td>1000</td>\n",
       "      <td>12</td>\n",
       "      <td>ultimate</td>\n",
       "      <td>Atlanta-Sandy Springs-Roswell, GA MSA</td>\n",
       "      <td>70.00</td>\n",
       "      <td>116.83</td>\n",
       "      <td>2.0</td>\n",
       "      <td>11.0</td>\n",
       "      <td>70</td>\n",
       "    </tr>\n",
       "    <tr>\n",
       "      <th>1</th>\n",
       "      <td>1006</td>\n",
       "      <td>11</td>\n",
       "      <td>ultimate</td>\n",
       "      <td>San Francisco-Oakland-Berkeley, CA MSA</td>\n",
       "      <td>70.00</td>\n",
       "      <td>9.32</td>\n",
       "      <td>3.0</td>\n",
       "      <td>15.0</td>\n",
       "      <td>70</td>\n",
       "    </tr>\n",
       "    <tr>\n",
       "      <th>2</th>\n",
       "      <td>1006</td>\n",
       "      <td>12</td>\n",
       "      <td>ultimate</td>\n",
       "      <td>San Francisco-Oakland-Berkeley, CA MSA</td>\n",
       "      <td>84.00</td>\n",
       "      <td>54.79</td>\n",
       "      <td>32.0</td>\n",
       "      <td>139.0</td>\n",
       "      <td>70</td>\n",
       "    </tr>\n",
       "    <tr>\n",
       "      <th>3</th>\n",
       "      <td>1008</td>\n",
       "      <td>10</td>\n",
       "      <td>ultimate</td>\n",
       "      <td>Orlando-Kissimmee-Sanford, FL MSA</td>\n",
       "      <td>70.00</td>\n",
       "      <td>450.21</td>\n",
       "      <td>17.0</td>\n",
       "      <td>21.0</td>\n",
       "      <td>70</td>\n",
       "    </tr>\n",
       "    <tr>\n",
       "      <th>4</th>\n",
       "      <td>1008</td>\n",
       "      <td>11</td>\n",
       "      <td>ultimate</td>\n",
       "      <td>Orlando-Kissimmee-Sanford, FL MSA</td>\n",
       "      <td>70.00</td>\n",
       "      <td>422.81</td>\n",
       "      <td>24.0</td>\n",
       "      <td>37.0</td>\n",
       "      <td>70</td>\n",
       "    </tr>\n",
       "    <tr>\n",
       "      <th>...</th>\n",
       "      <td>...</td>\n",
       "      <td>...</td>\n",
       "      <td>...</td>\n",
       "      <td>...</td>\n",
       "      <td>...</td>\n",
       "      <td>...</td>\n",
       "      <td>...</td>\n",
       "      <td>...</td>\n",
       "      <td>...</td>\n",
       "    </tr>\n",
       "    <tr>\n",
       "      <th>2288</th>\n",
       "      <td>1194</td>\n",
       "      <td>11</td>\n",
       "      <td>surf</td>\n",
       "      <td>San Jose-Sunnyvale-Santa Clara, CA MSA</td>\n",
       "      <td>290.36</td>\n",
       "      <td>0.00</td>\n",
       "      <td>42.0</td>\n",
       "      <td>62.0</td>\n",
       "      <td>20</td>\n",
       "    </tr>\n",
       "    <tr>\n",
       "      <th>2289</th>\n",
       "      <td>1194</td>\n",
       "      <td>12</td>\n",
       "      <td>surf</td>\n",
       "      <td>San Jose-Sunnyvale-Santa Clara, CA MSA</td>\n",
       "      <td>180.18</td>\n",
       "      <td>0.00</td>\n",
       "      <td>31.0</td>\n",
       "      <td>56.0</td>\n",
       "      <td>20</td>\n",
       "    </tr>\n",
       "    <tr>\n",
       "      <th>2290</th>\n",
       "      <td>1349</td>\n",
       "      <td>10</td>\n",
       "      <td>surf</td>\n",
       "      <td>Boston-Cambridge-Newton, MA-NH MSA</td>\n",
       "      <td>20.78</td>\n",
       "      <td>0.00</td>\n",
       "      <td>13.0</td>\n",
       "      <td>76.0</td>\n",
       "      <td>20</td>\n",
       "    </tr>\n",
       "    <tr>\n",
       "      <th>2291</th>\n",
       "      <td>1349</td>\n",
       "      <td>11</td>\n",
       "      <td>surf</td>\n",
       "      <td>Boston-Cambridge-Newton, MA-NH MSA</td>\n",
       "      <td>40.66</td>\n",
       "      <td>0.00</td>\n",
       "      <td>17.0</td>\n",
       "      <td>72.0</td>\n",
       "      <td>20</td>\n",
       "    </tr>\n",
       "    <tr>\n",
       "      <th>2292</th>\n",
       "      <td>1349</td>\n",
       "      <td>12</td>\n",
       "      <td>surf</td>\n",
       "      <td>Boston-Cambridge-Newton, MA-NH MSA</td>\n",
       "      <td>20.33</td>\n",
       "      <td>0.00</td>\n",
       "      <td>13.0</td>\n",
       "      <td>61.0</td>\n",
       "      <td>20</td>\n",
       "    </tr>\n",
       "  </tbody>\n",
       "</table>\n",
       "<p>2293 rows × 9 columns</p>\n",
       "</div>"
      ],
      "text/plain": [
       "      user_id  month      plan                                    city  \\\n",
       "0        1000     12  ultimate   Atlanta-Sandy Springs-Roswell, GA MSA   \n",
       "1        1006     11  ultimate  San Francisco-Oakland-Berkeley, CA MSA   \n",
       "2        1006     12  ultimate  San Francisco-Oakland-Berkeley, CA MSA   \n",
       "3        1008     10  ultimate       Orlando-Kissimmee-Sanford, FL MSA   \n",
       "4        1008     11  ultimate       Orlando-Kissimmee-Sanford, FL MSA   \n",
       "...       ...    ...       ...                                     ...   \n",
       "2288     1194     11      surf  San Jose-Sunnyvale-Santa Clara, CA MSA   \n",
       "2289     1194     12      surf  San Jose-Sunnyvale-Santa Clara, CA MSA   \n",
       "2290     1349     10      surf      Boston-Cambridge-Newton, MA-NH MSA   \n",
       "2291     1349     11      surf      Boston-Cambridge-Newton, MA-NH MSA   \n",
       "2292     1349     12      surf      Boston-Cambridge-Newton, MA-NH MSA   \n",
       "\n",
       "      income  total_minutes  total_gb  total_sms  usd_monthly_pay  \n",
       "0      70.00         116.83       2.0       11.0               70  \n",
       "1      70.00           9.32       3.0       15.0               70  \n",
       "2      84.00          54.79      32.0      139.0               70  \n",
       "3      70.00         450.21      17.0       21.0               70  \n",
       "4      70.00         422.81      24.0       37.0               70  \n",
       "...      ...            ...       ...        ...              ...  \n",
       "2288  290.36           0.00      42.0       62.0               20  \n",
       "2289  180.18           0.00      31.0       56.0               20  \n",
       "2290   20.78           0.00      13.0       76.0               20  \n",
       "2291   40.66           0.00      17.0       72.0               20  \n",
       "2292   20.33           0.00      13.0       61.0               20  \n",
       "\n",
       "[2293 rows x 9 columns]"
      ]
     },
     "execution_count": 35,
     "metadata": {},
     "output_type": "execute_result"
    }
   ],
   "source": [
    "final_table_charge"
   ]
  },
  {
   "cell_type": "code",
   "execution_count": 36,
   "metadata": {
    "id": "GRI_R7xF0q1L"
   },
   "outputs": [
    {
     "data": {
      "text/plain": [
       "<AxesSubplot:xlabel='month', ylabel='total_gb'>"
      ]
     },
     "execution_count": 36,
     "metadata": {},
     "output_type": "execute_result"
    },
    {
     "data": {
      "image/png": "[encoded data removed]",
      "text/plain": [
       "<Figure size 640x480 with 1 Axes>"
      ]
     },
     "metadata": {},
     "output_type": "display_data"
    }
   ],
   "source": [
    "sns.barplot(data=final_table_charge,x='month',y='total_gb',hue='plan')# Compara la cantidad de tráfico de Internet consumido por usuarios por plan\n",
    "\n"
   ]
  },
  {
   "cell_type": "markdown",
   "metadata": {
    "id": "42YSypXz0q1M"
   },
   "source": [
    "### Internet"
   ]
  },
  {
   "cell_type": "code",
   "execution_count": 37,
   "metadata": {
    "id": "lSuKPtjh0q1M"
   },
   "outputs": [
    {
     "data": {
      "text/plain": [
       "Text(0.5, 1.0, 'Diferencia entre el trafico de datos en gb por plan')"
      ]
     },
     "execution_count": 37,
     "metadata": {},
     "output_type": "execute_result"
    },
    {
     "data": {
      "image/png": "[encoded data removed]",
      "text/plain": [
       "<Figure size 640x480 with 1 Axes>"
      ]
     },
     "metadata": {},
     "output_type": "display_data"
    }
   ],
   "source": [
    "sns.barplot(data=final_table_charge,x='month',y='total_gb',hue='plan').set_title('Diferencia entre el trafico de datos en gb por plan')"
   ]
  },
  {
   "cell_type": "markdown",
   "metadata": {
    "id": "UN9zwuMP0q1N"
   },
   "source": [
    " Parece ser que el trafico de internet varia en muy poco , siendo ligeramente mas alto en el plan Ultimate"
   ]
  },
  {
   "cell_type": "markdown",
   "metadata": {
    "id": "tCijq3260q1N"
   },
   "source": [
    "## Ingreso"
   ]
  },
  {
   "cell_type": "code",
   "execution_count": 38,
   "metadata": {
    "id": "tz-dq_V00q1O",
    "scrolled": true
   },
   "outputs": [
    {
     "data": {
      "text/html": [
       "<div>\n",
       "<style scoped>\n",
       "    .dataframe tbody tr th:only-of-type {\n",
       "        vertical-align: middle;\n",
       "    }\n",
       "\n",
       "    .dataframe tbody tr th {\n",
       "        vertical-align: top;\n",
       "    }\n",
       "\n",
       "    .dataframe thead th {\n",
       "        text-align: right;\n",
       "    }\n",
       "</style>\n",
       "<table border=\"1\" class=\"dataframe\">\n",
       "  <thead>\n",
       "    <tr style=\"text-align: right;\">\n",
       "      <th></th>\n",
       "      <th>user_id</th>\n",
       "      <th>income</th>\n",
       "      <th>month</th>\n",
       "    </tr>\n",
       "  </thead>\n",
       "  <tbody>\n",
       "    <tr>\n",
       "      <th>0</th>\n",
       "      <td>1000</td>\n",
       "      <td>70.00</td>\n",
       "      <td>12</td>\n",
       "    </tr>\n",
       "    <tr>\n",
       "      <th>1</th>\n",
       "      <td>1006</td>\n",
       "      <td>70.00</td>\n",
       "      <td>11</td>\n",
       "    </tr>\n",
       "    <tr>\n",
       "      <th>2</th>\n",
       "      <td>1006</td>\n",
       "      <td>84.00</td>\n",
       "      <td>12</td>\n",
       "    </tr>\n",
       "    <tr>\n",
       "      <th>3</th>\n",
       "      <td>1008</td>\n",
       "      <td>70.00</td>\n",
       "      <td>10</td>\n",
       "    </tr>\n",
       "    <tr>\n",
       "      <th>4</th>\n",
       "      <td>1008</td>\n",
       "      <td>70.00</td>\n",
       "      <td>11</td>\n",
       "    </tr>\n",
       "    <tr>\n",
       "      <th>...</th>\n",
       "      <td>...</td>\n",
       "      <td>...</td>\n",
       "      <td>...</td>\n",
       "    </tr>\n",
       "    <tr>\n",
       "      <th>2288</th>\n",
       "      <td>1194</td>\n",
       "      <td>290.36</td>\n",
       "      <td>11</td>\n",
       "    </tr>\n",
       "    <tr>\n",
       "      <th>2289</th>\n",
       "      <td>1194</td>\n",
       "      <td>180.18</td>\n",
       "      <td>12</td>\n",
       "    </tr>\n",
       "    <tr>\n",
       "      <th>2290</th>\n",
       "      <td>1349</td>\n",
       "      <td>20.78</td>\n",
       "      <td>10</td>\n",
       "    </tr>\n",
       "    <tr>\n",
       "      <th>2291</th>\n",
       "      <td>1349</td>\n",
       "      <td>40.66</td>\n",
       "      <td>11</td>\n",
       "    </tr>\n",
       "    <tr>\n",
       "      <th>2292</th>\n",
       "      <td>1349</td>\n",
       "      <td>20.33</td>\n",
       "      <td>12</td>\n",
       "    </tr>\n",
       "  </tbody>\n",
       "</table>\n",
       "<p>2293 rows × 3 columns</p>\n",
       "</div>"
      ],
      "text/plain": [
       "      user_id  income  month\n",
       "0        1000   70.00     12\n",
       "1        1006   70.00     11\n",
       "2        1006   84.00     12\n",
       "3        1008   70.00     10\n",
       "4        1008   70.00     11\n",
       "...       ...     ...    ...\n",
       "2288     1194  290.36     11\n",
       "2289     1194  180.18     12\n",
       "2290     1349   20.78     10\n",
       "2291     1349   40.66     11\n",
       "2292     1349   20.33     12\n",
       "\n",
       "[2293 rows x 3 columns]"
      ]
     },
     "metadata": {},
     "output_type": "display_data"
    }
   ],
   "source": [
    "display(final_table_charge[['user_id','income','month']])"
   ]
  },
  {
   "cell_type": "markdown",
   "metadata": {
    "id": "0Y1v8ZUz0q1P"
   },
   "source": [
    "<div class=\"alert alert-block alert-success\">\n",
    "<b>Comentario revisor</b> <a class=\"tocSkip\"></a>\n",
    "\n",
    " Muy buena prática la de usar distintos tipos de gráficas identificar algunos hallazgos y llegar a conclusiones\n",
    "</div>"
   ]
  },
  {
   "cell_type": "markdown",
   "metadata": {
    "id": "ajJ7VKeI0q1Q"
   },
   "source": [
    "## Prueba las hipótesis estadísticas"
   ]
  },
  {
   "cell_type": "markdown",
   "metadata": {
    "id": "AdXAZ-yL0q1Q"
   },
   "source": [
    "[Prueba la hipótesis de que son diferentes los ingresos promedio procedentes de los usuarios de los planes de llamada Ultimate y Surf.]"
   ]
  },
  {
   "cell_type": "code",
   "execution_count": 80,
   "metadata": {
    "id": "nFoPNlPq0q1R"
   },
   "outputs": [
    {
     "name": "stdout",
     "output_type": "stream",
     "text": [
      "Rechazamos la hipotesis nula\n"
     ]
    }
   ],
   "source": [
    "from scipy.stats import ttest_ind\n",
    "alpha=0.05\n",
    "t,pvalue=ttest_ind(\n",
    "    final_table_charge.query(\"plan=='surf'\")['income'],\n",
    "    final_table_charge.query(\"plan=='ultimate'\")['income'],\n",
    "    equal_var=False\n",
    ")\n",
    "\n",
    "if pvalue < alpha:\n",
    "    print('Rechazamos la hipotesis nula')\n",
    "else:\n",
    "    print('No podemos Rechazar la Hipotesis nula')\n",
    "    \n",
    "\n",
    "\n",
    "\n",
    "# Prueba las hipótesis\n",
    "\n"
   ]
  },
  {
   "cell_type": "markdown",
   "metadata": {},
   "source": [
    "<div class=\"alert alert-block alert-danger\">\n",
    "<b>Comentario Revisor</b> <a class=\"tocSkip\"></a>\n",
    "\n",
    "Te recomiendo que dentro de la función de stats.ttest_ind adiciones el elemento \"equal_var = False\" dado que para estos datos no podemos asegurar que las varianzas son iguales entre planes.\n",
    "</div>\n",
    "Comentario del Estudiante: Se adiciona equal_var=False a la funcion."
   ]
  },
  {
   "cell_type": "markdown",
   "metadata": {},
   "source": [
    "<div class=\"alert alert-block alert-success\">\n",
    "<b>Comentario del revisor</b> <a class=\"tocSkip\"></a>\n",
    "\n",
    "Gran trabajo con los ajustes!\n",
    "</div>"
   ]
  },
  {
   "cell_type": "markdown",
   "metadata": {},
   "source": [
    "Rechazamos la Hipótesis nula debido a que los ingresos promedio procedentes de los usuarios de los planes de llamada Ultimate y Surf  so estadisticamente diferentes.\n",
    "El umbral o alfa es de 0.5 y el pvalue nos da 9.342071816297584e-09 por lo tanto,\n",
    "la hipotesis nula se puede rechazar.\n"
   ]
  },
  {
   "cell_type": "markdown",
   "metadata": {
    "id": "tCcAruM60q1R"
   },
   "source": [
    "[Prueba la hipótesis de que el ingreso promedio de los usuarios del área NY-NJ es diferente al de los usuarios de otras regiones.]"
   ]
  },
  {
   "cell_type": "markdown",
   "metadata": {
    "id": "LsBgitqj0q1R"
   },
   "source": [
    "[Elabora las hipótesis nula y alternativa, escoge la prueba estadística, determina el valor alfa.]"
   ]
  },
  {
   "cell_type": "markdown",
   "metadata": {
    "id": "Cqcj7wrZ0q1S"
   },
   "source": [
    "\n",
    "# Prueba las hipótesis\n",
    "## ESTABLESCO LAS HIPOTESIS\n",
    "##### Hipótesis nula: El ingreso promedio de los usuarios de NY-NJ es igual a la de los usiarios de otras regiones.\n",
    "##### Hipótesis alternativa:El ingreso promedio de los usuarios de NY-NJ es estadisticamente diferente a la de los usuarios de otras regiones.\n",
    "\n",
    "\n"
   ]
  },
  {
   "cell_type": "code",
   "execution_count": 83,
   "metadata": {
    "scrolled": true
   },
   "outputs": [
    {
     "data": {
      "text/plain": [
       "array(['Atlanta-Sandy Springs-Roswell, GA MSA',\n",
       "       'San Francisco-Oakland-Berkeley, CA MSA',\n",
       "       'Orlando-Kissimmee-Sanford, FL MSA', 'Cleveland-Elyria, OH MSA',\n",
       "       'Knoxville, TN MSA', 'Houston-The Woodlands-Sugar Land, TX MSA',\n",
       "       'Philadelphia-Camden-Wilmington, PA-NJ-DE-MD MSA',\n",
       "       'Chicago-Naperville-Elgin, IL-IN-WI MSA',\n",
       "       'New York-Newark-Jersey City, NY-NJ-PA MSA',\n",
       "       'Birmingham-Hoover, AL MSA', 'Oklahoma City, OK MSA',\n",
       "       'Denver-Aurora-Lakewood, CO MSA',\n",
       "       'Seattle-Tacoma-Bellevue, WA MSA',\n",
       "       'Nashville-Davidson–Murfreesboro–Franklin, TN MSA',\n",
       "       'Columbus, OH MSA', 'Las Vegas-Henderson-Paradise, NV MSA',\n",
       "       'Indianapolis-Carmel-Anderson, IN MSA',\n",
       "       'Miami-Fort Lauderdale-West Palm Beach, FL MSA',\n",
       "       'Columbia, SC MSA', 'San Antonio-New Braunfels, TX MSA',\n",
       "       'Charlotte-Concord-Gastonia, NC-SC MSA',\n",
       "       'Phoenix-Mesa-Chandler, AZ MSA',\n",
       "       'Riverside-San Bernardino-Ontario, CA MSA',\n",
       "       'Grand Rapids-Kentwood, MI MSA', 'New Haven-Milford, CT MSA',\n",
       "       'Cincinnati, OH-KY-IN MSA',\n",
       "       'Virginia Beach-Norfolk-Newport News, VA-NC MSA',\n",
       "       'Los Angeles-Long Beach-Anaheim, CA MSA',\n",
       "       'Sacramento–Roseville–Folsom, CA MSA',\n",
       "       'Louisville/Jefferson County, KY-IN MSA', 'Richmond, VA MSA',\n",
       "       'St. Louis, MO-IL MSA',\n",
       "       'Minneapolis-St. Paul-Bloomington, MN-WI MSA',\n",
       "       'San Diego-Chula Vista-Carlsbad, CA MSA',\n",
       "       'Austin-Round Rock-Georgetown, TX MSA',\n",
       "       'San Jose-Sunnyvale-Santa Clara, CA MSA',\n",
       "       'Tampa-St. Petersburg-Clearwater, FL MSA', 'Baton Rouge, LA MSA',\n",
       "       'Charleston-North Charleston, SC MSA',\n",
       "       'Detroit-Warren-Dearborn, MI MSA', 'Memphis, TN-MS-AR MSA',\n",
       "       'Tucson, AZ MSA', 'Pittsburgh, PA MSA',\n",
       "       'Washington-Arlington-Alexandria, DC-VA-MD-WV MSA',\n",
       "       'Salt Lake City, UT MSA', 'Dallas-Fort Worth-Arlington, TX MSA',\n",
       "       'Bakersfield, CA MSA', 'Fresno, CA MSA',\n",
       "       'Portland-Vancouver-Hillsboro, OR-WA MSA',\n",
       "       'Cape Coral-Fort Myers, FL MSA',\n",
       "       'Boston-Cambridge-Newton, MA-NH MSA', 'Tulsa, OK MSA',\n",
       "       'Jacksonville, FL MSA', 'Omaha-Council Bluffs, NE-IA MSA',\n",
       "       'Albuquerque, NM MSA', 'Buffalo-Cheektowaga, NY MSA',\n",
       "       'Albany-Schenectady-Troy, NY MSA', 'Providence-Warwick, RI-MA MSA',\n",
       "       'Urban Honolulu, HI MSA', 'El Paso, TX MSA',\n",
       "       'North Port-Sarasota-Bradenton, FL MSA',\n",
       "       'New Orleans-Metairie, LA MSA',\n",
       "       'Bridgeport-Stamford-Norwalk, CT MSA',\n",
       "       'Baltimore-Columbia-Towson, MD MSA', 'Milwaukee-Waukesha, WI MSA',\n",
       "       'Oxnard-Thousand Oaks-Ventura, CA MSA', 'Dayton-Kettering, OH MSA',\n",
       "       'Kansas City, MO-KS MSA', 'Rochester, NY MSA',\n",
       "       'Raleigh-Cary, NC MSA', 'Greensboro-High Point, NC MSA',\n",
       "       'Colorado Springs, CO MSA', 'Stockton, CA MSA'], dtype=object)"
      ]
     },
     "execution_count": 83,
     "metadata": {},
     "output_type": "execute_result"
    }
   ],
   "source": [
    "#income_NY=final_table_charge[final_table_charge['total_to_pay']== 'Nueva York-Nueva Jersey'\n",
    "final_table_charge['city'].unique()\n",
    "#final_table_charge.query(\"city != 'Nueva York-Nueva Jersey'\")['income']"
   ]
  },
  {
   "cell_type": "code",
   "execution_count": 84,
   "metadata": {},
   "outputs": [
    {
     "name": "stdout",
     "output_type": "stream",
     "text": [
      "['New York-Newark-Jersey City, NY-NJ-PA MSA']\n"
     ]
    }
   ],
   "source": [
    "final_table_charge[final_table_charge['city'].str.contains('New York')]['city'].unique()\n",
    "ny_nj_zone=['New York-Newark-Jersey City, NY-NJ-PA MSA']\n",
    "print(ny_nj_zone)"
   ]
  },
  {
   "cell_type": "code",
   "execution_count": 85,
   "metadata": {},
   "outputs": [
    {
     "name": "stdout",
     "output_type": "stream",
     "text": [
      "Se rechaza la hipótesis nula\n"
     ]
    }
   ],
   "source": [
    "#Ahora si realizo el ttest o prueba de hipótesis\n",
    "alpha=0.05\n",
    "t,pvalue=ttest_ind(\n",
    "    final_table_charge[final_table_charge['city'].isin(ny_nj_zone)]['income'],\n",
    "    final_table_charge[~final_table_charge['city'].isin(ny_nj_zone)]['income'],\n",
    "    equal_var=False\n",
    "    )\n",
    "if pvalue < alpha:\n",
    "    print('Se rechaza la hipótesis nula')\n",
    "else:\n",
    "    print('No podemos Rechazar la Hipotesis nula')"
   ]
  },
  {
   "cell_type": "markdown",
   "metadata": {},
   "source": [
    "<div class=\"alert alert-block alert-danger\">\n",
    "<b>Comentario Revisor</b> <a class=\"tocSkip\"></a>\n",
    "\n",
    "Te recomiendo que dentro de la función de stats.ttest_ind adiciones el elemento \"equal_var = False\" dado que para estos datos no podemos asegurar que las varianzas son iguales entre planes.\n",
    "</div>\n",
    "Comentario de estuciante:Se adiciona equal_var=False a la funcion."
   ]
  },
  {
   "cell_type": "markdown",
   "metadata": {},
   "source": [
    "<div class=\"alert alert-block alert-success\">\n",
    "<b>Comentario del revisor</b> <a class=\"tocSkip\"></a>\n",
    "\n",
    "Gran trabajo con los ajustes!\n",
    "</div>"
   ]
  },
  {
   "cell_type": "markdown",
   "metadata": {
    "id": "bbTR8UQO0q1T"
   },
   "source": [
    "## Conclusión general\n",
    "\n",
    "[En esta sección final, enumera tus conclusiones importantes. Asegúrate de que estas abarquen todas las decisiones (suposiciones) importantes que adoptaste y que determinaron la forma elegida para procesar y analizar los datos.]"
   ]
  },
  {
   "cell_type": "markdown",
   "metadata": {},
   "source": [
    "<div class=\"alert alert-block alert-warning\">\n",
    "<b>Comentario revisor</b> <a class=\"tocSkip\"></a>\n",
    "\n",
    "En general creo que hiciste un muy buen trabajo con el proyecto, pudiste limpiar y trabajar las bases de datos de beuna manera, así como juntar la información. Además, considero que el análisis con las gráficas y con las pruebas de hipótesis es muy acertado. No obstante, recuerda que siempre podemos mejorar y te menciono algunos puntos que debes considerar:\n",
    "\n",
    "* Realizar un análisis inicial de registros duplicados en todas las bases de datos\n",
    "\n",
    "*  verificar las  pruebas de hipótesis\n",
    "</div>\n",
    "Comentarios del estudiante: Se realizaron algunos cambios en las recomendaciones y se verificaron correctamente las pruebas de Hipotesis."
   ]
  },
  {
   "cell_type": "markdown",
   "metadata": {},
   "source": [
    "<div class=\"alert alert-block alert-success\">\n",
    "<b>Comentario del revisor</b> <a class=\"tocSkip\"></a>\n",
    "\n",
    "Gran trabajo con los ajustes! Que sigas disfrutando los siguientes cursos!\n",
    "</div>"
   ]
  }
 ],
 "metadata": {
  "ExecuteTimeLog": [
   {
    "duration": 828,
    "start_time": "2021-11-16T09:21:11.304Z"
   },
   {
    "duration": 893,
    "start_time": "2021-11-16T09:21:17.728Z"
   },
   {
    "duration": 1150,
    "start_time": "2021-11-16T09:21:29.568Z"
   },
   {
    "duration": 3,
    "start_time": "2021-11-16T09:24:14.495Z"
   },
   {
    "duration": 120,
    "start_time": "2021-11-16T09:24:46.630Z"
   },
   {
    "duration": 3,
    "start_time": "2021-11-16T09:28:27.882Z"
   },
   {
    "duration": 4,
    "start_time": "2021-11-16T09:29:54.281Z"
   },
   {
    "duration": 3,
    "start_time": "2021-11-16T09:30:45.936Z"
   },
   {
    "duration": 4,
    "start_time": "2021-11-16T09:31:06.300Z"
   },
   {
    "duration": 113,
    "start_time": "2021-11-16T09:31:37.208Z"
   },
   {
    "duration": 143,
    "start_time": "2021-11-16T09:31:48.656Z"
   },
   {
    "duration": 98,
    "start_time": "2021-11-16T09:31:55.678Z"
   },
   {
    "duration": 3,
    "start_time": "2021-11-16T09:32:08.535Z"
   },
   {
    "duration": 111,
    "start_time": "2021-11-16T09:32:10.120Z"
   },
   {
    "duration": 3,
    "start_time": "2021-11-16T09:32:15.732Z"
   },
   {
    "duration": 4,
    "start_time": "2021-11-16T09:32:29.423Z"
   },
   {
    "duration": 3,
    "start_time": "2021-11-16T10:03:03.074Z"
   },
   {
    "duration": 3,
    "start_time": "2021-11-16T10:10:01.288Z"
   },
   {
    "duration": 3,
    "start_time": "2021-11-16T10:10:46.923Z"
   },
   {
    "duration": 121,
    "start_time": "2021-11-16T10:37:46.494Z"
   },
   {
    "duration": 125,
    "start_time": "2021-11-16T10:38:20.632Z"
   },
   {
    "duration": 112,
    "start_time": "2021-11-16T10:46:53.001Z"
   },
   {
    "duration": 110,
    "start_time": "2021-11-16T10:48:25.775Z"
   },
   {
    "duration": 3,
    "start_time": "2021-11-16T10:50:18.720Z"
   },
   {
    "duration": 4,
    "start_time": "2021-11-16T10:50:37.649Z"
   },
   {
    "duration": 2,
    "start_time": "2021-11-16T10:50:51.884Z"
   },
   {
    "duration": 3,
    "start_time": "2021-11-16T10:51:56.237Z"
   },
   {
    "duration": 101,
    "start_time": "2021-11-16T10:53:13.791Z"
   },
   {
    "duration": 3,
    "start_time": "2021-11-16T10:55:59.186Z"
   },
   {
    "duration": 3,
    "start_time": "2021-11-16T10:56:10.751Z"
   },
   {
    "duration": 3,
    "start_time": "2021-11-16T10:56:49.038Z"
   },
   {
    "duration": 3,
    "start_time": "2021-11-16T10:56:49.174Z"
   },
   {
    "duration": 4,
    "start_time": "2021-11-16T10:56:49.414Z"
   },
   {
    "duration": 3,
    "start_time": "2021-11-16T10:56:49.680Z"
   },
   {
    "duration": 3,
    "start_time": "2021-11-16T10:56:50.370Z"
   },
   {
    "duration": 114,
    "start_time": "2021-11-16T10:59:34.518Z"
   },
   {
    "duration": 3,
    "start_time": "2021-11-16T11:01:41.201Z"
   },
   {
    "duration": 116,
    "start_time": "2021-11-16T11:01:48.754Z"
   },
   {
    "duration": 3,
    "start_time": "2021-11-16T11:02:16.685Z"
   },
   {
    "duration": 3,
    "start_time": "2021-11-16T11:02:19.479Z"
   },
   {
    "duration": 3,
    "start_time": "2021-11-16T11:02:47.067Z"
   },
   {
    "duration": 3,
    "start_time": "2021-11-16T11:02:49.353Z"
   },
   {
    "duration": 3,
    "start_time": "2021-11-16T11:03:07.835Z"
   },
   {
    "duration": 3,
    "start_time": "2021-11-16T11:03:07.953Z"
   },
   {
    "duration": 112,
    "start_time": "2021-11-16T11:07:52.072Z"
   },
   {
    "duration": 187,
    "start_time": "2021-11-16T11:09:23.468Z"
   },
   {
    "duration": 4,
    "start_time": "2021-11-16T11:10:01.455Z"
   },
   {
    "duration": 3,
    "start_time": "2021-11-16T11:10:05.069Z"
   },
   {
    "duration": 4,
    "start_time": "2021-11-16T11:10:13.376Z"
   },
   {
    "duration": 3,
    "start_time": "2021-11-16T11:10:14.434Z"
   },
   {
    "duration": 3,
    "start_time": "2021-11-16T11:10:22.853Z"
   },
   {
    "duration": 4,
    "start_time": "2021-11-16T11:27:29.279Z"
   },
   {
    "duration": 4,
    "start_time": "2021-11-16T11:29:08.919Z"
   },
   {
    "duration": 118,
    "start_time": "2021-11-16T11:29:46.703Z"
   },
   {
    "duration": 437,
    "start_time": "2021-11-16T11:36:02.181Z"
   },
   {
    "duration": 157,
    "start_time": "2021-11-16T11:36:14.388Z"
   },
   {
    "duration": 207,
    "start_time": "2021-11-16T11:47:15.898Z"
   },
   {
    "duration": 3,
    "start_time": "2021-11-16T11:53:52.092Z"
   },
   {
    "duration": 3,
    "start_time": "2021-11-16T11:53:52.236Z"
   },
   {
    "duration": 3,
    "start_time": "2021-11-16T11:59:12.005Z"
   },
   {
    "duration": 112,
    "start_time": "2021-11-16T12:00:33.446Z"
   },
   {
    "duration": 3,
    "start_time": "2021-11-16T12:02:14.453Z"
   },
   {
    "duration": 3,
    "start_time": "2021-11-16T12:02:39.512Z"
   },
   {
    "duration": 106,
    "start_time": "2021-11-16T12:03:03.460Z"
   },
   {
    "duration": 3,
    "start_time": "2021-11-17T20:37:21.139Z"
   },
   {
    "duration": 3,
    "start_time": "2021-11-17T20:37:22.229Z"
   },
   {
    "duration": 3,
    "start_time": "2021-11-17T20:38:38.806Z"
   },
   {
    "duration": 3,
    "start_time": "2021-11-17T20:38:41.958Z"
   },
   {
    "duration": 3,
    "start_time": "2021-11-17T20:43:46.551Z"
   },
   {
    "duration": 4,
    "start_time": "2021-11-17T20:58:21.835Z"
   },
   {
    "duration": 3,
    "start_time": "2021-11-17T20:59:21.872Z"
   },
   {
    "duration": 4,
    "start_time": "2021-11-17T20:59:45.352Z"
   },
   {
    "duration": 4,
    "start_time": "2021-11-17T20:59:49.646Z"
   },
   {
    "duration": 159,
    "start_time": "2021-11-17T21:02:26.949Z"
   },
   {
    "duration": 3,
    "start_time": "2021-11-17T21:03:53.461Z"
   },
   {
    "duration": 3,
    "start_time": "2021-11-17T21:03:53.694Z"
   },
   {
    "duration": 3,
    "start_time": "2021-11-17T21:05:28.145Z"
   },
   {
    "duration": 116,
    "start_time": "2021-11-17T21:05:57.787Z"
   },
   {
    "duration": 3,
    "start_time": "2021-11-17T21:06:37.993Z"
   },
   {
    "duration": 3,
    "start_time": "2021-11-17T21:06:38.261Z"
   },
   {
    "duration": 3,
    "start_time": "2021-11-17T21:11:54.358Z"
   },
   {
    "duration": 3,
    "start_time": "2021-11-17T21:12:43.846Z"
   },
   {
    "duration": 4,
    "start_time": "2021-11-17T21:13:08.773Z"
   },
   {
    "duration": 3,
    "start_time": "2021-11-17T21:14:44.441Z"
   },
   {
    "duration": 3,
    "start_time": "2021-11-17T21:15:42.059Z"
   },
   {
    "duration": 4,
    "start_time": "2021-11-17T21:15:51.995Z"
   },
   {
    "duration": 3,
    "start_time": "2021-11-17T21:15:53.923Z"
   },
   {
    "duration": 3,
    "start_time": "2021-11-17T21:15:55.282Z"
   },
   {
    "duration": 3,
    "start_time": "2021-11-17T21:16:28.492Z"
   },
   {
    "duration": 3,
    "start_time": "2021-11-17T21:16:32.603Z"
   },
   {
    "duration": 3,
    "start_time": "2021-11-17T21:17:06.941Z"
   },
   {
    "duration": 98,
    "start_time": "2021-11-17T21:18:05.733Z"
   },
   {
    "duration": 4,
    "start_time": "2021-11-17T21:21:35.255Z"
   },
   {
    "duration": 3,
    "start_time": "2021-11-17T21:21:37.804Z"
   },
   {
    "duration": 4,
    "start_time": "2021-11-17T21:23:06.071Z"
   },
   {
    "duration": 3,
    "start_time": "2021-11-17T21:23:24.799Z"
   },
   {
    "duration": 3,
    "start_time": "2021-11-17T21:23:32.591Z"
   },
   {
    "duration": 98,
    "start_time": "2021-11-17T21:28:31.559Z"
   },
   {
    "duration": 3,
    "start_time": "2021-11-17T21:28:45.448Z"
   },
   {
    "duration": 3,
    "start_time": "2021-11-17T21:29:17.303Z"
   },
   {
    "duration": 3,
    "start_time": "2021-11-17T21:29:29.617Z"
   },
   {
    "duration": 3,
    "start_time": "2021-11-17T21:29:32.681Z"
   },
   {
    "duration": 3,
    "start_time": "2021-11-17T21:36:11.474Z"
   },
   {
    "duration": 3,
    "start_time": "2021-11-17T21:36:14.791Z"
   },
   {
    "duration": 3,
    "start_time": "2021-11-17T21:36:53.943Z"
   },
   {
    "duration": 3,
    "start_time": "2021-11-17T21:36:56.165Z"
   },
   {
    "duration": 4,
    "start_time": "2021-11-17T21:37:16.590Z"
   },
   {
    "duration": 3,
    "start_time": "2021-11-17T21:37:22.702Z"
   },
   {
    "duration": 4,
    "start_time": "2021-11-17T21:38:03.479Z"
   },
   {
    "duration": 3,
    "start_time": "2021-11-17T21:38:08.601Z"
   },
   {
    "duration": 3,
    "start_time": "2021-11-17T21:38:12.928Z"
   },
   {
    "duration": 3,
    "start_time": "2021-11-17T21:38:48.896Z"
   },
   {
    "duration": 2,
    "start_time": "2021-11-17T21:38:49.171Z"
   },
   {
    "duration": 4,
    "start_time": "2021-11-17T21:39:57.889Z"
   },
   {
    "duration": 3,
    "start_time": "2021-11-17T21:39:58.057Z"
   },
   {
    "duration": 3,
    "start_time": "2021-11-17T21:41:20.108Z"
   },
   {
    "duration": 3,
    "start_time": "2021-11-17T21:41:20.629Z"
   },
   {
    "duration": 3,
    "start_time": "2021-11-17T21:42:49.136Z"
   },
   {
    "duration": 3,
    "start_time": "2021-11-17T21:43:15.137Z"
   },
   {
    "duration": 4,
    "start_time": "2021-11-17T21:43:16.766Z"
   },
   {
    "duration": 4,
    "start_time": "2021-11-17T21:43:31.711Z"
   },
   {
    "duration": 3,
    "start_time": "2021-11-17T21:43:36.312Z"
   },
   {
    "duration": 4,
    "start_time": "2021-11-17T21:45:08.825Z"
   },
   {
    "duration": 4,
    "start_time": "2021-11-17T21:45:10.119Z"
   },
   {
    "duration": 4,
    "start_time": "2021-11-17T21:45:13.748Z"
   },
   {
    "duration": 3,
    "start_time": "2021-11-17T21:45:22.219Z"
   },
   {
    "duration": 3,
    "start_time": "2021-11-17T21:45:33.412Z"
   },
   {
    "duration": 2,
    "start_time": "2021-11-17T21:46:01.885Z"
   },
   {
    "duration": 3,
    "start_time": "2021-11-17T21:46:03.628Z"
   },
   {
    "duration": 107,
    "start_time": "2021-11-17T21:47:32.512Z"
   },
   {
    "duration": 103,
    "start_time": "2021-11-17T21:50:36.243Z"
   },
   {
    "duration": 3,
    "start_time": "2021-11-18T06:28:31.440Z"
   },
   {
    "duration": 3,
    "start_time": "2021-11-18T06:29:00.168Z"
   },
   {
    "duration": 3,
    "start_time": "2021-11-18T06:31:27.008Z"
   },
   {
    "duration": 2,
    "start_time": "2021-11-18T06:35:34.288Z"
   },
   {
    "duration": 2,
    "start_time": "2021-11-18T06:38:04.527Z"
   },
   {
    "duration": 12,
    "start_time": "2024-05-16T13:32:43.452Z"
   },
   {
    "duration": 4890,
    "start_time": "2024-05-16T13:33:19.950Z"
   },
   {
    "duration": 1319,
    "start_time": "2024-05-16T13:33:28.788Z"
   },
   {
    "duration": 366,
    "start_time": "2024-05-16T13:33:30.111Z"
   },
   {
    "duration": 16,
    "start_time": "2024-05-16T13:33:30.480Z"
   },
   {
    "duration": 17,
    "start_time": "2024-05-16T13:33:30.509Z"
   },
   {
    "duration": 15,
    "start_time": "2024-05-16T13:33:30.529Z"
   },
   {
    "duration": 15,
    "start_time": "2024-05-16T13:33:30.546Z"
   },
   {
    "duration": 62,
    "start_time": "2024-05-16T13:33:30.565Z"
   },
   {
    "duration": 17,
    "start_time": "2024-05-16T13:33:30.630Z"
   },
   {
    "duration": 60,
    "start_time": "2024-05-16T13:33:30.650Z"
   },
   {
    "duration": 26,
    "start_time": "2024-05-16T13:33:30.717Z"
   },
   {
    "duration": 11,
    "start_time": "2024-05-16T13:33:30.746Z"
   },
   {
    "duration": 165,
    "start_time": "2024-05-16T13:33:30.761Z"
   },
   {
    "duration": 40,
    "start_time": "2024-05-16T13:33:30.929Z"
   },
   {
    "duration": 45,
    "start_time": "2024-05-16T13:33:30.972Z"
   },
   {
    "duration": 10,
    "start_time": "2024-05-16T13:33:31.020Z"
   },
   {
    "duration": 98,
    "start_time": "2024-05-16T13:33:31.033Z"
   },
   {
    "duration": 22,
    "start_time": "2024-05-16T13:33:31.134Z"
   },
   {
    "duration": 50,
    "start_time": "2024-05-16T13:33:31.159Z"
   },
   {
    "duration": 12,
    "start_time": "2024-05-16T13:33:31.213Z"
   },
   {
    "duration": 112,
    "start_time": "2024-05-16T13:33:31.229Z"
   },
   {
    "duration": 32,
    "start_time": "2024-05-16T13:33:31.344Z"
   },
   {
    "duration": 31,
    "start_time": "2024-05-16T13:33:31.379Z"
   },
   {
    "duration": 39,
    "start_time": "2024-05-16T13:33:31.414Z"
   },
   {
    "duration": 60,
    "start_time": "2024-05-16T13:33:31.456Z"
   },
   {
    "duration": 33,
    "start_time": "2024-05-16T13:33:31.519Z"
   },
   {
    "duration": 24,
    "start_time": "2024-05-16T13:33:31.555Z"
   },
   {
    "duration": 69,
    "start_time": "2024-05-16T13:33:31.582Z"
   },
   {
    "duration": 65,
    "start_time": "2024-05-16T13:33:31.658Z"
   },
   {
    "duration": 1283,
    "start_time": "2024-05-16T13:33:31.726Z"
   },
   {
    "duration": 489,
    "start_time": "2024-05-16T13:33:33.012Z"
   },
   {
    "duration": 10,
    "start_time": "2024-05-16T13:33:33.508Z"
   },
   {
    "duration": 217,
    "start_time": "2024-05-16T13:33:33.521Z"
   },
   {
    "duration": 1218,
    "start_time": "2024-05-16T13:33:33.741Z"
   },
   {
    "duration": 24,
    "start_time": "2024-05-16T13:33:34.961Z"
   },
   {
    "duration": 1233,
    "start_time": "2024-05-16T13:33:34.988Z"
   },
   {
    "duration": 16,
    "start_time": "2024-05-16T13:33:36.224Z"
   },
   {
    "duration": 0,
    "start_time": "2024-05-16T13:33:36.253Z"
   },
   {
    "duration": 0,
    "start_time": "2024-05-16T13:33:36.255Z"
   },
   {
    "duration": 6,
    "start_time": "2024-05-16T13:33:38.901Z"
   },
   {
    "duration": 7,
    "start_time": "2024-05-16T13:34:21.325Z"
   },
   {
    "duration": 4,
    "start_time": "2024-05-16T13:34:54.772Z"
   },
   {
    "duration": 4,
    "start_time": "2024-05-16T13:34:59.488Z"
   },
   {
    "duration": 11,
    "start_time": "2024-05-16T13:35:24.629Z"
   },
   {
    "duration": 6,
    "start_time": "2024-05-16T13:35:44.319Z"
   },
   {
    "duration": 5,
    "start_time": "2024-05-16T13:36:02.966Z"
   },
   {
    "duration": 6,
    "start_time": "2024-05-16T13:37:09.529Z"
   },
   {
    "duration": 1236,
    "start_time": "2024-05-16T13:37:21.816Z"
   },
   {
    "duration": 99,
    "start_time": "2024-05-16T13:37:38.311Z"
   },
   {
    "duration": 14,
    "start_time": "2024-05-16T13:38:00.901Z"
   },
   {
    "duration": 14,
    "start_time": "2024-05-16T14:00:47.743Z"
   },
   {
    "duration": 14,
    "start_time": "2024-05-16T14:01:09.240Z"
   },
   {
    "duration": 7,
    "start_time": "2024-05-16T14:05:42.747Z"
   },
   {
    "duration": 8,
    "start_time": "2024-05-16T15:05:44.641Z"
   },
   {
    "duration": 23,
    "start_time": "2024-05-16T18:20:27.934Z"
   },
   {
    "duration": 6,
    "start_time": "2024-05-16T18:20:54.402Z"
   },
   {
    "duration": 6,
    "start_time": "2024-05-16T18:20:59.896Z"
   },
   {
    "duration": 1028,
    "start_time": "2024-05-16T18:22:14.316Z"
   },
   {
    "duration": 25,
    "start_time": "2024-05-16T18:22:56.695Z"
   },
   {
    "duration": 25,
    "start_time": "2024-05-16T18:28:39.998Z"
   },
   {
    "duration": 4943,
    "start_time": "2024-05-16T18:28:53.601Z"
   },
   {
    "duration": 366,
    "start_time": "2024-05-16T18:28:58.547Z"
   },
   {
    "duration": 19,
    "start_time": "2024-05-16T18:28:58.916Z"
   },
   {
    "duration": 16,
    "start_time": "2024-05-16T18:28:58.940Z"
   },
   {
    "duration": 15,
    "start_time": "2024-05-16T18:28:58.959Z"
   },
   {
    "duration": 15,
    "start_time": "2024-05-16T18:28:59.006Z"
   },
   {
    "duration": 23,
    "start_time": "2024-05-16T18:28:59.025Z"
   },
   {
    "duration": 16,
    "start_time": "2024-05-16T18:28:59.052Z"
   },
   {
    "duration": 60,
    "start_time": "2024-05-16T18:28:59.071Z"
   },
   {
    "duration": 24,
    "start_time": "2024-05-16T18:28:59.138Z"
   },
   {
    "duration": 42,
    "start_time": "2024-05-16T18:28:59.165Z"
   },
   {
    "duration": 140,
    "start_time": "2024-05-16T18:28:59.211Z"
   },
   {
    "duration": 32,
    "start_time": "2024-05-16T18:28:59.354Z"
   },
   {
    "duration": 36,
    "start_time": "2024-05-16T18:28:59.389Z"
   },
   {
    "duration": 10,
    "start_time": "2024-05-16T18:28:59.429Z"
   },
   {
    "duration": 110,
    "start_time": "2024-05-16T18:28:59.443Z"
   },
   {
    "duration": 22,
    "start_time": "2024-05-16T18:28:59.555Z"
   },
   {
    "duration": 39,
    "start_time": "2024-05-16T18:28:59.579Z"
   },
   {
    "duration": 12,
    "start_time": "2024-05-16T18:28:59.621Z"
   },
   {
    "duration": 113,
    "start_time": "2024-05-16T18:28:59.636Z"
   },
   {
    "duration": 30,
    "start_time": "2024-05-16T18:28:59.752Z"
   },
   {
    "duration": 29,
    "start_time": "2024-05-16T18:28:59.785Z"
   },
   {
    "duration": 41,
    "start_time": "2024-05-16T18:28:59.817Z"
   },
   {
    "duration": 62,
    "start_time": "2024-05-16T18:28:59.863Z"
   },
   {
    "duration": 40,
    "start_time": "2024-05-16T18:28:59.928Z"
   },
   {
    "duration": 50,
    "start_time": "2024-05-16T18:28:59.971Z"
   },
   {
    "duration": 44,
    "start_time": "2024-05-16T18:29:00.024Z"
   },
   {
    "duration": 57,
    "start_time": "2024-05-16T18:29:00.075Z"
   },
   {
    "duration": 1294,
    "start_time": "2024-05-16T18:29:00.135Z"
   },
   {
    "duration": 431,
    "start_time": "2024-05-16T18:29:01.432Z"
   },
   {
    "duration": 11,
    "start_time": "2024-05-16T18:29:01.867Z"
   },
   {
    "duration": 220,
    "start_time": "2024-05-16T18:29:01.881Z"
   },
   {
    "duration": 1178,
    "start_time": "2024-05-16T18:29:02.106Z"
   },
   {
    "duration": 28,
    "start_time": "2024-05-16T18:29:03.287Z"
   },
   {
    "duration": 1230,
    "start_time": "2024-05-16T18:29:03.319Z"
   },
   {
    "duration": 17,
    "start_time": "2024-05-16T18:29:04.553Z"
   },
   {
    "duration": 4,
    "start_time": "2024-05-16T18:29:04.612Z"
   },
   {
    "duration": 16,
    "start_time": "2024-05-16T18:29:04.618Z"
   },
   {
    "duration": 13,
    "start_time": "2024-05-16T20:28:23.237Z"
   },
   {
    "duration": 12,
    "start_time": "2024-05-16T20:28:34.925Z"
   },
   {
    "duration": 14,
    "start_time": "2024-05-16T20:28:53.837Z"
   },
   {
    "duration": 12,
    "start_time": "2024-05-16T20:29:07.717Z"
   },
   {
    "duration": 8,
    "start_time": "2024-05-16T20:33:58.429Z"
   },
   {
    "duration": 396,
    "start_time": "2024-05-16T20:36:40.012Z"
   },
   {
    "duration": 873,
    "start_time": "2024-05-16T20:37:02.802Z"
   },
   {
    "duration": 82,
    "start_time": "2024-05-16T20:37:27.137Z"
   },
   {
    "duration": 1251,
    "start_time": "2024-05-16T20:38:25.656Z"
   },
   {
    "duration": 288,
    "start_time": "2024-05-16T20:38:26.910Z"
   },
   {
    "duration": 18,
    "start_time": "2024-05-16T20:38:27.203Z"
   },
   {
    "duration": 18,
    "start_time": "2024-05-16T20:38:27.226Z"
   },
   {
    "duration": 16,
    "start_time": "2024-05-16T20:38:27.248Z"
   },
   {
    "duration": 56,
    "start_time": "2024-05-16T20:38:27.267Z"
   },
   {
    "duration": 26,
    "start_time": "2024-05-16T20:38:27.326Z"
   },
   {
    "duration": 50,
    "start_time": "2024-05-16T20:38:27.355Z"
   },
   {
    "duration": 26,
    "start_time": "2024-05-16T20:38:27.408Z"
   },
   {
    "duration": 26,
    "start_time": "2024-05-16T20:38:27.439Z"
   },
   {
    "duration": 35,
    "start_time": "2024-05-16T20:38:27.473Z"
   },
   {
    "duration": 142,
    "start_time": "2024-05-16T20:38:27.512Z"
   },
   {
    "duration": 50,
    "start_time": "2024-05-16T20:38:27.657Z"
   },
   {
    "duration": 19,
    "start_time": "2024-05-16T20:38:27.710Z"
   },
   {
    "duration": 10,
    "start_time": "2024-05-16T20:38:27.732Z"
   },
   {
    "duration": 104,
    "start_time": "2024-05-16T20:38:27.746Z"
   },
   {
    "duration": 23,
    "start_time": "2024-05-16T20:38:27.853Z"
   },
   {
    "duration": 54,
    "start_time": "2024-05-16T20:38:27.879Z"
   },
   {
    "duration": 15,
    "start_time": "2024-05-16T20:38:27.936Z"
   },
   {
    "duration": 114,
    "start_time": "2024-05-16T20:38:27.954Z"
   },
   {
    "duration": 43,
    "start_time": "2024-05-16T20:38:28.071Z"
   },
   {
    "duration": 13,
    "start_time": "2024-05-16T20:38:28.118Z"
   },
   {
    "duration": 38,
    "start_time": "2024-05-16T20:38:28.134Z"
   },
   {
    "duration": 63,
    "start_time": "2024-05-16T20:38:28.175Z"
   },
   {
    "duration": 38,
    "start_time": "2024-05-16T20:38:28.241Z"
   },
   {
    "duration": 47,
    "start_time": "2024-05-16T20:38:28.282Z"
   },
   {
    "duration": 77,
    "start_time": "2024-05-16T20:38:28.333Z"
   },
   {
    "duration": 39,
    "start_time": "2024-05-16T20:38:28.417Z"
   },
   {
    "duration": 1277,
    "start_time": "2024-05-16T20:38:28.458Z"
   },
   {
    "duration": 476,
    "start_time": "2024-05-16T20:38:29.737Z"
   },
   {
    "duration": 11,
    "start_time": "2024-05-16T20:38:30.216Z"
   },
   {
    "duration": 204,
    "start_time": "2024-05-16T20:38:30.230Z"
   },
   {
    "duration": 1170,
    "start_time": "2024-05-16T20:38:30.437Z"
   },
   {
    "duration": 27,
    "start_time": "2024-05-16T20:38:31.610Z"
   },
   {
    "duration": 1177,
    "start_time": "2024-05-16T20:38:31.642Z"
   },
   {
    "duration": 17,
    "start_time": "2024-05-16T20:38:32.823Z"
   },
   {
    "duration": 7,
    "start_time": "2024-05-16T20:38:32.842Z"
   },
   {
    "duration": 0,
    "start_time": "2024-05-16T20:38:32.852Z"
   },
   {
    "duration": 0,
    "start_time": "2024-05-16T20:38:32.854Z"
   },
   {
    "duration": 1241,
    "start_time": "2024-05-16T20:38:38.194Z"
   },
   {
    "duration": 35,
    "start_time": "2024-05-16T20:39:59.403Z"
   },
   {
    "duration": 35,
    "start_time": "2024-05-16T20:40:45.736Z"
   },
   {
    "duration": 1286,
    "start_time": "2024-05-16T20:40:56.400Z"
   },
   {
    "duration": 286,
    "start_time": "2024-05-16T20:40:57.690Z"
   },
   {
    "duration": 17,
    "start_time": "2024-05-16T20:40:57.979Z"
   },
   {
    "duration": 17,
    "start_time": "2024-05-16T20:40:58.009Z"
   },
   {
    "duration": 16,
    "start_time": "2024-05-16T20:40:58.029Z"
   },
   {
    "duration": 15,
    "start_time": "2024-05-16T20:40:58.047Z"
   },
   {
    "duration": 59,
    "start_time": "2024-05-16T20:40:58.065Z"
   },
   {
    "duration": 20,
    "start_time": "2024-05-16T20:40:58.127Z"
   },
   {
    "duration": 64,
    "start_time": "2024-05-16T20:40:58.150Z"
   },
   {
    "duration": 31,
    "start_time": "2024-05-16T20:40:58.222Z"
   },
   {
    "duration": 14,
    "start_time": "2024-05-16T20:40:58.256Z"
   },
   {
    "duration": 168,
    "start_time": "2024-05-16T20:40:58.276Z"
   },
   {
    "duration": 34,
    "start_time": "2024-05-16T20:40:58.447Z"
   },
   {
    "duration": 42,
    "start_time": "2024-05-16T20:40:58.484Z"
   },
   {
    "duration": 11,
    "start_time": "2024-05-16T20:40:58.529Z"
   },
   {
    "duration": 106,
    "start_time": "2024-05-16T20:40:58.543Z"
   },
   {
    "duration": 23,
    "start_time": "2024-05-16T20:40:58.652Z"
   },
   {
    "duration": 45,
    "start_time": "2024-05-16T20:40:58.678Z"
   },
   {
    "duration": 12,
    "start_time": "2024-05-16T20:40:58.727Z"
   },
   {
    "duration": 116,
    "start_time": "2024-05-16T20:40:58.742Z"
   },
   {
    "duration": 30,
    "start_time": "2024-05-16T20:40:58.860Z"
   },
   {
    "duration": 14,
    "start_time": "2024-05-16T20:40:58.907Z"
   },
   {
    "duration": 39,
    "start_time": "2024-05-16T20:40:58.924Z"
   },
   {
    "duration": 63,
    "start_time": "2024-05-16T20:40:58.966Z"
   },
   {
    "duration": 31,
    "start_time": "2024-05-16T20:40:59.032Z"
   },
   {
    "duration": 49,
    "start_time": "2024-05-16T20:40:59.067Z"
   },
   {
    "duration": 44,
    "start_time": "2024-05-16T20:40:59.120Z"
   },
   {
    "duration": 54,
    "start_time": "2024-05-16T20:40:59.173Z"
   },
   {
    "duration": 1270,
    "start_time": "2024-05-16T20:40:59.230Z"
   },
   {
    "duration": 487,
    "start_time": "2024-05-16T20:41:00.507Z"
   },
   {
    "duration": 15,
    "start_time": "2024-05-16T20:41:00.997Z"
   },
   {
    "duration": 199,
    "start_time": "2024-05-16T20:41:01.015Z"
   },
   {
    "duration": 1167,
    "start_time": "2024-05-16T20:41:01.218Z"
   },
   {
    "duration": 34,
    "start_time": "2024-05-16T20:41:02.389Z"
   },
   {
    "duration": 1162,
    "start_time": "2024-05-16T20:41:02.426Z"
   },
   {
    "duration": 1051,
    "start_time": "2024-05-16T20:41:03.592Z"
   },
   {
    "duration": 0,
    "start_time": "2024-05-16T20:41:04.646Z"
   },
   {
    "duration": 0,
    "start_time": "2024-05-16T20:41:04.647Z"
   },
   {
    "duration": 0,
    "start_time": "2024-05-16T20:41:04.649Z"
   },
   {
    "duration": 15,
    "start_time": "2024-05-16T20:41:29.876Z"
   },
   {
    "duration": 551,
    "start_time": "2024-05-16T20:41:48.949Z"
   },
   {
    "duration": 83,
    "start_time": "2024-05-16T20:41:51.222Z"
   },
   {
    "duration": 13,
    "start_time": "2024-05-16T20:42:04.650Z"
   },
   {
    "duration": 8,
    "start_time": "2024-05-16T20:42:10.407Z"
   },
   {
    "duration": 12,
    "start_time": "2024-05-16T20:42:56.516Z"
   },
   {
    "duration": 7,
    "start_time": "2024-05-16T20:44:01.105Z"
   },
   {
    "duration": 8,
    "start_time": "2024-05-16T20:53:48.610Z"
   },
   {
    "duration": 9,
    "start_time": "2024-05-16T20:54:40.068Z"
   },
   {
    "duration": 8,
    "start_time": "2024-05-16T20:57:02.189Z"
   },
   {
    "duration": 10,
    "start_time": "2024-05-16T21:01:42.092Z"
   },
   {
    "duration": 10,
    "start_time": "2024-05-16T21:02:35.430Z"
   },
   {
    "duration": 9,
    "start_time": "2024-05-16T21:06:00.626Z"
   },
   {
    "duration": 7,
    "start_time": "2024-05-16T21:06:18.180Z"
   },
   {
    "duration": 10,
    "start_time": "2024-05-16T21:06:29.010Z"
   },
   {
    "duration": 9,
    "start_time": "2024-05-16T21:06:33.286Z"
   },
   {
    "duration": 11,
    "start_time": "2024-05-16T21:06:43.294Z"
   },
   {
    "duration": 10,
    "start_time": "2024-05-16T21:07:55.999Z"
   },
   {
    "duration": 12,
    "start_time": "2024-05-16T21:19:38.318Z"
   },
   {
    "duration": 209,
    "start_time": "2024-05-16T22:28:52.397Z"
   },
   {
    "duration": 1142,
    "start_time": "2024-05-16T22:34:49.564Z"
   },
   {
    "duration": 2143,
    "start_time": "2024-05-16T22:37:11.677Z"
   },
   {
    "duration": 1245,
    "start_time": "2024-05-16T22:39:43.063Z"
   },
   {
    "duration": 7,
    "start_time": "2024-05-16T22:40:07.044Z"
   },
   {
    "duration": 196,
    "start_time": "2024-05-16T22:43:35.953Z"
   },
   {
    "duration": 200,
    "start_time": "2024-05-16T22:44:00.368Z"
   },
   {
    "duration": 238,
    "start_time": "2024-05-16T22:47:48.120Z"
   },
   {
    "duration": 255,
    "start_time": "2024-05-16T22:48:00.207Z"
   },
   {
    "duration": 227,
    "start_time": "2024-05-16T22:48:58.609Z"
   },
   {
    "duration": 214,
    "start_time": "2024-05-16T22:49:05.374Z"
   },
   {
    "duration": 402,
    "start_time": "2024-05-16T22:50:13.979Z"
   },
   {
    "duration": 1214,
    "start_time": "2024-05-16T23:26:25.486Z"
   },
   {
    "duration": 1232,
    "start_time": "2024-05-16T23:28:00.011Z"
   },
   {
    "duration": 1221,
    "start_time": "2024-05-16T23:28:15.749Z"
   },
   {
    "duration": 613,
    "start_time": "2024-05-16T23:30:37.918Z"
   },
   {
    "duration": 1163,
    "start_time": "2024-05-16T23:32:50.455Z"
   },
   {
    "duration": 1132,
    "start_time": "2024-05-16T23:38:31.619Z"
   },
   {
    "duration": 339,
    "start_time": "2024-05-18T11:03:32.227Z"
   },
   {
    "duration": 5000,
    "start_time": "2024-05-18T11:03:42.103Z"
   },
   {
    "duration": 361,
    "start_time": "2024-05-18T11:03:47.107Z"
   },
   {
    "duration": 18,
    "start_time": "2024-05-18T11:03:47.471Z"
   },
   {
    "duration": 16,
    "start_time": "2024-05-18T11:03:47.493Z"
   },
   {
    "duration": 17,
    "start_time": "2024-05-18T11:03:47.532Z"
   },
   {
    "duration": 16,
    "start_time": "2024-05-18T11:03:47.552Z"
   },
   {
    "duration": 22,
    "start_time": "2024-05-18T11:03:47.570Z"
   },
   {
    "duration": 17,
    "start_time": "2024-05-18T11:03:47.631Z"
   },
   {
    "duration": 28,
    "start_time": "2024-05-18T11:03:47.652Z"
   },
   {
    "duration": 57,
    "start_time": "2024-05-18T11:03:47.686Z"
   },
   {
    "duration": 11,
    "start_time": "2024-05-18T11:03:47.746Z"
   },
   {
    "duration": 158,
    "start_time": "2024-05-18T11:03:47.761Z"
   },
   {
    "duration": 36,
    "start_time": "2024-05-18T11:03:47.921Z"
   },
   {
    "duration": 23,
    "start_time": "2024-05-18T11:03:47.960Z"
   },
   {
    "duration": 44,
    "start_time": "2024-05-18T11:03:47.987Z"
   },
   {
    "duration": 97,
    "start_time": "2024-05-18T11:03:48.035Z"
   },
   {
    "duration": 22,
    "start_time": "2024-05-18T11:03:48.135Z"
   },
   {
    "duration": 21,
    "start_time": "2024-05-18T11:03:48.160Z"
   },
   {
    "duration": 44,
    "start_time": "2024-05-18T11:03:48.185Z"
   },
   {
    "duration": 109,
    "start_time": "2024-05-18T11:03:48.233Z"
   },
   {
    "duration": 29,
    "start_time": "2024-05-18T11:03:48.346Z"
   },
   {
    "duration": 14,
    "start_time": "2024-05-18T11:03:48.378Z"
   },
   {
    "duration": 92,
    "start_time": "2024-05-18T11:03:48.396Z"
   },
   {
    "duration": 53,
    "start_time": "2024-05-18T11:03:48.491Z"
   },
   {
    "duration": 31,
    "start_time": "2024-05-18T11:03:48.548Z"
   },
   {
    "duration": 444,
    "start_time": "2024-05-18T11:03:48.582Z"
   },
   {
    "duration": 0,
    "start_time": "2024-05-18T11:03:49.031Z"
   },
   {
    "duration": 0,
    "start_time": "2024-05-18T11:03:49.033Z"
   },
   {
    "duration": 0,
    "start_time": "2024-05-18T11:03:49.035Z"
   },
   {
    "duration": 0,
    "start_time": "2024-05-18T11:03:49.038Z"
   },
   {
    "duration": 0,
    "start_time": "2024-05-18T11:03:49.040Z"
   },
   {
    "duration": 0,
    "start_time": "2024-05-18T11:03:49.042Z"
   },
   {
    "duration": 0,
    "start_time": "2024-05-18T11:03:49.045Z"
   },
   {
    "duration": 1,
    "start_time": "2024-05-18T11:03:49.047Z"
   },
   {
    "duration": 1,
    "start_time": "2024-05-18T11:03:49.049Z"
   },
   {
    "duration": 0,
    "start_time": "2024-05-18T11:03:49.052Z"
   },
   {
    "duration": 0,
    "start_time": "2024-05-18T11:03:49.055Z"
   },
   {
    "duration": 0,
    "start_time": "2024-05-18T11:03:49.056Z"
   },
   {
    "duration": 0,
    "start_time": "2024-05-18T11:03:49.059Z"
   },
   {
    "duration": 0,
    "start_time": "2024-05-18T11:03:49.065Z"
   },
   {
    "duration": 0,
    "start_time": "2024-05-18T11:03:49.068Z"
   },
   {
    "duration": 0,
    "start_time": "2024-05-18T11:03:49.071Z"
   },
   {
    "duration": 61,
    "start_time": "2024-05-18T11:04:21.454Z"
   },
   {
    "duration": 37,
    "start_time": "2024-05-18T11:06:26.173Z"
   },
   {
    "duration": 21,
    "start_time": "2024-05-18T11:06:52.570Z"
   },
   {
    "duration": 28,
    "start_time": "2024-05-18T11:07:20.069Z"
   },
   {
    "duration": 35,
    "start_time": "2024-05-18T11:07:41.483Z"
   },
   {
    "duration": 44,
    "start_time": "2024-05-18T11:07:45.549Z"
   },
   {
    "duration": 44,
    "start_time": "2024-05-18T11:07:51.600Z"
   },
   {
    "duration": 38,
    "start_time": "2024-05-18T11:07:54.654Z"
   },
   {
    "duration": 1273,
    "start_time": "2024-05-18T11:07:58.466Z"
   },
   {
    "duration": 531,
    "start_time": "2024-05-18T11:08:10.007Z"
   },
   {
    "duration": 10,
    "start_time": "2024-05-18T11:08:14.116Z"
   },
   {
    "duration": 221,
    "start_time": "2024-05-18T11:08:17.887Z"
   },
   {
    "duration": 1244,
    "start_time": "2024-05-18T11:08:25.116Z"
   },
   {
    "duration": 1291,
    "start_time": "2024-05-18T11:08:30.793Z"
   },
   {
    "duration": 1171,
    "start_time": "2024-05-18T11:08:36.012Z"
   },
   {
    "duration": 17,
    "start_time": "2024-05-18T11:08:44.303Z"
   },
   {
    "duration": 16,
    "start_time": "2024-05-18T11:09:26.680Z"
   },
   {
    "duration": 5010,
    "start_time": "2024-05-25T14:12:09.981Z"
   },
   {
    "duration": 385,
    "start_time": "2024-05-25T14:12:14.995Z"
   },
   {
    "duration": 20,
    "start_time": "2024-05-25T14:12:15.383Z"
   },
   {
    "duration": 30,
    "start_time": "2024-05-25T14:12:15.406Z"
   },
   {
    "duration": 14,
    "start_time": "2024-05-25T14:12:15.442Z"
   },
   {
    "duration": 14,
    "start_time": "2024-05-25T14:12:15.459Z"
   },
   {
    "duration": 57,
    "start_time": "2024-05-25T14:12:15.477Z"
   },
   {
    "duration": 17,
    "start_time": "2024-05-25T14:12:15.537Z"
   },
   {
    "duration": 28,
    "start_time": "2024-05-25T14:12:15.557Z"
   },
   {
    "duration": 58,
    "start_time": "2024-05-25T14:12:15.588Z"
   },
   {
    "duration": 11,
    "start_time": "2024-05-25T14:12:15.649Z"
   },
   {
    "duration": 153,
    "start_time": "2024-05-25T14:12:15.662Z"
   },
   {
    "duration": 45,
    "start_time": "2024-05-25T14:12:15.818Z"
   },
   {
    "duration": 21,
    "start_time": "2024-05-25T14:12:15.871Z"
   },
   {
    "duration": 41,
    "start_time": "2024-05-25T14:12:15.895Z"
   },
   {
    "duration": 93,
    "start_time": "2024-05-25T14:12:15.939Z"
   },
   {
    "duration": 22,
    "start_time": "2024-05-25T14:12:16.035Z"
   },
   {
    "duration": 23,
    "start_time": "2024-05-25T14:12:16.060Z"
   },
   {
    "duration": 46,
    "start_time": "2024-05-25T14:12:16.087Z"
   },
   {
    "duration": 99,
    "start_time": "2024-05-25T14:12:16.135Z"
   },
   {
    "duration": 29,
    "start_time": "2024-05-25T14:12:16.237Z"
   },
   {
    "duration": 13,
    "start_time": "2024-05-25T14:12:16.269Z"
   },
   {
    "duration": 70,
    "start_time": "2024-05-25T14:12:16.285Z"
   },
   {
    "duration": 32,
    "start_time": "2024-05-25T14:12:16.358Z"
   },
   {
    "duration": 57,
    "start_time": "2024-05-25T14:12:16.393Z"
   },
   {
    "duration": 21,
    "start_time": "2024-05-25T14:12:16.453Z"
   },
   {
    "duration": 69,
    "start_time": "2024-05-25T14:12:16.477Z"
   },
   {
    "duration": 36,
    "start_time": "2024-05-25T14:12:16.549Z"
   },
   {
    "duration": 1301,
    "start_time": "2024-05-25T14:12:16.588Z"
   },
   {
    "duration": 440,
    "start_time": "2024-05-25T14:12:17.892Z"
   },
   {
    "duration": 10,
    "start_time": "2024-05-25T14:12:18.335Z"
   },
   {
    "duration": 237,
    "start_time": "2024-05-25T14:12:18.348Z"
   },
   {
    "duration": 1168,
    "start_time": "2024-05-25T14:12:18.589Z"
   },
   {
    "duration": 23,
    "start_time": "2024-05-25T14:12:19.761Z"
   },
   {
    "duration": 1253,
    "start_time": "2024-05-25T14:12:19.786Z"
   },
   {
    "duration": 1237,
    "start_time": "2024-05-25T14:12:21.043Z"
   },
   {
    "duration": 17,
    "start_time": "2024-05-25T14:12:22.283Z"
   },
   {
    "duration": 30,
    "start_time": "2024-05-25T14:12:22.303Z"
   },
   {
    "duration": 0,
    "start_time": "2024-05-25T14:12:22.338Z"
   },
   {
    "duration": 0,
    "start_time": "2024-05-25T14:12:22.341Z"
   },
   {
    "duration": 0,
    "start_time": "2024-05-25T14:12:22.343Z"
   },
   {
    "duration": 0,
    "start_time": "2024-05-25T14:12:22.345Z"
   },
   {
    "duration": 14,
    "start_time": "2024-05-25T14:12:29.997Z"
   },
   {
    "duration": 401,
    "start_time": "2024-05-25T14:13:52.218Z"
   },
   {
    "duration": 9,
    "start_time": "2024-05-25T14:14:04.147Z"
   },
   {
    "duration": 9,
    "start_time": "2024-05-25T14:14:08.949Z"
   },
   {
    "duration": 9,
    "start_time": "2024-05-25T14:25:09.259Z"
   },
   {
    "duration": 9,
    "start_time": "2024-05-25T14:25:34.836Z"
   },
   {
    "duration": 367,
    "start_time": "2024-05-27T13:36:40.946Z"
   },
   {
    "duration": 4870,
    "start_time": "2024-05-27T13:36:56.701Z"
   },
   {
    "duration": 371,
    "start_time": "2024-05-27T13:37:01.575Z"
   },
   {
    "duration": 17,
    "start_time": "2024-05-27T13:37:01.960Z"
   },
   {
    "duration": 16,
    "start_time": "2024-05-27T13:37:01.981Z"
   },
   {
    "duration": 16,
    "start_time": "2024-05-27T13:37:02.000Z"
   },
   {
    "duration": 16,
    "start_time": "2024-05-27T13:37:02.034Z"
   },
   {
    "duration": 20,
    "start_time": "2024-05-27T13:37:02.053Z"
   },
   {
    "duration": 9,
    "start_time": "2024-05-27T13:37:02.077Z"
   },
   {
    "duration": 56,
    "start_time": "2024-05-27T13:37:02.089Z"
   },
   {
    "duration": 25,
    "start_time": "2024-05-27T13:37:02.152Z"
   },
   {
    "duration": 53,
    "start_time": "2024-05-27T13:37:02.181Z"
   },
   {
    "duration": 12,
    "start_time": "2024-05-27T13:37:02.238Z"
   },
   {
    "duration": 152,
    "start_time": "2024-05-27T13:37:02.253Z"
   },
   {
    "duration": 49,
    "start_time": "2024-05-27T13:37:02.408Z"
   },
   {
    "duration": 19,
    "start_time": "2024-05-27T13:37:02.460Z"
   },
   {
    "duration": 10,
    "start_time": "2024-05-27T13:37:02.483Z"
   },
   {
    "duration": 97,
    "start_time": "2024-05-27T13:37:02.496Z"
   },
   {
    "duration": 42,
    "start_time": "2024-05-27T13:37:02.596Z"
   },
   {
    "duration": 23,
    "start_time": "2024-05-27T13:37:02.641Z"
   },
   {
    "duration": 13,
    "start_time": "2024-05-27T13:37:02.667Z"
   },
   {
    "duration": 117,
    "start_time": "2024-05-27T13:37:02.682Z"
   },
   {
    "duration": 49,
    "start_time": "2024-05-27T13:37:02.803Z"
   },
   {
    "duration": 12,
    "start_time": "2024-05-27T13:37:02.855Z"
   },
   {
    "duration": 37,
    "start_time": "2024-05-27T13:37:02.870Z"
   },
   {
    "duration": 32,
    "start_time": "2024-05-27T13:37:02.935Z"
   },
   {
    "duration": 32,
    "start_time": "2024-05-27T13:37:02.970Z"
   },
   {
    "duration": 45,
    "start_time": "2024-05-27T13:37:03.005Z"
   },
   {
    "duration": 44,
    "start_time": "2024-05-27T13:37:03.058Z"
   },
   {
    "duration": 62,
    "start_time": "2024-05-27T13:37:03.106Z"
   },
   {
    "duration": 1298,
    "start_time": "2024-05-27T13:37:03.172Z"
   },
   {
    "duration": 428,
    "start_time": "2024-05-27T13:37:04.473Z"
   },
   {
    "duration": 10,
    "start_time": "2024-05-27T13:37:04.905Z"
   },
   {
    "duration": 226,
    "start_time": "2024-05-27T13:37:04.934Z"
   },
   {
    "duration": 1230,
    "start_time": "2024-05-27T13:37:05.164Z"
   },
   {
    "duration": 38,
    "start_time": "2024-05-27T13:37:06.397Z"
   },
   {
    "duration": 1197,
    "start_time": "2024-05-27T13:37:06.438Z"
   },
   {
    "duration": 1152,
    "start_time": "2024-05-27T13:37:07.638Z"
   },
   {
    "duration": 17,
    "start_time": "2024-05-27T13:37:08.795Z"
   },
   {
    "duration": 21,
    "start_time": "2024-05-27T13:37:08.814Z"
   },
   {
    "duration": 0,
    "start_time": "2024-05-27T13:37:08.838Z"
   },
   {
    "duration": 0,
    "start_time": "2024-05-27T13:37:08.841Z"
   },
   {
    "duration": 0,
    "start_time": "2024-05-27T13:37:08.843Z"
   },
   {
    "duration": 0,
    "start_time": "2024-05-27T13:37:08.845Z"
   },
   {
    "duration": 142,
    "start_time": "2024-05-27T13:39:23.573Z"
   },
   {
    "duration": 5,
    "start_time": "2024-05-27T13:42:56.740Z"
   },
   {
    "duration": 142,
    "start_time": "2024-05-27T13:43:22.617Z"
   },
   {
    "duration": 8,
    "start_time": "2024-05-27T13:44:23.959Z"
   },
   {
    "duration": 150,
    "start_time": "2024-05-27T13:46:01.099Z"
   },
   {
    "duration": 141,
    "start_time": "2024-05-27T13:46:26.729Z"
   },
   {
    "duration": 142,
    "start_time": "2024-05-27T13:46:44.472Z"
   },
   {
    "duration": 33,
    "start_time": "2024-05-27T13:47:51.391Z"
   },
   {
    "duration": 32,
    "start_time": "2024-05-27T13:47:59.813Z"
   },
   {
    "duration": 31,
    "start_time": "2024-05-27T13:48:01.884Z"
   },
   {
    "duration": 5,
    "start_time": "2024-05-27T13:50:11.164Z"
   },
   {
    "duration": 26,
    "start_time": "2024-05-27T13:50:28.241Z"
   },
   {
    "duration": 394,
    "start_time": "2024-05-27T13:52:13.660Z"
   },
   {
    "duration": 14,
    "start_time": "2024-05-27T13:52:31.916Z"
   },
   {
    "duration": 24,
    "start_time": "2024-05-27T13:53:02.098Z"
   },
   {
    "duration": 15,
    "start_time": "2024-05-27T13:53:19.323Z"
   },
   {
    "duration": 13,
    "start_time": "2024-05-27T13:53:39.461Z"
   },
   {
    "duration": 15,
    "start_time": "2024-05-27T13:54:44.223Z"
   },
   {
    "duration": 16,
    "start_time": "2024-05-27T13:54:53.612Z"
   },
   {
    "duration": 16,
    "start_time": "2024-05-27T13:55:01.909Z"
   },
   {
    "duration": 17,
    "start_time": "2024-05-27T13:55:09.757Z"
   },
   {
    "duration": 26,
    "start_time": "2024-05-27T13:57:49.160Z"
   },
   {
    "duration": 71,
    "start_time": "2024-05-27T13:57:57.479Z"
   },
   {
    "duration": 161,
    "start_time": "2024-05-27T14:00:23.189Z"
   },
   {
    "duration": 178,
    "start_time": "2024-05-27T14:00:26.871Z"
   },
   {
    "duration": 143,
    "start_time": "2024-05-27T14:00:42.963Z"
   },
   {
    "duration": 64,
    "start_time": "2024-05-27T14:01:10.630Z"
   },
   {
    "duration": 24,
    "start_time": "2024-05-27T14:02:55.014Z"
   },
   {
    "duration": 26,
    "start_time": "2024-05-27T14:03:00.862Z"
   },
   {
    "duration": 7,
    "start_time": "2024-05-27T14:03:10.533Z"
   },
   {
    "duration": 6,
    "start_time": "2024-05-27T14:03:22.516Z"
   },
   {
    "duration": 36,
    "start_time": "2024-05-27T14:03:28.417Z"
   },
   {
    "duration": 176,
    "start_time": "2024-05-27T14:03:36.541Z"
   },
   {
    "duration": 95,
    "start_time": "2024-05-27T14:05:27.141Z"
   },
   {
    "duration": 34,
    "start_time": "2024-05-27T14:06:36.040Z"
   },
   {
    "duration": 25,
    "start_time": "2024-05-27T14:06:43.106Z"
   },
   {
    "duration": 45,
    "start_time": "2024-05-27T14:06:49.503Z"
   },
   {
    "duration": 50,
    "start_time": "2024-05-27T14:06:58.918Z"
   },
   {
    "duration": 218,
    "start_time": "2024-05-27T14:07:46.672Z"
   },
   {
    "duration": 12,
    "start_time": "2024-05-27T14:07:51.812Z"
   },
   {
    "duration": 15,
    "start_time": "2024-05-27T14:10:02.290Z"
   },
   {
    "duration": 38,
    "start_time": "2024-05-27T14:13:03.266Z"
   },
   {
    "duration": 10,
    "start_time": "2024-05-27T14:13:16.146Z"
   },
   {
    "duration": 14,
    "start_time": "2024-05-27T14:13:20.674Z"
   },
   {
    "duration": 9,
    "start_time": "2024-05-27T14:13:26.341Z"
   },
   {
    "duration": 10,
    "start_time": "2024-05-27T14:13:34.053Z"
   },
   {
    "duration": 15,
    "start_time": "2024-05-27T20:59:35.766Z"
   }
  ],
  "colab": {
   "provenance": []
  },
  "kernelspec": {
   "display_name": "Python 3 (ipykernel)",
   "language": "python",
   "name": "python3"
  },
  "language_info": {
   "codemirror_mode": {
    "name": "ipython",
    "version": 3
   },
   "file_extension": ".py",
   "mimetype": "text/x-python",
   "name": "python",
   "nbconvert_exporter": "python",
   "pygments_lexer": "ipython3",
   "version": "3.9.19"
  },
  "toc": {
   "base_numbering": 1,
   "nav_menu": {},
   "number_sections": true,
   "sideBar": true,
   "skip_h1_title": false,
   "title_cell": "Table of Contents",
   "title_sidebar": "Contents",
   "toc_cell": false,
   "toc_position": {},
   "toc_section_display": true,
   "toc_window_display": true
  }
 },
 "nbformat": 4,
 "nbformat_minor": 1
}
